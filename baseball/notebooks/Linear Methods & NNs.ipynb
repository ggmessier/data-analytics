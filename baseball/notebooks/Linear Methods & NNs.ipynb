{
 "cells": [
  {
   "cell_type": "code",
   "execution_count": 1,
   "metadata": {},
   "outputs": [],
   "source": [
    "%matplotlib inline\n",
    "import warnings\n",
    "warnings.simplefilter(action='ignore', category=FutureWarning)\n",
    "\n",
    "import numpy as np\n",
    "import pandas as pd\n",
    "import matplotlib.pyplot as plt\n",
    "import matplotlib.dates as mdates\n",
    "import scipy as sci\n",
    "import scipy.special as scisp\n",
    "import scipy.stats as scist\n",
    "import datetime, copy, imp\n",
    "import re\n",
    "import sys\n",
    "import random\n",
    "\n",
    "from sklearn.linear_model import LogisticRegression\n",
    "from sklearn.metrics import accuracy_score, confusion_matrix \n",
    "import MySQLdb\n",
    "\n",
    "import pymysql.cursors;\n",
    "\n",
    "from tqdm import tqdm\n",
    "from mpl_toolkits.mplot3d import Axes3D\n",
    "\n",
    "tqdm.pandas()\n",
    "plt.ion()"
   ]
  },
  {
   "cell_type": "markdown",
   "metadata": {},
   "source": [
    "## Ng Data\n",
    "- This data is provided as part of Andrew Ng's Coursera machine learning course and can be downloaded [here](https://github.com/animesh-agarwal/Machine-Learning/blob/master/LogisticRegression/data/marks.txt)."
   ]
  },
  {
   "cell_type": "code",
   "execution_count": 17,
   "metadata": {},
   "outputs": [],
   "source": [
    "data = pd.read_csv('~/data/tutorial/ng-marks.txt',header=None)\n",
    "x = data.iloc[:,:-1].to_numpy()\n",
    "y = (data.iloc[:,-1] == 0).to_numpy()+0\n",
    "p = 2"
   ]
  },
  {
   "cell_type": "code",
   "execution_count": 16,
   "metadata": {},
   "outputs": [],
   "source": [
    "nrm = np.ones((1,p))\n",
    "nrm = np.sqrt(x.var(axis=0))\n",
    "xNrm = x/nrm"
   ]
  },
  {
   "cell_type": "markdown",
   "metadata": {},
   "source": [
    "### Logistic Regression"
   ]
  },
  {
   "cell_type": "code",
   "execution_count": 18,
   "metadata": {},
   "outputs": [],
   "source": [
    "cs = [ 1e-2, 1e-1, 1e0, 1e1, 1e2, 1e3, 1e4, 1e5 ]\n",
    "betas = np.zeros((p,len(cs)))\n",
    "\n",
    "j = 0\n",
    "for c in cs:\n",
    "    lgModel = LogisticRegression(C=c,penalty='l1',solver='liblinear',max_iter=1000)\n",
    "    lgModel.fit(x,y)\n",
    "    betas[:,j] = lgModel.coef_\n",
    "    j += 1"
   ]
  },
  {
   "cell_type": "code",
   "execution_count": 19,
   "metadata": {
    "scrolled": false
   },
   "outputs": [
    {
     "data": {
      "image/png": "[encoded data removed]",
      "text/plain": [
       "<Figure size 432x288 with 1 Axes>"
      ]
     },
     "metadata": {
      "needs_background": "light"
     },
     "output_type": "display_data"
    }
   ],
   "source": [
    "fig = plt.semilogx(cs,betas.T)"
   ]
  },
  {
   "cell_type": "markdown",
   "metadata": {},
   "source": [
    "The coefficients are basically in proportion except for $C$=0.1 where it appears we could remove one of the features from the dataset."
   ]
  },
  {
   "cell_type": "markdown",
   "metadata": {},
   "source": []
  },
  {
   "cell_type": "code",
   "execution_count": 7,
   "metadata": {},
   "outputs": [],
   "source": [
    "tPos = (0,0)\n",
    "fPos = (0,1)\n",
    "fNeg = (1,0)\n",
    "tNeg = (1,1)\n",
    "\n",
    "def CalcConfidence(cnf):\n",
    "    return cnf[tPos]/(cnf[tPos]+cnf[fPos])\n",
    "\n",
    "def CalcAccuracy(cnf):\n",
    "    nPos = cnf[tPos] + cnf[fNeg]\n",
    "    nNeg = cnf[fPos] + cnf[tNeg]\n",
    "    return (cnf[tPos] + (nNeg-cnf[fPos]))/(nNeg+nPos)\n",
    "\n",
    "def CalcSpecificity(cnf):\n",
    "    nNeg = cnf[fPos] + cnf[tNeg]\n",
    "    return (nNeg-cnf[fPos])/nNeg\n",
    "\n",
    "def CalcSensitivity(cnf):\n",
    "    nPos = cnf[tPos] + cnf[fNeg]\n",
    "    return cnf[tPos]/nPos\n"
   ]
  },
  {
   "cell_type": "markdown",
   "metadata": {},
   "source": [
    "The following routine calculates an average confusion matrix using a randomized, non-exhaustive holdout cross validation approach.  The specific classifcation algorithm function is passed as an argument (in this case its sci-kit learn logistic regression with a specific $C$ value)."
   ]
  },
  {
   "cell_type": "code",
   "execution_count": 8,
   "metadata": {},
   "outputs": [
    {
     "data": {
      "text/plain": [
       "array([[15.25,  2.5 ],\n",
       "       [ 1.25, 11.  ]])"
      ]
     },
     "execution_count": 8,
     "metadata": {},
     "output_type": "execute_result"
    }
   ],
   "source": [
    "def LgRegression(xT,yT,x):\n",
    "    lgModel = LogisticRegression(C=1e3)\n",
    "    lgModel.fit(xT,yT)\n",
    "    return lgModel.predict(x)\n",
    "\n",
    "\n",
    "def HoldoutCvConfusion(cvFrac,nIter,x,y,classFunc):\n",
    "    \n",
    "    m = len(y)\n",
    "    p = len(x[0,:])-1\n",
    "    k = len(np.unique(y))\n",
    "\n",
    "    mTrain = int(m*(1-cvFrac))\n",
    "    xTrain = np.zeros((mTrain,p+1))\n",
    "    xCv = np.zeros((m-mTrain,p+1))\n",
    "    yTrain = np.zeros(mTrain)\n",
    "    yCv = np.zeros(m-mTrain)\n",
    "\n",
    "    avgCnfMtx = np.zeros((k,k))\n",
    "    \n",
    "\n",
    "    for iter in range(0,nIter):\n",
    "    \n",
    "        indTrain = random.sample(range(m),mTrain)\n",
    "        indCv = [ i for i in range(m) if i not in indTrain ]\n",
    "    \n",
    "        xTrain[:,:] = x[indTrain,:]\n",
    "        yTrain[:] = y[indTrain]\n",
    "        xCv[:,:] = x[indCv,:]\n",
    "        yCv[:] = y[indCv]\n",
    "\n",
    "        yClass = classFunc(xTrain,yTrain,xCv)\n",
    "        \n",
    "        cnfMtx = confusion_matrix(yCv,yClass)\n",
    "        \n",
    "        avgCnfMtx += cnfMtx\n",
    "    \n",
    "    return avgCnfMtx / nIter    \n",
    "    \n",
    "avgCnfMtx = HoldoutCvConfusion(cvFrac = 0.3, nIter = 4, x=x, y=y, classFunc=LgRegression)\n",
    "\n",
    "# Note that the cell counts in this confusion matrix correspond to 30% of the total data size because\n",
    "# that's how much data is held back from training and used to evaluate generalization error.\n",
    "avgCnfMtx"
   ]
  },
  {
   "cell_type": "code",
   "execution_count": 9,
   "metadata": {},
   "outputs": [
    {
     "name": "stdout",
     "output_type": "stream",
     "text": [
      "Confidence: 0.859155\n",
      "Accuracy: 0.875\n",
      "Specificity: 0.814815\n",
      "Sensitivity: 0.924242\n"
     ]
    }
   ],
   "source": [
    "print('Confidence: %g' % (CalcConfidence(avgCnfMtx)))\n",
    "print('Accuracy: %g' % (CalcAccuracy(avgCnfMtx)))\n",
    "print('Specificity: %g' % (CalcSpecificity(avgCnfMtx)))\n",
    "print('Sensitivity: %g' % (CalcSensitivity(avgCnfMtx)))"
   ]
  },
  {
   "cell_type": "markdown",
   "metadata": {},
   "source": [
    "## Model Selection\n",
    "Examine what value of regularization parameter $C$ yields the best classification performance."
   ]
  },
  {
   "cell_type": "code",
   "execution_count": 10,
   "metadata": {},
   "outputs": [],
   "source": [
    "def LgRegressionWithC(xT,yT,x):\n",
    "    lgModel = LogisticRegression(C=curC,penalty='l1',solver='liblinear',max_iter=10000)\n",
    "    lgModel.fit(xT,yT)\n",
    "    return lgModel.predict(x)\n",
    "\n",
    "cs = [ 1e0, 1e1, 1e2, 1e3, 1e4, 1e5 ]\n",
    "\n",
    "\n",
    "betas = np.zeros((p,len(cs)))\n",
    "\n",
    "conf = np.zeros(len(cs))\n",
    "acc = np.zeros(len(cs))\n",
    "spec = np.zeros(len(cs))\n",
    "sens = np.zeros(len(cs))\n",
    "cnfMtxs = np.zeros((len(cs),2,2))\n",
    "\n",
    "j = 0\n",
    "for curC in cs:\n",
    "    lgModel = LogisticRegression(C=curC,penalty='l1',solver='liblinear',max_iter=1000)\n",
    "    lgModel.fit(x,y)\n",
    "    betas[:,j] = lgModel.coef_\n",
    "    \n",
    "    avgCnfMtx = HoldoutCvConfusion(cvFrac = 0.25, nIter = 500, x=x, y=y, classFunc=LgRegressionWithC)\n",
    "    \n",
    "    conf[j] = CalcConfidence(avgCnfMtx)\n",
    "    acc[j] = CalcAccuracy(avgCnfMtx)\n",
    "    spec[j] = CalcSpecificity(avgCnfMtx)\n",
    "    sens[j] = CalcSensitivity(avgCnfMtx)\n",
    "    cnfMtxs[j,:,:] = avgCnfMtx\n",
    "    \n",
    "    j += 1"
   ]
  },
  {
   "cell_type": "code",
   "execution_count": 11,
   "metadata": {},
   "outputs": [
    {
     "data": {
      "image/png": "[encoded data removed]",
      "text/plain": [
       "<Figure size 432x288 with 1 Axes>"
      ]
     },
     "metadata": {
      "needs_background": "light"
     },
     "output_type": "display_data"
    }
   ],
   "source": [
    "fig = plt.semilogx(cs,betas.T)"
   ]
  },
  {
   "cell_type": "markdown",
   "metadata": {},
   "source": [
    "In this case, the parameters are affected approximately equally by regularization so there's no opportunity to eliminate an input data feature."
   ]
  },
  {
   "cell_type": "code",
   "execution_count": 12,
   "metadata": {},
   "outputs": [
    {
     "data": {
      "image/png": "[encoded data removed]",
      "text/plain": [
       "<Figure size 432x288 with 1 Axes>"
      ]
     },
     "metadata": {
      "needs_background": "light"
     },
     "output_type": "display_data"
    }
   ],
   "source": [
    "fig = plt.figure()\n",
    "plt.semilogx(cs,conf,label='Confidence',color='k')\n",
    "plt.semilogx(cs,acc,label='Accuracy',color='r')\n",
    "plt.semilogx(cs,spec,label='Specificity',color='y')\n",
    "plt.semilogx(cs,sens,label='Sensitivity',color='b')\n",
    "\n",
    "plt.legend()\n",
    "plt.show()"
   ]
  },
  {
   "cell_type": "code",
   "execution_count": 13,
   "metadata": {},
   "outputs": [
    {
     "data": {
      "text/plain": [
       "array([[13.576,  1.338],\n",
       "       [ 1.424,  8.662]])"
      ]
     },
     "execution_count": 13,
     "metadata": {},
     "output_type": "execute_result"
    }
   ],
   "source": [
    "# Confusion matrix for the final value of C\n",
    "cnfMtxs[5,:,:]"
   ]
  },
  {
   "cell_type": "markdown",
   "metadata": {},
   "source": [
    "- High confidence means that the number of false positives relative to true positives is fairly small.\n",
    "- High sensitivity means we're getting good coverage of the positive data points.  The number of false negatives is small compared to the number of positive data points.\n",
    "- Specificity is a bit lower than confidence.  This means that the number of false positives is more significant when compared to the number of negative data points.\n",
    "- Accuracy is reasonable which means we do a good job of balancing true positives and true negatives."
   ]
  },
  {
   "cell_type": "markdown",
   "metadata": {},
   "source": [
    "## Load & Classify Players\n",
    "We now consider a baseball player scenario where we try to use logistic regression to identify a small number of positive data points among a much larger number of negative data points.  This would be similar to designing a test taken by many people to detect a rare disease."
   ]
  },
  {
   "cell_type": "code",
   "execution_count": 14,
   "metadata": {},
   "outputs": [
    {
     "data": {
      "text/html": [
       "<div>\n",
       "<style scoped>\n",
       "    .dataframe tbody tr th:only-of-type {\n",
       "        vertical-align: middle;\n",
       "    }\n",
       "\n",
       "    .dataframe tbody tr th {\n",
       "        vertical-align: top;\n",
       "    }\n",
       "\n",
       "    .dataframe thead th {\n",
       "        text-align: right;\n",
       "    }\n",
       "</style>\n",
       "<table border=\"1\" class=\"dataframe\">\n",
       "  <thead>\n",
       "    <tr style=\"text-align: right;\">\n",
       "      <th></th>\n",
       "      <th>Position</th>\n",
       "      <th>GamesPlayed</th>\n",
       "      <th>AtBats</th>\n",
       "      <th>AvgOuts</th>\n",
       "      <th>AvgOnBase</th>\n",
       "      <th>AvgRuns</th>\n",
       "      <th>AvgRbis</th>\n",
       "    </tr>\n",
       "    <tr>\n",
       "      <th>PlayerId</th>\n",
       "      <th></th>\n",
       "      <th></th>\n",
       "      <th></th>\n",
       "      <th></th>\n",
       "      <th></th>\n",
       "      <th></th>\n",
       "      <th></th>\n",
       "    </tr>\n",
       "  </thead>\n",
       "  <tbody>\n",
       "    <tr>\n",
       "      <th>abrej003</th>\n",
       "      <td>FirstBase</td>\n",
       "      <td>129</td>\n",
       "      <td>549</td>\n",
       "      <td>7.139535</td>\n",
       "      <td>0.327869</td>\n",
       "      <td>0.123862</td>\n",
       "      <td>0.078324</td>\n",
       "    </tr>\n",
       "    <tr>\n",
       "      <th>acunr001</th>\n",
       "      <td>LeftField</td>\n",
       "      <td>111</td>\n",
       "      <td>484</td>\n",
       "      <td>1.657658</td>\n",
       "      <td>0.367769</td>\n",
       "      <td>0.161157</td>\n",
       "      <td>0.070248</td>\n",
       "    </tr>\n",
       "    <tr>\n",
       "      <th>adaml001</th>\n",
       "      <td>LeftField</td>\n",
       "      <td>24</td>\n",
       "      <td>28</td>\n",
       "      <td>0.375000</td>\n",
       "      <td>0.357143</td>\n",
       "      <td>0.357143</td>\n",
       "      <td>0.142857</td>\n",
       "    </tr>\n",
       "    <tr>\n",
       "      <th>adamm002</th>\n",
       "      <td>FirstBase</td>\n",
       "      <td>117</td>\n",
       "      <td>332</td>\n",
       "      <td>3.658120</td>\n",
       "      <td>0.313253</td>\n",
       "      <td>0.126506</td>\n",
       "      <td>0.108434</td>\n",
       "    </tr>\n",
       "    <tr>\n",
       "      <th>adamw002</th>\n",
       "      <td>ShortStop</td>\n",
       "      <td>85</td>\n",
       "      <td>320</td>\n",
       "      <td>2.882353</td>\n",
       "      <td>0.350000</td>\n",
       "      <td>0.134375</td>\n",
       "      <td>0.059375</td>\n",
       "    </tr>\n",
       "    <tr>\n",
       "      <th>...</th>\n",
       "      <td>...</td>\n",
       "      <td>...</td>\n",
       "      <td>...</td>\n",
       "      <td>...</td>\n",
       "      <td>...</td>\n",
       "      <td>...</td>\n",
       "      <td>...</td>\n",
       "    </tr>\n",
       "    <tr>\n",
       "      <th>zagum002</th>\n",
       "      <td>RightField</td>\n",
       "      <td>5</td>\n",
       "      <td>6</td>\n",
       "      <td>0.400000</td>\n",
       "      <td>0.500000</td>\n",
       "      <td>0.000000</td>\n",
       "      <td>0.000000</td>\n",
       "    </tr>\n",
       "    <tr>\n",
       "      <th>zimmb001</th>\n",
       "      <td>CenterField</td>\n",
       "      <td>36</td>\n",
       "      <td>114</td>\n",
       "      <td>2.277778</td>\n",
       "      <td>0.280702</td>\n",
       "      <td>0.122807</td>\n",
       "      <td>0.052632</td>\n",
       "    </tr>\n",
       "    <tr>\n",
       "      <th>zimmr001</th>\n",
       "      <td>FirstBase</td>\n",
       "      <td>85</td>\n",
       "      <td>318</td>\n",
       "      <td>6.541176</td>\n",
       "      <td>0.342767</td>\n",
       "      <td>0.103774</td>\n",
       "      <td>0.103774</td>\n",
       "    </tr>\n",
       "    <tr>\n",
       "      <th>zobrb001</th>\n",
       "      <td>SecondBase</td>\n",
       "      <td>137</td>\n",
       "      <td>513</td>\n",
       "      <td>2.350365</td>\n",
       "      <td>0.382066</td>\n",
       "      <td>0.130604</td>\n",
       "      <td>0.070175</td>\n",
       "    </tr>\n",
       "    <tr>\n",
       "      <th>zunim001</th>\n",
       "      <td>Catcher</td>\n",
       "      <td>109</td>\n",
       "      <td>402</td>\n",
       "      <td>0.192661</td>\n",
       "      <td>0.261194</td>\n",
       "      <td>0.092040</td>\n",
       "      <td>0.049751</td>\n",
       "    </tr>\n",
       "  </tbody>\n",
       "</table>\n",
       "<p>614 rows × 7 columns</p>\n",
       "</div>"
      ],
      "text/plain": [
       "             Position  GamesPlayed  AtBats   AvgOuts  AvgOnBase   AvgRuns  \\\n",
       "PlayerId                                                                    \n",
       "abrej003    FirstBase          129     549  7.139535   0.327869  0.123862   \n",
       "acunr001    LeftField          111     484  1.657658   0.367769  0.161157   \n",
       "adaml001    LeftField           24      28  0.375000   0.357143  0.357143   \n",
       "adamm002    FirstBase          117     332  3.658120   0.313253  0.126506   \n",
       "adamw002    ShortStop           85     320  2.882353   0.350000  0.134375   \n",
       "...               ...          ...     ...       ...        ...       ...   \n",
       "zagum002   RightField            5       6  0.400000   0.500000  0.000000   \n",
       "zimmb001  CenterField           36     114  2.277778   0.280702  0.122807   \n",
       "zimmr001    FirstBase           85     318  6.541176   0.342767  0.103774   \n",
       "zobrb001   SecondBase          137     513  2.350365   0.382066  0.130604   \n",
       "zunim001      Catcher          109     402  0.192661   0.261194  0.092040   \n",
       "\n",
       "           AvgRbis  \n",
       "PlayerId            \n",
       "abrej003  0.078324  \n",
       "acunr001  0.070248  \n",
       "adaml001  0.142857  \n",
       "adamm002  0.108434  \n",
       "adamw002  0.059375  \n",
       "...            ...  \n",
       "zagum002  0.000000  \n",
       "zimmb001  0.052632  \n",
       "zimmr001  0.103774  \n",
       "zobrb001  0.070175  \n",
       "zunim001  0.049751  \n",
       "\n",
       "[614 rows x 7 columns]"
      ]
     },
     "execution_count": 14,
     "metadata": {},
     "output_type": "execute_result"
    }
   ],
   "source": [
    "players = pd.read_hdf('~/data/baseball/PlayerSummary-2018.hdf',key='Data')\n",
    "players = players[players.Position != 'Pitcher']\n",
    "nPlayers = len(players.index)\n",
    "players"
   ]
  },
  {
   "cell_type": "markdown",
   "metadata": {},
   "source": [
    "Place players in two classes based on whether they've played more than a certain number of games.  The positive case (class 0) is assigned to players that have exceeded the games played threshold."
   ]
  },
  {
   "cell_type": "code",
   "execution_count": 15,
   "metadata": {
    "scrolled": true
   },
   "outputs": [
    {
     "name": "stdout",
     "output_type": "stream",
     "text": [
      "Number in class 1: 559 (91.0%)\n",
      "Number in class 0: 55 (9.0%)\n"
     ]
    }
   ],
   "source": [
    "gameThresh = 150\n",
    "players['Class'] = pd.Series([1]*nPlayers,index = players.index)\n",
    "players.loc[players.GamesPlayed > gameThresh,'Class'] = 0\n",
    "\n",
    "classes = players.Class.unique()\n",
    "for iClass in classes:\n",
    "    print('Number in class %d: %d (%.1f%%)' \n",
    "          % ( iClass, sum(players.Class == iClass), 100.0*sum(players.Class == iClass)/nPlayers))"
   ]
  },
  {
   "cell_type": "markdown",
   "metadata": {},
   "source": [
    "## Prep and Normalize Data"
   ]
  },
  {
   "cell_type": "markdown",
   "metadata": {},
   "source": [
    "### Linear Features"
   ]
  },
  {
   "cell_type": "code",
   "execution_count": 16,
   "metadata": {},
   "outputs": [],
   "source": [
    "m = len(players.index)\n",
    "p = 4\n",
    "\n",
    "# Target variable\n",
    "y = np.array(players.Class)\n",
    "\n",
    "# Input variables\n",
    "x = np.zeros((m,p))\n",
    "x[:,:] = players[['AvgOuts','AvgOnBase','AvgRuns','AvgRbis']].to_numpy()"
   ]
  },
  {
   "cell_type": "code",
   "execution_count": 17,
   "metadata": {},
   "outputs": [],
   "source": [
    "nrm = np.sqrt(x.var(axis=0))\n",
    "x = x/nrm"
   ]
  },
  {
   "cell_type": "code",
   "execution_count": 18,
   "metadata": {},
   "outputs": [],
   "source": [
    "def LgRegressionWithCPlayers(xT,yT,x):\n",
    "    lgModel = LogisticRegression(C=curC,penalty='l1',solver='liblinear',max_iter=1000)\n",
    "    lgModel.fit(xT,yT)\n",
    "    return lgModel.predict(x)\n",
    "\n",
    "cs = [ 1e0, 1e1, 1e2, 1e3, 1e4, 1e5 ]\n",
    "\n",
    "\n",
    "betas = np.zeros((p,len(cs)))\n",
    "\n",
    "conf = np.zeros(len(cs))\n",
    "acc = np.zeros(len(cs))\n",
    "spec = np.zeros(len(cs))\n",
    "sens = np.zeros(len(cs))\n",
    "cnfMtxs = np.zeros((len(cs),2,2))\n",
    "\n",
    "j = 0\n",
    "for curC in cs:\n",
    "    lgModel = LogisticRegression(C=curC,penalty='l1',solver='liblinear',max_iter=1000)\n",
    "    lgModel.fit(x,y)\n",
    "    betas[:,j] = lgModel.coef_\n",
    "    \n",
    "    avgCnfMtx = HoldoutCvConfusion(cvFrac = 0.25, nIter = 75, x=x, y=y, classFunc=LgRegressionWithCPlayers)\n",
    "    cnfMtxs[j,:,:] = avgCnfMtx\n",
    "    \n",
    "    conf[j] = CalcConfidence(avgCnfMtx)\n",
    "    acc[j] = CalcAccuracy(avgCnfMtx)\n",
    "    spec[j] = CalcSpecificity(avgCnfMtx)\n",
    "    sens[j] = CalcSensitivity(avgCnfMtx)\n",
    "    \n",
    "    j += 1"
   ]
  },
  {
   "cell_type": "code",
   "execution_count": 19,
   "metadata": {},
   "outputs": [
    {
     "data": {
      "text/plain": [
       "array([[  1.12      ,  12.30666667],\n",
       "       [  1.74666667, 138.82666667]])"
      ]
     },
     "execution_count": 19,
     "metadata": {},
     "output_type": "execute_result"
    }
   ],
   "source": [
    "cnfMtxs[5,:,:]"
   ]
  },
  {
   "cell_type": "code",
   "execution_count": 20,
   "metadata": {},
   "outputs": [
    {
     "data": {
      "image/png": "[encoded data removed]",
      "text/plain": [
       "<Figure size 432x288 with 1 Axes>"
      ]
     },
     "metadata": {
      "needs_background": "light"
     },
     "output_type": "display_data"
    }
   ],
   "source": [
    "fig = plt.semilogx(cs,betas.T)"
   ]
  },
  {
   "cell_type": "markdown",
   "metadata": {},
   "source": [
    "According to these results, the contribution of RBIs is low and could likely be removed.  This is consistent with the linear regression results we generated for this same dataset."
   ]
  },
  {
   "cell_type": "code",
   "execution_count": 21,
   "metadata": {
    "scrolled": true
   },
   "outputs": [
    {
     "data": {
      "image/png": "[encoded data removed]",
      "text/plain": [
       "<Figure size 432x288 with 1 Axes>"
      ]
     },
     "metadata": {
      "needs_background": "light"
     },
     "output_type": "display_data"
    }
   ],
   "source": [
    "fig = plt.figure()\n",
    "plt.semilogx(cs,conf,label='Confidence',color='k')\n",
    "plt.semilogx(cs,acc,label='Accuracy',color='r')\n",
    "plt.semilogx(cs,spec,label='Specificity',color='y')\n",
    "plt.semilogx(cs,sens,label='Sensitivity',color='b')\n",
    "\n",
    "plt.legend()\n",
    "plt.show()"
   ]
  },
  {
   "cell_type": "markdown",
   "metadata": {},
   "source": [
    "With this dataset, we can see from the confusion matrix that we have a hard time identifying true positives.  As a result:\n",
    "- Our confidence is low due to the large number of false positives.\n",
    "- The large number of false positives also means that our sensitivity is quite low (poor coverage of the positive data set).\n",
    "- Specificity is high since the number of false positives is small compared to the large number of true negatives.\n",
    "- Accuracy is also high since the number of true negatives and negative samples in general is large compared to the positive samples.\n",
    "\n",
    "This reveals that accuracy and specificity are not necessarily the best metrics when attempting to detect a small number of positive data points buried in a large number of negative data points."
   ]
  },
  {
   "cell_type": "markdown",
   "metadata": {},
   "source": [
    "## Notes\n",
    "\n",
    "- This section includes some notes related to Chapter 4 of [Elements of Statistical Learning](https://web.stanford.edu/~hastie/Papers/ESLII.pdf)."
   ]
  },
  {
   "cell_type": "markdown",
   "metadata": {},
   "source": [
    "### Introduction\n",
    "\n",
    "- Linear classifiers use linear boundaries to divide a data set into groups.\n",
    "- Regression methods define *discriminant functions* $\\delta_k(x)$ for each class where we choose the largest function as corresponding with the data.\n",
    "- These discriminant functions can also be posterior probabilities $P(G=k|X=x)$.\n",
    "- Our decision boundaries are linear if the discriminant functions or posterior probabilities, or some monotone transformation of them, are linear in $x$.\n",
    "- While our boundaries are linear, we can incorporate data taken to exponents of $>1$ and cross products of data features.  Our boundaries remain linear in these higher order terms but we effectively are bending our boundaries when we use a basis transformation of the data."
   ]
  },
  {
   "cell_type": "markdown",
   "metadata": {},
   "source": [
    "### Linear Regression of an Indicator Matrix\n",
    "- Assume we have $K$ classes and $M$ training samples.  Our training data is classified by an indicator function with $y_k = 1$ if $G=k$ else 0.\n",
    "- The *indicator response matrix* is an $M \\times K$ matrix $\\mathbb{Y}$ of 0's and 1's.\n",
    "- We then calculate the linear regression coefficients for the training data, $\\mathbb{B}$, which is a $(P+1) \\times K$ matrix\n",
    "- For new data, we calculate the vector of $K$ regression values and choose the largest one.\n",
    "- This can be justified by viewing the regression values as estimates of the conditional expectation of the random variable $Y_k$, $E(Y_k|X=x) = P(G=k|X=x)$.\n",
    "- Masking is an issue (see above)."
   ]
  },
  {
   "cell_type": "markdown",
   "metadata": {},
   "source": [
    "### Linear Discriminant Analysis (LDA)\n",
    "- Assume that the indicator function $f_k(x)$ is the class conditional density of $X$ in class $k$, $f_X(x|G=k)$.  We can then use Bayes theorem to find the aposteriori $P(G=k|X=x)$ if we have the apriori probabilities $\\pi_k$.\n",
    "- We can model $f_k(x)$ as a multi-variate Gaussian with mean $\\mu_k$ and covariance matrix $\\Sigma_k$.\n",
    "- LDA assumes that all classes have a common covariance.  The log-likelihood ratio of posterioris is a linear equation in $x$.\n",
    "- The linear indicators are functions of the prioris, means and covariances.  These are estimated from the data in the usual way.\n",
    "- LDA does not suffer from masking.\n",
    "- *Quadratic discriminant analysis* (QDA) results when the covariance matricies are different.  It's quadratic since we're multiplying the $x$ vector with the transpose of itself.\n",
    "- Regularization produces a mix of unique and common convariances.  No complexity improvement but it's more for model/complexity selection.\n",
    "\n",
    "- QDA computations can be simplified if diagonalize the covariance matrix.\n",
    "- The centroids of $K$ classes exist in an affine subspace with dimension $\\leq K-1$.  We can then project the data vector to the centroid subspace.\n",
    "- Fisher projection provides some guidance for this."
   ]
  },
  {
   "cell_type": "markdown",
   "metadata": {},
   "source": [
    "### Logistic Regression\n",
    "- Logistic regression is designed to have log-likelihood ratios that are linear in x.  Arbitrarily, all of these log-likelihood ratios are normalized by the probability for case $K$.  \n",
    "- The most likely class is simply the one with the largest normalized log ratio value.  \n",
    "- If we assume that all classes are normalized by class $K$, the final log ratio will be class $K$ normalized by itself which yields a value of $\\log(1) = 0$.  So, we choose class $K$ if all other linear values are negative.\n",
    "\n",
    "- Hastie suggests a negative Z-score means the coefficient is less significant.  Wouldn't the absolute value of the Z-score really be what we're looking for here?\n",
    "- The model may naturally prune correlated variables and choose one over the other (e.g. obesity in the South African example).\n",
    "- The quadratic approximations section makes reference to weighted least squares and some methods for efficiently calculating coefficients.\n",
    "- There's a lot of functionality rolled into the R model selection routines.  Need to be careful that what we're doing doesn't over-simplify.\n",
    "- Lasso and LAR can be used.\n",
    "\n",
    "- Logisitic regression is generally chosen over LDA since it makes fewer assumptions.  Hastie thinks they perform about the same.\n",
    "\n",
    "#### Multinomial Distributions\n",
    "- Wikipedia has a discussion of the [multinomial distribution](https://en.wikipedia.org/wiki/Multinomial_distribution).\n",
    "- Understanding the domain of the PMF is important.  The PMF domain has $k$ dimensions (one for each category) where the values taken on in each dimension are the whole numbers ${0,\\ldots n}$ where $n$ is the number of trials.  The values of the $k$ dimensions are restricted to sum to $n$ since the PMF tells us the probability that the results of $n$ trials are a certain mix of counts in each category.\n",
    "- While the Bernoulli and binomial distributions are special cases of the multinomial distribution, their domains are modified.  The Bernouli distribution domain is the class index ${0,1}$ rather than ${1,2}$.  The binomial distribution is $x_2$, where $x_1$ is always zero (using the wikipedia notation).\n",
    "\n",
    "\n",
    "\n"
   ]
  },
  {
   "cell_type": "code",
   "execution_count": null,
   "metadata": {},
   "outputs": [],
   "source": []
  },
  {
   "cell_type": "code",
   "execution_count": null,
   "metadata": {},
   "outputs": [],
   "source": []
  },
  {
   "cell_type": "code",
   "execution_count": null,
   "metadata": {},
   "outputs": [],
   "source": []
  }
 ],
 "metadata": {
  "kernelspec": {
   "display_name": "Python 3",
   "language": "python",
   "name": "python3"
  },
  "language_info": {
   "codemirror_mode": {
    "name": "ipython",
    "version": 3
   },
   "file_extension": ".py",
   "mimetype": "text/x-python",
   "name": "python",
   "nbconvert_exporter": "python",
   "pygments_lexer": "ipython3",
   "version": "3.7.7"
  }
 },
 "nbformat": 4,
 "nbformat_minor": 4
}
