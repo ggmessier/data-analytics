{
 "cells": [
  {
   "cell_type": "code",
   "execution_count": 2,
   "metadata": {},
   "outputs": [],
   "source": [
    "#  Season Profile.ipynb - Helps identify the best games to watch in a baseball season.\n",
    "#     Copyright (C) 2020  Geoffrey G. Messier\n",
    "# \n",
    "#     This program is free software: you can redistribute it and/or modify\n",
    "#     it under the terms of the GNU General Public License as published by\n",
    "#     the Free Software Foundation, either version 3 of the License, or\n",
    "#     (at your option) any later version.\n",
    "# \n",
    "#     This program is distributed in the hope that it will be useful,\n",
    "#     but WITHOUT ANY WARRANTY; without even the implied warranty of\n",
    "#     MERCHANTABILITY or FITNESS FOR A PARTICULAR PURPOSE.  See the\n",
    "#     GNU General Public License for more details.\n",
    "# \n",
    "#     You should have received a copy of the GNU General Public License\n",
    "#     along with this program.  If not, see <http://www.gnu.org/licenses/>."
   ]
  },
  {
   "cell_type": "code",
   "execution_count": 1,
   "metadata": {},
   "outputs": [],
   "source": [
    "%matplotlib inline\n",
    "import warnings\n",
    "warnings.simplefilter(action='ignore', category=FutureWarning)\n",
    "\n",
    "import numpy as np\n",
    "import pandas as pd\n",
    "import matplotlib.pyplot as plt\n",
    "import matplotlib.dates as mdates\n",
    "import scipy as sci\n",
    "import scipy.special as scisp\n",
    "import scipy.stats as scist\n",
    "import datetime, copy, imp\n",
    "import re\n",
    "import sys\n",
    "\n",
    "\n",
    "import MySQLdb\n",
    "\n",
    "import pymysql.cursors;\n",
    "\n",
    "from tqdm import tqdm\n",
    "from mpl_toolkits.mplot3d import Axes3D\n",
    "\n",
    "tqdm.pandas()\n",
    "plt.ion()"
   ]
  },
  {
   "cell_type": "markdown",
   "metadata": {},
   "source": [
    "### Load Data"
   ]
  },
  {
   "cell_type": "code",
   "execution_count": 81,
   "metadata": {},
   "outputs": [],
   "source": [
    "events = pd.read_hdf('~/data/baseball/Season-2014.hd5')"
   ]
  },
  {
   "cell_type": "code",
   "execution_count": 82,
   "metadata": {
    "scrolled": false
   },
   "outputs": [
    {
     "data": {
      "text/html": [
       "<div>\n",
       "<style scoped>\n",
       "    .dataframe tbody tr th:only-of-type {\n",
       "        vertical-align: middle;\n",
       "    }\n",
       "\n",
       "    .dataframe tbody tr th {\n",
       "        vertical-align: top;\n",
       "    }\n",
       "\n",
       "    .dataframe thead th {\n",
       "        text-align: right;\n",
       "    }\n",
       "</style>\n",
       "<table border=\"1\" class=\"dataframe\">\n",
       "  <thead>\n",
       "    <tr style=\"text-align: right;\">\n",
       "      <th></th>\n",
       "      <th>GameId</th>\n",
       "      <th>Time</th>\n",
       "      <th>HomeTeam</th>\n",
       "      <th>AwayTeam</th>\n",
       "      <th>Inning</th>\n",
       "      <th>TopBottom</th>\n",
       "      <th>HomeScore</th>\n",
       "      <th>AwayScore</th>\n",
       "      <th>PlayerId</th>\n",
       "      <th>Position</th>\n",
       "      <th>PlayerTeam</th>\n",
       "      <th>Event</th>\n",
       "      <th>PitchCount</th>\n",
       "      <th>Rbi</th>\n",
       "      <th>StartBase</th>\n",
       "      <th>EndBase</th>\n",
       "      <th>Outs</th>\n",
       "      <th>Players</th>\n",
       "    </tr>\n",
       "  </thead>\n",
       "  <tbody>\n",
       "    <tr>\n",
       "      <th>0</th>\n",
       "      <td>SEA201404080</td>\n",
       "      <td>2014-04-08 12:06:00</td>\n",
       "      <td>SEA</td>\n",
       "      <td>ANA</td>\n",
       "      <td>1</td>\n",
       "      <td>Top</td>\n",
       "      <td>0</td>\n",
       "      <td>0</td>\n",
       "      <td>troum001</td>\n",
       "      <td>Batter</td>\n",
       "      <td>ANA</td>\n",
       "      <td>Hit</td>\n",
       "      <td>4.0</td>\n",
       "      <td>0.0</td>\n",
       "      <td>NaN</td>\n",
       "      <td>1.0</td>\n",
       "      <td>NaN</td>\n",
       "      <td>NaN</td>\n",
       "    </tr>\n",
       "    <tr>\n",
       "      <th>1</th>\n",
       "      <td>SEA201404080</td>\n",
       "      <td>2014-04-08 12:12:00</td>\n",
       "      <td>SEA</td>\n",
       "      <td>ANA</td>\n",
       "      <td>1</td>\n",
       "      <td>Top</td>\n",
       "      <td>0</td>\n",
       "      <td>1</td>\n",
       "      <td>TBD</td>\n",
       "      <td>Runner</td>\n",
       "      <td>ANA</td>\n",
       "      <td>Run</td>\n",
       "      <td>2.0</td>\n",
       "      <td>1.0</td>\n",
       "      <td>NaN</td>\n",
       "      <td>4.0</td>\n",
       "      <td>NaN</td>\n",
       "      <td>NaN</td>\n",
       "    </tr>\n",
       "    <tr>\n",
       "      <th>2</th>\n",
       "      <td>SEA201404080</td>\n",
       "      <td>2014-04-08 12:12:00</td>\n",
       "      <td>SEA</td>\n",
       "      <td>ANA</td>\n",
       "      <td>1</td>\n",
       "      <td>Top</td>\n",
       "      <td>0</td>\n",
       "      <td>2</td>\n",
       "      <td>pujoa001</td>\n",
       "      <td>Batter</td>\n",
       "      <td>ANA</td>\n",
       "      <td>Hit</td>\n",
       "      <td>2.0</td>\n",
       "      <td>1.0</td>\n",
       "      <td>NaN</td>\n",
       "      <td>4.0</td>\n",
       "      <td>NaN</td>\n",
       "      <td>NaN</td>\n",
       "    </tr>\n",
       "    <tr>\n",
       "      <th>3</th>\n",
       "      <td>SEA201404080</td>\n",
       "      <td>2014-04-08 12:18:00</td>\n",
       "      <td>SEA</td>\n",
       "      <td>ANA</td>\n",
       "      <td>1</td>\n",
       "      <td>Top</td>\n",
       "      <td>0</td>\n",
       "      <td>3</td>\n",
       "      <td>freed001</td>\n",
       "      <td>Batter</td>\n",
       "      <td>ANA</td>\n",
       "      <td>Hit</td>\n",
       "      <td>2.0</td>\n",
       "      <td>0.0</td>\n",
       "      <td>NaN</td>\n",
       "      <td>4.0</td>\n",
       "      <td>NaN</td>\n",
       "      <td>NaN</td>\n",
       "    </tr>\n",
       "    <tr>\n",
       "      <th>4</th>\n",
       "      <td>SEA201404080</td>\n",
       "      <td>2014-04-08 12:36:00</td>\n",
       "      <td>SEA</td>\n",
       "      <td>ANA</td>\n",
       "      <td>1</td>\n",
       "      <td>Bottom</td>\n",
       "      <td>0</td>\n",
       "      <td>3</td>\n",
       "      <td>almoa001</td>\n",
       "      <td>Batter</td>\n",
       "      <td>SEA</td>\n",
       "      <td>StrikeOut</td>\n",
       "      <td>3.0</td>\n",
       "      <td>NaN</td>\n",
       "      <td>NaN</td>\n",
       "      <td>NaN</td>\n",
       "      <td>NaN</td>\n",
       "      <td>NaN</td>\n",
       "    </tr>\n",
       "    <tr>\n",
       "      <th>...</th>\n",
       "      <td>...</td>\n",
       "      <td>...</td>\n",
       "      <td>...</td>\n",
       "      <td>...</td>\n",
       "      <td>...</td>\n",
       "      <td>...</td>\n",
       "      <td>...</td>\n",
       "      <td>...</td>\n",
       "      <td>...</td>\n",
       "      <td>...</td>\n",
       "      <td>...</td>\n",
       "      <td>...</td>\n",
       "      <td>...</td>\n",
       "      <td>...</td>\n",
       "      <td>...</td>\n",
       "      <td>...</td>\n",
       "      <td>...</td>\n",
       "      <td>...</td>\n",
       "    </tr>\n",
       "    <tr>\n",
       "      <th>4708</th>\n",
       "      <td>ATL201409250</td>\n",
       "      <td>2014-09-25 22:18:00</td>\n",
       "      <td>ATL</td>\n",
       "      <td>PIT</td>\n",
       "      <td>9</td>\n",
       "      <td>Bottom</td>\n",
       "      <td>0</td>\n",
       "      <td>10</td>\n",
       "      <td>heywj001</td>\n",
       "      <td>Batter</td>\n",
       "      <td>ATL</td>\n",
       "      <td>Walk</td>\n",
       "      <td>8.0</td>\n",
       "      <td>NaN</td>\n",
       "      <td>NaN</td>\n",
       "      <td>1.0</td>\n",
       "      <td>NaN</td>\n",
       "      <td>NaN</td>\n",
       "    </tr>\n",
       "    <tr>\n",
       "      <th>4709</th>\n",
       "      <td>ATL201409250</td>\n",
       "      <td>2014-09-25 22:24:00</td>\n",
       "      <td>ATL</td>\n",
       "      <td>PIT</td>\n",
       "      <td>9</td>\n",
       "      <td>Bottom</td>\n",
       "      <td>0</td>\n",
       "      <td>10</td>\n",
       "      <td>TBD</td>\n",
       "      <td>Runner</td>\n",
       "      <td>ATL</td>\n",
       "      <td>Run</td>\n",
       "      <td>4.0</td>\n",
       "      <td>0.0</td>\n",
       "      <td>NaN</td>\n",
       "      <td>3.0</td>\n",
       "      <td>NaN</td>\n",
       "      <td>NaN</td>\n",
       "    </tr>\n",
       "    <tr>\n",
       "      <th>4710</th>\n",
       "      <td>ATL201409250</td>\n",
       "      <td>2014-09-25 22:24:00</td>\n",
       "      <td>ATL</td>\n",
       "      <td>PIT</td>\n",
       "      <td>9</td>\n",
       "      <td>Bottom</td>\n",
       "      <td>0</td>\n",
       "      <td>10</td>\n",
       "      <td>bethc001</td>\n",
       "      <td>Batter</td>\n",
       "      <td>ATL</td>\n",
       "      <td>Hit</td>\n",
       "      <td>4.0</td>\n",
       "      <td>0.0</td>\n",
       "      <td>NaN</td>\n",
       "      <td>1.0</td>\n",
       "      <td>NaN</td>\n",
       "      <td>NaN</td>\n",
       "    </tr>\n",
       "    <tr>\n",
       "      <th>4711</th>\n",
       "      <td>ATL201409250</td>\n",
       "      <td>2014-09-25 22:36:00</td>\n",
       "      <td>ATL</td>\n",
       "      <td>PIT</td>\n",
       "      <td>9</td>\n",
       "      <td>Bottom</td>\n",
       "      <td>0</td>\n",
       "      <td>10</td>\n",
       "      <td>lairg001</td>\n",
       "      <td>Batter</td>\n",
       "      <td>ATL</td>\n",
       "      <td>StrikeOut</td>\n",
       "      <td>4.0</td>\n",
       "      <td>NaN</td>\n",
       "      <td>NaN</td>\n",
       "      <td>NaN</td>\n",
       "      <td>NaN</td>\n",
       "      <td>NaN</td>\n",
       "    </tr>\n",
       "    <tr>\n",
       "      <th>4712</th>\n",
       "      <td>ATL201409250</td>\n",
       "      <td>2014-09-25 22:42:00</td>\n",
       "      <td>ATL</td>\n",
       "      <td>PIT</td>\n",
       "      <td>9</td>\n",
       "      <td>Bottom</td>\n",
       "      <td>1</td>\n",
       "      <td>10</td>\n",
       "      <td>TBD</td>\n",
       "      <td>Runner</td>\n",
       "      <td>ATL</td>\n",
       "      <td>Run</td>\n",
       "      <td>3.0</td>\n",
       "      <td>1.0</td>\n",
       "      <td>NaN</td>\n",
       "      <td>4.0</td>\n",
       "      <td>NaN</td>\n",
       "      <td>NaN</td>\n",
       "    </tr>\n",
       "  </tbody>\n",
       "</table>\n",
       "<p>141748 rows × 18 columns</p>\n",
       "</div>"
      ],
      "text/plain": [
       "            GameId                Time HomeTeam AwayTeam  Inning TopBottom  \\\n",
       "0     SEA201404080 2014-04-08 12:06:00      SEA      ANA       1       Top   \n",
       "1     SEA201404080 2014-04-08 12:12:00      SEA      ANA       1       Top   \n",
       "2     SEA201404080 2014-04-08 12:12:00      SEA      ANA       1       Top   \n",
       "3     SEA201404080 2014-04-08 12:18:00      SEA      ANA       1       Top   \n",
       "4     SEA201404080 2014-04-08 12:36:00      SEA      ANA       1    Bottom   \n",
       "...            ...                 ...      ...      ...     ...       ...   \n",
       "4708  ATL201409250 2014-09-25 22:18:00      ATL      PIT       9    Bottom   \n",
       "4709  ATL201409250 2014-09-25 22:24:00      ATL      PIT       9    Bottom   \n",
       "4710  ATL201409250 2014-09-25 22:24:00      ATL      PIT       9    Bottom   \n",
       "4711  ATL201409250 2014-09-25 22:36:00      ATL      PIT       9    Bottom   \n",
       "4712  ATL201409250 2014-09-25 22:42:00      ATL      PIT       9    Bottom   \n",
       "\n",
       "      HomeScore  AwayScore  PlayerId Position PlayerTeam      Event  \\\n",
       "0             0          0  troum001   Batter        ANA        Hit   \n",
       "1             0          1       TBD   Runner        ANA        Run   \n",
       "2             0          2  pujoa001   Batter        ANA        Hit   \n",
       "3             0          3  freed001   Batter        ANA        Hit   \n",
       "4             0          3  almoa001   Batter        SEA  StrikeOut   \n",
       "...         ...        ...       ...      ...        ...        ...   \n",
       "4708          0         10  heywj001   Batter        ATL       Walk   \n",
       "4709          0         10       TBD   Runner        ATL        Run   \n",
       "4710          0         10  bethc001   Batter        ATL        Hit   \n",
       "4711          0         10  lairg001   Batter        ATL  StrikeOut   \n",
       "4712          1         10       TBD   Runner        ATL        Run   \n",
       "\n",
       "      PitchCount  Rbi  StartBase  EndBase  Outs  Players  \n",
       "0            4.0  0.0        NaN      1.0   NaN      NaN  \n",
       "1            2.0  1.0        NaN      4.0   NaN      NaN  \n",
       "2            2.0  1.0        NaN      4.0   NaN      NaN  \n",
       "3            2.0  0.0        NaN      4.0   NaN      NaN  \n",
       "4            3.0  NaN        NaN      NaN   NaN      NaN  \n",
       "...          ...  ...        ...      ...   ...      ...  \n",
       "4708         8.0  NaN        NaN      1.0   NaN      NaN  \n",
       "4709         4.0  0.0        NaN      3.0   NaN      NaN  \n",
       "4710         4.0  0.0        NaN      1.0   NaN      NaN  \n",
       "4711         4.0  NaN        NaN      NaN   NaN      NaN  \n",
       "4712         3.0  1.0        NaN      4.0   NaN      NaN  \n",
       "\n",
       "[141748 rows x 18 columns]"
      ]
     },
     "execution_count": 82,
     "metadata": {},
     "output_type": "execute_result"
    }
   ],
   "source": [
    "events"
   ]
  },
  {
   "cell_type": "code",
   "execution_count": null,
   "metadata": {},
   "outputs": [],
   "source": []
  },
  {
   "cell_type": "code",
   "execution_count": 110,
   "metadata": {},
   "outputs": [
    {
     "data": {
      "text/plain": [
       "11"
      ]
     },
     "execution_count": 110,
     "metadata": {},
     "output_type": "execute_result"
    }
   ],
   "source": [
    "t = events[events.GameId == 'WAS201409280']\n",
    "t[(t.PlayerTeam == 'WAS')&(t.Event=='Hit')].Event.count()"
   ]
  },
  {
   "cell_type": "code",
   "execution_count": null,
   "metadata": {},
   "outputs": [],
   "source": []
  },
  {
   "cell_type": "markdown",
   "metadata": {},
   "source": [
    "### Summarize Games"
   ]
  },
  {
   "cell_type": "code",
   "execution_count": 103,
   "metadata": {},
   "outputs": [],
   "source": [
    "def SummarizeGame(tbl):\n",
    "\n",
    "    startTime = tbl.Time.iloc[0]\n",
    "    homeFinal = tbl.HomeScore.tail(1).iloc[0]\n",
    "    awayFinal = tbl.AwayScore.tail(1).iloc[0]\n",
    "    homeTeam = tbl.HomeTeam.tail(1).iloc[0]\n",
    "    awayTeam = tbl.AwayTeam.tail(1).iloc[0]\n",
    "    homeHits = tbl[(tbl.PlayerTeam == homeTeam)&(tbl.Event == 'Hit')].Event.count()\n",
    "    awayHits = tbl[(tbl.PlayerTeam == awayTeam)&(tbl.Event == 'Hit')].Event.count()\n",
    "    \n",
    "    if homeFinal > awayFinal:\n",
    "        winner = homeTeam\n",
    "        loser = awayTeam\n",
    "        winScore = tbl.HomeScore\n",
    "        loseScore = tbl.AwayScore\n",
    "        winHits = homeHits\n",
    "        loseHits = awayHits\n",
    "    else:\n",
    "        winner = awayTeam\n",
    "        loser = homeTeam\n",
    "        winScore = tbl.AwayScore\n",
    "        loseScore = tbl.HomeScore\n",
    "        winHits = awayHits\n",
    "        loseHits = homeHits\n",
    "                \n",
    "    lead = winScore - loseScore\n",
    "            \n",
    "    return pd.Series({\n",
    "        'StartTime': startTime,\n",
    "        'HomeTeam': homeTeam,\n",
    "        'AwayTeam': awayTeam,\n",
    "        'Winner': winner,\n",
    "        'Loser': loser,\n",
    "        'WinFinal': winScore.max(),\n",
    "        'LoseFinal': loseScore.max(),\n",
    "        'WinHits': winHits,\n",
    "        'LoseHits': loseHits,\n",
    "        'WinMinLead': lead.min(),\n",
    "        'WinMaxLead': lead.max(),\n",
    "        'Innings': tbl.Inning.max()\n",
    "    })\n",
    "    \n",
    "    \n",
    "games = events[events.Time < pd.to_datetime('2020-09-30')].groupby('GameId').apply(SummarizeGame)    "
   ]
  },
  {
   "cell_type": "code",
   "execution_count": 112,
   "metadata": {
    "scrolled": false
   },
   "outputs": [
    {
     "data": {
      "text/html": [
       "<div>\n",
       "<style scoped>\n",
       "    .dataframe tbody tr th:only-of-type {\n",
       "        vertical-align: middle;\n",
       "    }\n",
       "\n",
       "    .dataframe tbody tr th {\n",
       "        vertical-align: top;\n",
       "    }\n",
       "\n",
       "    .dataframe thead th {\n",
       "        text-align: right;\n",
       "    }\n",
       "</style>\n",
       "<table border=\"1\" class=\"dataframe\">\n",
       "  <thead>\n",
       "    <tr style=\"text-align: right;\">\n",
       "      <th></th>\n",
       "      <th>StartTime</th>\n",
       "      <th>HomeTeam</th>\n",
       "      <th>AwayTeam</th>\n",
       "      <th>Winner</th>\n",
       "      <th>Loser</th>\n",
       "      <th>WinFinal</th>\n",
       "      <th>LoseFinal</th>\n",
       "      <th>WinHits</th>\n",
       "      <th>LoseHits</th>\n",
       "      <th>WinMinLead</th>\n",
       "      <th>WinMaxLead</th>\n",
       "      <th>Innings</th>\n",
       "    </tr>\n",
       "    <tr>\n",
       "      <th>GameId</th>\n",
       "      <th></th>\n",
       "      <th></th>\n",
       "      <th></th>\n",
       "      <th></th>\n",
       "      <th></th>\n",
       "      <th></th>\n",
       "      <th></th>\n",
       "      <th></th>\n",
       "      <th></th>\n",
       "      <th></th>\n",
       "      <th></th>\n",
       "      <th></th>\n",
       "    </tr>\n",
       "  </thead>\n",
       "  <tbody>\n",
       "    <tr>\n",
       "      <th>DET201408140</th>\n",
       "      <td>2014-08-14 12:00:00</td>\n",
       "      <td>DET</td>\n",
       "      <td>PIT</td>\n",
       "      <td>DET</td>\n",
       "      <td>PIT</td>\n",
       "      <td>5</td>\n",
       "      <td>2</td>\n",
       "      <td>6</td>\n",
       "      <td>4</td>\n",
       "      <td>0</td>\n",
       "      <td>5</td>\n",
       "      <td>9</td>\n",
       "    </tr>\n",
       "  </tbody>\n",
       "</table>\n",
       "</div>"
      ],
      "text/plain": [
       "                       StartTime HomeTeam AwayTeam Winner Loser  WinFinal  \\\n",
       "GameId                                                                      \n",
       "DET201408140 2014-08-14 12:00:00      DET      PIT    DET   PIT         5   \n",
       "\n",
       "              LoseFinal  WinHits  LoseHits  WinMinLead  WinMaxLead  Innings  \n",
       "GameId                                                                       \n",
       "DET201408140          2        6         4           0           5        9  "
      ]
     },
     "execution_count": 112,
     "metadata": {},
     "output_type": "execute_result"
    }
   ],
   "source": [
    "games[games.index == 'DET201408140' ]\n"
   ]
  },
  {
   "cell_type": "code",
   "execution_count": 85,
   "metadata": {},
   "outputs": [],
   "source": [
    "wins = pd.DataFrame()\n",
    "for team in games.HomeTeam.unique():\n",
    "    wins[team] = games[games.Winner == team].resample('W',on='StartTime').StartTime.count()\n",
    "winsTot = wins.cumsum()"
   ]
  },
  {
   "cell_type": "code",
   "execution_count": null,
   "metadata": {},
   "outputs": [],
   "source": []
  },
  {
   "cell_type": "code",
   "execution_count": null,
   "metadata": {},
   "outputs": [],
   "source": []
  },
  {
   "cell_type": "code",
   "execution_count": 88,
   "metadata": {},
   "outputs": [],
   "source": [
    "alE = [ 'BAL', 'NYA', 'TOR', 'BOS', 'TBA' ]\n",
    "alC = [ 'DET', 'KCA', 'CLE', 'CHA', 'MIN' ]\n",
    "alW = [ 'ANA', 'OAK', 'SEA', 'HOU', 'TEX' ]\n",
    "al = alE + alC + alW\n",
    "\n",
    "nlE = [ 'WAS', 'ATL', 'NYN', 'MIA', 'PHI' ]\n",
    "nlC = [ 'SLN', 'PIT', 'MIL', 'CIN', 'CHN' ]\n",
    "nlW = [ 'LAN', 'SFN', 'SDN', 'COL', 'ARI' ]\n",
    "nl = nlE + nlC + nlW"
   ]
  },
  {
   "cell_type": "markdown",
   "metadata": {},
   "source": [
    "### Division Races"
   ]
  },
  {
   "cell_type": "markdown",
   "metadata": {},
   "source": [
    "#### American Leage East"
   ]
  },
  {
   "cell_type": "code",
   "execution_count": 89,
   "metadata": {
    "scrolled": false
   },
   "outputs": [
    {
     "data": {
      "text/plain": [
       "<matplotlib.axes._subplots.AxesSubplot at 0x118a49ed0>"
      ]
     },
     "execution_count": 89,
     "metadata": {},
     "output_type": "execute_result"
    },
    {
     "data": {
      "image/png": "[encoded data removed]",
      "text/plain": [
       "<Figure size 432x288 with 1 Axes>"
      ]
     },
     "metadata": {
      "needs_background": "light"
     },
     "output_type": "display_data"
    }
   ],
   "source": [
    "gBackAlE = winsTot[alE].sub(winsTot[alE].max(axis=1), axis='index')\n",
    "gBackAlE.plot()"
   ]
  },
  {
   "cell_type": "markdown",
   "metadata": {},
   "source": [
    "#### American Leage Central"
   ]
  },
  {
   "cell_type": "code",
   "execution_count": 90,
   "metadata": {
    "scrolled": false
   },
   "outputs": [
    {
     "data": {
      "text/plain": [
       "<matplotlib.axes._subplots.AxesSubplot at 0x121446f10>"
      ]
     },
     "execution_count": 90,
     "metadata": {},
     "output_type": "execute_result"
    },
    {
     "data": {
      "image/png": "[encoded data removed]",
      "text/plain": [
       "<Figure size 432x288 with 1 Axes>"
      ]
     },
     "metadata": {
      "needs_background": "light"
     },
     "output_type": "display_data"
    }
   ],
   "source": [
    "gBackAlC = winsTot[alC].sub(winsTot[alC].max(axis=1), axis='index')\n",
    "gBackAlC.plot()"
   ]
  },
  {
   "cell_type": "markdown",
   "metadata": {},
   "source": [
    "#### American Leage West"
   ]
  },
  {
   "cell_type": "code",
   "execution_count": 91,
   "metadata": {
    "scrolled": true
   },
   "outputs": [
    {
     "data": {
      "text/plain": [
       "<matplotlib.axes._subplots.AxesSubplot at 0x1207efad0>"
      ]
     },
     "execution_count": 91,
     "metadata": {},
     "output_type": "execute_result"
    },
    {
     "data": {
      "image/png": "[encoded data removed]",
      "text/plain": [
       "<Figure size 432x288 with 1 Axes>"
      ]
     },
     "metadata": {
      "needs_background": "light"
     },
     "output_type": "display_data"
    }
   ],
   "source": [
    "gBackAlW = winsTot[alW].sub(winsTot[alW].max(axis=1), axis='index')\n",
    "gBackAlW.plot()"
   ]
  },
  {
   "cell_type": "markdown",
   "metadata": {},
   "source": [
    "#### National Leage East"
   ]
  },
  {
   "cell_type": "code",
   "execution_count": 92,
   "metadata": {
    "scrolled": false
   },
   "outputs": [
    {
     "data": {
      "text/plain": [
       "<matplotlib.axes._subplots.AxesSubplot at 0x121438f10>"
      ]
     },
     "execution_count": 92,
     "metadata": {},
     "output_type": "execute_result"
    },
    {
     "data": {
      "image/png": "[encoded data removed]",
      "text/plain": [
       "<Figure size 432x288 with 1 Axes>"
      ]
     },
     "metadata": {
      "needs_background": "light"
     },
     "output_type": "display_data"
    }
   ],
   "source": [
    "gBackNlE = winsTot[nlE].sub(winsTot[nlE].max(axis=1), axis='index')\n",
    "gBackNlE.plot()"
   ]
  },
  {
   "cell_type": "markdown",
   "metadata": {},
   "source": [
    "#### National Leage Central"
   ]
  },
  {
   "cell_type": "code",
   "execution_count": 93,
   "metadata": {
    "scrolled": false
   },
   "outputs": [
    {
     "data": {
      "text/plain": [
       "<matplotlib.axes._subplots.AxesSubplot at 0x1208d24d0>"
      ]
     },
     "execution_count": 93,
     "metadata": {},
     "output_type": "execute_result"
    },
    {
     "data": {
      "image/png": "[encoded data removed]",
      "text/plain": [
       "<Figure size 432x288 with 1 Axes>"
      ]
     },
     "metadata": {
      "needs_background": "light"
     },
     "output_type": "display_data"
    }
   ],
   "source": [
    "gBackNlC = winsTot[nlC].sub(winsTot[nlC].max(axis=1), axis='index')\n",
    "gBackNlC.plot()"
   ]
  },
  {
   "cell_type": "markdown",
   "metadata": {},
   "source": [
    "#### National Leage West"
   ]
  },
  {
   "cell_type": "code",
   "execution_count": 94,
   "metadata": {
    "scrolled": false
   },
   "outputs": [
    {
     "data": {
      "text/plain": [
       "<matplotlib.axes._subplots.AxesSubplot at 0x1213a9a50>"
      ]
     },
     "execution_count": 94,
     "metadata": {},
     "output_type": "execute_result"
    },
    {
     "data": {
      "image/png": "[encoded data removed]",
      "text/plain": [
       "<Figure size 432x288 with 1 Axes>"
      ]
     },
     "metadata": {
      "needs_background": "light"
     },
     "output_type": "display_data"
    }
   ],
   "source": [
    "gBackNlW = winsTot[nlW].sub(winsTot[nlW].max(axis=1), axis='index')\n",
    "gBackNlW.plot()"
   ]
  },
  {
   "cell_type": "markdown",
   "metadata": {},
   "source": [
    "### Exciting Games"
   ]
  },
  {
   "cell_type": "markdown",
   "metadata": {},
   "source": [
    "#### No Hitters"
   ]
  },
  {
   "cell_type": "code",
   "execution_count": 111,
   "metadata": {},
   "outputs": [
    {
     "data": {
      "text/html": [
       "<div>\n",
       "<style scoped>\n",
       "    .dataframe tbody tr th:only-of-type {\n",
       "        vertical-align: middle;\n",
       "    }\n",
       "\n",
       "    .dataframe tbody tr th {\n",
       "        vertical-align: top;\n",
       "    }\n",
       "\n",
       "    .dataframe thead th {\n",
       "        text-align: right;\n",
       "    }\n",
       "</style>\n",
       "<table border=\"1\" class=\"dataframe\">\n",
       "  <thead>\n",
       "    <tr style=\"text-align: right;\">\n",
       "      <th></th>\n",
       "      <th>StartTime</th>\n",
       "      <th>HomeTeam</th>\n",
       "      <th>AwayTeam</th>\n",
       "      <th>Winner</th>\n",
       "      <th>Loser</th>\n",
       "      <th>WinFinal</th>\n",
       "      <th>LoseFinal</th>\n",
       "      <th>WinHits</th>\n",
       "      <th>LoseHits</th>\n",
       "      <th>WinMinLead</th>\n",
       "      <th>WinMaxLead</th>\n",
       "      <th>Innings</th>\n",
       "    </tr>\n",
       "    <tr>\n",
       "      <th>GameId</th>\n",
       "      <th></th>\n",
       "      <th></th>\n",
       "      <th></th>\n",
       "      <th></th>\n",
       "      <th></th>\n",
       "      <th></th>\n",
       "      <th></th>\n",
       "      <th></th>\n",
       "      <th></th>\n",
       "      <th></th>\n",
       "      <th></th>\n",
       "      <th></th>\n",
       "    </tr>\n",
       "  </thead>\n",
       "  <tbody>\n",
       "    <tr>\n",
       "      <th>LAN201406180</th>\n",
       "      <td>2014-06-18 12:00:00</td>\n",
       "      <td>LAN</td>\n",
       "      <td>COL</td>\n",
       "      <td>LAN</td>\n",
       "      <td>COL</td>\n",
       "      <td>8</td>\n",
       "      <td>0</td>\n",
       "      <td>9</td>\n",
       "      <td>0</td>\n",
       "      <td>0</td>\n",
       "      <td>8</td>\n",
       "      <td>9</td>\n",
       "    </tr>\n",
       "    <tr>\n",
       "      <th>PHI201405250</th>\n",
       "      <td>2014-05-25 12:00:00</td>\n",
       "      <td>PHI</td>\n",
       "      <td>LAN</td>\n",
       "      <td>LAN</td>\n",
       "      <td>PHI</td>\n",
       "      <td>6</td>\n",
       "      <td>0</td>\n",
       "      <td>11</td>\n",
       "      <td>0</td>\n",
       "      <td>0</td>\n",
       "      <td>6</td>\n",
       "      <td>9</td>\n",
       "    </tr>\n",
       "    <tr>\n",
       "      <th>SFN201406250</th>\n",
       "      <td>2014-06-25 12:00:00</td>\n",
       "      <td>SFN</td>\n",
       "      <td>SDN</td>\n",
       "      <td>SFN</td>\n",
       "      <td>SDN</td>\n",
       "      <td>4</td>\n",
       "      <td>0</td>\n",
       "      <td>11</td>\n",
       "      <td>0</td>\n",
       "      <td>0</td>\n",
       "      <td>4</td>\n",
       "      <td>9</td>\n",
       "    </tr>\n",
       "    <tr>\n",
       "      <th>WAS201409280</th>\n",
       "      <td>2014-09-28 12:12:00</td>\n",
       "      <td>WAS</td>\n",
       "      <td>MIA</td>\n",
       "      <td>WAS</td>\n",
       "      <td>MIA</td>\n",
       "      <td>1</td>\n",
       "      <td>0</td>\n",
       "      <td>11</td>\n",
       "      <td>0</td>\n",
       "      <td>0</td>\n",
       "      <td>1</td>\n",
       "      <td>8</td>\n",
       "    </tr>\n",
       "  </tbody>\n",
       "</table>\n",
       "</div>"
      ],
      "text/plain": [
       "                       StartTime HomeTeam AwayTeam Winner Loser  WinFinal  \\\n",
       "GameId                                                                      \n",
       "LAN201406180 2014-06-18 12:00:00      LAN      COL    LAN   COL         8   \n",
       "PHI201405250 2014-05-25 12:00:00      PHI      LAN    LAN   PHI         6   \n",
       "SFN201406250 2014-06-25 12:00:00      SFN      SDN    SFN   SDN         4   \n",
       "WAS201409280 2014-09-28 12:12:00      WAS      MIA    WAS   MIA         1   \n",
       "\n",
       "              LoseFinal  WinHits  LoseHits  WinMinLead  WinMaxLead  Innings  \n",
       "GameId                                                                       \n",
       "LAN201406180          0        9         0           0           8        9  \n",
       "PHI201405250          0       11         0           0           6        9  \n",
       "SFN201406250          0       11         0           0           4        9  \n",
       "WAS201409280          0       11         0           0           1        8  "
      ]
     },
     "execution_count": 111,
     "metadata": {},
     "output_type": "execute_result"
    }
   ],
   "source": [
    "games[games.LoseHits == 0]"
   ]
  },
  {
   "cell_type": "markdown",
   "metadata": {},
   "source": [
    "#### Lots of Hits"
   ]
  },
  {
   "cell_type": "code",
   "execution_count": 117,
   "metadata": {},
   "outputs": [
    {
     "data": {
      "text/html": [
       "<div>\n",
       "<style scoped>\n",
       "    .dataframe tbody tr th:only-of-type {\n",
       "        vertical-align: middle;\n",
       "    }\n",
       "\n",
       "    .dataframe tbody tr th {\n",
       "        vertical-align: top;\n",
       "    }\n",
       "\n",
       "    .dataframe thead th {\n",
       "        text-align: right;\n",
       "    }\n",
       "</style>\n",
       "<table border=\"1\" class=\"dataframe\">\n",
       "  <thead>\n",
       "    <tr style=\"text-align: right;\">\n",
       "      <th></th>\n",
       "      <th>StartTime</th>\n",
       "      <th>HomeTeam</th>\n",
       "      <th>AwayTeam</th>\n",
       "      <th>Winner</th>\n",
       "      <th>Loser</th>\n",
       "      <th>WinFinal</th>\n",
       "      <th>LoseFinal</th>\n",
       "      <th>WinHits</th>\n",
       "      <th>LoseHits</th>\n",
       "      <th>WinMinLead</th>\n",
       "      <th>WinMaxLead</th>\n",
       "      <th>Innings</th>\n",
       "    </tr>\n",
       "    <tr>\n",
       "      <th>GameId</th>\n",
       "      <th></th>\n",
       "      <th></th>\n",
       "      <th></th>\n",
       "      <th></th>\n",
       "      <th></th>\n",
       "      <th></th>\n",
       "      <th></th>\n",
       "      <th></th>\n",
       "      <th></th>\n",
       "      <th></th>\n",
       "      <th></th>\n",
       "      <th></th>\n",
       "    </tr>\n",
       "  </thead>\n",
       "  <tbody>\n",
       "    <tr>\n",
       "      <th>NYA201405020</th>\n",
       "      <td>2014-05-02 12:06:00</td>\n",
       "      <td>NYA</td>\n",
       "      <td>TBA</td>\n",
       "      <td>TBA</td>\n",
       "      <td>NYA</td>\n",
       "      <td>10</td>\n",
       "      <td>5</td>\n",
       "      <td>21</td>\n",
       "      <td>19</td>\n",
       "      <td>-1</td>\n",
       "      <td>5</td>\n",
       "      <td>14</td>\n",
       "    </tr>\n",
       "    <tr>\n",
       "      <th>PIT201405050</th>\n",
       "      <td>2014-05-05 12:00:00</td>\n",
       "      <td>PIT</td>\n",
       "      <td>SFN</td>\n",
       "      <td>SFN</td>\n",
       "      <td>PIT</td>\n",
       "      <td>11</td>\n",
       "      <td>10</td>\n",
       "      <td>21</td>\n",
       "      <td>18</td>\n",
       "      <td>-6</td>\n",
       "      <td>2</td>\n",
       "      <td>13</td>\n",
       "    </tr>\n",
       "    <tr>\n",
       "      <th>TOR201408100</th>\n",
       "      <td>2014-08-10 12:00:00</td>\n",
       "      <td>TOR</td>\n",
       "      <td>DET</td>\n",
       "      <td>TOR</td>\n",
       "      <td>DET</td>\n",
       "      <td>6</td>\n",
       "      <td>5</td>\n",
       "      <td>17</td>\n",
       "      <td>22</td>\n",
       "      <td>-5</td>\n",
       "      <td>1</td>\n",
       "      <td>19</td>\n",
       "    </tr>\n",
       "    <tr>\n",
       "      <th>WAS201409262</th>\n",
       "      <td>2014-09-26 18:02:00</td>\n",
       "      <td>WAS</td>\n",
       "      <td>MIA</td>\n",
       "      <td>MIA</td>\n",
       "      <td>WAS</td>\n",
       "      <td>15</td>\n",
       "      <td>7</td>\n",
       "      <td>23</td>\n",
       "      <td>15</td>\n",
       "      <td>-2</td>\n",
       "      <td>8</td>\n",
       "      <td>9</td>\n",
       "    </tr>\n",
       "    <tr>\n",
       "      <th>PHI201407260</th>\n",
       "      <td>2014-07-26 12:00:00</td>\n",
       "      <td>PHI</td>\n",
       "      <td>ARI</td>\n",
       "      <td>ARI</td>\n",
       "      <td>PHI</td>\n",
       "      <td>10</td>\n",
       "      <td>6</td>\n",
       "      <td>18</td>\n",
       "      <td>19</td>\n",
       "      <td>-4</td>\n",
       "      <td>4</td>\n",
       "      <td>10</td>\n",
       "    </tr>\n",
       "  </tbody>\n",
       "</table>\n",
       "</div>"
      ],
      "text/plain": [
       "                       StartTime HomeTeam AwayTeam Winner Loser  WinFinal  \\\n",
       "GameId                                                                      \n",
       "NYA201405020 2014-05-02 12:06:00      NYA      TBA    TBA   NYA        10   \n",
       "PIT201405050 2014-05-05 12:00:00      PIT      SFN    SFN   PIT        11   \n",
       "TOR201408100 2014-08-10 12:00:00      TOR      DET    TOR   DET         6   \n",
       "WAS201409262 2014-09-26 18:02:00      WAS      MIA    MIA   WAS        15   \n",
       "PHI201407260 2014-07-26 12:00:00      PHI      ARI    ARI   PHI        10   \n",
       "\n",
       "              LoseFinal  WinHits  LoseHits  WinMinLead  WinMaxLead  Innings  \n",
       "GameId                                                                       \n",
       "NYA201405020          5       21        19          -1           5       14  \n",
       "PIT201405050         10       21        18          -6           2       13  \n",
       "TOR201408100          5       17        22          -5           1       19  \n",
       "WAS201409262          7       23        15          -2           8        9  \n",
       "PHI201407260          6       18        19          -4           4       10  "
      ]
     },
     "execution_count": 117,
     "metadata": {},
     "output_type": "execute_result"
    }
   ],
   "source": [
    "topHits = (games.WinHits + games.LoseHits).sort_values(ascending=False).head(5).index\n",
    "games.loc[topHits]"
   ]
  },
  {
   "cell_type": "code",
   "execution_count": null,
   "metadata": {},
   "outputs": [],
   "source": []
  },
  {
   "cell_type": "code",
   "execution_count": null,
   "metadata": {},
   "outputs": [],
   "source": []
  },
  {
   "cell_type": "markdown",
   "metadata": {},
   "source": [
    "### Games to Watch\n",
    "- LAN201406180: LAN wins no hitter.  In the middle of a comeback to eventually win division.\n",
    "- DET201408140: Close to the game where DET returns to top of division for good."
   ]
  },
  {
   "cell_type": "code",
   "execution_count": null,
   "metadata": {},
   "outputs": [],
   "source": []
  },
  {
   "cell_type": "code",
   "execution_count": null,
   "metadata": {},
   "outputs": [],
   "source": []
  },
  {
   "cell_type": "code",
   "execution_count": null,
   "metadata": {},
   "outputs": [],
   "source": []
  },
  {
   "cell_type": "code",
   "execution_count": null,
   "metadata": {},
   "outputs": [],
   "source": []
  },
  {
   "cell_type": "code",
   "execution_count": null,
   "metadata": {},
   "outputs": [],
   "source": []
  },
  {
   "cell_type": "markdown",
   "metadata": {},
   "source": [
    "### Exercise 2: String Manipulation\n",
    "- Learning Objectives: Add a new column, manipulate string and date fields."
   ]
  },
  {
   "cell_type": "code",
   "execution_count": 6,
   "metadata": {},
   "outputs": [],
   "source": [
    "events['LongGameId'] = events.HomeTeam + events.AwayTeam + events.Time.dt.strftime('%Y%m%d')"
   ]
  },
  {
   "cell_type": "code",
   "execution_count": 7,
   "metadata": {},
   "outputs": [],
   "source": [
    "firstGameMins = [ x*6 for x in range(0,10) ]\n",
    "secondGameMins = [ (x*6+1) for x in range(0,10) ]\n",
    "thirdGameMins = [ (x*6+2) for x in range(0,10) ]\n",
    "\n",
    "firstGames = events.Time.dt.minute.isin(firstGameMins)\n",
    "events.loc[firstGames,'LongGameId'] += '00'\n",
    "\n",
    "secondGames = events.Time.dt.minute.isin(secondGameMins)\n",
    "events.loc[secondGames,'LongGameId'] += '01'\n",
    "\n",
    "thirdGames = events.Time.dt.minute.isin(thirdGameMins)\n",
    "events.loc[thirdGames,'LongGameId'] += '00'"
   ]
  },
  {
   "cell_type": "code",
   "execution_count": 8,
   "metadata": {},
   "outputs": [
    {
     "data": {
      "text/html": [
       "<div>\n",
       "<style scoped>\n",
       "    .dataframe tbody tr th:only-of-type {\n",
       "        vertical-align: middle;\n",
       "    }\n",
       "\n",
       "    .dataframe tbody tr th {\n",
       "        vertical-align: top;\n",
       "    }\n",
       "\n",
       "    .dataframe thead th {\n",
       "        text-align: right;\n",
       "    }\n",
       "</style>\n",
       "<table border=\"1\" class=\"dataframe\">\n",
       "  <thead>\n",
       "    <tr style=\"text-align: right;\">\n",
       "      <th></th>\n",
       "      <th></th>\n",
       "      <th>Time</th>\n",
       "      <th>HomeTeam</th>\n",
       "      <th>AwayTeam</th>\n",
       "      <th>Inning</th>\n",
       "      <th>TopBottom</th>\n",
       "      <th>HomeScore</th>\n",
       "      <th>AwayScore</th>\n",
       "      <th>PlayerId</th>\n",
       "      <th>Position</th>\n",
       "      <th>PlayerTeam</th>\n",
       "      <th>Event</th>\n",
       "      <th>PitchCount</th>\n",
       "      <th>Rbi</th>\n",
       "      <th>StartBase</th>\n",
       "      <th>EndBase</th>\n",
       "      <th>Outs</th>\n",
       "      <th>Players</th>\n",
       "      <th>LongGameId</th>\n",
       "    </tr>\n",
       "    <tr>\n",
       "      <th>GameId</th>\n",
       "      <th></th>\n",
       "      <th></th>\n",
       "      <th></th>\n",
       "      <th></th>\n",
       "      <th></th>\n",
       "      <th></th>\n",
       "      <th></th>\n",
       "      <th></th>\n",
       "      <th></th>\n",
       "      <th></th>\n",
       "      <th></th>\n",
       "      <th></th>\n",
       "      <th></th>\n",
       "      <th></th>\n",
       "      <th></th>\n",
       "      <th></th>\n",
       "      <th></th>\n",
       "      <th></th>\n",
       "      <th></th>\n",
       "    </tr>\n",
       "  </thead>\n",
       "  <tbody>\n",
       "    <tr>\n",
       "      <th rowspan=\"5\" valign=\"top\">ANA201804020</th>\n",
       "      <th>0</th>\n",
       "      <td>2018-04-02 12:00:00</td>\n",
       "      <td>ANA</td>\n",
       "      <td>CLE</td>\n",
       "      <td>1</td>\n",
       "      <td>Top</td>\n",
       "      <td>0</td>\n",
       "      <td>0</td>\n",
       "      <td>lindf001</td>\n",
       "      <td>Batter</td>\n",
       "      <td>CLE</td>\n",
       "      <td>PutOut</td>\n",
       "      <td>5.0</td>\n",
       "      <td>NaN</td>\n",
       "      <td>NaN</td>\n",
       "      <td>NaN</td>\n",
       "      <td>NaN</td>\n",
       "      <td>NaN</td>\n",
       "      <td>ANACLE2018040200</td>\n",
       "    </tr>\n",
       "    <tr>\n",
       "      <th>1</th>\n",
       "      <td>2018-04-02 12:00:00</td>\n",
       "      <td>ANA</td>\n",
       "      <td>CLE</td>\n",
       "      <td>1</td>\n",
       "      <td>Top</td>\n",
       "      <td>0</td>\n",
       "      <td>0</td>\n",
       "      <td>troum001</td>\n",
       "      <td>CenterField</td>\n",
       "      <td>ANA</td>\n",
       "      <td>Out</td>\n",
       "      <td>NaN</td>\n",
       "      <td>NaN</td>\n",
       "      <td>NaN</td>\n",
       "      <td>NaN</td>\n",
       "      <td>1.0</td>\n",
       "      <td>1.0</td>\n",
       "      <td>ANACLE2018040200</td>\n",
       "    </tr>\n",
       "    <tr>\n",
       "      <th>2</th>\n",
       "      <td>2018-04-02 12:06:00</td>\n",
       "      <td>ANA</td>\n",
       "      <td>CLE</td>\n",
       "      <td>1</td>\n",
       "      <td>Top</td>\n",
       "      <td>0</td>\n",
       "      <td>0</td>\n",
       "      <td>kipnj001</td>\n",
       "      <td>Batter</td>\n",
       "      <td>CLE</td>\n",
       "      <td>PutOut</td>\n",
       "      <td>4.0</td>\n",
       "      <td>NaN</td>\n",
       "      <td>NaN</td>\n",
       "      <td>NaN</td>\n",
       "      <td>NaN</td>\n",
       "      <td>NaN</td>\n",
       "      <td>ANACLE2018040200</td>\n",
       "    </tr>\n",
       "    <tr>\n",
       "      <th>3</th>\n",
       "      <td>2018-04-02 12:06:00</td>\n",
       "      <td>ANA</td>\n",
       "      <td>CLE</td>\n",
       "      <td>1</td>\n",
       "      <td>Top</td>\n",
       "      <td>0</td>\n",
       "      <td>0</td>\n",
       "      <td>martj007</td>\n",
       "      <td>FirstBase</td>\n",
       "      <td>ANA</td>\n",
       "      <td>Out</td>\n",
       "      <td>NaN</td>\n",
       "      <td>NaN</td>\n",
       "      <td>NaN</td>\n",
       "      <td>NaN</td>\n",
       "      <td>1.0</td>\n",
       "      <td>2.0</td>\n",
       "      <td>ANACLE2018040200</td>\n",
       "    </tr>\n",
       "    <tr>\n",
       "      <th>4</th>\n",
       "      <td>2018-04-02 12:12:00</td>\n",
       "      <td>ANA</td>\n",
       "      <td>CLE</td>\n",
       "      <td>1</td>\n",
       "      <td>Top</td>\n",
       "      <td>0</td>\n",
       "      <td>0</td>\n",
       "      <td>ramij003</td>\n",
       "      <td>Batter</td>\n",
       "      <td>CLE</td>\n",
       "      <td>PutOut</td>\n",
       "      <td>6.0</td>\n",
       "      <td>NaN</td>\n",
       "      <td>NaN</td>\n",
       "      <td>NaN</td>\n",
       "      <td>NaN</td>\n",
       "      <td>NaN</td>\n",
       "      <td>ANACLE2018040200</td>\n",
       "    </tr>\n",
       "    <tr>\n",
       "      <th>...</th>\n",
       "      <th>...</th>\n",
       "      <td>...</td>\n",
       "      <td>...</td>\n",
       "      <td>...</td>\n",
       "      <td>...</td>\n",
       "      <td>...</td>\n",
       "      <td>...</td>\n",
       "      <td>...</td>\n",
       "      <td>...</td>\n",
       "      <td>...</td>\n",
       "      <td>...</td>\n",
       "      <td>...</td>\n",
       "      <td>...</td>\n",
       "      <td>...</td>\n",
       "      <td>...</td>\n",
       "      <td>...</td>\n",
       "      <td>...</td>\n",
       "      <td>...</td>\n",
       "      <td>...</td>\n",
       "    </tr>\n",
       "    <tr>\n",
       "      <th rowspan=\"5\" valign=\"top\">WAS201809260</th>\n",
       "      <th>126</th>\n",
       "      <td>2018-09-26 18:48:00</td>\n",
       "      <td>WAS</td>\n",
       "      <td>MIA</td>\n",
       "      <td>7</td>\n",
       "      <td>Bottom</td>\n",
       "      <td>8</td>\n",
       "      <td>3</td>\n",
       "      <td>roblv001</td>\n",
       "      <td>Batter</td>\n",
       "      <td>WAS</td>\n",
       "      <td>PutOut</td>\n",
       "      <td>4.0</td>\n",
       "      <td>NaN</td>\n",
       "      <td>NaN</td>\n",
       "      <td>NaN</td>\n",
       "      <td>NaN</td>\n",
       "      <td>NaN</td>\n",
       "      <td>WASMIA2018092600</td>\n",
       "    </tr>\n",
       "    <tr>\n",
       "      <th>127</th>\n",
       "      <td>2018-09-26 18:48:00</td>\n",
       "      <td>WAS</td>\n",
       "      <td>MIA</td>\n",
       "      <td>7</td>\n",
       "      <td>Bottom</td>\n",
       "      <td>8</td>\n",
       "      <td>3</td>\n",
       "      <td>rojam002</td>\n",
       "      <td>ShortStop</td>\n",
       "      <td>MIA</td>\n",
       "      <td>Out</td>\n",
       "      <td>NaN</td>\n",
       "      <td>NaN</td>\n",
       "      <td>NaN</td>\n",
       "      <td>NaN</td>\n",
       "      <td>1.0</td>\n",
       "      <td>1.0</td>\n",
       "      <td>WASMIA2018092600</td>\n",
       "    </tr>\n",
       "    <tr>\n",
       "      <th>128</th>\n",
       "      <td>2018-09-26 18:54:00</td>\n",
       "      <td>WAS</td>\n",
       "      <td>MIA</td>\n",
       "      <td>7</td>\n",
       "      <td>Bottom</td>\n",
       "      <td>8</td>\n",
       "      <td>3</td>\n",
       "      <td>turnt001</td>\n",
       "      <td>Batter</td>\n",
       "      <td>WAS</td>\n",
       "      <td>PutOut</td>\n",
       "      <td>3.0</td>\n",
       "      <td>NaN</td>\n",
       "      <td>NaN</td>\n",
       "      <td>NaN</td>\n",
       "      <td>NaN</td>\n",
       "      <td>NaN</td>\n",
       "      <td>WASMIA2018092600</td>\n",
       "    </tr>\n",
       "    <tr>\n",
       "      <th>129</th>\n",
       "      <td>2018-09-26 18:54:00</td>\n",
       "      <td>WAS</td>\n",
       "      <td>MIA</td>\n",
       "      <td>7</td>\n",
       "      <td>Bottom</td>\n",
       "      <td>8</td>\n",
       "      <td>3</td>\n",
       "      <td>rojam002</td>\n",
       "      <td>ShortStop</td>\n",
       "      <td>MIA</td>\n",
       "      <td>Out</td>\n",
       "      <td>NaN</td>\n",
       "      <td>NaN</td>\n",
       "      <td>NaN</td>\n",
       "      <td>NaN</td>\n",
       "      <td>1.0</td>\n",
       "      <td>2.0</td>\n",
       "      <td>WASMIA2018092600</td>\n",
       "    </tr>\n",
       "    <tr>\n",
       "      <th>130</th>\n",
       "      <td>2018-09-26 18:54:00</td>\n",
       "      <td>WAS</td>\n",
       "      <td>MIA</td>\n",
       "      <td>7</td>\n",
       "      <td>Bottom</td>\n",
       "      <td>8</td>\n",
       "      <td>3</td>\n",
       "      <td>bostc001</td>\n",
       "      <td>SecondBase</td>\n",
       "      <td>MIA</td>\n",
       "      <td>Out</td>\n",
       "      <td>NaN</td>\n",
       "      <td>NaN</td>\n",
       "      <td>NaN</td>\n",
       "      <td>NaN</td>\n",
       "      <td>1.0</td>\n",
       "      <td>2.0</td>\n",
       "      <td>WASMIA2018092600</td>\n",
       "    </tr>\n",
       "  </tbody>\n",
       "</table>\n",
       "<p>349310 rows × 18 columns</p>\n",
       "</div>"
      ],
      "text/plain": [
       "                                Time HomeTeam AwayTeam  Inning TopBottom  \\\n",
       "GameId                                                                     \n",
       "ANA201804020 0   2018-04-02 12:00:00      ANA      CLE       1       Top   \n",
       "             1   2018-04-02 12:00:00      ANA      CLE       1       Top   \n",
       "             2   2018-04-02 12:06:00      ANA      CLE       1       Top   \n",
       "             3   2018-04-02 12:06:00      ANA      CLE       1       Top   \n",
       "             4   2018-04-02 12:12:00      ANA      CLE       1       Top   \n",
       "...                              ...      ...      ...     ...       ...   \n",
       "WAS201809260 126 2018-09-26 18:48:00      WAS      MIA       7    Bottom   \n",
       "             127 2018-09-26 18:48:00      WAS      MIA       7    Bottom   \n",
       "             128 2018-09-26 18:54:00      WAS      MIA       7    Bottom   \n",
       "             129 2018-09-26 18:54:00      WAS      MIA       7    Bottom   \n",
       "             130 2018-09-26 18:54:00      WAS      MIA       7    Bottom   \n",
       "\n",
       "                  HomeScore  AwayScore  PlayerId     Position PlayerTeam  \\\n",
       "GameId                                                                     \n",
       "ANA201804020 0            0          0  lindf001       Batter        CLE   \n",
       "             1            0          0  troum001  CenterField        ANA   \n",
       "             2            0          0  kipnj001       Batter        CLE   \n",
       "             3            0          0  martj007    FirstBase        ANA   \n",
       "             4            0          0  ramij003       Batter        CLE   \n",
       "...                     ...        ...       ...          ...        ...   \n",
       "WAS201809260 126          8          3  roblv001       Batter        WAS   \n",
       "             127          8          3  rojam002    ShortStop        MIA   \n",
       "             128          8          3  turnt001       Batter        WAS   \n",
       "             129          8          3  rojam002    ShortStop        MIA   \n",
       "             130          8          3  bostc001   SecondBase        MIA   \n",
       "\n",
       "                   Event  PitchCount  Rbi  StartBase  EndBase  Outs  Players  \\\n",
       "GameId                                                                         \n",
       "ANA201804020 0    PutOut         5.0  NaN        NaN      NaN   NaN      NaN   \n",
       "             1       Out         NaN  NaN        NaN      NaN   1.0      1.0   \n",
       "             2    PutOut         4.0  NaN        NaN      NaN   NaN      NaN   \n",
       "             3       Out         NaN  NaN        NaN      NaN   1.0      2.0   \n",
       "             4    PutOut         6.0  NaN        NaN      NaN   NaN      NaN   \n",
       "...                  ...         ...  ...        ...      ...   ...      ...   \n",
       "WAS201809260 126  PutOut         4.0  NaN        NaN      NaN   NaN      NaN   \n",
       "             127     Out         NaN  NaN        NaN      NaN   1.0      1.0   \n",
       "             128  PutOut         3.0  NaN        NaN      NaN   NaN      NaN   \n",
       "             129     Out         NaN  NaN        NaN      NaN   1.0      2.0   \n",
       "             130     Out         NaN  NaN        NaN      NaN   1.0      2.0   \n",
       "\n",
       "                        LongGameId  \n",
       "GameId                              \n",
       "ANA201804020 0    ANACLE2018040200  \n",
       "             1    ANACLE2018040200  \n",
       "             2    ANACLE2018040200  \n",
       "             3    ANACLE2018040200  \n",
       "             4    ANACLE2018040200  \n",
       "...                            ...  \n",
       "WAS201809260 126  WASMIA2018092600  \n",
       "             127  WASMIA2018092600  \n",
       "             128  WASMIA2018092600  \n",
       "             129  WASMIA2018092600  \n",
       "             130  WASMIA2018092600  \n",
       "\n",
       "[349310 rows x 18 columns]"
      ]
     },
     "execution_count": 8,
     "metadata": {},
     "output_type": "execute_result"
    }
   ],
   "source": [
    "events"
   ]
  },
  {
   "cell_type": "markdown",
   "metadata": {},
   "source": [
    "### Exercise 3: Basic Column Calculations\n",
    "- Learning Objectives: Use columns to calculate basic statistics."
   ]
  },
  {
   "cell_type": "code",
   "execution_count": 9,
   "metadata": {},
   "outputs": [],
   "source": [
    "# Average times/game each fielder is involved in putting someone out.\n",
    "fielders = events.Position.unique()\n",
    "fielders = fielders[(fielders != 'Batter') & (fielders != 'Runner')]"
   ]
  },
  {
   "cell_type": "code",
   "execution_count": 10,
   "metadata": {},
   "outputs": [
    {
     "data": {
      "text/plain": [
       "{'CenterField': 4.907139909203467,\n",
       " 'FirstBase': 16.25551921504497,\n",
       " 'Catcher': 1.201000834028357,\n",
       " 'SecondBase': 7.1651639344262295,\n",
       " 'LeftField': 3.7749263777871267,\n",
       " 'ShortStop': 6.7841048750512085,\n",
       " 'RightField': 3.9416180150125104,\n",
       " 'ThirdBase': 4.7765869744435285}"
      ]
     },
     "execution_count": 10,
     "metadata": {},
     "output_type": "execute_result"
    }
   ],
   "source": [
    "avgOuts = { key: 0 for key in fielders }\n",
    "\n",
    "for fielder in fielders:\n",
    "    nGames = len(events[events.Position == fielder].LongGameId.drop_duplicates())\n",
    "    avgOuts[fielder] = len(events[(events.Position == fielder) & (events.Event == 'Out')])/nGames\n",
    "\n",
    "avgOuts"
   ]
  },
  {
   "cell_type": "code",
   "execution_count": 11,
   "metadata": {},
   "outputs": [],
   "source": [
    "# Average on base (hit+walks), RBIs and runs scored per at bat."
   ]
  },
  {
   "cell_type": "code",
   "execution_count": 12,
   "metadata": {},
   "outputs": [
    {
     "name": "stdout",
     "output_type": "stream",
     "text": [
      "Avg On Base: 0.320355, Avg Runs: 0.11806, Avg RBIs: 0.0700041\n"
     ]
    }
   ],
   "source": [
    "nAtBat = len(events[events.Position == 'Batter'])\n",
    "avgOnBase =  len(events[ (events.Event == 'Hit') | (events.Event == 'Walk') ])/nAtBat\n",
    "avgRuns = len(events[ events.EndBase == 4 ])/nAtBat\n",
    "avgRbis = events[events.Event == 'Hit'].Rbi.sum()/nAtBat\n",
    "\n",
    "print('Avg On Base: %g, Avg Runs: %g, Avg RBIs: %g' % (avgOnBase, avgRuns, avgRbis))"
   ]
  },
  {
   "cell_type": "markdown",
   "metadata": {},
   "source": [
    "### Exercise 4: Grouping by Key\n",
    "- Learning Objectives: Use `groupby()` on game and player ID strings to produce summaries for each."
   ]
  },
  {
   "cell_type": "markdown",
   "metadata": {},
   "source": [
    "#### Summarize Players"
   ]
  },
  {
   "cell_type": "code",
   "execution_count": 15,
   "metadata": {},
   "outputs": [],
   "source": [
    "def SummarizePlayer(tbl):\n",
    "    nGames = len(tbl.LongGameId.drop_duplicates())\n",
    "    nAtBats = sum(tbl.Position == 'Batter')\n",
    "    avgOuts = sum(tbl.Event == 'Out')/nGames\n",
    "    if nAtBats > 0:\n",
    "        avgOnBase = sum( (tbl.Event == 'Hit') | (tbl.Event == 'Walk') )/nAtBats\n",
    "        avgRuns = sum( tbl.EndBase == 4 )/nAtBats\n",
    "        avgRbis = tbl.Rbi.sum()/nAtBats\n",
    "    else:\n",
    "        avgOnBase = 0\n",
    "        avgRuns = 0\n",
    "        avgRbis = 0\n",
    "    \n",
    "    fieldPositions = tbl[(tbl.Position != 'Batter') & (tbl.Position != 'Runner')].Position\n",
    "    \n",
    "    if len(fieldPositions) > 0:\n",
    "        position = fieldPositions.mode().iloc[0]\n",
    "    else:\n",
    "        position = 'Pitcher'\n",
    "        \n",
    "    return pd.Series({\n",
    "        'Position': position,\n",
    "        'GamesPlayed': nGames,\n",
    "        'AtBats': nAtBats,\n",
    "        'AvgOuts': avgOuts,\n",
    "        'AvgOnBase': avgOnBase,\n",
    "        'AvgRuns': avgRuns,\n",
    "        'AvgRbis': avgRbis\n",
    "    })\n",
    "    \n",
    "    \n",
    "#SummarizePlayer(events[events.PlayerId == 'bostc001'])    \n",
    "players = events.groupby('PlayerId').apply(SummarizePlayer)   "
   ]
  },
  {
   "cell_type": "code",
   "execution_count": 16,
   "metadata": {},
   "outputs": [
    {
     "data": {
      "text/html": [
       "<div>\n",
       "<style scoped>\n",
       "    .dataframe tbody tr th:only-of-type {\n",
       "        vertical-align: middle;\n",
       "    }\n",
       "\n",
       "    .dataframe tbody tr th {\n",
       "        vertical-align: top;\n",
       "    }\n",
       "\n",
       "    .dataframe thead th {\n",
       "        text-align: right;\n",
       "    }\n",
       "</style>\n",
       "<table border=\"1\" class=\"dataframe\">\n",
       "  <thead>\n",
       "    <tr style=\"text-align: right;\">\n",
       "      <th></th>\n",
       "      <th>Position</th>\n",
       "      <th>GamesPlayed</th>\n",
       "      <th>AtBats</th>\n",
       "      <th>AvgOuts</th>\n",
       "      <th>AvgOnBase</th>\n",
       "      <th>AvgRuns</th>\n",
       "      <th>AvgRbis</th>\n",
       "    </tr>\n",
       "    <tr>\n",
       "      <th>PlayerId</th>\n",
       "      <th></th>\n",
       "      <th></th>\n",
       "      <th></th>\n",
       "      <th></th>\n",
       "      <th></th>\n",
       "      <th></th>\n",
       "      <th></th>\n",
       "    </tr>\n",
       "  </thead>\n",
       "  <tbody>\n",
       "    <tr>\n",
       "      <th>abrej003</th>\n",
       "      <td>FirstBase</td>\n",
       "      <td>129</td>\n",
       "      <td>549</td>\n",
       "      <td>7.139535</td>\n",
       "      <td>0.327869</td>\n",
       "      <td>0.123862</td>\n",
       "      <td>0.078324</td>\n",
       "    </tr>\n",
       "    <tr>\n",
       "      <th>acunr001</th>\n",
       "      <td>LeftField</td>\n",
       "      <td>111</td>\n",
       "      <td>484</td>\n",
       "      <td>1.657658</td>\n",
       "      <td>0.367769</td>\n",
       "      <td>0.161157</td>\n",
       "      <td>0.070248</td>\n",
       "    </tr>\n",
       "    <tr>\n",
       "      <th>adaml001</th>\n",
       "      <td>LeftField</td>\n",
       "      <td>24</td>\n",
       "      <td>28</td>\n",
       "      <td>0.375000</td>\n",
       "      <td>0.357143</td>\n",
       "      <td>0.357143</td>\n",
       "      <td>0.142857</td>\n",
       "    </tr>\n",
       "    <tr>\n",
       "      <th>adamm002</th>\n",
       "      <td>FirstBase</td>\n",
       "      <td>117</td>\n",
       "      <td>332</td>\n",
       "      <td>3.658120</td>\n",
       "      <td>0.313253</td>\n",
       "      <td>0.126506</td>\n",
       "      <td>0.108434</td>\n",
       "    </tr>\n",
       "    <tr>\n",
       "      <th>adamw002</th>\n",
       "      <td>ShortStop</td>\n",
       "      <td>85</td>\n",
       "      <td>320</td>\n",
       "      <td>2.882353</td>\n",
       "      <td>0.350000</td>\n",
       "      <td>0.134375</td>\n",
       "      <td>0.059375</td>\n",
       "    </tr>\n",
       "    <tr>\n",
       "      <th>...</th>\n",
       "      <td>...</td>\n",
       "      <td>...</td>\n",
       "      <td>...</td>\n",
       "      <td>...</td>\n",
       "      <td>...</td>\n",
       "      <td>...</td>\n",
       "      <td>...</td>\n",
       "    </tr>\n",
       "    <tr>\n",
       "      <th>zimmb001</th>\n",
       "      <td>CenterField</td>\n",
       "      <td>36</td>\n",
       "      <td>114</td>\n",
       "      <td>2.277778</td>\n",
       "      <td>0.280702</td>\n",
       "      <td>0.122807</td>\n",
       "      <td>0.052632</td>\n",
       "    </tr>\n",
       "    <tr>\n",
       "      <th>zimmj003</th>\n",
       "      <td>Pitcher</td>\n",
       "      <td>2</td>\n",
       "      <td>2</td>\n",
       "      <td>0.000000</td>\n",
       "      <td>0.000000</td>\n",
       "      <td>0.000000</td>\n",
       "      <td>0.000000</td>\n",
       "    </tr>\n",
       "    <tr>\n",
       "      <th>zimmr001</th>\n",
       "      <td>FirstBase</td>\n",
       "      <td>85</td>\n",
       "      <td>318</td>\n",
       "      <td>6.541176</td>\n",
       "      <td>0.342767</td>\n",
       "      <td>0.103774</td>\n",
       "      <td>0.103774</td>\n",
       "    </tr>\n",
       "    <tr>\n",
       "      <th>zobrb001</th>\n",
       "      <td>SecondBase</td>\n",
       "      <td>137</td>\n",
       "      <td>513</td>\n",
       "      <td>2.350365</td>\n",
       "      <td>0.382066</td>\n",
       "      <td>0.130604</td>\n",
       "      <td>0.070175</td>\n",
       "    </tr>\n",
       "    <tr>\n",
       "      <th>zunim001</th>\n",
       "      <td>Catcher</td>\n",
       "      <td>109</td>\n",
       "      <td>402</td>\n",
       "      <td>0.192661</td>\n",
       "      <td>0.261194</td>\n",
       "      <td>0.092040</td>\n",
       "      <td>0.049751</td>\n",
       "    </tr>\n",
       "  </tbody>\n",
       "</table>\n",
       "<p>991 rows × 7 columns</p>\n",
       "</div>"
      ],
      "text/plain": [
       "             Position  GamesPlayed  AtBats   AvgOuts  AvgOnBase   AvgRuns  \\\n",
       "PlayerId                                                                    \n",
       "abrej003    FirstBase          129     549  7.139535   0.327869  0.123862   \n",
       "acunr001    LeftField          111     484  1.657658   0.367769  0.161157   \n",
       "adaml001    LeftField           24      28  0.375000   0.357143  0.357143   \n",
       "adamm002    FirstBase          117     332  3.658120   0.313253  0.126506   \n",
       "adamw002    ShortStop           85     320  2.882353   0.350000  0.134375   \n",
       "...               ...          ...     ...       ...        ...       ...   \n",
       "zimmb001  CenterField           36     114  2.277778   0.280702  0.122807   \n",
       "zimmj003      Pitcher            2       2  0.000000   0.000000  0.000000   \n",
       "zimmr001    FirstBase           85     318  6.541176   0.342767  0.103774   \n",
       "zobrb001   SecondBase          137     513  2.350365   0.382066  0.130604   \n",
       "zunim001      Catcher          109     402  0.192661   0.261194  0.092040   \n",
       "\n",
       "           AvgRbis  \n",
       "PlayerId            \n",
       "abrej003  0.078324  \n",
       "acunr001  0.070248  \n",
       "adaml001  0.142857  \n",
       "adamm002  0.108434  \n",
       "adamw002  0.059375  \n",
       "...            ...  \n",
       "zimmb001  0.052632  \n",
       "zimmj003  0.000000  \n",
       "zimmr001  0.103774  \n",
       "zobrb001  0.070175  \n",
       "zunim001  0.049751  \n",
       "\n",
       "[991 rows x 7 columns]"
      ]
     },
     "execution_count": 16,
     "metadata": {},
     "output_type": "execute_result"
    }
   ],
   "source": [
    "players"
   ]
  },
  {
   "cell_type": "markdown",
   "metadata": {},
   "source": [
    "### Exercise 5: Histograms\n",
    "- Learning Objectives: Create and plot histograms."
   ]
  },
  {
   "cell_type": "code",
   "execution_count": 16,
   "metadata": {},
   "outputs": [
    {
     "data": {
      "text/plain": [
       "array([[<matplotlib.axes._subplots.AxesSubplot object at 0x11ececb50>]],\n",
       "      dtype=object)"
      ]
     },
     "execution_count": 16,
     "metadata": {},
     "output_type": "execute_result"
    },
    {
     "data": {
      "image/png": "[encoded data removed]",
      "text/plain": [
       "<Figure size 432x288 with 1 Axes>"
      ]
     },
     "metadata": {
      "needs_background": "light"
     },
     "output_type": "display_data"
    }
   ],
   "source": [
    "games.hist(column = [ 'WinMinLead' ], bins = 50)"
   ]
  },
  {
   "cell_type": "code",
   "execution_count": 17,
   "metadata": {},
   "outputs": [
    {
     "data": {
      "text/plain": [
       "array([[<matplotlib.axes._subplots.AxesSubplot object at 0x11e77fc50>]],\n",
       "      dtype=object)"
      ]
     },
     "execution_count": 17,
     "metadata": {},
     "output_type": "execute_result"
    },
    {
     "data": {
      "image/png": "[encoded data removed]",
      "text/plain": [
       "<Figure size 432x288 with 1 Axes>"
      ]
     },
     "metadata": {
      "needs_background": "light"
     },
     "output_type": "display_data"
    }
   ],
   "source": [
    "players[players.Position == 'ShortStop'].hist(column = [ 'AvgOuts' ], bins = 100)"
   ]
  },
  {
   "cell_type": "code",
   "execution_count": 18,
   "metadata": {},
   "outputs": [
    {
     "data": {
      "text/plain": [
       "array([[<matplotlib.axes._subplots.AxesSubplot object at 0x10f245690>]],\n",
       "      dtype=object)"
      ]
     },
     "execution_count": 18,
     "metadata": {},
     "output_type": "execute_result"
    },
    {
     "data": {
      "image/png": "[encoded data removed]",
      "text/plain": [
       "<Figure size 432x288 with 1 Axes>"
      ]
     },
     "metadata": {
      "needs_background": "light"
     },
     "output_type": "display_data"
    }
   ],
   "source": [
    "players.hist(column = [ 'AvgOnBase' ], bins = 100)"
   ]
  },
  {
   "cell_type": "markdown",
   "metadata": {},
   "source": [
    "### Exercise 6: Individual Timelines\n",
    "- Learning Objectives: Plot events for an individual versus time."
   ]
  },
  {
   "cell_type": "code",
   "execution_count": 19,
   "metadata": {},
   "outputs": [
    {
     "data": {
      "text/plain": [
       "'troum001'"
      ]
     },
     "execution_count": 19,
     "metadata": {},
     "output_type": "execute_result"
    }
   ],
   "source": [
    "# Find the player with the highest on-base percentage of players with an above average number of at bats.\n",
    "avgAtBats = players.AtBats.mean()\n",
    "maxOnBasePlayer = players[players.AtBats > avgAtBats].AvgOnBase.idxmax()\n",
    "maxOnBasePlayer"
   ]
  },
  {
   "cell_type": "code",
   "execution_count": 22,
   "metadata": {},
   "outputs": [],
   "source": [
    "tbl = events[events.PlayerId == maxOnBasePlayer]"
   ]
  },
  {
   "cell_type": "code",
   "execution_count": 23,
   "metadata": {},
   "outputs": [],
   "source": [
    "atBats = tbl.resample('M',on='Time').Event.count()\n",
    "\n",
    "def CountUnique(ser):\n",
    "    return len(ser.drop_duplicates())\n",
    "\n",
    "nGames = tbl.resample('M',on='Time').LongGameId.apply(lambda x: len(x.drop_duplicates()))\n",
    "singles = tbl[tbl.Event=='Hit'].resample('M',on='Time').EndBase.apply(lambda x: (x==1).sum())\n",
    "doubles = tbl[tbl.Event=='Hit'].resample('M',on='Time').EndBase.apply(lambda x: (x==2).sum())\n",
    "triples = tbl[tbl.Event=='Hit'].resample('M',on='Time').EndBase.apply(lambda x: (x==3).sum())\n",
    "homers = tbl[tbl.Event=='Hit'].resample('M',on='Time').EndBase.apply(lambda x: (x==4).sum())\n",
    "walks = tbl[tbl.Event=='Walk'].resample('M',on='Time').EndBase.count()\n",
    "\n",
    "onBase = pd.DataFrame({\n",
    "    'GamesPlayed': nGames,\n",
    "    'Singles': singles,\n",
    "    'Doubles': doubles,\n",
    "    'Triples': triples,\n",
    "    'Homers': homers,\n",
    "    'Walks': walks\n",
    "})\n",
    "\n",
    "\n"
   ]
  },
  {
   "cell_type": "code",
   "execution_count": 24,
   "metadata": {},
   "outputs": [
    {
     "data": {
      "text/plain": [
       "<matplotlib.axes._subplots.AxesSubplot at 0x10ddf2b50>"
      ]
     },
     "execution_count": 24,
     "metadata": {},
     "output_type": "execute_result"
    },
    {
     "data": {
      "image/png": "[encoded data removed]",
      "text/plain": [
       "<Figure size 432x288 with 1 Axes>"
      ]
     },
     "metadata": {
      "needs_background": "light"
     },
     "output_type": "display_data"
    }
   ],
   "source": [
    "onBase.plot(kind='bar')\n"
   ]
  },
  {
   "cell_type": "markdown",
   "metadata": {},
   "source": [
    "### Exercise 7: Correlation\n",
    "- Learning Objectives: Learn tools to examine correlations in the data."
   ]
  },
  {
   "cell_type": "code",
   "execution_count": 18,
   "metadata": {},
   "outputs": [
    {
     "data": {
      "text/plain": [
       "<matplotlib.axes._subplots.AxesSubplot at 0x127e27250>"
      ]
     },
     "execution_count": 18,
     "metadata": {},
     "output_type": "execute_result"
    },
    {
     "data": {
      "image/png": "[encoded data removed]",
      "text/plain": [
       "<Figure size 432x288 with 1 Axes>"
      ]
     },
     "metadata": {
      "needs_background": "light"
     },
     "output_type": "display_data"
    }
   ],
   "source": [
    "players.GamesPlayed.hist(bins=100)"
   ]
  },
  {
   "cell_type": "code",
   "execution_count": 19,
   "metadata": {},
   "outputs": [],
   "source": [
    "nPlayers = len(players.index)\n",
    "pct70 = players.GamesPlayed.sort_values().iloc[int(0.3*nPlayers)]\n",
    "players70 = players[players.GamesPlayed >= pct70]"
   ]
  },
  {
   "cell_type": "code",
   "execution_count": 20,
   "metadata": {},
   "outputs": [
    {
     "data": {
      "text/html": [
       "<div>\n",
       "<style scoped>\n",
       "    .dataframe tbody tr th:only-of-type {\n",
       "        vertical-align: middle;\n",
       "    }\n",
       "\n",
       "    .dataframe tbody tr th {\n",
       "        vertical-align: top;\n",
       "    }\n",
       "\n",
       "    .dataframe thead th {\n",
       "        text-align: right;\n",
       "    }\n",
       "</style>\n",
       "<table border=\"1\" class=\"dataframe\">\n",
       "  <thead>\n",
       "    <tr style=\"text-align: right;\">\n",
       "      <th></th>\n",
       "      <th>Position</th>\n",
       "      <th>GamesPlayed</th>\n",
       "      <th>AtBats</th>\n",
       "      <th>AvgOuts</th>\n",
       "      <th>AvgOnBase</th>\n",
       "      <th>AvgRuns</th>\n",
       "      <th>AvgRbis</th>\n",
       "    </tr>\n",
       "    <tr>\n",
       "      <th>PlayerId</th>\n",
       "      <th></th>\n",
       "      <th></th>\n",
       "      <th></th>\n",
       "      <th></th>\n",
       "      <th></th>\n",
       "      <th></th>\n",
       "      <th></th>\n",
       "    </tr>\n",
       "  </thead>\n",
       "  <tbody>\n",
       "    <tr>\n",
       "      <th>abrej003</th>\n",
       "      <td>FirstBase</td>\n",
       "      <td>129</td>\n",
       "      <td>549</td>\n",
       "      <td>7.139535</td>\n",
       "      <td>0.327869</td>\n",
       "      <td>0.123862</td>\n",
       "      <td>0.078324</td>\n",
       "    </tr>\n",
       "    <tr>\n",
       "      <th>acunr001</th>\n",
       "      <td>LeftField</td>\n",
       "      <td>111</td>\n",
       "      <td>484</td>\n",
       "      <td>1.657658</td>\n",
       "      <td>0.367769</td>\n",
       "      <td>0.161157</td>\n",
       "      <td>0.070248</td>\n",
       "    </tr>\n",
       "    <tr>\n",
       "      <th>adaml001</th>\n",
       "      <td>LeftField</td>\n",
       "      <td>24</td>\n",
       "      <td>28</td>\n",
       "      <td>0.375000</td>\n",
       "      <td>0.357143</td>\n",
       "      <td>0.357143</td>\n",
       "      <td>0.142857</td>\n",
       "    </tr>\n",
       "    <tr>\n",
       "      <th>adamm002</th>\n",
       "      <td>FirstBase</td>\n",
       "      <td>117</td>\n",
       "      <td>332</td>\n",
       "      <td>3.658120</td>\n",
       "      <td>0.313253</td>\n",
       "      <td>0.126506</td>\n",
       "      <td>0.108434</td>\n",
       "    </tr>\n",
       "    <tr>\n",
       "      <th>adamw002</th>\n",
       "      <td>ShortStop</td>\n",
       "      <td>85</td>\n",
       "      <td>320</td>\n",
       "      <td>2.882353</td>\n",
       "      <td>0.350000</td>\n",
       "      <td>0.134375</td>\n",
       "      <td>0.059375</td>\n",
       "    </tr>\n",
       "    <tr>\n",
       "      <th>...</th>\n",
       "      <td>...</td>\n",
       "      <td>...</td>\n",
       "      <td>...</td>\n",
       "      <td>...</td>\n",
       "      <td>...</td>\n",
       "      <td>...</td>\n",
       "      <td>...</td>\n",
       "    </tr>\n",
       "    <tr>\n",
       "      <th>youne003</th>\n",
       "      <td>CenterField</td>\n",
       "      <td>39</td>\n",
       "      <td>115</td>\n",
       "      <td>1.769231</td>\n",
       "      <td>0.252174</td>\n",
       "      <td>0.104348</td>\n",
       "      <td>0.043478</td>\n",
       "    </tr>\n",
       "    <tr>\n",
       "      <th>zimmb001</th>\n",
       "      <td>CenterField</td>\n",
       "      <td>36</td>\n",
       "      <td>114</td>\n",
       "      <td>2.277778</td>\n",
       "      <td>0.280702</td>\n",
       "      <td>0.122807</td>\n",
       "      <td>0.052632</td>\n",
       "    </tr>\n",
       "    <tr>\n",
       "      <th>zimmr001</th>\n",
       "      <td>FirstBase</td>\n",
       "      <td>85</td>\n",
       "      <td>318</td>\n",
       "      <td>6.541176</td>\n",
       "      <td>0.342767</td>\n",
       "      <td>0.103774</td>\n",
       "      <td>0.103774</td>\n",
       "    </tr>\n",
       "    <tr>\n",
       "      <th>zobrb001</th>\n",
       "      <td>SecondBase</td>\n",
       "      <td>137</td>\n",
       "      <td>513</td>\n",
       "      <td>2.350365</td>\n",
       "      <td>0.382066</td>\n",
       "      <td>0.130604</td>\n",
       "      <td>0.070175</td>\n",
       "    </tr>\n",
       "    <tr>\n",
       "      <th>zunim001</th>\n",
       "      <td>Catcher</td>\n",
       "      <td>109</td>\n",
       "      <td>402</td>\n",
       "      <td>0.192661</td>\n",
       "      <td>0.261194</td>\n",
       "      <td>0.092040</td>\n",
       "      <td>0.049751</td>\n",
       "    </tr>\n",
       "  </tbody>\n",
       "</table>\n",
       "<p>697 rows × 7 columns</p>\n",
       "</div>"
      ],
      "text/plain": [
       "             Position  GamesPlayed  AtBats   AvgOuts  AvgOnBase   AvgRuns  \\\n",
       "PlayerId                                                                    \n",
       "abrej003    FirstBase          129     549  7.139535   0.327869  0.123862   \n",
       "acunr001    LeftField          111     484  1.657658   0.367769  0.161157   \n",
       "adaml001    LeftField           24      28  0.375000   0.357143  0.357143   \n",
       "adamm002    FirstBase          117     332  3.658120   0.313253  0.126506   \n",
       "adamw002    ShortStop           85     320  2.882353   0.350000  0.134375   \n",
       "...               ...          ...     ...       ...        ...       ...   \n",
       "youne003  CenterField           39     115  1.769231   0.252174  0.104348   \n",
       "zimmb001  CenterField           36     114  2.277778   0.280702  0.122807   \n",
       "zimmr001    FirstBase           85     318  6.541176   0.342767  0.103774   \n",
       "zobrb001   SecondBase          137     513  2.350365   0.382066  0.130604   \n",
       "zunim001      Catcher          109     402  0.192661   0.261194  0.092040   \n",
       "\n",
       "           AvgRbis  \n",
       "PlayerId            \n",
       "abrej003  0.078324  \n",
       "acunr001  0.070248  \n",
       "adaml001  0.142857  \n",
       "adamm002  0.108434  \n",
       "adamw002  0.059375  \n",
       "...            ...  \n",
       "youne003  0.043478  \n",
       "zimmb001  0.052632  \n",
       "zimmr001  0.103774  \n",
       "zobrb001  0.070175  \n",
       "zunim001  0.049751  \n",
       "\n",
       "[697 rows x 7 columns]"
      ]
     },
     "execution_count": 20,
     "metadata": {},
     "output_type": "execute_result"
    }
   ],
   "source": [
    "players70"
   ]
  },
  {
   "cell_type": "code",
   "execution_count": 21,
   "metadata": {},
   "outputs": [
    {
     "data": {
      "image/png": "[encoded data removed]",
      "text/plain": [
       "<Figure size 432x288 with 1 Axes>"
      ]
     },
     "metadata": {
      "needs_background": "light"
     },
     "output_type": "display_data"
    },
    {
     "name": "stdout",
     "output_type": "stream",
     "text": [
      "Correlation: 0.977389\n"
     ]
    }
   ],
   "source": [
    "plt.plot(players70.AtBats,players70.GamesPlayed,marker='o',ls='None')\n",
    "plt.xlabel('At Bats')\n",
    "plt.ylabel('Games Played')\n",
    "plt.show()\n",
    "\n",
    "print('Correlation: %g' % (np.corrcoef(players70.AtBats,players70.GamesPlayed)[0,1]))"
   ]
  },
  {
   "cell_type": "code",
   "execution_count": 22,
   "metadata": {},
   "outputs": [
    {
     "data": {
      "image/png": "[encoded data removed]",
      "text/plain": [
       "<Figure size 432x288 with 1 Axes>"
      ]
     },
     "metadata": {
      "needs_background": "light"
     },
     "output_type": "display_data"
    },
    {
     "name": "stdout",
     "output_type": "stream",
     "text": [
      "Correlation: 0.50417\n"
     ]
    }
   ],
   "source": [
    "plt.plot(players70.AvgOuts,players70.GamesPlayed,marker='o',ls='None')\n",
    "plt.xlabel('Average Outs')\n",
    "plt.ylabel('Games Played')\n",
    "plt.show()\n",
    "\n",
    "print('Correlation: %g' % (np.corrcoef(players70.AvgOuts,players70.GamesPlayed)[0,1]))"
   ]
  },
  {
   "cell_type": "code",
   "execution_count": 23,
   "metadata": {},
   "outputs": [
    {
     "data": {
      "image/png": "[encoded data removed]",
      "text/plain": [
       "<Figure size 432x288 with 1 Axes>"
      ]
     },
     "metadata": {
      "needs_background": "light"
     },
     "output_type": "display_data"
    },
    {
     "name": "stdout",
     "output_type": "stream",
     "text": [
      "Correlation: 0.614981\n"
     ]
    }
   ],
   "source": [
    "plt.plot(players70.AvgOnBase,players70.GamesPlayed,marker='o',ls='None')\n",
    "plt.xlabel('Average On Base')\n",
    "plt.ylabel('Games Played')\n",
    "plt.show()\n",
    "\n",
    "print('Correlation: %g' % (np.corrcoef(players70.AvgOnBase,players70.GamesPlayed)[0,1]))"
   ]
  },
  {
   "cell_type": "code",
   "execution_count": 24,
   "metadata": {},
   "outputs": [
    {
     "data": {
      "image/png": "[encoded data removed]",
      "text/plain": [
       "<Figure size 432x288 with 1 Axes>"
      ]
     },
     "metadata": {
      "needs_background": "light"
     },
     "output_type": "display_data"
    },
    {
     "name": "stdout",
     "output_type": "stream",
     "text": [
      "Correlation: 0.384203\n"
     ]
    }
   ],
   "source": [
    "plt.plot(players70.AvgRbis,players70.GamesPlayed,marker='o',ls='None')\n",
    "plt.xlabel('Average RBIs')\n",
    "plt.ylabel('Games Played')\n",
    "plt.show()\n",
    "\n",
    "print('Correlation: %g' % (np.corrcoef(players70.AvgRbis,players70.GamesPlayed)[0,1]))"
   ]
  },
  {
   "cell_type": "code",
   "execution_count": 25,
   "metadata": {},
   "outputs": [
    {
     "data": {
      "image/png": "[encoded data removed]",
      "text/plain": [
       "<Figure size 432x288 with 1 Axes>"
      ]
     },
     "metadata": {
      "needs_background": "light"
     },
     "output_type": "display_data"
    },
    {
     "name": "stdout",
     "output_type": "stream",
     "text": [
      "Correlation: 0.310017\n"
     ]
    }
   ],
   "source": [
    "plt.plot(players70.AvgRuns,players70.GamesPlayed,marker='o',ls='None')\n",
    "plt.xlabel('Average Runs')\n",
    "plt.ylabel('Games Played')\n",
    "plt.show()\n",
    "\n",
    "print('Correlation: %g' % (np.corrcoef(players70.AvgRuns,players70.GamesPlayed)[0,1]))"
   ]
  },
  {
   "cell_type": "markdown",
   "metadata": {},
   "source": [
    "### Save Work"
   ]
  },
  {
   "cell_type": "code",
   "execution_count": 17,
   "metadata": {},
   "outputs": [],
   "source": [
    "players.to_hdf('~/data/baseball/PlayerSummary-2018.hdf',key='Data')"
   ]
  },
  {
   "cell_type": "code",
   "execution_count": null,
   "metadata": {},
   "outputs": [],
   "source": []
  }
 ],
 "metadata": {
  "kernelspec": {
   "display_name": "Python 3",
   "language": "python",
   "name": "python3"
  },
  "language_info": {
   "codemirror_mode": {
    "name": "ipython",
    "version": 3
   },
   "file_extension": ".py",
   "mimetype": "text/x-python",
   "name": "python",
   "nbconvert_exporter": "python",
   "pygments_lexer": "ipython3",
   "version": "3.7.7"
  }
 },
 "nbformat": 4,
 "nbformat_minor": 4
}
