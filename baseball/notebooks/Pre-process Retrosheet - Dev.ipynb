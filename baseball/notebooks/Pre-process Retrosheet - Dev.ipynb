{
 "cells": [
  {
   "cell_type": "markdown",
   "metadata": {},
   "source": [
    "# Retrosheet Pre-Processing\n",
    "The purpose of this sheet is to pre-process the raw Retrosheet event files rather than working with the baseball on a stick data."
   ]
  },
  {
   "cell_type": "code",
   "execution_count": 1,
   "metadata": {},
   "outputs": [],
   "source": [
    "%load_ext autoreload\n",
    "%autoreload 1"
   ]
  },
  {
   "cell_type": "code",
   "execution_count": 2,
   "metadata": {},
   "outputs": [],
   "source": [
    "import numpy as np\n",
    "import pandas as pd\n",
    "import datetime, copy, imp\n",
    "import time\n",
    "import os\n",
    "import re\n",
    "import matplotlib.pyplot as plt\n",
    "\n",
    "from tqdm.auto import tqdm, trange\n",
    "from tqdm.notebook import tqdm\n",
    "tqdm.pandas()\n",
    "\n",
    "import sys\n",
    "sys.path.insert(0, '../../util/')\n",
    "\n",
    "%aimport data_cache\n",
    "from data_cache import CacheResult"
   ]
  },
  {
   "cell_type": "code",
   "execution_count": 127,
   "metadata": {},
   "outputs": [],
   "source": [
    "cachePathStr = '/Users/gmessier/data/baseball/cache/'\n",
    "dataPathStr = '/Users/gmessier/data/baseball/'\n",
    "tgtSeasons = [ 2016, 2017 ]  # The seasons that define our player population.\n",
    "startSeason = 1992  # Player event start season.\n",
    "endSeason = 2019 # Player event end season.\n",
    "topPlayerFrc = 0.1 # Fraction of players to select as top performers."
   ]
  },
  {
   "cell_type": "markdown",
   "metadata": {},
   "source": [
    "### Target Player Roster\n",
    "- The player population is every non-pitcher who was playing in the target seasons."
   ]
  },
  {
   "cell_type": "code",
   "execution_count": 16,
   "metadata": {},
   "outputs": [],
   "source": [
    "rosterFiles = [] \n",
    "for tgtSeason in tgtSeasons:\n",
    "    pathStr = dataPathStr + '{}/'.format(tgtSeason)\n",
    "    allFiles = os.listdir(pathStr)\n",
    "    fileRegex = re.compile('ROS')\n",
    "    rosterFiles += [ '{}/{}'.format(tgtSeason,x) for x in allFiles if fileRegex.search(x) ]"
   ]
  },
  {
   "cell_type": "code",
   "execution_count": null,
   "metadata": {},
   "outputs": [],
   "source": []
  },
  {
   "cell_type": "code",
   "execution_count": 18,
   "metadata": {},
   "outputs": [],
   "source": [
    "@CacheResult\n",
    "def ProcessRosters(fileNames):\n",
    "    rowList = []\n",
    "    for fileName in tqdm(fileNames):    \n",
    "        file = open(dataPathStr + fileName)        \n",
    "        for line in file:\n",
    "            flds = line.split(',')\n",
    "            row = {\n",
    "                'PlayerId': flds[0],\n",
    "                'LastName': flds[1],\n",
    "                'FirstName': flds[2],\n",
    "                'Posn': flds[-1][0:-1],\n",
    "                'Team': flds[-2]\n",
    "            }\n",
    "            rowList.append(row)\n",
    "            \n",
    "        file.close()\n",
    "        \n",
    "    tbl = pd.DataFrame.from_dict(rowList)\n",
    "    \n",
    "    # Since we mainly care about position and not team, arbitrarily keep one duplicated record.\n",
    "    tbl = tbl.loc[~(tbl.PlayerId.duplicated())] \n",
    "            \n",
    "    return tbl"
   ]
  },
  {
   "cell_type": "code",
   "execution_count": 19,
   "metadata": {},
   "outputs": [
    {
     "data": {
      "application/vnd.jupyter.widget-view+json": {
       "model_id": "7c95a27ef65d4fed90f709db93ee24db",
       "version_major": 2,
       "version_minor": 0
      },
      "text/plain": [
       "  0%|          | 0/60 [00:00<?, ?it/s]"
      ]
     },
     "metadata": {},
     "output_type": "display_data"
    }
   ],
   "source": [
    "rstr = ProcessRosters(rosterFiles,path=cachePathStr)"
   ]
  },
  {
   "cell_type": "code",
   "execution_count": 20,
   "metadata": {},
   "outputs": [],
   "source": [
    "# Do not include pitchers in the assessment of offsensive capability.\n",
    "offPlayers = rstr[rstr.Posn != 'P'].PlayerId"
   ]
  },
  {
   "cell_type": "code",
   "execution_count": null,
   "metadata": {},
   "outputs": [],
   "source": []
  },
  {
   "cell_type": "markdown",
   "metadata": {},
   "source": [
    "### Player Transactions"
   ]
  },
  {
   "cell_type": "code",
   "execution_count": 24,
   "metadata": {},
   "outputs": [],
   "source": [
    "tranFileStr = '~/data/baseball/tran/tran.txt'"
   ]
  },
  {
   "cell_type": "code",
   "execution_count": 25,
   "metadata": {},
   "outputs": [],
   "source": [
    "headers = [\n",
    "    'PriDate', 'Time', 'ApxInd', 'SecDate', 'ApxIndSec', 'TrId',\n",
    "    'Player', 'Type', 'FromTeam', 'FromLeague', 'ToTeam',\n",
    "    'ToLeague', 'DftType', 'DftRnd', 'PickNo', 'Info']\n",
    "\n",
    "types = {\n",
    "    'PriDate': 'object', 'Time': 'object', 'ApxInd': 'object', \n",
    "    'SecDate': 'object', 'ApxIndSec': 'object', 'TrId': 'object',\n",
    "    'Player': 'object', 'Type': 'object', 'FromTeam': 'object', \n",
    "    'FromLeague': 'object', 'ToTeam': 'object',\n",
    "    'ToLeague': 'object', 'DftType': 'object', 'DftRnd': 'object', \n",
    "    'PickNo': 'object', 'Info': 'object'}"
   ]
  },
  {
   "cell_type": "code",
   "execution_count": 26,
   "metadata": {},
   "outputs": [],
   "source": [
    "trnRaw = pd.read_csv(tranFileStr,sep=',',names=headers,dtype=types)"
   ]
  },
  {
   "cell_type": "code",
   "execution_count": 27,
   "metadata": {},
   "outputs": [],
   "source": [
    "tranEventType = { \n",
    "    'F': 'FreeAgent', 'R': 'Released', 'D': 'Draft', 'T': 'Trade', 'W': 'Waivers', 'C': 'CndDeal', 'P': 'Purchase',\n",
    "    'U': 'Unknown', 'X': 'ExpansionPick', 'M': 'MinorLeague', 'L': 'Loan', 'J': 'Jump', 'A': 'Assigned', 'V': 'LeagueCtrl',\n",
    "    'Z': 'Retired', 'p': 'Purchase', np.nan: np.nan }\n",
    "\n",
    "def TransactionTimeline(tbl):\n",
    "    \n",
    "    dates = pd.to_datetime(pd.DataFrame({ \n",
    "        'year': tbl.PriDate.str[:4].astype('int'), \n",
    "        'month': tbl.PriDate.str[4:6].astype('int').combine(1,max), \n",
    "        'day': tbl.PriDate.str[6:8].astype('int').combine(1,max),\n",
    "        'minute': [ 1 ]*len(tbl.index)}))\n",
    "    \n",
    "    return pd.DataFrame({\n",
    "        'Date': dates, \n",
    "        'Event': [ tranEventType[t] for t in tbl.Type.str[0] ] \n",
    "        }).sort_values('Date')"
   ]
  },
  {
   "cell_type": "code",
   "execution_count": 28,
   "metadata": {},
   "outputs": [],
   "source": [
    "@CacheResult\n",
    "def GenTransactionTimelines(trn):\n",
    "    return trnRaw.groupby('Player').progress_apply(TransactionTimeline)"
   ]
  },
  {
   "cell_type": "code",
   "execution_count": 29,
   "metadata": {},
   "outputs": [
    {
     "data": {
      "application/vnd.jupyter.widget-view+json": {
       "model_id": "a29a97f74cd14088a6435cc3edd1fa37",
       "version_major": 2,
       "version_minor": 0
      },
      "text/plain": [
       "  0%|          | 0/18755 [00:00<?, ?it/s]"
      ]
     },
     "metadata": {},
     "output_type": "display_data"
    }
   ],
   "source": [
    "trn = GenTransactionTimelines(trnRaw,path=cachePathStr)\n",
    "trn = trn[trn.index.get_level_values(0).isin(offPlayers)]"
   ]
  },
  {
   "cell_type": "code",
   "execution_count": null,
   "metadata": {},
   "outputs": [],
   "source": []
  },
  {
   "cell_type": "markdown",
   "metadata": {},
   "source": [
    "### Process Event Files"
   ]
  },
  {
   "cell_type": "code",
   "execution_count": 63,
   "metadata": {},
   "outputs": [],
   "source": [
    "seasons = range(startSeason,endSeason+1)"
   ]
  },
  {
   "cell_type": "code",
   "execution_count": 64,
   "metadata": {},
   "outputs": [],
   "source": [
    "dataPathStr = '/Users/gmessier/data/baseball/'\n",
    "fileRegex = re.compile('EV(A|N)')\n",
    "eventFiles = []\n",
    "for season in seasons:\n",
    "    pathStr = '{}{}/'.format(dataPathStr,season)\n",
    "    allFiles = os.listdir(pathStr)\n",
    "    for x in allFiles:\n",
    "        if fileRegex.search(x):\n",
    "            eventFiles.append('{}{}'.format(pathStr,x))"
   ]
  },
  {
   "cell_type": "code",
   "execution_count": 163,
   "metadata": {},
   "outputs": [],
   "source": [
    "hitRegex = re.compile(\"^(S\\d|D\\d|T\\d|DGR|HR|HP)\"); # For now, includes being hit by a pitch.\n",
    "singleRegex = re.compile(\"^S|^HP\");\n",
    "doubleRegex = re.compile(\"^D\");\n",
    "tripleRegex = re.compile(\"^T\");\n",
    "homerunRegex = re.compile(\"^H\");\n",
    "rbiRegex = re.compile(\"-H\");\n",
    "bbRegex = re.compile(\"^(?:IW|W(?:[^P]|$))\")"
   ]
  },
  {
   "cell_type": "code",
   "execution_count": 77,
   "metadata": {},
   "outputs": [],
   "source": [
    "def ProcessOffensiveEvents(eventFileStr):\n",
    "\n",
    "    fp = open(eventFileStr)\n",
    "    rowList = []\n",
    "\n",
    "    gameStr = ''\n",
    "    topBottom = [ 'Top', 'Bottom' ]\n",
    "\n",
    "    for line in fp:\n",
    "        row = {}\n",
    "        flds = line.split(',')\n",
    "\n",
    "        if flds[0] == 'id':\n",
    "            gameStr = flds[1][0:-1]\n",
    "            dateStr = gameStr[3:7] + '-' + gameStr[7:9] + '-' + gameStr[9:11]\n",
    "            if gameStr[-1] == '0':\n",
    "                curTime = pd.to_datetime(dateStr + ' 12:00')\n",
    "            elif gameStr[-1] == '1':\n",
    "                curTime = pd.to_datetime(dateStr + ' 15:01')\n",
    "            elif gameStr[-1] == '2':\n",
    "                curTime = pd.to_datetime(dateStr + ' 18:02')\n",
    "            else:\n",
    "                sys.exit(\"ERROR: Can't handle more than a triple header.\")\n",
    "\n",
    "        if flds[0] == 'start':\n",
    "\n",
    "            entry = { 'Date': curTime, 'PlayerId': flds[1], 'Event': 'Start', 'Rbi': 0 }\n",
    "            rowList.append(entry)\n",
    "            \n",
    "        if flds[0] == 'play':\n",
    "            curTime += pd.Timedelta('1 min')\n",
    "            result = flds[6][0:-1]\n",
    "                            \n",
    "            if hitRegex.search(result):\n",
    "                entry = { 'Date': curTime, 'PlayerId': flds[3], 'Event': '', 'Rbi': len(rbiRegex.findall(result)) }\n",
    "\n",
    "                if singleRegex.search(result):\n",
    "                    entry['Event'] = '1B'\n",
    "                elif doubleRegex.search(result):\n",
    "                    entry['Event'] = '2B'\n",
    "                elif tripleRegex.search(result):\n",
    "                    entry['Event'] = '3B'\n",
    "                else:\n",
    "                    entry['Event'] = 'HR'\n",
    "\n",
    "                rowList.append(entry)\n",
    "                    \n",
    "            if bbRegex.search(result):\n",
    "                curTime += pd.Timedelta('1 min')\n",
    "                entry = { 'Date': curTime, 'PlayerId': flds[3], 'Event': 'BB', 'Rbi': len(rbiRegex.findall(result)) }\n",
    "                rowList.append(entry)\n",
    "            \n",
    "    \n",
    "    return pd.DataFrame.from_dict(rowList)    \n",
    "        "
   ]
  },
  {
   "cell_type": "code",
   "execution_count": 78,
   "metadata": {},
   "outputs": [],
   "source": [
    "#tt = ProcessOffensiveEvents('/Users/gmessier/data/baseball/2017/2017ANA.EVA')"
   ]
  },
  {
   "cell_type": "code",
   "execution_count": 79,
   "metadata": {},
   "outputs": [],
   "source": [
    "@CacheResult\n",
    "def ProcessEventFiles(files):\n",
    "    tbl = pd.DataFrame()\n",
    "    for file in tqdm(files):\n",
    "        tbl = pd.concat([ tbl, ProcessOffensiveEvents(file) ],ignore_index=True)\n",
    "    return tbl    "
   ]
  },
  {
   "cell_type": "code",
   "execution_count": 80,
   "metadata": {},
   "outputs": [
    {
     "data": {
      "application/vnd.jupyter.widget-view+json": {
       "model_id": "f467e801c0b548c0b447845985440c82",
       "version_major": 2,
       "version_minor": 0
      },
      "text/plain": [
       "  0%|          | 0/826 [00:00<?, ?it/s]"
      ]
     },
     "metadata": {},
     "output_type": "display_data"
    }
   ],
   "source": [
    "evnt = ProcessEventFiles(eventFiles,path=cachePathStr)\n",
    "evnt = evnt[evnt.PlayerId.isin(offPlayers)]"
   ]
  },
  {
   "cell_type": "markdown",
   "metadata": {},
   "source": [
    "### Offsensive Performance"
   ]
  },
  {
   "cell_type": "code",
   "execution_count": 115,
   "metadata": {},
   "outputs": [],
   "source": [
    "yhooPts = {\n",
    "    '1B': 2.6, '2B': 5.2, '3B': 7.8, 'HR': 10.4, 'R': 1.9, 'RBI': 1.9, 'BB': 2.6, 'SB': 4.2, 'HBP': 2.6\n",
    "}"
   ]
  },
  {
   "cell_type": "code",
   "execution_count": 116,
   "metadata": {},
   "outputs": [],
   "source": [
    "def TotalGamePoints(tbl):\n",
    "    points = 0\n",
    "    \n",
    "    points += sum(tbl.Event == '1B') * yhooPts['1B']\n",
    "    points += sum(tbl.Event == '2B') * yhooPts['2B']\n",
    "    points += sum(tbl.Event == '3B') * yhooPts['3B']\n",
    "    points += sum(tbl.Event == 'HR') * yhooPts['HR']\n",
    "    points += sum(tbl.Event == 'BB') * yhooPts['BB']\n",
    "\n",
    "    points += tbl.Rbi.sum() * yhooPts['RBI']\n",
    "\n",
    "    return points"
   ]
  },
  {
   "cell_type": "code",
   "execution_count": 117,
   "metadata": {},
   "outputs": [],
   "source": [
    "def PlayerGamePointTotals(tbl):\n",
    "    pts = tbl.groupby(tbl.Date.dt.date).apply(CalcGamePoints)\n",
    "    return pd.DataFrame({\n",
    "        'Date': pd.to_datetime(pts.index)+pd.Timedelta('23 hours'),\n",
    "        'Points': pts\n",
    "        })"
   ]
  },
  {
   "cell_type": "code",
   "execution_count": 119,
   "metadata": {},
   "outputs": [],
   "source": [
    "@CacheResult\n",
    "def CalcPlayerPoints(evnt):\n",
    "    return evnt.groupby('PlayerId').progress_apply(PlayerGamePointTotals)"
   ]
  },
  {
   "cell_type": "code",
   "execution_count": 130,
   "metadata": {},
   "outputs": [],
   "source": [
    "# Determines the total Yahoo points scored by each player on each of their game dates.\n",
    "playerPts = CalcPlayerPoints(evnt,path=cachePathStr)"
   ]
  },
  {
   "cell_type": "code",
   "execution_count": 132,
   "metadata": {},
   "outputs": [],
   "source": [
    "def CalcPlayerSeasonTotals(tbl):\n",
    "    return tbl.groupby(tbl.Date.dt.year).apply(lambda x: sum(x.Points))"
   ]
  },
  {
   "cell_type": "code",
   "execution_count": 138,
   "metadata": {},
   "outputs": [],
   "source": [
    "@CacheResult\n",
    "def CalcSeasonTotals(pts):\n",
    "    return pts.groupby(level=0).progress_apply(CalcPlayerSeasonTotals)"
   ]
  },
  {
   "cell_type": "code",
   "execution_count": 142,
   "metadata": {},
   "outputs": [],
   "source": [
    "# Determines the total points scored by each player in a season.\n",
    "seaTtls = CalcSeasonTotals(playerPts,path=cachePathStr)"
   ]
  },
  {
   "cell_type": "code",
   "execution_count": 158,
   "metadata": {},
   "outputs": [],
   "source": [
    "def CalcTopPlayerCutoff(tbl,cutoffFrc):\n",
    "    years = tbl.index.get_level_values(1).unique().sort_values()\n",
    "    cutoffs = []\n",
    "    for year in years:\n",
    "        nPlayers = len(tbl.loc[:,year])\n",
    "        cutoffs.append(tbl.loc[:,year].sort_values().iloc[int(nPlayers*(1-cutoffFrc))])\n",
    "    return pd.Series(cutoffs,index=years)"
   ]
  },
  {
   "cell_type": "code",
   "execution_count": 162,
   "metadata": {},
   "outputs": [],
   "source": [
    "# The cutoffs in each season to be in the top topPlayerFrc of players.\n",
    "topThsh = CalcTopPlayerCutoff(seaTtls,topPlayerFrc)"
   ]
  },
  {
   "cell_type": "code",
   "execution_count": null,
   "metadata": {},
   "outputs": [],
   "source": [
    "playerPts.groupby(level=0).progress_apply(FindTopPlayerEvents,thresholds=topThsh)"
   ]
  },
  {
   "cell_type": "code",
   "execution_count": 183,
   "metadata": {},
   "outputs": [],
   "source": [
    "def FindTopPlayerEvents(tbl,thresholds):\n",
    "    years = tbl.Date.dt.year.unique()\n",
    "    eventDates = []\n",
    "    for year in years:\n",
    "        seasn = tbl[tbl.Date.dt.year == year]\n",
    "        cumPts = seasn.Points.cumsum()\n",
    "        if cumPts.iloc[-1] > thresholds[year]:\n",
    "            eventDates.append(seasn.loc[cumPts > thresholds[year]].Date.min())\n",
    "    return pd.DataFrame({'Date': eventDates, 'Event': [ 'TopPlayer' ]*len(eventDates)})"
   ]
  },
  {
   "cell_type": "code",
   "execution_count": 189,
   "metadata": {},
   "outputs": [],
   "source": [
    "@CacheResult\n",
    "def FindTopPlayers(playerPts,thresholds):\n",
    "    return playerPts.groupby(level=0).progress_apply(FindTopPlayerEvents,thresholds=topThsh)"
   ]
  },
  {
   "cell_type": "code",
   "execution_count": 190,
   "metadata": {},
   "outputs": [
    {
     "data": {
      "application/vnd.jupyter.widget-view+json": {
       "model_id": "bcec0129e4274c1fae3eb8742662077a",
       "version_major": 2,
       "version_minor": 0
      },
      "text/plain": [
       "  0%|          | 0/874 [00:00<?, ?it/s]"
      ]
     },
     "metadata": {},
     "output_type": "display_data"
    }
   ],
   "source": [
    "topEvnt = FindTopPlayers(playerPts,topThsh,path=cachePathStr)"
   ]
  },
  {
   "cell_type": "code",
   "execution_count": null,
   "metadata": {},
   "outputs": [],
   "source": []
  },
  {
   "cell_type": "code",
   "execution_count": null,
   "metadata": {},
   "outputs": [],
   "source": []
  },
  {
   "cell_type": "markdown",
   "metadata": {},
   "source": [
    "### Merge Major Events and Transaction Events"
   ]
  },
  {
   "cell_type": "code",
   "execution_count": 245,
   "metadata": {},
   "outputs": [],
   "source": [
    "def MergeEventsPlayer(evnt,trans,topPlayer):\n",
    "    playerId = evnt.iloc[0].PlayerId\n",
    "    tbl = pd.concat([ \n",
    "        evnt.loc[evnt.Event.isin(['Start','HR'])][['Date','Event']], \n",
    "        trans.loc[playerId]\n",
    "        ],ignore_index=True)\n",
    "    \n",
    "    if playerId in topPlayer.index.get_level_values(0):\n",
    "        tbl = pd.concat([ tbl, topPlayer.loc[playerId] ],ignore_index=True)\n",
    "    \n",
    "    tbl.sort_values(by=['Date'],inplace=True,ignore_index=True)\n",
    "    return tbl"
   ]
  },
  {
   "cell_type": "code",
   "execution_count": 246,
   "metadata": {},
   "outputs": [],
   "source": [
    "#t = MergeEventsPlayer(evnt.loc[evnt.PlayerId == 'abrej003'],trn,topEvnt)"
   ]
  },
  {
   "cell_type": "code",
   "execution_count": 247,
   "metadata": {},
   "outputs": [],
   "source": [
    "@CacheResult\n",
    "def MergeEventsPlayers():\n",
    "    return evnt.groupby('PlayerId').progress_apply(MergeEventsPlayer,trans=trn,topPlayer=topEvnt)"
   ]
  },
  {
   "cell_type": "code",
   "execution_count": 248,
   "metadata": {},
   "outputs": [
    {
     "data": {
      "application/vnd.jupyter.widget-view+json": {
       "model_id": "dfb0ee522d294cc2a03c5ad5792d127e",
       "version_major": 2,
       "version_minor": 0
      },
      "text/plain": [
       "  0%|          | 0/874 [00:00<?, ?it/s]"
      ]
     },
     "metadata": {},
     "output_type": "display_data"
    }
   ],
   "source": [
    "tbl = MergeEventsPlayers(path=cachePathStr)"
   ]
  },
  {
   "cell_type": "code",
   "execution_count": 250,
   "metadata": {},
   "outputs": [
    {
     "data": {
      "text/html": [
       "<div>\n",
       "<style scoped>\n",
       "    .dataframe tbody tr th:only-of-type {\n",
       "        vertical-align: middle;\n",
       "    }\n",
       "\n",
       "    .dataframe tbody tr th {\n",
       "        vertical-align: top;\n",
       "    }\n",
       "\n",
       "    .dataframe thead th {\n",
       "        text-align: right;\n",
       "    }\n",
       "</style>\n",
       "<table border=\"1\" class=\"dataframe\">\n",
       "  <thead>\n",
       "    <tr style=\"text-align: right;\">\n",
       "      <th></th>\n",
       "      <th>Date</th>\n",
       "      <th>Event</th>\n",
       "    </tr>\n",
       "  </thead>\n",
       "  <tbody>\n",
       "    <tr>\n",
       "      <th>0</th>\n",
       "      <td>2009-06-09 00:01:00</td>\n",
       "      <td>Draft</td>\n",
       "    </tr>\n",
       "    <tr>\n",
       "      <th>1</th>\n",
       "      <td>2012-06-04 00:01:00</td>\n",
       "      <td>Draft</td>\n",
       "    </tr>\n",
       "    <tr>\n",
       "      <th>2</th>\n",
       "      <td>2013-06-12 12:00:00</td>\n",
       "      <td>Start</td>\n",
       "    </tr>\n",
       "    <tr>\n",
       "      <th>3</th>\n",
       "      <td>2013-06-14 12:00:00</td>\n",
       "      <td>Start</td>\n",
       "    </tr>\n",
       "    <tr>\n",
       "      <th>4</th>\n",
       "      <td>2013-06-14 12:53:00</td>\n",
       "      <td>HR</td>\n",
       "    </tr>\n",
       "    <tr>\n",
       "      <th>...</th>\n",
       "      <td>...</td>\n",
       "      <td>...</td>\n",
       "    </tr>\n",
       "    <tr>\n",
       "      <th>718</th>\n",
       "      <td>2019-09-12 12:00:00</td>\n",
       "      <td>Start</td>\n",
       "    </tr>\n",
       "    <tr>\n",
       "      <th>719</th>\n",
       "      <td>2019-09-15 12:00:00</td>\n",
       "      <td>Start</td>\n",
       "    </tr>\n",
       "    <tr>\n",
       "      <th>720</th>\n",
       "      <td>2019-09-22 12:00:00</td>\n",
       "      <td>Start</td>\n",
       "    </tr>\n",
       "    <tr>\n",
       "      <th>721</th>\n",
       "      <td>2019-09-29 12:00:00</td>\n",
       "      <td>Start</td>\n",
       "    </tr>\n",
       "    <tr>\n",
       "      <th>722</th>\n",
       "      <td>2020-10-30 00:01:00</td>\n",
       "      <td>FreeAgent</td>\n",
       "    </tr>\n",
       "  </tbody>\n",
       "</table>\n",
       "<p>723 rows × 2 columns</p>\n",
       "</div>"
      ],
      "text/plain": [
       "                   Date      Event\n",
       "0   2009-06-09 00:01:00      Draft\n",
       "1   2012-06-04 00:01:00      Draft\n",
       "2   2013-06-12 12:00:00      Start\n",
       "3   2013-06-14 12:00:00      Start\n",
       "4   2013-06-14 12:53:00         HR\n",
       "..                  ...        ...\n",
       "718 2019-09-12 12:00:00      Start\n",
       "719 2019-09-15 12:00:00      Start\n",
       "720 2019-09-22 12:00:00      Start\n",
       "721 2019-09-29 12:00:00      Start\n",
       "722 2020-10-30 00:01:00  FreeAgent\n",
       "\n",
       "[723 rows x 2 columns]"
      ]
     },
     "execution_count": 250,
     "metadata": {},
     "output_type": "execute_result"
    }
   ],
   "source": []
  },
  {
   "cell_type": "code",
   "execution_count": null,
   "metadata": {},
   "outputs": [],
   "source": []
  },
  {
   "cell_type": "code",
   "execution_count": 74,
   "metadata": {},
   "outputs": [],
   "source": [
    "def ExtractMajorEvents(tbl,trans):\n",
    "\n",
    "    tbl = tbl.loc[ (tbl.Event == 'Start') & (tbl.Event == 'HR') ][['Date','Event']]\n",
    "\n",
    "    pts = tbl.groupby(tbl.Date.dt.date).apply(CalcGamePoints)\n",
    "    ptsDf = pd.DataFrame({\n",
    "                'Date': pd.to_datetime(pts.index)+pd.Timedelta('23 hours'),\n",
    "                'Points': pts\n",
    "                })\n",
    "    \n",
    "    playerId = tbl.iloc[0].PlayerId\n",
    "\n",
    "    tbl = pd.concat([ evnt[['Date','Event']], trans.loc[playerId] ],ignore_index=True)\n",
    "    tbl.sort_values(by=['Date'],inplace=True,ignore_index=True)    \n",
    "    \n",
    "    \n",
    "    return tbl.columns"
   ]
  },
  {
   "cell_type": "code",
   "execution_count": 87,
   "metadata": {},
   "outputs": [],
   "source": [
    "plyr = evnt.loc[evnt.PlayerId == 'troum001']"
   ]
  },
  {
   "cell_type": "code",
   "execution_count": 90,
   "metadata": {},
   "outputs": [],
   "source": [
    "plyrH = plyr.loc[plyr.Event != 'Start']"
   ]
  },
  {
   "cell_type": "code",
   "execution_count": 99,
   "metadata": {},
   "outputs": [],
   "source": [
    "v = plyrH.groupby(plyrH.Date.dt.date).apply(CalcGamePoints)"
   ]
  },
  {
   "cell_type": "code",
   "execution_count": 105,
   "metadata": {},
   "outputs": [
    {
     "data": {
      "text/plain": [
       "Date      datetime64[ns]\n",
       "Points           float64\n",
       "dtype: object"
      ]
     },
     "execution_count": 105,
     "metadata": {},
     "output_type": "execute_result"
    }
   ],
   "source": [
    "pd.DataFrame({ 'Date': pd.to_datetime(v.index), 'Points': v }).dtypes"
   ]
  },
  {
   "cell_type": "code",
   "execution_count": 111,
   "metadata": {},
   "outputs": [
    {
     "data": {
      "text/plain": [
       "DatetimeIndex(['2011-07-09 23:00:00', '2011-07-15 23:00:00',\n",
       "               '2011-07-16 23:00:00', '2011-07-20 23:00:00',\n",
       "               '2011-07-22 23:00:00', '2011-07-24 23:00:00',\n",
       "               '2011-08-19 23:00:00', '2011-08-20 23:00:00',\n",
       "               '2011-08-21 23:00:00', '2011-08-24 23:00:00',\n",
       "               ...\n",
       "               '2019-08-21 23:00:00', '2019-08-24 23:00:00',\n",
       "               '2019-08-25 23:00:00', '2019-08-27 23:00:00',\n",
       "               '2019-08-30 23:00:00', '2019-08-31 23:00:00',\n",
       "               '2019-09-01 23:00:00', '2019-09-03 23:00:00',\n",
       "               '2019-09-05 23:00:00', '2019-09-07 23:00:00'],\n",
       "              dtype='datetime64[ns]', name='Date', length=1035, freq=None)"
      ]
     },
     "execution_count": 111,
     "metadata": {},
     "output_type": "execute_result"
    }
   ],
   "source": [
    "pd.to_datetime(v.index) + pd.Timedelta('23 hours')"
   ]
  },
  {
   "cell_type": "code",
   "execution_count": null,
   "metadata": {},
   "outputs": [],
   "source": []
  },
  {
   "cell_type": "code",
   "execution_count": null,
   "metadata": {},
   "outputs": [],
   "source": []
  },
  {
   "cell_type": "code",
   "execution_count": 86,
   "metadata": {},
   "outputs": [
    {
     "data": {
      "text/plain": [
       "12"
      ]
     },
     "execution_count": 86,
     "metadata": {},
     "output_type": "execute_result"
    }
   ],
   "source": [
    "evnt.iloc[0].Date.hour"
   ]
  },
  {
   "cell_type": "code",
   "execution_count": 12,
   "metadata": {},
   "outputs": [],
   "source": [
    "@CacheResult\n",
    "def ProcessTargetSeason():\n",
    "    tbl = pd.DataFrame()\n",
    "    for eventFile in tqdm(eventFiles):\n",
    "        tbl = tbl.append(ProcessEventFile(tgtSeasonPathStr + eventFile))\n",
    "    return tbl"
   ]
  },
  {
   "cell_type": "code",
   "execution_count": 13,
   "metadata": {},
   "outputs": [],
   "source": [
    "tgt = ProcessTargetSeason(path=cachePathStr)"
   ]
  },
  {
   "cell_type": "code",
   "execution_count": 15,
   "metadata": {},
   "outputs": [],
   "source": [
    "def OffsensiveImpact(tbl):\n",
    "    impact = 0\n",
    "    impact += sum((tbl.Event == 'Hit')&(tbl.EndBase == 1)) * yhooPts['1B']\n",
    "    impact += sum((tbl.Event == 'Hit')&(tbl.EndBase == 2)) * yhooPts['2B']\n",
    "    impact += sum((tbl.Event == 'Hit')&(tbl.EndBase == 3)) * yhooPts['3B']\n",
    "    impact += sum((tbl.Event == 'Hit')&(tbl.EndBase == 4)) * yhooPts['HR']\n",
    "    impact += sum((tbl.Event == 'Walk')) * yhooPts['BB']\n",
    "\n",
    "    impact += tbl.Rbi.sum() * yhooPts['RBI']\n",
    "    \n",
    "    return impact"
   ]
  },
  {
   "cell_type": "code",
   "execution_count": 16,
   "metadata": {},
   "outputs": [],
   "source": [
    "@CacheResult\n",
    "def CalcOffsensiveImpact():\n",
    "    return tgt.groupby('PlayerId').progress_apply(OffsensiveImpact)"
   ]
  },
  {
   "cell_type": "code",
   "execution_count": 17,
   "metadata": {},
   "outputs": [],
   "source": [
    "imp = CalcOffsensiveImpact(path=cachePathStr)\n",
    "imp = imp[imp.index.isin(offPlayers)]"
   ]
  },
  {
   "cell_type": "code",
   "execution_count": 18,
   "metadata": {},
   "outputs": [],
   "source": [
    "impPercentile = 0.1\n",
    "impPercentileRank = int(impPercentile * len(imp))\n",
    "threshold = imp.sort_values(ascending=False).iloc[impPercentileRank]\n",
    "\n",
    "playerLabel = pd.DataFrame({'Super': (imp >= threshold)},index = imp.index)"
   ]
  },
  {
   "cell_type": "code",
   "execution_count": null,
   "metadata": {},
   "outputs": [],
   "source": []
  },
  {
   "cell_type": "markdown",
   "metadata": {},
   "source": [
    "### Save Data"
   ]
  },
  {
   "cell_type": "code",
   "execution_count": 36,
   "metadata": {},
   "outputs": [],
   "source": [
    "baseballDataFileStr = '/Users/gmessier/data/baseball/2019SeasonClassification.hdf'\n",
    "tbl.to_hdf(baseballDataFileStr,key='Features',mode='w')\n",
    "playerLabel.to_hdf(baseballDataFileStr,key='Labels')"
   ]
  },
  {
   "cell_type": "code",
   "execution_count": 37,
   "metadata": {},
   "outputs": [],
   "source": [
    "label = playerLabel\n",
    "label.rename(columns={'Super': 'Acute'},inplace=True)"
   ]
  },
  {
   "cell_type": "code",
   "execution_count": 38,
   "metadata": {},
   "outputs": [],
   "source": [
    "translate = { \n",
    "    'FreeAgent': 'Referral', 'Start': 'Stay', 'HR': 'MajorEvent', \n",
    "    'Released': 'Referral', 'Draft': 'Referral', 'Trade': 'Referral',\n",
    "    'Waivers': 'Referral', 'CndDeal': 'Referral', 'Purchase': 'Referral',\n",
    "    'TopPlayer': 'AdverseOutcome'\n",
    "}"
   ]
  },
  {
   "cell_type": "code",
   "execution_count": 39,
   "metadata": {},
   "outputs": [],
   "source": [
    "tblGeneric = tbl.replace(translate)"
   ]
  },
  {
   "cell_type": "code",
   "execution_count": 40,
   "metadata": {},
   "outputs": [],
   "source": [
    "baseballDataFileStr = '/Users/gmessier/data/baseball/2019GenericClassification.hdf'\n",
    "tblGeneric.to_hdf(baseballDataFileStr,key='Features',mode='w')\n",
    "label.to_hdf(baseballDataFileStr,key='Labels')"
   ]
  },
  {
   "cell_type": "code",
   "execution_count": null,
   "metadata": {},
   "outputs": [],
   "source": []
  },
  {
   "cell_type": "markdown",
   "metadata": {},
   "source": [
    "# Unused Code\n",
    "- Start on a more wholistic retrosheet processing routine that includes positions on base."
   ]
  },
  {
   "cell_type": "code",
   "execution_count": null,
   "metadata": {},
   "outputs": [],
   "source": [
    "hitRegex = re.compile(\"^(S\\d|D\\d|T\\d|DGR|HR|HP)\"); # For now, includes being hit by a pitch.\n",
    "runRegex = re.compile(\"\\d-(?:\\d|H)\")\n",
    "stealRegex = re.compile(\"SB(?:\\d|H)\")\n",
    "singleRegex = re.compile(\"^S|^HP\");\n",
    "doubleRegex = re.compile(\"^D\");\n",
    "tripleRegex = re.compile(\"^T\");\n",
    "homerunRegex = re.compile(\"^H\");\n",
    "rbiRegex = re.compile(\"-H\");\n",
    "bbRegex = re.compile(\"^(?:IW|W(?:[^P]|$))\")\n",
    "strikeOutRegex = re.compile(\"^K\")\n",
    "errorRegex = re.compile(\"E\\d\")\n",
    "pitchRegex = re.compile(\"(B|C|F|H|I|K|L|M|N|O|P|Q|R|S|T|U|V|X|Y)\")\n",
    "fieldOutRegex = re.compile(\"^(?:\\d+(?:\\(.\\))*)+\")"
   ]
  },
  {
   "cell_type": "code",
   "execution_count": 8,
   "metadata": {},
   "outputs": [],
   "source": [
    "allFiles = os.listdir(tgtSeasonPathStr)\n",
    "fileRegex = re.compile('EV(A|N)')\n",
    "eventFiles = [ x for x in allFiles if fileRegex.search(x) ]"
   ]
  },
  {
   "cell_type": "code",
   "execution_count": 10,
   "metadata": {},
   "outputs": [],
   "source": [
    "def CreatePlayerEvent(eventType, position, playerId, teamId,\n",
    "                      pitchCount = np.nan, rbi = np.nan, startBase = np.nan, endBase = np.nan,\n",
    "                      outs = np.nan, players = np.nan, score = [ 0, 0 ]):\n",
    "     return { \n",
    "        'HomeScore': score[1],'AwayScore': score[0],\n",
    "        'PlayerId': playerId,'Position': position, \n",
    "        'PlayerTeam': teamId,'Event': eventType, \n",
    "        'PitchCount': pitchCount,'Rbi': rbi,\n",
    "        'StartBase': startBase,'EndBase': endBase,\n",
    "        'Outs': outs,'Players': players\n",
    "        }\n"
   ]
  },
  {
   "cell_type": "code",
   "execution_count": 11,
   "metadata": {},
   "outputs": [],
   "source": [
    "def ProcessEventFile(eventFileStr):\n",
    "\n",
    "    fp = open(eventFileStr)\n",
    "    rowList = []\n",
    "\n",
    "    gameStr = ''\n",
    "    topBottom = [ 'Top', 'Bottom' ]\n",
    "\n",
    "    for line in fp:\n",
    "        row = {}\n",
    "        flds = line.split(',')\n",
    "\n",
    "        if flds[0] == 'id':\n",
    "            gameStr = flds[1][0:-1]\n",
    "            score = [ 0, 0 ]\n",
    "            teams = [ '', '' ]\n",
    "\n",
    "            dateStr = gameStr[3:7] + '-' + gameStr[7:9] + '-' + gameStr[9:11]\n",
    "            if gameStr[-1] == '0':\n",
    "                curTime = pd.to_datetime(dateStr + ' 12:00')\n",
    "            elif gameStr[-1] == '1':\n",
    "                curTime = pd.to_datetime(dateStr + ' 15:01')\n",
    "            elif gameStr[-1] == '2':\n",
    "                curTime = pd.to_datetime(dateStr + ' 18:02')\n",
    "            else:\n",
    "                sys.exit(\"ERROR: Can't handle more than a triple header.\")\n",
    "\n",
    "        if flds[0] == 'info':\n",
    "            if flds[1] == 'visteam':\n",
    "                teams[0] = flds[2][0:-1]\n",
    "            if flds[1] == 'hometeam':\n",
    "                teams[1] = flds[2][0:-1]\n",
    "        \n",
    "        if flds[0] == 'play':\n",
    "        \n",
    "            atBatId = int(flds[2])\n",
    "            result = flds[6][0:-1]\n",
    "            batter = flds[3]\n",
    "            pitchCount = len(pitchRegex.findall(flds[5]))\n",
    "            \n",
    "            timeInfo = {\n",
    "                'GameId': gameStr, 'Time': curTime,\n",
    "                'HomeTeam': teams[1], 'AwayTeam': teams[0],\n",
    "                'Inning': int(flds[1]), 'TopBottom': topBottom[atBatId]\n",
    "            }\n",
    "\n",
    "            # --------- Run -----------\n",
    "            if runRegex.search(result):\n",
    "\n",
    "                for runStr in runRegex.findall(result):\n",
    "\n",
    "                    startBase = int(runStr[0])\n",
    "                    if runStr[-1] == 'H':\n",
    "                        endBase = 4\n",
    "                        score[atBatId] += 1\n",
    "                    else:\n",
    "                        endBase = int(runStr[-1])\n",
    "                        \n",
    "                    eventInfo = CreatePlayerEvent(\n",
    "                        'Run',\n",
    "                        position = 'Runner',\n",
    "                        playerId = 'TBD',  # Need to implement on base functionality.\n",
    "                        teamId = teams[atBatId],\n",
    "                        pitchCount = pitchCount,\n",
    "                        rbi = len(rbiRegex.findall(result)), \n",
    "                        endBase = endBase,\n",
    "                        score = score)\n",
    "\n",
    "                    rowList.append({ **timeInfo, **eventInfo })\n",
    "\n",
    "\n",
    "            # --------- Hit -----------\n",
    "            if hitRegex.search(result):\n",
    "\n",
    "                if singleRegex.search(result):\n",
    "                    endBase = 1\n",
    "                elif doubleRegex.search(result):\n",
    "                    endBase = 2\n",
    "                elif tripleRegex.search(result):\n",
    "                    endBase = 3\n",
    "                else:\n",
    "                    endBase = 4\n",
    "                    score[atBatId] += 1\n",
    "\n",
    "                eventInfo = CreatePlayerEvent(\n",
    "                    'Hit',\n",
    "                    position = 'Batter',\n",
    "                    playerId = batter,\n",
    "                    teamId = teams[atBatId],\n",
    "                    pitchCount = pitchCount,\n",
    "                    rbi = len(rbiRegex.findall(result)), \n",
    "                    endBase = endBase,\n",
    "                    score = score)\n",
    "\n",
    "                rowList.append({ **timeInfo, **eventInfo })\n",
    "\n",
    "            # --------- Steal -----------\n",
    "            if stealRegex.search(result):\n",
    "\n",
    "                for stealStr in stealRegex.findall(result):\n",
    "\n",
    "                    if stealStr[-1] == 'H':\n",
    "                        endBase = 4\n",
    "                        score[atBatId] += 1\n",
    "                    else:\n",
    "                        endBase = int(stealStr[-1])\n",
    "                    startBase = endBase-1\n",
    "\n",
    "                    eventInfo = CreatePlayerEvent(\n",
    "                        'Steal',\n",
    "                        position = 'Runner',\n",
    "                        playerId = 'TBD',  # Need to implement on base functionality.\n",
    "                        teamId = teams[atBatId],\n",
    "                        startBase = startBase,\n",
    "                        endBase = endBase,\n",
    "                        score = score)\n",
    "\n",
    "                    rowList.append({ **timeInfo, **eventInfo })\n",
    "\n",
    "                \n",
    "            # --------- Base on Balls -----------\n",
    "            if bbRegex.search(result):\n",
    "\n",
    "                eventInfo = CreatePlayerEvent(\n",
    "                    'Walk',\n",
    "                    position = 'Batter',\n",
    "                    playerId = batter,\n",
    "                    teamId = teams[atBatId],\n",
    "                    pitchCount = pitchCount,\n",
    "                    endBase = 1,\n",
    "                    score = score)\n",
    "\n",
    "                rowList.append({ **timeInfo, **eventInfo })\n",
    "\n",
    "            \n",
    "\n",
    "            # --------- Strike Out -----------\n",
    "            if strikeOutRegex.search(result):\n",
    "\n",
    "                eventInfo = CreatePlayerEvent(\n",
    "                    'StrikeOut',\n",
    "                    position = 'Batter',\n",
    "                    playerId = batter,\n",
    "                    teamId = teams[atBatId],\n",
    "                    pitchCount = pitchCount,\n",
    "                    score = score)\n",
    "\n",
    "                rowList.append({ **timeInfo, **eventInfo })\n",
    "\n",
    "            curTime += pd.Timedelta('6 min')\n",
    "    \n",
    "    return pd.DataFrame.from_dict(rowList) \n",
    "   "
   ]
  },
  {
   "cell_type": "code",
   "execution_count": null,
   "metadata": {},
   "outputs": [],
   "source": []
  },
  {
   "cell_type": "code",
   "execution_count": null,
   "metadata": {},
   "outputs": [],
   "source": []
  },
  {
   "cell_type": "code",
   "execution_count": null,
   "metadata": {},
   "outputs": [],
   "source": []
  },
  {
   "cell_type": "code",
   "execution_count": null,
   "metadata": {},
   "outputs": [],
   "source": []
  },
  {
   "cell_type": "code",
   "execution_count": null,
   "metadata": {},
   "outputs": [],
   "source": []
  }
 ],
 "metadata": {
  "kernelspec": {
   "display_name": "Python 3",
   "language": "python",
   "name": "python3"
  },
  "language_info": {
   "codemirror_mode": {
    "name": "ipython",
    "version": 3
   },
   "file_extension": ".py",
   "mimetype": "text/x-python",
   "name": "python",
   "nbconvert_exporter": "python",
   "pygments_lexer": "ipython3",
   "version": "3.8.7"
  }
 },
 "nbformat": 4,
 "nbformat_minor": 4
}
