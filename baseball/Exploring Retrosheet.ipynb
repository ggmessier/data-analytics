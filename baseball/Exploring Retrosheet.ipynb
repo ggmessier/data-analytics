{
 "cells": [
  {
   "cell_type": "markdown",
   "metadata": {},
   "source": [
    "# Exploring Retrosheet\n",
    "This notebook contains some routines for reading in [Retrosheet](https://retrosheet.org) data and putting it into a useable format for analysis."
   ]
  },
  {
   "cell_type": "code",
   "execution_count": 1,
   "metadata": {},
   "outputs": [],
   "source": [
    "%load_ext autoreload\n",
    "%autoreload 1"
   ]
  },
  {
   "cell_type": "code",
   "execution_count": 2,
   "metadata": {},
   "outputs": [],
   "source": [
    "import numpy as np\n",
    "import pandas as pd\n",
    "import datetime, copy, imp\n",
    "import time\n",
    "import os\n",
    "import re\n",
    "import matplotlib.pyplot as plt\n",
    "\n",
    "from tqdm.auto import tqdm, trange\n",
    "from tqdm.notebook import tqdm\n",
    "tqdm.pandas()\n",
    "\n",
    "import sys\n",
    "sys.path.insert(0, '../util/')\n",
    "\n",
    "%aimport data_cache\n",
    "from data_cache import CacheResult"
   ]
  },
  {
   "cell_type": "code",
   "execution_count": 4,
   "metadata": {},
   "outputs": [],
   "source": [
    "cachePathStr = '/Users/gmessier/data/baseball/cache/'\n",
    "dataPathStr = '/Users/gmessier/data/baseball'\n",
    "tgtSeasons = [ 2016, 2017 ]  # The seasons that define our player population.\n",
    "startSeason = 1992  # Player event start season.\n",
    "endSeason = 2019 # Player event end season.\n",
    "topPlayerFrc = 0.1 # Fraction of players to select as top performers."
   ]
  },
  {
   "cell_type": "code",
   "execution_count": null,
   "metadata": {},
   "outputs": [],
   "source": []
  },
  {
   "cell_type": "markdown",
   "metadata": {},
   "source": [
    "## File Names\n",
    "- Create arrays that contain all the roster and event files for a particular season."
   ]
  },
  {
   "cell_type": "code",
   "execution_count": null,
   "metadata": {},
   "outputs": [],
   "source": [
    "dataPathStr = '/Users/gmessier/data/baseball'\n"
   ]
  },
  {
   "cell_type": "code",
   "execution_count": null,
   "metadata": {},
   "outputs": [],
   "source": []
  },
  {
   "cell_type": "code",
   "execution_count": null,
   "metadata": {},
   "outputs": [],
   "source": []
  },
  {
   "cell_type": "markdown",
   "metadata": {},
   "source": [
    "## Player Rosters\n",
    "Read all the rosters into a single 2D array."
   ]
  },
  {
   "cell_type": "code",
   "execution_count": 5,
   "metadata": {},
   "outputs": [],
   "source": [
    "season = 2018\n",
    "teamFile = 'ANA2018.ROS'\n",
    "fileStr = f'{dataPathStr}/{season}/{teamFile}'"
   ]
  },
  {
   "cell_type": "code",
   "execution_count": 11,
   "metadata": {},
   "outputs": [],
   "source": [
    "ros = np.genfromtxt(fileStr,delimiter=',',dtype='str')"
   ]
  },
  {
   "cell_type": "code",
   "execution_count": null,
   "metadata": {},
   "outputs": [],
   "source": []
  },
  {
   "cell_type": "code",
   "execution_count": null,
   "metadata": {},
   "outputs": [],
   "source": []
  },
  {
   "cell_type": "markdown",
   "metadata": {},
   "source": [
    "## Target Player Roster\n",
    "- The player population is every non-pitcher who was playing in the target seasons."
   ]
  },
  {
   "cell_type": "code",
   "execution_count": 4,
   "metadata": {},
   "outputs": [],
   "source": [
    "rosterFiles = [] \n",
    "for tgtSeason in tgtSeasons:\n",
    "    pathStr = dataPathStr + '{}/'.format(tgtSeason)\n",
    "    allFiles = os.listdir(pathStr)\n",
    "    fileRegex = re.compile('ROS')\n",
    "    rosterFiles += [ '{}/{}'.format(tgtSeason,x) for x in allFiles if fileRegex.search(x) ]"
   ]
  },
  {
   "cell_type": "code",
   "execution_count": null,
   "metadata": {},
   "outputs": [],
   "source": []
  },
  {
   "cell_type": "code",
   "execution_count": 5,
   "metadata": {},
   "outputs": [],
   "source": [
    "@CacheResult\n",
    "def ProcessRosters(fileNames):\n",
    "    rowList = []\n",
    "    for fileName in tqdm(fileNames):    \n",
    "        file = open(dataPathStr + fileName)        \n",
    "        for line in file:\n",
    "            flds = line.split(',')\n",
    "            row = {\n",
    "                'PlayerId': flds[0],\n",
    "                'LastName': flds[1],\n",
    "                'FirstName': flds[2],\n",
    "                'Posn': flds[-1][0:-1],\n",
    "                'Team': flds[-2]\n",
    "            }\n",
    "            rowList.append(row)\n",
    "            \n",
    "        file.close()\n",
    "        \n",
    "    tbl = pd.DataFrame.from_dict(rowList)\n",
    "    \n",
    "    # Since we mainly care about position and not team, arbitrarily keep one duplicated record.\n",
    "    tbl = tbl.loc[~(tbl.PlayerId.duplicated())] \n",
    "            \n",
    "    return tbl"
   ]
  },
  {
   "cell_type": "code",
   "execution_count": 6,
   "metadata": {},
   "outputs": [],
   "source": [
    "rstr = ProcessRosters(rosterFiles,path=cachePathStr)"
   ]
  },
  {
   "cell_type": "code",
   "execution_count": 7,
   "metadata": {},
   "outputs": [],
   "source": [
    "# Do not include pitchers in the assessment of offsensive capability.\n",
    "offPlayers = rstr[rstr.Posn != 'P'].PlayerId"
   ]
  },
  {
   "cell_type": "code",
   "execution_count": null,
   "metadata": {},
   "outputs": [],
   "source": []
  },
  {
   "cell_type": "markdown",
   "metadata": {},
   "source": [
    "## Player Transactions"
   ]
  },
  {
   "cell_type": "code",
   "execution_count": 8,
   "metadata": {},
   "outputs": [],
   "source": [
    "tranFileStr = '~/data/baseball/tran/tran.txt'"
   ]
  },
  {
   "cell_type": "code",
   "execution_count": 9,
   "metadata": {},
   "outputs": [],
   "source": [
    "headers = [\n",
    "    'PriDate', 'Time', 'ApxInd', 'SecDate', 'ApxIndSec', 'TrId',\n",
    "    'Player', 'Type', 'FromTeam', 'FromLeague', 'ToTeam',\n",
    "    'ToLeague', 'DftType', 'DftRnd', 'PickNo', 'Info']\n",
    "\n",
    "types = {\n",
    "    'PriDate': 'object', 'Time': 'object', 'ApxInd': 'object', \n",
    "    'SecDate': 'object', 'ApxIndSec': 'object', 'TrId': 'object',\n",
    "    'Player': 'object', 'Type': 'object', 'FromTeam': 'object', \n",
    "    'FromLeague': 'object', 'ToTeam': 'object',\n",
    "    'ToLeague': 'object', 'DftType': 'object', 'DftRnd': 'object', \n",
    "    'PickNo': 'object', 'Info': 'object'}"
   ]
  },
  {
   "cell_type": "code",
   "execution_count": 10,
   "metadata": {},
   "outputs": [],
   "source": [
    "trnRaw = pd.read_csv(tranFileStr,sep=',',names=headers,dtype=types)"
   ]
  },
  {
   "cell_type": "code",
   "execution_count": 11,
   "metadata": {},
   "outputs": [],
   "source": [
    "tranEventType = { \n",
    "    'F': 'FreeAgent', 'R': 'Released', 'D': 'Draft', 'T': 'Trade', 'W': 'Waivers', 'C': 'CndDeal', 'P': 'Purchase',\n",
    "    'U': 'Unknown', 'X': 'ExpansionPick', 'M': 'MinorLeague', 'L': 'Loan', 'J': 'Jump', 'A': 'Assigned', 'V': 'LeagueCtrl',\n",
    "    'Z': 'Retired', 'p': 'Purchase', np.nan: np.nan }\n",
    "\n",
    "def TransactionTimeline(tbl):\n",
    "    \n",
    "    dates = pd.to_datetime(pd.DataFrame({ \n",
    "        'year': tbl.PriDate.str[:4].astype('int'), \n",
    "        'month': tbl.PriDate.str[4:6].astype('int').combine(1,max), \n",
    "        'day': tbl.PriDate.str[6:8].astype('int').combine(1,max),\n",
    "        'minute': [ 1 ]*len(tbl.index)}))\n",
    "    \n",
    "    return pd.DataFrame({\n",
    "        'Date': dates, \n",
    "        'Event': [ tranEventType[t] for t in tbl.Type.str[0] ] \n",
    "        }).sort_values('Date')"
   ]
  },
  {
   "cell_type": "code",
   "execution_count": 12,
   "metadata": {},
   "outputs": [],
   "source": [
    "@CacheResult\n",
    "def GenTransactionTimelines(trn):\n",
    "    return trnRaw.groupby('Player').progress_apply(TransactionTimeline)"
   ]
  },
  {
   "cell_type": "code",
   "execution_count": 13,
   "metadata": {},
   "outputs": [],
   "source": [
    "trn = GenTransactionTimelines(trnRaw,path=cachePathStr)\n",
    "trn = trn[trn.index.get_level_values(0).isin(offPlayers)]"
   ]
  },
  {
   "cell_type": "code",
   "execution_count": null,
   "metadata": {},
   "outputs": [],
   "source": []
  },
  {
   "cell_type": "markdown",
   "metadata": {},
   "source": [
    "## Process Event Files"
   ]
  },
  {
   "cell_type": "code",
   "execution_count": 14,
   "metadata": {},
   "outputs": [],
   "source": [
    "seasons = range(startSeason,endSeason+1)"
   ]
  },
  {
   "cell_type": "code",
   "execution_count": 15,
   "metadata": {},
   "outputs": [],
   "source": [
    "dataPathStr = '/Users/gmessier/data/baseball/'\n",
    "fileRegex = re.compile('EV(A|N)')\n",
    "eventFiles = []\n",
    "for season in seasons:\n",
    "    pathStr = '{}{}/'.format(dataPathStr,season)\n",
    "    allFiles = os.listdir(pathStr)\n",
    "    for x in allFiles:\n",
    "        if fileRegex.search(x):\n",
    "            eventFiles.append('{}{}'.format(pathStr,x))"
   ]
  },
  {
   "cell_type": "code",
   "execution_count": 16,
   "metadata": {},
   "outputs": [],
   "source": [
    "hitRegex = re.compile(\"^(S\\d|D\\d|T\\d|DGR|HR|HP)\"); # For now, includes being hit by a pitch.\n",
    "singleRegex = re.compile(\"^S|^HP\");\n",
    "doubleRegex = re.compile(\"^D\");\n",
    "tripleRegex = re.compile(\"^T\");\n",
    "homerunRegex = re.compile(\"^H\");\n",
    "rbiRegex = re.compile(\"-H\");\n",
    "bbRegex = re.compile(\"^(?:IW|W(?:[^P]|$))\")"
   ]
  },
  {
   "cell_type": "code",
   "execution_count": 17,
   "metadata": {},
   "outputs": [],
   "source": [
    "def ProcessOffensiveEvents(eventFileStr):\n",
    "\n",
    "    fp = open(eventFileStr)\n",
    "    rowList = []\n",
    "\n",
    "    gameStr = ''\n",
    "    topBottom = [ 'Top', 'Bottom' ]\n",
    "\n",
    "    for line in fp:\n",
    "        row = {}\n",
    "        flds = line.split(',')\n",
    "\n",
    "        if flds[0] == 'id':\n",
    "            gameStr = flds[1][0:-1]\n",
    "            dateStr = gameStr[3:7] + '-' + gameStr[7:9] + '-' + gameStr[9:11]\n",
    "            if gameStr[-1] == '0':\n",
    "                curTime = pd.to_datetime(dateStr + ' 12:00')\n",
    "            elif gameStr[-1] == '1':\n",
    "                curTime = pd.to_datetime(dateStr + ' 15:01')\n",
    "            elif gameStr[-1] == '2':\n",
    "                curTime = pd.to_datetime(dateStr + ' 18:02')\n",
    "            else:\n",
    "                sys.exit(\"ERROR: Can't handle more than a triple header.\")\n",
    "\n",
    "        if flds[0] == 'start':\n",
    "\n",
    "            entry = { 'Date': curTime, 'PlayerId': flds[1], 'Event': 'Start', 'Rbi': 0 }\n",
    "            rowList.append(entry)\n",
    "            \n",
    "        if flds[0] == 'play':\n",
    "            curTime += pd.Timedelta('1 min')\n",
    "            result = flds[6][0:-1]\n",
    "                            \n",
    "            if hitRegex.search(result):\n",
    "                entry = { 'Date': curTime, 'PlayerId': flds[3], 'Event': '', 'Rbi': len(rbiRegex.findall(result)) }\n",
    "\n",
    "                if singleRegex.search(result):\n",
    "                    entry['Event'] = '1B'\n",
    "                elif doubleRegex.search(result):\n",
    "                    entry['Event'] = '2B'\n",
    "                elif tripleRegex.search(result):\n",
    "                    entry['Event'] = '3B'\n",
    "                else:\n",
    "                    entry['Event'] = 'HR'\n",
    "\n",
    "                rowList.append(entry)\n",
    "                    \n",
    "            if bbRegex.search(result):\n",
    "                curTime += pd.Timedelta('1 min')\n",
    "                entry = { 'Date': curTime, 'PlayerId': flds[3], 'Event': 'BB', 'Rbi': len(rbiRegex.findall(result)) }\n",
    "                rowList.append(entry)\n",
    "            \n",
    "    \n",
    "    return pd.DataFrame.from_dict(rowList)    \n",
    "        "
   ]
  },
  {
   "cell_type": "code",
   "execution_count": 18,
   "metadata": {},
   "outputs": [],
   "source": [
    "#tt = ProcessOffensiveEvents('/Users/gmessier/data/baseball/2017/2017ANA.EVA')"
   ]
  },
  {
   "cell_type": "code",
   "execution_count": 19,
   "metadata": {},
   "outputs": [],
   "source": [
    "@CacheResult\n",
    "def ProcessEventFiles(files):\n",
    "    tbl = pd.DataFrame()\n",
    "    for file in tqdm(files):\n",
    "        tbl = pd.concat([ tbl, ProcessOffensiveEvents(file) ],ignore_index=True)\n",
    "    return tbl    "
   ]
  },
  {
   "cell_type": "code",
   "execution_count": 20,
   "metadata": {},
   "outputs": [],
   "source": [
    "evnt = ProcessEventFiles(eventFiles,path=cachePathStr)\n",
    "evnt = evnt[evnt.PlayerId.isin(offPlayers)]"
   ]
  },
  {
   "cell_type": "code",
   "execution_count": null,
   "metadata": {},
   "outputs": [],
   "source": []
  },
  {
   "cell_type": "markdown",
   "metadata": {},
   "source": [
    "## Offsensive Performance"
   ]
  },
  {
   "cell_type": "code",
   "execution_count": 21,
   "metadata": {},
   "outputs": [],
   "source": [
    "yhooPts = {\n",
    "    '1B': 2.6, '2B': 5.2, '3B': 7.8, 'HR': 10.4, 'R': 1.9, 'RBI': 1.9, 'BB': 2.6, 'SB': 4.2, 'HBP': 2.6\n",
    "}"
   ]
  },
  {
   "cell_type": "code",
   "execution_count": 22,
   "metadata": {},
   "outputs": [],
   "source": [
    "def TotalGamePoints(tbl):\n",
    "    points = 0\n",
    "    \n",
    "    points += sum(tbl.Event == '1B') * yhooPts['1B']\n",
    "    points += sum(tbl.Event == '2B') * yhooPts['2B']\n",
    "    points += sum(tbl.Event == '3B') * yhooPts['3B']\n",
    "    points += sum(tbl.Event == 'HR') * yhooPts['HR']\n",
    "    points += sum(tbl.Event == 'BB') * yhooPts['BB']\n",
    "\n",
    "    points += tbl.Rbi.sum() * yhooPts['RBI']\n",
    "\n",
    "    return points"
   ]
  },
  {
   "cell_type": "code",
   "execution_count": 23,
   "metadata": {},
   "outputs": [],
   "source": [
    "def PlayerGamePointTotals(tbl):\n",
    "    pts = tbl.groupby(tbl.Date.dt.date).apply(CalcGamePoints)\n",
    "    return pd.DataFrame({\n",
    "        'Date': pd.to_datetime(pts.index)+pd.Timedelta('23 hours'),\n",
    "        'Points': pts\n",
    "        })"
   ]
  },
  {
   "cell_type": "code",
   "execution_count": 24,
   "metadata": {},
   "outputs": [],
   "source": [
    "@CacheResult\n",
    "def CalcPlayerPoints(evnt):\n",
    "    return evnt.groupby('PlayerId').progress_apply(PlayerGamePointTotals)"
   ]
  },
  {
   "cell_type": "code",
   "execution_count": 25,
   "metadata": {},
   "outputs": [],
   "source": [
    "# Determines the total Yahoo points scored by each player on each of their game dates.\n",
    "playerPts = CalcPlayerPoints(evnt,path=cachePathStr)"
   ]
  },
  {
   "cell_type": "code",
   "execution_count": 26,
   "metadata": {},
   "outputs": [],
   "source": [
    "def CalcPlayerSeasonTotals(tbl):\n",
    "    return tbl.groupby(tbl.Date.dt.year).apply(lambda x: sum(x.Points))"
   ]
  },
  {
   "cell_type": "code",
   "execution_count": 27,
   "metadata": {},
   "outputs": [],
   "source": [
    "@CacheResult\n",
    "def CalcSeasonTotals(pts):\n",
    "    return pts.groupby(level=0).progress_apply(CalcPlayerSeasonTotals)"
   ]
  },
  {
   "cell_type": "code",
   "execution_count": 28,
   "metadata": {},
   "outputs": [],
   "source": [
    "# Determines the total points scored by each player in a season.\n",
    "seaTtls = CalcSeasonTotals(playerPts,path=cachePathStr)"
   ]
  },
  {
   "cell_type": "code",
   "execution_count": 29,
   "metadata": {},
   "outputs": [],
   "source": [
    "def CalcTopPlayerCutoff(tbl,cutoffFrc):\n",
    "    years = tbl.index.get_level_values(1).unique().sort_values()\n",
    "    cutoffs = []\n",
    "    for year in years:\n",
    "        nPlayers = len(tbl.loc[:,year])\n",
    "        cutoffs.append(tbl.loc[:,year].sort_values().iloc[int(nPlayers*(1-cutoffFrc))])\n",
    "    return pd.Series(cutoffs,index=years)"
   ]
  },
  {
   "cell_type": "code",
   "execution_count": 30,
   "metadata": {},
   "outputs": [],
   "source": [
    "# The cutoffs in each season to be in the top topPlayerFrc of players.\n",
    "topThsh = CalcTopPlayerCutoff(seaTtls,topPlayerFrc)"
   ]
  },
  {
   "cell_type": "code",
   "execution_count": null,
   "metadata": {},
   "outputs": [],
   "source": []
  },
  {
   "cell_type": "code",
   "execution_count": 31,
   "metadata": {},
   "outputs": [],
   "source": [
    "def FindTopPlayerEvents(tbl,thresholds):\n",
    "    years = tbl.Date.dt.year.unique()\n",
    "    eventDates = []\n",
    "    for year in years:\n",
    "        seasn = tbl[tbl.Date.dt.year == year]\n",
    "        cumPts = seasn.Points.cumsum()\n",
    "        if cumPts.iloc[-1] > thresholds[year]:\n",
    "            eventDates.append(seasn.loc[cumPts > thresholds[year]].Date.min())\n",
    "    return pd.DataFrame({'Date': eventDates, 'Event': [ 'TopPlayer' ]*len(eventDates)})"
   ]
  },
  {
   "cell_type": "code",
   "execution_count": 32,
   "metadata": {},
   "outputs": [],
   "source": [
    "@CacheResult\n",
    "def FindTopPlayers(playerPts,thresholds):\n",
    "    return playerPts.groupby(level=0).progress_apply(FindTopPlayerEvents,thresholds=topThsh)"
   ]
  },
  {
   "cell_type": "code",
   "execution_count": 33,
   "metadata": {},
   "outputs": [],
   "source": [
    "# Produce a time stamped table of when/if a player breaks into the top topPlayerFrc\n",
    "evntTop = FindTopPlayers(playerPts,topThsh,path=cachePathStr)"
   ]
  },
  {
   "cell_type": "code",
   "execution_count": null,
   "metadata": {},
   "outputs": [],
   "source": []
  },
  {
   "cell_type": "code",
   "execution_count": null,
   "metadata": {},
   "outputs": [],
   "source": []
  },
  {
   "cell_type": "markdown",
   "metadata": {},
   "source": [
    "## Translate Baseball Events to Medical Events"
   ]
  },
  {
   "cell_type": "code",
   "execution_count": 34,
   "metadata": {},
   "outputs": [],
   "source": [
    "def PlayerMajorEvents(tbl):\n",
    "    return tbl.loc[tbl.Event.isin(['Start','HR'])][['Date','Event']]"
   ]
  },
  {
   "cell_type": "code",
   "execution_count": 35,
   "metadata": {},
   "outputs": [],
   "source": [
    "#PlayerMajorEvents(evnt.loc[evnt.PlayerId == 'abrej003'])"
   ]
  },
  {
   "cell_type": "code",
   "execution_count": 36,
   "metadata": {},
   "outputs": [],
   "source": [
    "@CacheResult\n",
    "def MajorEvents(evnt):\n",
    "    return evnt.groupby('PlayerId').progress_apply(PlayerMajorEvents)"
   ]
  },
  {
   "cell_type": "code",
   "execution_count": 37,
   "metadata": {},
   "outputs": [],
   "source": [
    "evntMjr = MajorEvents(evnt,path=cachePathStr)"
   ]
  },
  {
   "cell_type": "code",
   "execution_count": 38,
   "metadata": {},
   "outputs": [
    {
     "data": {
      "application/vnd.jupyter.widget-view+json": {
       "model_id": "a363cdcb5f524eb38aa482636fc2e851",
       "version_major": 2,
       "version_minor": 0
      },
      "text/plain": [
       "  0%|          | 0/915 [00:00<?, ?it/s]"
      ]
     },
     "metadata": {},
     "output_type": "display_data"
    }
   ],
   "source": [
    "tbl = pd.concat([ trn, evntMjr, evntTop ])\n",
    "tbl = tbl.groupby(level=0).progress_apply(lambda x: x.sort_values(by=['Date'],ignore_index=True))"
   ]
  },
  {
   "cell_type": "code",
   "execution_count": 39,
   "metadata": {},
   "outputs": [],
   "source": [
    "translate = { \n",
    "    'FreeAgent': 'GoodTestResult', 'Start': 'Stay', 'HR': 'BadTestResult', \n",
    "    'Released': 'GoodTestResult', 'Draft': 'GoodTestResult', 'Trade': 'GoodTestResult',\n",
    "    'Waivers': 'GoodTestResult', 'CndDeal': 'GoodTestResult', 'Purchase': 'GoodTestResult',\n",
    "    'TopPlayer': 'VitalsCrash'\n",
    "}"
   ]
  },
  {
   "cell_type": "code",
   "execution_count": 40,
   "metadata": {},
   "outputs": [],
   "source": [
    "tbl.replace(translate,inplace=True)"
   ]
  },
  {
   "cell_type": "code",
   "execution_count": 42,
   "metadata": {},
   "outputs": [
    {
     "data": {
      "text/html": [
       "<div>\n",
       "<style scoped>\n",
       "    .dataframe tbody tr th:only-of-type {\n",
       "        vertical-align: middle;\n",
       "    }\n",
       "\n",
       "    .dataframe tbody tr th {\n",
       "        vertical-align: top;\n",
       "    }\n",
       "\n",
       "    .dataframe thead th {\n",
       "        text-align: right;\n",
       "    }\n",
       "</style>\n",
       "<table border=\"1\" class=\"dataframe\">\n",
       "  <thead>\n",
       "    <tr style=\"text-align: right;\">\n",
       "      <th></th>\n",
       "      <th></th>\n",
       "      <th>Date</th>\n",
       "      <th>Event</th>\n",
       "    </tr>\n",
       "    <tr>\n",
       "      <th>Player</th>\n",
       "      <th></th>\n",
       "      <th></th>\n",
       "      <th></th>\n",
       "    </tr>\n",
       "  </thead>\n",
       "  <tbody>\n",
       "    <tr>\n",
       "      <th rowspan=\"5\" valign=\"top\">abrej003</th>\n",
       "      <th>0</th>\n",
       "      <td>2013-10-29 00:01:00</td>\n",
       "      <td>GoodTestResult</td>\n",
       "    </tr>\n",
       "    <tr>\n",
       "      <th>1</th>\n",
       "      <td>2014-03-31 12:00:00</td>\n",
       "      <td>Stay</td>\n",
       "    </tr>\n",
       "    <tr>\n",
       "      <th>2</th>\n",
       "      <td>2014-04-02 12:00:00</td>\n",
       "      <td>Stay</td>\n",
       "    </tr>\n",
       "    <tr>\n",
       "      <th>3</th>\n",
       "      <td>2014-04-03 12:00:00</td>\n",
       "      <td>Stay</td>\n",
       "    </tr>\n",
       "    <tr>\n",
       "      <th>4</th>\n",
       "      <td>2014-04-04 12:00:00</td>\n",
       "      <td>Stay</td>\n",
       "    </tr>\n",
       "    <tr>\n",
       "      <th>...</th>\n",
       "      <th>...</th>\n",
       "      <td>...</td>\n",
       "      <td>...</td>\n",
       "    </tr>\n",
       "    <tr>\n",
       "      <th rowspan=\"5\" valign=\"top\">zunim001</th>\n",
       "      <th>718</th>\n",
       "      <td>2019-09-12 12:00:00</td>\n",
       "      <td>Stay</td>\n",
       "    </tr>\n",
       "    <tr>\n",
       "      <th>719</th>\n",
       "      <td>2019-09-15 12:00:00</td>\n",
       "      <td>Stay</td>\n",
       "    </tr>\n",
       "    <tr>\n",
       "      <th>720</th>\n",
       "      <td>2019-09-22 12:00:00</td>\n",
       "      <td>Stay</td>\n",
       "    </tr>\n",
       "    <tr>\n",
       "      <th>721</th>\n",
       "      <td>2019-09-29 12:00:00</td>\n",
       "      <td>Stay</td>\n",
       "    </tr>\n",
       "    <tr>\n",
       "      <th>722</th>\n",
       "      <td>2020-10-30 00:01:00</td>\n",
       "      <td>GoodTestResult</td>\n",
       "    </tr>\n",
       "  </tbody>\n",
       "</table>\n",
       "<p>452995 rows × 2 columns</p>\n",
       "</div>"
      ],
      "text/plain": [
       "                            Date           Event\n",
       "Player                                          \n",
       "abrej003 0   2013-10-29 00:01:00  GoodTestResult\n",
       "         1   2014-03-31 12:00:00            Stay\n",
       "         2   2014-04-02 12:00:00            Stay\n",
       "         3   2014-04-03 12:00:00            Stay\n",
       "         4   2014-04-04 12:00:00            Stay\n",
       "...                          ...             ...\n",
       "zunim001 718 2019-09-12 12:00:00            Stay\n",
       "         719 2019-09-15 12:00:00            Stay\n",
       "         720 2019-09-22 12:00:00            Stay\n",
       "         721 2019-09-29 12:00:00            Stay\n",
       "         722 2020-10-30 00:01:00  GoodTestResult\n",
       "\n",
       "[452995 rows x 2 columns]"
      ]
     },
     "execution_count": 42,
     "metadata": {},
     "output_type": "execute_result"
    }
   ],
   "source": [
    "tbl"
   ]
  },
  {
   "cell_type": "code",
   "execution_count": null,
   "metadata": {},
   "outputs": [],
   "source": []
  },
  {
   "cell_type": "markdown",
   "metadata": {},
   "source": [
    "## Remove the Off Season\n",
    "Redefine the dates in the table to remove the gaps created by the offseason."
   ]
  },
  {
   "cell_type": "code",
   "execution_count": 43,
   "metadata": {},
   "outputs": [
    {
     "data": {
      "text/html": [
       "<div>\n",
       "<style scoped>\n",
       "    .dataframe tbody tr th:only-of-type {\n",
       "        vertical-align: middle;\n",
       "    }\n",
       "\n",
       "    .dataframe tbody tr th {\n",
       "        vertical-align: top;\n",
       "    }\n",
       "\n",
       "    .dataframe thead th {\n",
       "        text-align: right;\n",
       "    }\n",
       "</style>\n",
       "<table border=\"1\" class=\"dataframe\">\n",
       "  <thead>\n",
       "    <tr style=\"text-align: right;\">\n",
       "      <th></th>\n",
       "      <th></th>\n",
       "      <th>Date</th>\n",
       "      <th>Event</th>\n",
       "    </tr>\n",
       "    <tr>\n",
       "      <th>Player</th>\n",
       "      <th></th>\n",
       "      <th></th>\n",
       "      <th></th>\n",
       "    </tr>\n",
       "  </thead>\n",
       "  <tbody>\n",
       "    <tr>\n",
       "      <th rowspan=\"5\" valign=\"top\">abrej003</th>\n",
       "      <th>0</th>\n",
       "      <td>2009-01-08 00:01:00</td>\n",
       "      <td>GoodTestResult</td>\n",
       "    </tr>\n",
       "    <tr>\n",
       "      <th>1</th>\n",
       "      <td>2009-06-03 00:01:00</td>\n",
       "      <td>Stay</td>\n",
       "    </tr>\n",
       "    <tr>\n",
       "      <th>2</th>\n",
       "      <td>2009-06-05 00:01:00</td>\n",
       "      <td>Stay</td>\n",
       "    </tr>\n",
       "    <tr>\n",
       "      <th>3</th>\n",
       "      <td>2009-06-06 00:01:00</td>\n",
       "      <td>Stay</td>\n",
       "    </tr>\n",
       "    <tr>\n",
       "      <th>4</th>\n",
       "      <td>2009-06-07 00:01:00</td>\n",
       "      <td>Stay</td>\n",
       "    </tr>\n",
       "    <tr>\n",
       "      <th>...</th>\n",
       "      <th>...</th>\n",
       "      <td>...</td>\n",
       "      <td>...</td>\n",
       "    </tr>\n",
       "    <tr>\n",
       "      <th rowspan=\"5\" valign=\"top\">zunim001</th>\n",
       "      <th>718</th>\n",
       "      <td>2014-10-26 00:01:00</td>\n",
       "      <td>Stay</td>\n",
       "    </tr>\n",
       "    <tr>\n",
       "      <th>719</th>\n",
       "      <td>2014-10-29 00:01:00</td>\n",
       "      <td>Stay</td>\n",
       "    </tr>\n",
       "    <tr>\n",
       "      <th>720</th>\n",
       "      <td>2014-11-05 00:01:00</td>\n",
       "      <td>Stay</td>\n",
       "    </tr>\n",
       "    <tr>\n",
       "      <th>721</th>\n",
       "      <td>2014-11-12 00:01:00</td>\n",
       "      <td>Stay</td>\n",
       "    </tr>\n",
       "    <tr>\n",
       "      <th>722</th>\n",
       "      <td>2015-12-11 00:01:00</td>\n",
       "      <td>GoodTestResult</td>\n",
       "    </tr>\n",
       "  </tbody>\n",
       "</table>\n",
       "<p>452995 rows × 2 columns</p>\n",
       "</div>"
      ],
      "text/plain": [
       "                            Date           Event\n",
       "Player                                          \n",
       "abrej003 0   2009-01-08 00:01:00  GoodTestResult\n",
       "         1   2009-06-03 00:01:00            Stay\n",
       "         2   2009-06-05 00:01:00            Stay\n",
       "         3   2009-06-06 00:01:00            Stay\n",
       "         4   2009-06-07 00:01:00            Stay\n",
       "...                          ...             ...\n",
       "zunim001 718 2014-10-26 00:01:00            Stay\n",
       "         719 2014-10-29 00:01:00            Stay\n",
       "         720 2014-11-05 00:01:00            Stay\n",
       "         721 2014-11-12 00:01:00            Stay\n",
       "         722 2015-12-11 00:01:00  GoodTestResult\n",
       "\n",
       "[452995 rows x 2 columns]"
      ]
     },
     "execution_count": 43,
     "metadata": {},
     "output_type": "execute_result"
    }
   ],
   "source": [
    "tbl.rename(columns = { 'Date': 'OrgDate' }, inplace=True)\n",
    "tbl['DayIdx'] = pd.NaT\n",
    "tbl['Date'] = pd.NaT\n",
    "\n",
    "years = np.sort(tbl.OrgDate.dt.year.unique())\n",
    "\n",
    "mxDay = 0\n",
    "for year in years:\n",
    "    iY = tbl.OrgDate.dt.year == year\n",
    "    startDate = tbl.loc[iY].OrgDate.min()\n",
    "    days = (tbl.loc[iY].OrgDate - startDate).dt.days\n",
    "        \n",
    "    tbl.loc[iY,'DayIdx'] = days + mxDay\n",
    "    \n",
    "    mxDay += days.max()\n",
    "    \n",
    "tbl['Date'] = tbl.OrgDate.min() + pd.to_timedelta(tbl.DayIdx,'D')\n",
    "    \n",
    "tbl = tbl[['Date', 'Event' ]]\n",
    "tbl\n"
   ]
  },
  {
   "cell_type": "code",
   "execution_count": null,
   "metadata": {},
   "outputs": [],
   "source": []
  },
  {
   "cell_type": "code",
   "execution_count": null,
   "metadata": {},
   "outputs": [],
   "source": []
  },
  {
   "cell_type": "markdown",
   "metadata": {},
   "source": [
    "## Save Data"
   ]
  },
  {
   "cell_type": "code",
   "execution_count": 44,
   "metadata": {},
   "outputs": [],
   "source": [
    "baseballDataFileStr = '/Users/gmessier/data/baseball/MLBHospitalData'\n",
    "tbl.to_hdf(baseballDataFileStr+'.hd5',key='Data',mode='w')\n",
    "tbl.to_csv(baseballDataFileStr+'.csv')"
   ]
  },
  {
   "cell_type": "code",
   "execution_count": null,
   "metadata": {},
   "outputs": [],
   "source": []
  },
  {
   "cell_type": "code",
   "execution_count": null,
   "metadata": {},
   "outputs": [],
   "source": []
  }
 ],
 "metadata": {
  "kernelspec": {
   "display_name": "Python 3 (ipykernel)",
   "language": "python",
   "name": "python3"
  },
  "language_info": {
   "codemirror_mode": {
    "name": "ipython",
    "version": 3
   },
   "file_extension": ".py",
   "mimetype": "text/x-python",
   "name": "python",
   "nbconvert_exporter": "python",
   "pygments_lexer": "ipython3",
   "version": "3.9.7"
  }
 },
 "nbformat": 4,
 "nbformat_minor": 4
}
