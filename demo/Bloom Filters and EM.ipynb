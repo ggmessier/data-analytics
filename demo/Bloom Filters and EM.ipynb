{
 "cells": [
  {
   "cell_type": "markdown",
   "id": "270f7eb5-8d00-4d14-8f91-10e7c2f3a9b9",
   "metadata": {},
   "source": [
    "# Bloom Filters & EM Algorithm\n",
    "+ Core Bloom filter routines.\n",
    "+ Unsupervised EM algorithm.\n",
    "+ Evaluation with hard match, Dice and Damerau Levenshtein weights.\n",
    "+ Reference: Herzog, Scheuren, Winkler, \"Data Quality and Record Linkage Techniques\", Springer, 2007."
   ]
  },
  {
   "cell_type": "code",
   "execution_count": 1,
   "id": "55ab927a-f013-4be1-a309-175f5212eb15",
   "metadata": {
    "tags": []
   },
   "outputs": [],
   "source": [
    "import pandas as pd\n",
    "import numpy as np\n",
    "import copy\n",
    "import matplotlib.pyplot as plt\n",
    "import re, math\n",
    "import hashlib\n",
    "from scipy.special import factorial\n",
    "from tqdm.auto import tqdm, trange\n",
    "from tqdm.notebook import tqdm\n",
    "tqdm.pandas()\n",
    "\n",
    "from jellyfish import damerau_levenshtein_distance\n",
    "\n",
    "import recordlinkage as rl\n",
    "from recordlinkage.datasets import load_febrl2, load_febrl4, binary_vectors\n",
    "from pandas.api.types import is_string_dtype\n",
    "\n"
   ]
  },
  {
   "cell_type": "code",
   "execution_count": null,
   "id": "e4d83ca9-9395-4d7c-b1c4-a9111823922c",
   "metadata": {},
   "outputs": [],
   "source": []
  },
  {
   "cell_type": "markdown",
   "id": "76990a1d-9946-4322-8e18-db8692b5ed8b",
   "metadata": {},
   "source": [
    "## Create Fake Data Sets\n",
    "- These tables would be the raw CSV data provided by an agency after read_csv().\n",
    "- All fields will be forced to have string type.\n",
    "- Missing entries will be loaded as NaN."
   ]
  },
  {
   "cell_type": "code",
   "execution_count": 2,
   "id": "bc504c01-acf5-4757-a9fc-69c5a120145e",
   "metadata": {},
   "outputs": [],
   "source": [
    "dfA, dfB = load_febrl4()"
   ]
  },
  {
   "cell_type": "code",
   "execution_count": 3,
   "id": "627f35d1-a65e-487a-af19-d459d5183cd2",
   "metadata": {},
   "outputs": [],
   "source": [
    "def generate_csv_table(tbl):\n",
    "    return pd.DataFrame({\n",
    "        'FirstName': tbl.given_name,\n",
    "        'LastName': tbl.surname,\n",
    "        'BirthYear': tbl.date_of_birth.str[0:4],\n",
    "        'BirthMonth': tbl.date_of_birth.str[4:6],\n",
    "        'BirthDay': tbl.date_of_birth.str[6:8]\n",
    "    }).fillna('')\n",
    "    \n",
    "    "
   ]
  },
  {
   "cell_type": "code",
   "execution_count": 4,
   "id": "2502412d-e20d-49dd-b949-30a579fa16bc",
   "metadata": {},
   "outputs": [],
   "source": [
    "pTxtA = generate_csv_table(dfA)\n",
    "pTxtB = generate_csv_table(dfB)"
   ]
  },
  {
   "cell_type": "markdown",
   "id": "1b9e8e49-4e3f-4725-ad1c-8ecddfb600c1",
   "metadata": {},
   "source": [
    "## Bloom Filter"
   ]
  },
  {
   "cell_type": "code",
   "execution_count": 5,
   "id": "4697c881-c346-4a66-9ea1-ff0bcf33de88",
   "metadata": {},
   "outputs": [],
   "source": [
    "def bloom_filter(plnTxt, salt, qGrmLen, filterLen):\n",
    "    \n",
    "    plnTxt = f'_{plnTxt}_'\n",
    "    saltStr = f'{salt:x}'\n",
    "    bloomFilter = 0\n",
    "    \n",
    "    for i in range(len(plnTxt)-qGrmLen+1):\n",
    "        byteStr = (saltStr + plnTxt[i:i+qGrmLen]).encode('utf-8','replace')\n",
    "    \n",
    "        idxMd5 = int( hashlib.md5(byteStr).hexdigest(), 16) % filterLen\n",
    "        idxSha = int( hashlib.sha256(byteStr).hexdigest(), 16) % filterLen\n",
    "        \n",
    "        bloomFilter |= 1 << idxMd5\n",
    "        bloomFilter |= 1 << idxSha\n",
    "        \n",
    "    return bloomFilter\n",
    "        "
   ]
  },
  {
   "cell_type": "code",
   "execution_count": 6,
   "id": "e981e605-06b3-479b-a00d-6e1c507122e9",
   "metadata": {},
   "outputs": [],
   "source": [
    "bloomPrms = [ \n",
    "    { 'fLen': 32, 'qLen': 2 }\n",
    "]                        "
   ]
  },
  {
   "cell_type": "code",
   "execution_count": 7,
   "id": "43912b24-3393-4899-b673-f6ef47320f1c",
   "metadata": {},
   "outputs": [],
   "source": [
    "def gen_bloom_values(tbl,salt):\n",
    "\n",
    "    def construct_row(row,salt):\n",
    "\n",
    "        bloomVals = {}\n",
    "        for bloomPrm in bloomPrms:\n",
    "            for index, val in row.items():\n",
    "                colStr = f\"{index}Bf{bloomPrm['fLen']}Q{bloomPrm['qLen']}\"\n",
    "                colVal = bloom_filter(val,salt,bloomPrm['qLen'],bloomPrm['fLen'])\n",
    "                bloomVals[colStr] = colVal\n",
    "\n",
    "        return pd.concat([ row, pd.Series(bloomVals) ])\n",
    "    \n",
    "    return tbl.apply(construct_row,salt=salt,axis=1)\n",
    "    "
   ]
  },
  {
   "cell_type": "code",
   "execution_count": 8,
   "id": "e0ee7c33-9816-4334-be81-986b03b21d9b",
   "metadata": {},
   "outputs": [],
   "source": [
    "dsetA = gen_bloom_values(pTxtA,salt=0)\n",
    "dsetB = gen_bloom_values(pTxtB,salt=0)"
   ]
  },
  {
   "cell_type": "markdown",
   "id": "05453af9-8bc1-4e9e-b488-3d00ce789e70",
   "metadata": {},
   "source": [
    "## EM Algorithm"
   ]
  },
  {
   "cell_type": "markdown",
   "id": "50ba5bab-5876-4147-a3ee-d5184e3dfb93",
   "metadata": {},
   "source": [
    "## $\\gamma$\n",
    "- This is represents the result of a hard match where $\\gamma_i^j = 1$ if the $i$th data feature matches for the $j$th record pair.\n",
    "- In general, the record pairs are created by examining the full cross product of our populations $A$ and $B$ so that $N = |A \\times B| = |A| \\times |B|$.  The number of records may be reduced if blocking is used."
   ]
  },
  {
   "cell_type": "code",
   "execution_count": 9,
   "id": "621b6238-f033-4bf6-a8cc-880e3a7a7e1c",
   "metadata": {},
   "outputs": [],
   "source": [
    "ftrCols = [ 'FirstName', 'LastName', 'BirthYear', 'BirthMonth', 'BirthDay' ]\n",
    "nFtr = len(ftrCols)  # N"
   ]
  },
  {
   "cell_type": "code",
   "execution_count": 10,
   "id": "5f13c98c-c403-48af-8487-87e1f70b7437",
   "metadata": {},
   "outputs": [],
   "source": [
    "def gen_gamma(dsetA,dsetB,ftrCols):\n",
    "\n",
    "    yearBlockRange = 5\n",
    "    \n",
    "    nRec = len(dsetA.index) * len(dsetB.index) \n",
    "    \n",
    "    gamma = np.zeros((nRec,len(ftrCols)),dtype='int8')\n",
    "    recKeys = np.empty((nRec,2),dtype='<U30')\n",
    "    \n",
    "    idxRec = 0\n",
    "    pBar = tqdm(total=nRec)\n",
    "    for idxA, rowA in dsetA.iterrows():\n",
    "        for idxB, rowB in dsetB.iterrows():\n",
    "\n",
    "            if rowA.BirthYear != '' and rowB.BirthYear != '' and np.abs(int(rowA.BirthYear) - int(rowB.BirthYear)) < yearBlockRange:\n",
    "                recKeys[idxRec,:] = [ idxA, idxB ]\n",
    "                gamma[idxRec,:] = (rowA[ftrCols] == rowB[ftrCols]).to_numpy()\n",
    "\n",
    "                idxRec += 1\n",
    "            pBar.update()\n",
    "\n",
    "    pBar.close()\n",
    "\n",
    "    return (gamma[0:idxRec,:],recKeys[0:idxRec,:])"
   ]
  },
  {
   "cell_type": "code",
   "execution_count": 11,
   "id": "d34b6e33-f6c5-4636-bc54-7b58cb698480",
   "metadata": {
    "tags": []
   },
   "outputs": [
    {
     "data": {
      "application/vnd.jupyter.widget-view+json": {
       "model_id": "f2f7d0bed5c74d818b81715a184c20d7",
       "version_major": 2,
       "version_minor": 0
      },
      "text/plain": [
       "  0%|          | 0/25000000 [00:00<?, ?it/s]"
      ]
     },
     "metadata": {},
     "output_type": "display_data"
    }
   ],
   "source": [
    "(gamma,recKeys) = gen_gamma(dsetA,dsetB,ftrCols)\n",
    "nRec = gamma.shape[0]"
   ]
  },
  {
   "cell_type": "code",
   "execution_count": 31,
   "id": "1873b2dc-adba-403c-b369-0f886dc8c622",
   "metadata": {},
   "outputs": [],
   "source": [
    "gTruth = np.empty(nRec,dtype=int)\n",
    "\n",
    "for j in range(nRec):\n",
    "    gTruth[j] = re.search('-\\d+-',recKeys[j,0])[0][1:-1] == re.search('-\\d+-',recKeys[j,1])[0][1:-1]"
   ]
  },
  {
   "cell_type": "code",
   "execution_count": null,
   "id": "beb6e692-55ef-4250-90e4-ca1f865940be",
   "metadata": {},
   "outputs": [],
   "source": []
  },
  {
   "cell_type": "markdown",
   "id": "85258ab9-0e76-4c22-bbe2-06d5ef3b1506",
   "metadata": {},
   "source": [
    "## $m$ and $u$ Probabilities\n",
    "- $m = [ m_1, \\ldots m_N ]$ where $m_i = P(\\gamma_i =1 | r_j \\in M)$.\n",
    "- $u = [ u_1, \\ldots u_N ]$ where $u_i = P(\\gamma_i =1 | r_j \\in U)$.\n",
    "- These are overall probabilities determined for all matched and unmatched records.\n",
    "- A good initial guess for $m_i$ is around 0.9.  Most records will match but a few won't due to typographic errors/intentional alterations.\n",
    "- A good initial guess for $u_i$ would be around 0.1 for names, 1/12 for birth month and 1/31 for birth day.  These are the probabilities that different people just happen to share the same field.\n"
   ]
  },
  {
   "cell_type": "code",
   "execution_count": 13,
   "id": "1bacf1d5-23d5-4c27-b4fc-09d36767fc14",
   "metadata": {},
   "outputs": [],
   "source": [
    "m = np.array([ 0.9 ]*nFtr)\n",
    "u = np.array([ 0.15 ]*nFtr)"
   ]
  },
  {
   "cell_type": "code",
   "execution_count": null,
   "id": "3c8d24d2-7003-475c-a313-5dcfd4aaba21",
   "metadata": {},
   "outputs": [],
   "source": []
  },
  {
   "cell_type": "markdown",
   "id": "2f092afe-caee-4421-8faf-ad8a5ebd99f7",
   "metadata": {},
   "source": [
    "## Membership in $M$ and $U$\n",
    "- $M$ contains all records from the comparison of $A$ and $B$ that represent the same individual.  $U$ contains the record pairs that represent different individuals.\n",
    "- The indicator function $g_j=1$ if the $j$th comparison record, $r_j \\in M$.\n",
    "- $p = |M|/N$"
   ]
  },
  {
   "cell_type": "code",
   "execution_count": 14,
   "id": "20371ccb-239b-47d7-a356-b257d99272bf",
   "metadata": {},
   "outputs": [],
   "source": [
    "p = 1/5000 # Probability of being in M"
   ]
  },
  {
   "cell_type": "code",
   "execution_count": null,
   "id": "9b6fda0b-8283-45a0-ba34-106e746c8526",
   "metadata": {},
   "outputs": [],
   "source": []
  },
  {
   "cell_type": "markdown",
   "id": "b5458a70-d269-40a7-ac88-9a5214e12563",
   "metadata": {},
   "source": [
    "## EM Algorithm\n",
    "- The EM algorithm will iteratively refine $p$, $g$, $m$ and $u$.\n",
    "- Our estimate of each indicator, $g_j$, is $p \\cdot P(\\gamma_j|r_j \\in M)/\\left[p \\cdot P(\\gamma_j|r_j \\in M) + (1-p) \\cdot P(\\gamma_j|r_j \\in U) \\right]$."
   ]
  },
  {
   "cell_type": "code",
   "execution_count": 15,
   "id": "7ad14090-fd94-484f-99ba-5bdfe5266bbd",
   "metadata": {},
   "outputs": [],
   "source": [
    "g = np.zeros(nRec)"
   ]
  },
  {
   "cell_type": "code",
   "execution_count": 16,
   "id": "948e0cad-09d4-4da1-9e7a-a92e3afd8220",
   "metadata": {},
   "outputs": [],
   "source": [
    "# Threshold for relative change in p below which the EM algorithm terminates.\n",
    "pDiffThrsh = 0.1  "
   ]
  },
  {
   "cell_type": "code",
   "execution_count": 17,
   "id": "f14aeb84-09bb-4276-9056-824e95e5e3d7",
   "metadata": {},
   "outputs": [
    {
     "name": "stdout",
     "output_type": "stream",
     "text": [
      "-- Update Weights --\n"
     ]
    },
    {
     "data": {
      "application/vnd.jupyter.widget-view+json": {
       "model_id": "dada5b56ccab462b8ef22cac2fd13258",
       "version_major": 2,
       "version_minor": 0
      },
      "text/plain": [
       "  0%|          | 0/2071742 [00:00<?, ?it/s]"
      ]
     },
     "metadata": {},
     "output_type": "display_data"
    },
    {
     "name": "stdout",
     "output_type": "stream",
     "text": [
      " New p: 0.000661646983580876, Old p: 0.0002, Rel Diff: 2.30823491790438\n",
      "\n",
      "-- Update Weights --\n"
     ]
    },
    {
     "data": {
      "application/vnd.jupyter.widget-view+json": {
       "model_id": "4b083288e29e435eab2849a57420a3d7",
       "version_major": 2,
       "version_minor": 0
      },
      "text/plain": [
       "  0%|          | 0/2071742 [00:00<?, ?it/s]"
      ]
     },
     "metadata": {},
     "output_type": "display_data"
    },
    {
     "name": "stdout",
     "output_type": "stream",
     "text": [
      " New p: 0.0017932769711960419, Old p: 0.000661646983580876, Rel Diff: 1.7103228998199485\n",
      "\n",
      "-- Update Weights --\n"
     ]
    },
    {
     "data": {
      "application/vnd.jupyter.widget-view+json": {
       "model_id": "a92dbe18ea4c44129350d65c6b20812a",
       "version_major": 2,
       "version_minor": 0
      },
      "text/plain": [
       "  0%|          | 0/2071742 [00:00<?, ?it/s]"
      ]
     },
     "metadata": {},
     "output_type": "display_data"
    },
    {
     "name": "stdout",
     "output_type": "stream",
     "text": [
      " New p: 0.002002659894344032, Old p: 0.0017932769711960419, Rel Diff: 0.11675994646177844\n",
      "\n",
      "-- Update Weights --\n"
     ]
    },
    {
     "data": {
      "application/vnd.jupyter.widget-view+json": {
       "model_id": "137fac9cf7974251ba6c844cb6a097a9",
       "version_major": 2,
       "version_minor": 0
      },
      "text/plain": [
       "  0%|          | 0/2071742 [00:00<?, ?it/s]"
      ]
     },
     "metadata": {},
     "output_type": "display_data"
    },
    {
     "name": "stdout",
     "output_type": "stream",
     "text": [
      " New p: 0.002077326973849734, Old p: 0.002002659894344032, Rel Diff: 0.03728395406358256\n",
      "\n"
     ]
    }
   ],
   "source": [
    "pOld = 1\n",
    "\n",
    "while np.abs((p-pOld)/pOld) > pDiffThrsh:\n",
    "\n",
    "    print('-- Update Weights --')\n",
    "    \n",
    "    for j in tqdm(range(nRec)):\n",
    "        pGamInM = np.prod(gamma[j,:]*m + (1-gamma[j,:])*(1-m))\n",
    "        pGamInU = np.prod(gamma[j,:]*u + (1-gamma[j,:])*(1-u))\n",
    "\n",
    "        g[j] = p*pGamInM/(p*pGamInM + (1-p)*pGamInU)\n",
    "\n",
    "    sumG = np.sum(g)\n",
    "    sumGcmp = np.sum(1-g)\n",
    "    \n",
    "    for i in range(nFtr):\n",
    "        m[i] = sum(g*gamma[:,i])/sumG\n",
    "        u[i] = sum((1-g)*gamma[:,i])/sumGcmp\n",
    "\n",
    "    pOld = p\n",
    "    p = sumG/nRec\n",
    "    \n",
    "    print(f' New p: {p}, Old p: {pOld}, Rel Diff: {np.abs((p-pOld)/pOld)}\\n')\n",
    "        \n",
    "        "
   ]
  },
  {
   "cell_type": "code",
   "execution_count": null,
   "id": "20955287-fa78-410d-b54e-15af99c42106",
   "metadata": {},
   "outputs": [],
   "source": []
  },
  {
   "cell_type": "markdown",
   "id": "73043c54-a1b8-4a8a-b1ee-f7a97463067c",
   "metadata": {},
   "source": [
    "# Hard Classification\n",
    "- Rather than use the 3 level classification system proposed by Fellegi and Sunter, take a binary maximum likelihood approach and choose either match or non-match based on which gives the maximum probability. \n",
    "- Use the log of the probabilities to simplify this calculation.\n",
    "\n",
    "$$\n",
    "\\begin{array}{rl}\n",
    "\\log P(\\gamma_j|r_j \\in M)\n",
    "& = \\log\\left[  \\prod_i m_i^{\\gamma_i^j}(1-m_i)^{1-\\gamma_i^j}  \\right] \\\\\n",
    "& = \\sum_i \\gamma_i^j \\log m_i + \\sum_i (1-\\gamma_i^j) \\log (1-m_i) \\\\\n",
    "\\end{array}\n",
    "$$\n",
    "\n",
    "\n"
   ]
  },
  {
   "cell_type": "code",
   "execution_count": 18,
   "id": "614e3b01-bd24-4d6c-8000-5d8c89c7b063",
   "metadata": {},
   "outputs": [],
   "source": [
    "logM = np.log(m)\n",
    "logMCmp = np.log(1-m)\n",
    "\n",
    "logU = np.log(u)\n",
    "logUCmp = np.log(1-u)"
   ]
  },
  {
   "cell_type": "code",
   "execution_count": 19,
   "id": "e1a83af1-f5c3-409f-b7e3-4deb1156c576",
   "metadata": {},
   "outputs": [
    {
     "data": {
      "application/vnd.jupyter.widget-view+json": {
       "model_id": "12e6eda9a0e14fb3b9404943c26b188f",
       "version_major": 2,
       "version_minor": 0
      },
      "text/plain": [
       "  0%|          | 0/2071742 [00:00<?, ?it/s]"
      ]
     },
     "metadata": {},
     "output_type": "display_data"
    }
   ],
   "source": [
    "gHatHard = np.empty(nRec,dtype=int)\n",
    "for j in tqdm(range(nRec)):\n",
    "    wM = np.sum(gamma[j,:]*logM + (1-gamma[j,:])*logMCmp)\n",
    "    wU = np.sum(gamma[j,:]*logU + (1-gamma[j,:])*logUCmp)\n",
    "    gHatHard[j] = wM > wU\n",
    "    \n",
    "    "
   ]
  },
  {
   "cell_type": "markdown",
   "id": "eaa8de44-780e-40c8-a13f-6c73f85038bb",
   "metadata": {},
   "source": [
    "### Discussion"
   ]
  },
  {
   "cell_type": "code",
   "execution_count": 20,
   "id": "279477a8-6317-4cac-8f2a-4a6d3b7bdaf8",
   "metadata": {},
   "outputs": [],
   "source": [
    "def classification_summary(gHat,gTruth):\n",
    "    tPos = np.sum(gHat*gTruth)\n",
    "    fPos = np.sum(gHat*(1-gTruth))\n",
    "    tNeg = np.sum((1-gHat)*(1-gTruth))\n",
    "    fNeg = np.sum((1-gHat)*gTruth)\n",
    "    \n",
    "    print('Confusion Matrix:')\n",
    "    print(f' True Pos: {tPos}/{tPos+fNeg}')\n",
    "    print(f' False Neg: {fNeg}/{tPos+fNeg}')\n",
    "    print(f' False Pos: {fPos}/{fPos+tNeg}')\n",
    "    print(f' True Neg: {tNeg}/{fPos+tNeg}\\n')\n",
    "    \n",
    "    print(f'Precision: {tPos/(tPos+fPos):.3f}')\n",
    "    print(f'Recall: {tPos/(tPos+fNeg):.3f}')\n"
   ]
  },
  {
   "cell_type": "code",
   "execution_count": 21,
   "id": "0c8511dd-2882-465b-a46c-f62dd93ef187",
   "metadata": {},
   "outputs": [
    {
     "name": "stdout",
     "output_type": "stream",
     "text": [
      "Confusion Matrix:\n",
      " True Pos: 4550/4586\n",
      " False Neg: 36/4586\n",
      " False Pos: 848/2067156\n",
      " True Neg: 2066308/2067156\n",
      "\n",
      "Precision: 0.843\n",
      "Recall: 0.992\n"
     ]
    }
   ],
   "source": [
    "classification_summary(gHatHard,gTruth)"
   ]
  },
  {
   "cell_type": "markdown",
   "id": "8b6751d1-6e12-4ead-bec5-bb2655013b84",
   "metadata": {},
   "source": [
    "- This particular data set has a large number of false positives.\n",
    "- Exploring the matches turn out to be individuals who have completely different names but the same birth date."
   ]
  },
  {
   "cell_type": "code",
   "execution_count": 22,
   "id": "b3b346ef-fd7c-4453-9af0-051c868d1acc",
   "metadata": {},
   "outputs": [
    {
     "data": {
      "text/plain": [
       "array([['rec-383-org', 'rec-1574-dup-0']], dtype='<U30')"
      ]
     },
     "execution_count": 22,
     "metadata": {},
     "output_type": "execute_result"
    }
   ],
   "source": [
    "idx = np.argwhere(gHatHard*(1-gTruth))\n",
    "recKeys[idx[0]]"
   ]
  },
  {
   "cell_type": "code",
   "execution_count": 23,
   "id": "b43eaeb4-9038-4abc-ab7e-e85b4a10f6b2",
   "metadata": {},
   "outputs": [
    {
     "data": {
      "text/plain": [
       "FirstName        angus\n",
       "LastName      mcgregor\n",
       "BirthYear         1917\n",
       "BirthMonth          04\n",
       "BirthDay            09\n",
       "Name: rec-383-org, dtype: object"
      ]
     },
     "execution_count": 23,
     "metadata": {},
     "output_type": "execute_result"
    }
   ],
   "source": [
    "pTxtA.loc['rec-383-org']"
   ]
  },
  {
   "cell_type": "code",
   "execution_count": 24,
   "id": "752439a8-f3f4-4ab9-869c-73603cd4597b",
   "metadata": {},
   "outputs": [
    {
     "data": {
      "text/plain": [
       "FirstName       zarran\n",
       "LastName      mcsorley\n",
       "BirthYear         1917\n",
       "BirthMonth          04\n",
       "BirthDay            09\n",
       "Name: rec-1574-dup-0, dtype: object"
      ]
     },
     "execution_count": 24,
     "metadata": {},
     "output_type": "execute_result"
    }
   ],
   "source": [
    "pTxtB.loc['rec-1574-dup-0']"
   ]
  },
  {
   "cell_type": "markdown",
   "id": "7a773d52-59b1-4977-b717-0d37fe98a1cd",
   "metadata": {},
   "source": [
    "- A large number of exact birthday matches are present in this dataset, either from deliberate lack of corruption or random matching of different individuals with the same birthdate.\n",
    "- As a result, the m probabilities reward a birthday match more than an name match and a name mismatch is penalized less.\n",
    "- The u probabilities recognize random birthday matches to a certain extent and assign a much higher value for birthday matches for two different individuals than for random name matches."
   ]
  },
  {
   "cell_type": "code",
   "execution_count": 25,
   "id": "3ddac110-ad00-42ee-87b4-4357f1ef60ea",
   "metadata": {},
   "outputs": [
    {
     "name": "stdout",
     "output_type": "stream",
     "text": [
      "  m: [0.71240888 0.70969024 0.99899548 0.99153511 0.99611169]\n",
      "1-m: [0.28759112 0.29030976 0.00100452 0.00846489 0.00388831]\n",
      "  u: [0.00408187 0.00352935 0.11465814 0.0826882  0.03252481]\n",
      "1-m: [0.99591813 0.99647065 0.88534186 0.9173118  0.96747519]\n"
     ]
    }
   ],
   "source": [
    "print(f'  m: {m}')\n",
    "print(f'1-m: {1-m}')\n",
    "print(f'  u: {u}')\n",
    "print(f'1-m: {1-u}')"
   ]
  },
  {
   "cell_type": "code",
   "execution_count": null,
   "id": "26954a02-9344-4635-8db1-70d7f46f728c",
   "metadata": {},
   "outputs": [],
   "source": []
  },
  {
   "cell_type": "markdown",
   "id": "fd0387dd-7374-4cf3-bde2-6402dd9cf1b6",
   "metadata": {},
   "source": [
    "# Soft Classification\n",
    "- Choose a metric (Levenshtein, Dice, etc.), $\\Phi$, where $0 \\leq \\Phi \\leq 1$.\n",
    "- Let $w_{a,i} = \\log(m_i/u_i)$ be the maximum *agreement weight*.\n",
    "- Let $w_{d,i} = \\log((1-m_i)/(1-u_i))$ be the maximum *disagreement weight*.\n",
    "- The decision weight for feature $i$ is $\\max[w_{a,i} - (w_{a_i}-w_{d,i})\\Phi_i\\alpha_i,w_{d,i}]$, where $\\alpha_i$ is a constant controlling how quickly the decision weight decays with $\\Phi_i$.\n",
    "- The decision weights are summed and compared to a zero threshold.\n"
   ]
  },
  {
   "cell_type": "code",
   "execution_count": 26,
   "id": "db32e8d1-4268-40f7-a22c-fc563bd08fbc",
   "metadata": {},
   "outputs": [],
   "source": [
    "logM = np.log(m)\n",
    "logMCmp = np.log(1-m)\n",
    "\n",
    "logU = np.log(u)\n",
    "logUCmp = np.log(1-u)\n",
    "\n",
    "wa = logM-logU\n",
    "wd = logMCmp - logUCmp"
   ]
  },
  {
   "cell_type": "code",
   "execution_count": 27,
   "id": "32ac7692-e326-4445-820d-18618c27889e",
   "metadata": {},
   "outputs": [],
   "source": [
    "def dice(bf1, bf2):\n",
    "    return 2 * bin(bf1 & bf2).count(\"1\") / ( bin(bf1).count(\"1\") + bin(bf2).count(\"1\") )"
   ]
  },
  {
   "cell_type": "code",
   "execution_count": 28,
   "id": "779760f1-6d9f-4c4d-b2e3-c7971cf6ebbd",
   "metadata": {},
   "outputs": [],
   "source": [
    "def norm_damleven(str1,str2):\n",
    "    return 1 - damerau_levenshtein_distance(str1, str2) / np.max([len(str1), len(str2), 1])"
   ]
  },
  {
   "cell_type": "code",
   "execution_count": 29,
   "id": "8a7da6b0-141a-47c0-9911-71b3040a4e18",
   "metadata": {},
   "outputs": [],
   "source": [
    "ftrColsPTxt = [ 'FirstName', 'LastName', 'BirthYear', 'BirthMonth', 'BirthDay' ]\n",
    "ftrColsBloom = [ 'FirstNameBf32Q2', 'LastNameBf32Q2', 'BirthYearBf32Q2', 'BirthMonthBf32Q2', 'BirthDayBf32Q2' ]"
   ]
  },
  {
   "cell_type": "code",
   "execution_count": 32,
   "id": "b31509b4-7b8f-4d68-8ffb-b10af9ee07e5",
   "metadata": {},
   "outputs": [],
   "source": [
    "def soft_link(recKeys,ftrCols,alpha,phiFunc,dsetA,dsetB):\n",
    "\n",
    "    nFtr = len(ftrCols)\n",
    "    phi = np.zeros(nFtr)\n",
    "    nRec = len(recKeys)\n",
    "\n",
    "    gHat = np.empty(nRec,dtype=int)\n",
    "    for j in tqdm(range(nRec)):\n",
    "\n",
    "        idxA = recKeys[j,0]\n",
    "        idxB = recKeys[j,1]\n",
    "        \n",
    "        for i in range(nFtr):\n",
    "            phi[i] = phiFunc(dsetA.loc[idxA,ftrCols[i]],dsetB.loc[idxB,ftrCols[i]])\n",
    "\n",
    "        w = np.sum(np.max(np.array([ wa - (wa-wd)*(1-phi)*alpha, wd ]),axis=0))\n",
    "        gHat[j] = w > 0\n",
    "        \n",
    "    return gHat\n"
   ]
  },
  {
   "cell_type": "code",
   "execution_count": 33,
   "id": "f828f4d3-5f91-49a2-a6ff-581febffefdf",
   "metadata": {},
   "outputs": [
    {
     "data": {
      "application/vnd.jupyter.widget-view+json": {
       "model_id": "488b9e520b074b4a9539d384cf14b002",
       "version_major": 2,
       "version_minor": 0
      },
      "text/plain": [
       "  0%|          | 0/2071742 [00:00<?, ?it/s]"
      ]
     },
     "metadata": {},
     "output_type": "display_data"
    }
   ],
   "source": [
    "alpha = np.array([4.5]*5)\n",
    "gHatPTxt = soft_link(recKeys,ftrColsPTxt,alpha,norm_damleven,dsetA,dsetB)"
   ]
  },
  {
   "cell_type": "code",
   "execution_count": 34,
   "id": "2c07e18b-59f5-4d5a-bbd2-0dc54431073f",
   "metadata": {},
   "outputs": [
    {
     "name": "stdout",
     "output_type": "stream",
     "text": [
      "Confusion Matrix:\n",
      " True Pos: 4551/4586\n",
      " False Neg: 35/4586\n",
      " False Pos: 855/2067156\n",
      " True Neg: 2066301/2067156\n",
      "\n",
      "Precision: 0.842\n",
      "Recall: 0.992\n"
     ]
    }
   ],
   "source": [
    "classification_summary(gHatPTxt,gTruth)"
   ]
  },
  {
   "cell_type": "code",
   "execution_count": null,
   "id": "47323f80-5674-4bd0-ba80-26471346dc44",
   "metadata": {},
   "outputs": [],
   "source": []
  },
  {
   "cell_type": "code",
   "execution_count": 35,
   "id": "db671081-9684-4276-a64c-4ec985d13f00",
   "metadata": {},
   "outputs": [
    {
     "data": {
      "application/vnd.jupyter.widget-view+json": {
       "model_id": "a81b326428da4458800d25f560c23fda",
       "version_major": 2,
       "version_minor": 0
      },
      "text/plain": [
       "  0%|          | 0/2071742 [00:00<?, ?it/s]"
      ]
     },
     "metadata": {},
     "output_type": "display_data"
    }
   ],
   "source": [
    "gHatBloom = soft_link(recKeys,ftrColsBloom,alpha,dice,dsetA,dsetB)"
   ]
  },
  {
   "cell_type": "code",
   "execution_count": 36,
   "id": "e8f37952-25b3-4d16-ab36-5d45d6f2cca8",
   "metadata": {},
   "outputs": [
    {
     "name": "stdout",
     "output_type": "stream",
     "text": [
      "Confusion Matrix:\n",
      " True Pos: 4553/4586\n",
      " False Neg: 33/4586\n",
      " False Pos: 1015/2067156\n",
      " True Neg: 2066141/2067156\n",
      "\n",
      "Precision: 0.818\n",
      "Recall: 0.993\n"
     ]
    }
   ],
   "source": [
    "classification_summary(gHatBloom,gTruth)"
   ]
  },
  {
   "cell_type": "code",
   "execution_count": null,
   "id": "cc21d6f5-7234-4c2b-a2ff-40465dd0a9ba",
   "metadata": {},
   "outputs": [],
   "source": []
  },
  {
   "cell_type": "code",
   "execution_count": 37,
   "id": "ed8971c2-190d-48d5-9798-94fa17d18729",
   "metadata": {},
   "outputs": [],
   "source": [
    "def presentation_summary(gHat,gTruth):\n",
    "    tPos = np.sum(gHat*gTruth)\n",
    "    fPos = np.sum(gHat*(1-gTruth))\n",
    "    tNeg = np.sum((1-gHat)*(1-gTruth))\n",
    "    fNeg = np.sum((1-gHat)*gTruth)\n",
    "    nRec = len(gHat)\n",
    "        \n",
    "    print(f'      Accuracy: {(tPos+tNeg)/nRec*100:.3f}%')\n",
    "    print(f'     Precision: {tPos/(tPos+fPos)*100:.2f}%')\n",
    "    print(f'   Sensitivity: {tPos/(tPos+fNeg)*100:.3f}%\\n')\n",
    "        \n",
    "    print(f'      Correct Links: {tPos}')\n",
    "    print(f'    Incorrect Links: {fPos}')\n",
    "    print(f'       Missed Links: {fNeg}')\n",
    "    print(f'  Correct Non-Links: {tNeg}\\n')\n",
    "    \n",
    "    print(f'Number of Comparisons: {nRec}')\n",
    "\n",
    "    "
   ]
  },
  {
   "cell_type": "code",
   "execution_count": 38,
   "id": "801d12d4-fc23-482c-8a01-5948ba74da30",
   "metadata": {},
   "outputs": [
    {
     "name": "stdout",
     "output_type": "stream",
     "text": [
      "      Accuracy: 99.957%\n",
      "     Precision: 84.18%\n",
      "   Sensitivity: 99.237%\n",
      "\n",
      "      Correct Links: 4551\n",
      "    Incorrect Links: 855\n",
      "       Missed Links: 35\n",
      "  Correct Non-Links: 2066301\n",
      "\n",
      "Number of Comparisons: 2071742\n"
     ]
    }
   ],
   "source": [
    "presentation_summary(gHatPTxt,gTruth)"
   ]
  },
  {
   "cell_type": "code",
   "execution_count": 39,
   "id": "946dfcb1-9886-4ae5-88d3-4c9dc8a8edcc",
   "metadata": {},
   "outputs": [
    {
     "name": "stdout",
     "output_type": "stream",
     "text": [
      "      Accuracy: 99.949%\n",
      "     Precision: 81.77%\n",
      "   Sensitivity: 99.280%\n",
      "\n",
      "      Correct Links: 4553\n",
      "    Incorrect Links: 1015\n",
      "       Missed Links: 33\n",
      "  Correct Non-Links: 2066141\n",
      "\n",
      "Number of Comparisons: 2071742\n"
     ]
    }
   ],
   "source": [
    "presentation_summary(gHatBloom,gTruth)"
   ]
  },
  {
   "cell_type": "code",
   "execution_count": null,
   "id": "538f7eec-4a93-4de1-8963-cfdcbddefd6b",
   "metadata": {},
   "outputs": [],
   "source": []
  },
  {
   "cell_type": "code",
   "execution_count": null,
   "id": "b71ece3e-0aa8-4d36-abb0-0990e42ba441",
   "metadata": {},
   "outputs": [],
   "source": []
  }
 ],
 "metadata": {
  "kernelspec": {
   "display_name": "Python 3 (ipykernel)",
   "language": "python",
   "name": "python3"
  },
  "language_info": {
   "codemirror_mode": {
    "name": "ipython",
    "version": 3
   },
   "file_extension": ".py",
   "mimetype": "text/x-python",
   "name": "python",
   "nbconvert_exporter": "python",
   "pygments_lexer": "ipython3",
   "version": "3.9.7"
  }
 },
 "nbformat": 4,
 "nbformat_minor": 5
}
