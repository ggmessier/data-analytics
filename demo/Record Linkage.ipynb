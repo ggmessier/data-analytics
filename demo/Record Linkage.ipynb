{
 "cells": [
  {
   "cell_type": "markdown",
   "metadata": {},
   "source": [
    "# Record Linkage\n",
    "A demo of the excellent [Record Linkage](https://recordlinkage.readthedocs.io/en/latest/) toolkit specific to the challenges expected when merging health, police and emergency shelter data."
   ]
  },
  {
   "cell_type": "code",
   "execution_count": 236,
   "metadata": {},
   "outputs": [],
   "source": [
    "import pandas as pd\n",
    "import numpy as np\n",
    "import re\n",
    "\n",
    "from tqdm.auto import tqdm, trange\n",
    "from tqdm.notebook import tqdm\n",
    "tqdm.pandas()\n",
    "\n",
    "from sklearn.linear_model import LogisticRegression\n",
    "from sklearn.model_selection import StratifiedKFold\n",
    "\n",
    "import recordlinkage as rl\n",
    "from recordlinkage.datasets import load_febrl2, load_febrl4, binary_vectors\n",
    "from recordlinkage.index import Block, Full, Random\n",
    "from recordlinkage.base import BaseIndexAlgorithm"
   ]
  },
  {
   "cell_type": "markdown",
   "metadata": {},
   "source": [
    "## Databases"
   ]
  },
  {
   "cell_type": "markdown",
   "metadata": {},
   "source": [
    "- Freely Extensible Biomedical Record Linkage (Febrl) datasets.\n",
    "- `febrl4` contains two tables, A and B, with 5000 entries.\n",
    "- Table A has the original records and Table B contains duplicates.\n",
    "- Used to test merging two datasets."
   ]
  },
  {
   "cell_type": "code",
   "execution_count": 107,
   "metadata": {},
   "outputs": [],
   "source": [
    "dfA, dfB = load_febrl4()"
   ]
  },
  {
   "cell_type": "code",
   "execution_count": 220,
   "metadata": {},
   "outputs": [
    {
     "data": {
      "text/plain": [
       "given_name               emma\n",
       "surname                  geue\n",
       "street_number            1220\n",
       "address_1        rumker place\n",
       "address_2          milbrodale\n",
       "suburb                woodend\n",
       "postcode                 2429\n",
       "state                     nsw\n",
       "date_of_birth        19941224\n",
       "soc_sec_id            3886398\n",
       "Name: rec-712-org, dtype: object"
      ]
     },
     "execution_count": 220,
     "metadata": {},
     "output_type": "execute_result"
    }
   ],
   "source": [
    "dfA.loc['rec-712-org']"
   ]
  },
  {
   "cell_type": "code",
   "execution_count": 222,
   "metadata": {},
   "outputs": [
    {
     "data": {
      "text/plain": [
       "given_name               emam\n",
       "surname                  geue\n",
       "street_number            1220\n",
       "address_1        rumker place\n",
       "address_2          milbrodale\n",
       "suburb                woodend\n",
       "postcode                 2429\n",
       "state                     nsw\n",
       "date_of_birth        19941224\n",
       "soc_sec_id            3886398\n",
       "Name: rec-712-dup-0, dtype: object"
      ]
     },
     "execution_count": 222,
     "metadata": {},
     "output_type": "execute_result"
    }
   ],
   "source": [
    "dfB.loc['rec-712-dup-0']"
   ]
  },
  {
   "cell_type": "markdown",
   "metadata": {},
   "source": [
    "## Indexing"
   ]
  },
  {
   "cell_type": "markdown",
   "metadata": {},
   "source": [
    "- These utilities determine which records should be compared with which other records.\n",
    "- If we're linking two datasets, A and B, every record from A should be compared with B.\n",
    "- If we're looking for redundancies in a single dataset, A, each record in A should be compared with all the records with higher index values.\n",
    "\n",
    "#### Algorithms\n",
    "- **Full:** Pulls out all possible indices.\n",
    "  + Desirable but something to think about.  If AHS has 200,000 individuals and CPS has 5,000 individuals, we have a billion comparisons to do.  Possible but not on laptops or windows PCs.\n",
    "- **Block:** Create pairs that agree on one or more variables (ie. if we only expected variation in first names, we could compare only those records that matched on last name)."
   ]
  },
  {
   "cell_type": "markdown",
   "metadata": {},
   "source": [
    "#### Birth Year Blocking\n",
    "- Full indexing for this dataset would be 25e6 entries.  \n",
    "- Block to compare only those records with birth years within 5 years of each other."
   ]
  },
  {
   "cell_type": "code",
   "execution_count": 137,
   "metadata": {},
   "outputs": [],
   "source": [
    "class BirthYearBlocking(BaseIndexAlgorithm):\n",
    "    \"\"\"Block index based birth years.\"\"\"\n",
    "\n",
    "    def __init__(self,maxYearDiff):\n",
    "        self.maxYearDiff = maxYearDiff\n",
    "        super().__init__()\n",
    "    \n",
    "    \n",
    "    def _link_index(self, df_a, df_b):\n",
    "        \"\"\"Pair records with birth years within self.maxYearDiff of each other.\"\"\"\n",
    "        \n",
    "        birthYearA = df_a['date_of_birth'].str[:4].astype(float)\n",
    "        birthYearB = df_b['date_of_birth'].str[:4].astype(float)\n",
    "\n",
    "        tBar = tqdm(total = len(birthYearA)*len(birthYearB))\n",
    "        tuples = []\n",
    "        for idxA, valA in birthYearA.items():\n",
    "            for idxB, valB in birthYearB.items():\n",
    "                if np.abs(valA-valB) <= self.maxYearDiff:\n",
    "                    tuples += [ (idxA,idxB) ]\n",
    "                tBar.update()\n",
    "\n",
    "        tBar.close()\n",
    "\n",
    "        return pd.MultiIndex.from_tuples(tuples,names=[ df_a.index.name+'_A', df_b.index.name+'_B' ])\n",
    "\n"
   ]
  },
  {
   "cell_type": "code",
   "execution_count": 225,
   "metadata": {},
   "outputs": [
    {
     "data": {
      "application/vnd.jupyter.widget-view+json": {
       "model_id": "bac23d8a4ae94ed7be5eeee43af2c580",
       "version_major": 2,
       "version_minor": 0
      },
      "text/plain": [
       "  0%|          | 0/25000000 [00:00<?, ?it/s]"
      ]
     },
     "metadata": {},
     "output_type": "display_data"
    }
   ],
   "source": [
    "indexerBlock = BirthYearBlocking(maxYearDiff=5)\n",
    "pairsBlock = indexerBlock.index(dfA,dfB)"
   ]
  },
  {
   "cell_type": "code",
   "execution_count": 227,
   "metadata": {},
   "outputs": [
    {
     "name": "stdout",
     "output_type": "stream",
     "text": [
      "WARNING:recordlinkage:indexing - performance warning - A full index can result in large number of record pairs.\n",
      "WARNING:recordlinkage:indexing - performance warning - A full index can result in large number of record pairs.\n"
     ]
    }
   ],
   "source": [
    "indexerFull = rl.Index()\n",
    "indexerFull.add(Full())\n",
    "indexerFull.add(Full())\n",
    "pairsFull = indexerFull.index(dfA,dfB)"
   ]
  },
  {
   "cell_type": "code",
   "execution_count": null,
   "metadata": {},
   "outputs": [],
   "source": []
  },
  {
   "cell_type": "markdown",
   "metadata": {},
   "source": [
    "## Comparison"
   ]
  },
  {
   "cell_type": "markdown",
   "metadata": {},
   "source": [
    "- It's possible to compare each field in the databases using different methods (ie. exact matches, string distance metrics, etc.).\n",
    "- The available metrics are from the jellyfish string matching library.  They include Levenshtein, Jaro-Winkler, etc."
   ]
  },
  {
   "cell_type": "code",
   "execution_count": 231,
   "metadata": {},
   "outputs": [
    {
     "name": "stdout",
     "output_type": "stream",
     "text": [
      "CPU times: user 2.53 s, sys: 1.68 s, total: 4.21 s\n",
      "Wall time: 1min 1s\n"
     ]
    }
   ],
   "source": [
    "%%time\n",
    "comparer = rl.Compare(n_jobs=-1)\n",
    "\n",
    "comparer.string('given_name', 'given_name', method='damerau_levenshtein', label='given_name')\n",
    "comparer.string('surname', 'surname', method='damerau_levenshtein', label='surname')\n",
    "comparer.string('date_of_birth', 'date_of_birth', method='damerau_levenshtein', label='date_of_birth')\n",
    "\n",
    "metricTbl = comparer.compute(pairsFull, dfA, dfB)"
   ]
  },
  {
   "cell_type": "code",
   "execution_count": 186,
   "metadata": {},
   "outputs": [
    {
     "data": {
      "text/html": [
       "<div>\n",
       "<style scoped>\n",
       "    .dataframe tbody tr th:only-of-type {\n",
       "        vertical-align: middle;\n",
       "    }\n",
       "\n",
       "    .dataframe tbody tr th {\n",
       "        vertical-align: top;\n",
       "    }\n",
       "\n",
       "    .dataframe thead th {\n",
       "        text-align: right;\n",
       "    }\n",
       "</style>\n",
       "<table border=\"1\" class=\"dataframe\">\n",
       "  <thead>\n",
       "    <tr style=\"text-align: right;\">\n",
       "      <th></th>\n",
       "      <th></th>\n",
       "      <th>given_name</th>\n",
       "      <th>surname</th>\n",
       "      <th>date_of_birth</th>\n",
       "    </tr>\n",
       "    <tr>\n",
       "      <th>rec_id_1</th>\n",
       "      <th>rec_id_2</th>\n",
       "      <th></th>\n",
       "      <th></th>\n",
       "      <th></th>\n",
       "    </tr>\n",
       "  </thead>\n",
       "  <tbody>\n",
       "    <tr>\n",
       "      <th rowspan=\"5\" valign=\"top\">rec-1070-org</th>\n",
       "      <th>rec-825-dup-0</th>\n",
       "      <td>0.375000</td>\n",
       "      <td>0.000000</td>\n",
       "      <td>0.500</td>\n",
       "    </tr>\n",
       "    <tr>\n",
       "      <th>rec-3156-dup-0</th>\n",
       "      <td>0.125000</td>\n",
       "      <td>0.285714</td>\n",
       "      <td>0.375</td>\n",
       "    </tr>\n",
       "    <tr>\n",
       "      <th>rec-2852-dup-0</th>\n",
       "      <td>0.375000</td>\n",
       "      <td>0.142857</td>\n",
       "      <td>0.375</td>\n",
       "    </tr>\n",
       "    <tr>\n",
       "      <th>rec-3040-dup-0</th>\n",
       "      <td>0.125000</td>\n",
       "      <td>0.142857</td>\n",
       "      <td>0.375</td>\n",
       "    </tr>\n",
       "    <tr>\n",
       "      <th>rec-4799-dup-0</th>\n",
       "      <td>0.250000</td>\n",
       "      <td>0.285714</td>\n",
       "      <td>0.625</td>\n",
       "    </tr>\n",
       "    <tr>\n",
       "      <th>...</th>\n",
       "      <th>...</th>\n",
       "      <td>...</td>\n",
       "      <td>...</td>\n",
       "      <td>...</td>\n",
       "    </tr>\n",
       "    <tr>\n",
       "      <th rowspan=\"5\" valign=\"top\">rec-66-org</th>\n",
       "      <th>rec-2020-dup-0</th>\n",
       "      <td>0.400000</td>\n",
       "      <td>0.111111</td>\n",
       "      <td>0.500</td>\n",
       "    </tr>\n",
       "    <tr>\n",
       "      <th>rec-2062-dup-0</th>\n",
       "      <td>0.200000</td>\n",
       "      <td>0.222222</td>\n",
       "      <td>0.500</td>\n",
       "    </tr>\n",
       "    <tr>\n",
       "      <th>rec-2281-dup-0</th>\n",
       "      <td>0.166667</td>\n",
       "      <td>0.111111</td>\n",
       "      <td>0.625</td>\n",
       "    </tr>\n",
       "    <tr>\n",
       "      <th>rec-3152-dup-0</th>\n",
       "      <td>0.000000</td>\n",
       "      <td>0.222222</td>\n",
       "      <td>0.250</td>\n",
       "    </tr>\n",
       "    <tr>\n",
       "      <th>rec-3131-dup-0</th>\n",
       "      <td>0.166667</td>\n",
       "      <td>0.000000</td>\n",
       "      <td>0.500</td>\n",
       "    </tr>\n",
       "  </tbody>\n",
       "</table>\n",
       "<p>2515557 rows × 3 columns</p>\n",
       "</div>"
      ],
      "text/plain": [
       "                             given_name   surname  date_of_birth\n",
       "rec_id_1     rec_id_2                                           \n",
       "rec-1070-org rec-825-dup-0     0.375000  0.000000          0.500\n",
       "             rec-3156-dup-0    0.125000  0.285714          0.375\n",
       "             rec-2852-dup-0    0.375000  0.142857          0.375\n",
       "             rec-3040-dup-0    0.125000  0.142857          0.375\n",
       "             rec-4799-dup-0    0.250000  0.285714          0.625\n",
       "...                                 ...       ...            ...\n",
       "rec-66-org   rec-2020-dup-0    0.400000  0.111111          0.500\n",
       "             rec-2062-dup-0    0.200000  0.222222          0.500\n",
       "             rec-2281-dup-0    0.166667  0.111111          0.625\n",
       "             rec-3152-dup-0    0.000000  0.222222          0.250\n",
       "             rec-3131-dup-0    0.166667  0.000000          0.500\n",
       "\n",
       "[2515557 rows x 3 columns]"
      ]
     },
     "execution_count": 186,
     "metadata": {},
     "output_type": "execute_result"
    }
   ],
   "source": [
    "metricTbl"
   ]
  },
  {
   "cell_type": "markdown",
   "metadata": {},
   "source": [
    "## Classification"
   ]
  },
  {
   "cell_type": "markdown",
   "metadata": {},
   "source": [
    "- Ideally, we would have a known set of matches (ie. manually matched, linked with health card numbers, etc.).  Supervised learning algorithms can be applied in this case."
   ]
  },
  {
   "cell_type": "code",
   "execution_count": 204,
   "metadata": {
    "tags": []
   },
   "outputs": [],
   "source": [
    "# Normalize data features.\n",
    "metrics = metricTbl.to_numpy()\n",
    "for r in range(metrics.shape[1]):\n",
    "    metrics[:,r] *= (metrics[:,r] - np.mean(metrics[:,r]))/np.sqrt(np.var(metrics[:,r]))"
   ]
  },
  {
   "cell_type": "code",
   "execution_count": 188,
   "metadata": {},
   "outputs": [],
   "source": [
    "# Create list of confirmed matches.\n",
    "pat = r'rec-\\d+'\n",
    "match = np.zeros(len(metricTbl.index))\n",
    "iMatch = 0\n",
    "\n",
    "for keys in list(metricTbl.index):\n",
    "    \n",
    "    matchA = re.search(pat,keys[0])\n",
    "    matchB = re.search(pat,keys[1])\n",
    "    \n",
    "    match[iMatch] = 1*( matchA.group(0) == matchB.group(0) )\n",
    "    iMatch += 1"
   ]
  },
  {
   "cell_type": "code",
   "execution_count": 205,
   "metadata": {},
   "outputs": [],
   "source": [
    "# Utilize logistic regression to match records.\n",
    "lr = LogisticRegression()"
   ]
  },
  {
   "cell_type": "code",
   "execution_count": 242,
   "metadata": {},
   "outputs": [],
   "source": [
    "# Determines confusion matrix\n",
    "def calc_confusion_matrix(hat,labels):\n",
    "    \n",
    "    tPos = int( np.sum(hat * labels) )\n",
    "    fPos = int( np.sum(hat * (1-labels)) )\n",
    "    pos = int( np.sum(labels) )\n",
    "    neg = len(labels) - pos\n",
    "    fNeg = pos - tPos\n",
    "    tNeg = neg - fPos\n",
    "\n",
    "    return np.array([ [ tPos, fNeg ], [ fPos, tNeg ] ])  \n",
    "    "
   ]
  },
  {
   "cell_type": "code",
   "execution_count": 246,
   "metadata": {},
   "outputs": [
    {
     "data": {
      "application/vnd.jupyter.widget-view+json": {
       "model_id": "302fe8384a5a4f858e1b8a96dae6ba3f",
       "version_major": 2,
       "version_minor": 0
      },
      "text/plain": [
       "  0%|          | 0/10 [00:00<?, ?it/s]"
      ]
     },
     "metadata": {},
     "output_type": "display_data"
    },
    {
     "name": "stdout",
     "output_type": "stream",
     "text": [
      "tPos: 4193/4592, fPos: 26/4592\n",
      "tNeg: 2510939/2510965, fNeg: 399/2510965\n",
      "\n",
      "True Positive Rate/Sensitivity: 91.31% (4193/4592)\n",
      "Confidence/Precision: 99.38% (4193/4219)\n"
     ]
    }
   ],
   "source": [
    "# Evaluate using k-fold cross-validation.\n",
    "nFolds = 10\n",
    "\n",
    "skf = StratifiedKFold(n_splits=nFolds, random_state=None, shuffle=True)\n",
    "cnfMtx = np.zeros((2,2),dtype=int)\n",
    "tBar = tqdm(total=nFolds)\n",
    "\n",
    "for trainIdx, testIdx in skf.split(metrics,match):\n",
    "    \n",
    "    lr.fit(metrics[trainIdx,:],match[trainIdx])\n",
    "    hat = lr.predict(metrics[testIdx,:])\n",
    "    cnfMtx += calc_confusion_matrix(hat,match[testIdx])\n",
    "    \n",
    "    tBar.update()\n",
    "    \n",
    "tBar.close()\n",
    "\n",
    "tPos = cnfMtx[0,0]\n",
    "fNeg = cnfMtx[0,1]\n",
    "nPos = tPos+fNeg\n",
    "\n",
    "fPos = cnfMtx[1,0]\n",
    "tNeg = cnfMtx[1,1]\n",
    "nNeg = fPos+tNeg\n",
    "\n",
    "print(f'tPos: {tPos}/{nPos}, fPos: {fPos}/{nPos}')\n",
    "print(f'tNeg: {tNeg}/{nNeg}, fNeg: {fNeg}/{nNeg}\\n')\n",
    "\n",
    "print(f'True Positive Rate/Sensitivity: {100*tPos/nPos:.2f}% ({tPos}/{nPos})')\n",
    "print(f'Confidence/Precision: {100*tPos/(tPos+fPos):.2f}% ({tPos}/{tPos+fPos})')\n"
   ]
  },
  {
   "cell_type": "code",
   "execution_count": 244,
   "metadata": {},
   "outputs": [
    {
     "data": {
      "text/plain": [
       "array([[0.97808405, 0.90194101, 4.15506523]])"
      ]
     },
     "execution_count": 244,
     "metadata": {},
     "output_type": "execute_result"
    }
   ],
   "source": [
    "lr.coef_"
   ]
  },
  {
   "cell_type": "code",
   "execution_count": null,
   "metadata": {},
   "outputs": [],
   "source": []
  },
  {
   "cell_type": "code",
   "execution_count": null,
   "metadata": {},
   "outputs": [],
   "source": []
  },
  {
   "cell_type": "code",
   "execution_count": null,
   "metadata": {},
   "outputs": [],
   "source": []
  },
  {
   "cell_type": "code",
   "execution_count": null,
   "metadata": {},
   "outputs": [],
   "source": []
  },
  {
   "cell_type": "markdown",
   "metadata": {},
   "source": [
    "## Hashes"
   ]
  },
  {
   "cell_type": "code",
   "execution_count": 154,
   "metadata": {},
   "outputs": [],
   "source": [
    "import hashlib"
   ]
  },
  {
   "cell_type": "code",
   "execution_count": null,
   "metadata": {},
   "outputs": [],
   "source": []
  },
  {
   "cell_type": "code",
   "execution_count": null,
   "metadata": {},
   "outputs": [],
   "source": []
  },
  {
   "cell_type": "code",
   "execution_count": null,
   "metadata": {},
   "outputs": [],
   "source": []
  },
  {
   "cell_type": "code",
   "execution_count": null,
   "metadata": {},
   "outputs": [],
   "source": []
  },
  {
   "cell_type": "code",
   "execution_count": null,
   "metadata": {},
   "outputs": [],
   "source": []
  },
  {
   "cell_type": "code",
   "execution_count": null,
   "metadata": {},
   "outputs": [],
   "source": []
  },
  {
   "cell_type": "markdown",
   "metadata": {
    "tags": []
   },
   "source": [
    "## My Index Code"
   ]
  },
  {
   "cell_type": "code",
   "execution_count": 75,
   "metadata": {},
   "outputs": [],
   "source": [
    "dfA = load_febrl2()"
   ]
  },
  {
   "cell_type": "code",
   "execution_count": 79,
   "metadata": {},
   "outputs": [],
   "source": [
    "keepCols = [ 'given_name', 'surname', 'date_of_birth' ]\n",
    "dat = dfA[keepCols].drop_duplicates()"
   ]
  },
  {
   "cell_type": "code",
   "execution_count": 80,
   "metadata": {},
   "outputs": [],
   "source": [
    "pat = r'(rec-\\d+)'\n",
    "\n",
    "def copy_table(tbl):\n",
    "    return pd.DataFrame({ \n",
    "        'first': list(tbl.given_name), \n",
    "        'last': list(tbl.surname), \n",
    "        'dob': list(tbl.date_of_birth) }, \n",
    "        index= list(range(len(tbl.index))))\n",
    "\n",
    "dat = dat.groupby( dat.index.str.extract(pat,expand=False), axis=0 ).apply(copy_table)"
   ]
  }
 ],
 "metadata": {
  "kernelspec": {
   "display_name": "Python 3 (ipykernel)",
   "language": "python",
   "name": "python3"
  },
  "language_info": {
   "codemirror_mode": {
    "name": "ipython",
    "version": 3
   },
   "file_extension": ".py",
   "mimetype": "text/x-python",
   "name": "python",
   "nbconvert_exporter": "python",
   "pygments_lexer": "ipython3",
   "version": "3.9.7"
  }
 },
 "nbformat": 4,
 "nbformat_minor": 4
}
