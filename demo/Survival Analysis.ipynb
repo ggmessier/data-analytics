{
 "cells": [
  {
   "cell_type": "markdown",
   "metadata": {},
   "source": [
    "# Survival Analysis\n",
    "This notebook demonstrates some of the scikit survival analysis features and makes some comparisons between survival analysis and machine learning classification algorithms.\n",
    "\n",
    "**Note:** Be sure you've read my notes both on survival analysis and classifier performance metrics before working through this notebook."
   ]
  },
  {
   "cell_type": "markdown",
   "metadata": {},
   "source": [
    "    Copyright (C) 2021 Geoffrey Guy Messier\n",
    "\n",
    "    This program is free software: you can redistribute it and/or modify\n",
    "    it under the terms of the GNU General Public License as published by\n",
    "    the Free Software Foundation, either version 3 of the License, or\n",
    "    (at your option) any later version.\n",
    "\n",
    "    This program is distributed in the hope that it will be useful,\n",
    "    but WITHOUT ANY WARRANTY; without even the implied warranty of\n",
    "    MERCHANTABILITY or FITNESS FOR A PARTICULAR PURPOSE.  See the\n",
    "    GNU General Public License for more details.\n",
    "\n",
    "    You should have received a copy of the GNU General Public License\n",
    "    along with this program.  If not, see <https://www.gnu.org/licenses/>."
   ]
  },
  {
   "cell_type": "code",
   "execution_count": 1,
   "metadata": {},
   "outputs": [],
   "source": [
    "%load_ext autoreload\n",
    "%autoreload 1"
   ]
  },
  {
   "cell_type": "code",
   "execution_count": 2,
   "metadata": {},
   "outputs": [
    {
     "ename": "ModuleNotFoundError",
     "evalue": "No module named 'sksurv'",
     "output_type": "error",
     "traceback": [
      "\u001b[0;31m---------------------------------------------------------------------------\u001b[0m",
      "\u001b[0;31mModuleNotFoundError\u001b[0m                       Traceback (most recent call last)",
      "\u001b[0;32m/var/folders/3g/nx2wv1_52cgfnj3l6zmrmpsm0000gn/T/ipykernel_18946/552167967.py\u001b[0m in \u001b[0;36m<module>\u001b[0;34m\u001b[0m\n\u001b[1;32m      5\u001b[0m \u001b[0;32mimport\u001b[0m \u001b[0mmatplotlib\u001b[0m\u001b[0;34m.\u001b[0m\u001b[0mpyplot\u001b[0m \u001b[0;32mas\u001b[0m \u001b[0mplt\u001b[0m\u001b[0;34m\u001b[0m\u001b[0;34m\u001b[0m\u001b[0m\n\u001b[1;32m      6\u001b[0m \u001b[0;34m\u001b[0m\u001b[0m\n\u001b[0;32m----> 7\u001b[0;31m \u001b[0;32mfrom\u001b[0m \u001b[0msksurv\u001b[0m\u001b[0;34m.\u001b[0m\u001b[0mnonparametric\u001b[0m \u001b[0;32mimport\u001b[0m \u001b[0mkaplan_meier_estimator\u001b[0m\u001b[0;34m\u001b[0m\u001b[0;34m\u001b[0m\u001b[0m\n\u001b[0m\u001b[1;32m      8\u001b[0m \u001b[0;32mfrom\u001b[0m \u001b[0msksurv\u001b[0m\u001b[0;34m.\u001b[0m\u001b[0mlinear_model\u001b[0m \u001b[0;32mimport\u001b[0m \u001b[0mCoxPHSurvivalAnalysis\u001b[0m\u001b[0;34m\u001b[0m\u001b[0;34m\u001b[0m\u001b[0m\n\u001b[1;32m      9\u001b[0m \u001b[0;32mfrom\u001b[0m \u001b[0msksurv\u001b[0m\u001b[0;34m.\u001b[0m\u001b[0mmetrics\u001b[0m \u001b[0;32mimport\u001b[0m \u001b[0mconcordance_index_censored\u001b[0m\u001b[0;34m\u001b[0m\u001b[0;34m\u001b[0m\u001b[0m\n",
      "\u001b[0;31mModuleNotFoundError\u001b[0m: No module named 'sksurv'"
     ]
    }
   ],
   "source": [
    "import numpy as np\n",
    "import pandas as pd\n",
    "import datetime, copy, imp\n",
    "import time\n",
    "import matplotlib.pyplot as plt\n",
    "\n",
    "from sksurv.nonparametric import kaplan_meier_estimator\n",
    "from sksurv.linear_model import CoxPHSurvivalAnalysis\n",
    "from sksurv.metrics import concordance_index_censored\n",
    "from sklearn import metrics\n",
    "\n",
    "from sklearn.neural_network import MLPClassifier\n",
    "from sklearn.linear_model import LogisticRegression\n",
    "from sklearn.model_selection import StratifiedKFold, RepeatedStratifiedKFold, GridSearchCV\n",
    "\n",
    "from tqdm.auto import tqdm, trange\n",
    "from tqdm.notebook import tqdm\n",
    "tqdm.pandas()\n",
    "\n",
    "import sys\n",
    "sys.path.insert(0, '../util/')"
   ]
  },
  {
   "cell_type": "markdown",
   "metadata": {},
   "source": [
    "### Load Data"
   ]
  },
  {
   "cell_type": "code",
   "execution_count": 3,
   "metadata": {},
   "outputs": [
    {
     "ename": "FileNotFoundError",
     "evalue": "File ../data/MLBHospitalData.hdf does not exist",
     "output_type": "error",
     "traceback": [
      "\u001b[0;31m---------------------------------------------------------------------------\u001b[0m",
      "\u001b[0;31mFileNotFoundError\u001b[0m                         Traceback (most recent call last)",
      "\u001b[0;32m/var/folders/3g/nx2wv1_52cgfnj3l6zmrmpsm0000gn/T/ipykernel_18946/428939311.py\u001b[0m in \u001b[0;36m<module>\u001b[0;34m\u001b[0m\n\u001b[1;32m      1\u001b[0m \u001b[0mdataFileStr\u001b[0m \u001b[0;34m=\u001b[0m \u001b[0;34m'../data/MLBHospitalData.hdf'\u001b[0m\u001b[0;34m\u001b[0m\u001b[0;34m\u001b[0m\u001b[0m\n\u001b[0;32m----> 2\u001b[0;31m \u001b[0mdat\u001b[0m \u001b[0;34m=\u001b[0m \u001b[0mpd\u001b[0m\u001b[0;34m.\u001b[0m\u001b[0mread_hdf\u001b[0m\u001b[0;34m(\u001b[0m\u001b[0mdataFileStr\u001b[0m\u001b[0;34m,\u001b[0m\u001b[0mkey\u001b[0m\u001b[0;34m=\u001b[0m\u001b[0;34m'Features'\u001b[0m\u001b[0;34m)\u001b[0m\u001b[0;34m\u001b[0m\u001b[0;34m\u001b[0m\u001b[0m\n\u001b[0m",
      "\u001b[0;32m/opt/local/Library/Frameworks/Python.framework/Versions/3.9/lib/python3.9/site-packages/pandas/io/pytables.py\u001b[0m in \u001b[0;36mread_hdf\u001b[0;34m(path_or_buf, key, mode, errors, where, start, stop, columns, iterator, chunksize, **kwargs)\u001b[0m\n\u001b[1;32m    425\u001b[0m \u001b[0;34m\u001b[0m\u001b[0m\n\u001b[1;32m    426\u001b[0m         \u001b[0;32mif\u001b[0m \u001b[0;32mnot\u001b[0m \u001b[0mexists\u001b[0m\u001b[0;34m:\u001b[0m\u001b[0;34m\u001b[0m\u001b[0;34m\u001b[0m\u001b[0m\n\u001b[0;32m--> 427\u001b[0;31m             \u001b[0;32mraise\u001b[0m \u001b[0mFileNotFoundError\u001b[0m\u001b[0;34m(\u001b[0m\u001b[0;34mf\"File {path_or_buf} does not exist\"\u001b[0m\u001b[0;34m)\u001b[0m\u001b[0;34m\u001b[0m\u001b[0;34m\u001b[0m\u001b[0m\n\u001b[0m\u001b[1;32m    428\u001b[0m \u001b[0;34m\u001b[0m\u001b[0m\n\u001b[1;32m    429\u001b[0m         \u001b[0mstore\u001b[0m \u001b[0;34m=\u001b[0m \u001b[0mHDFStore\u001b[0m\u001b[0;34m(\u001b[0m\u001b[0mpath_or_buf\u001b[0m\u001b[0;34m,\u001b[0m \u001b[0mmode\u001b[0m\u001b[0;34m=\u001b[0m\u001b[0mmode\u001b[0m\u001b[0;34m,\u001b[0m \u001b[0merrors\u001b[0m\u001b[0;34m=\u001b[0m\u001b[0merrors\u001b[0m\u001b[0;34m,\u001b[0m \u001b[0;34m**\u001b[0m\u001b[0mkwargs\u001b[0m\u001b[0;34m)\u001b[0m\u001b[0;34m\u001b[0m\u001b[0;34m\u001b[0m\u001b[0m\n",
      "\u001b[0;31mFileNotFoundError\u001b[0m: File ../data/MLBHospitalData.hdf does not exist"
     ]
    }
   ],
   "source": [
    "dataFileStr = '../data/MLBHospitalData.hdf'\n",
    "dat = pd.read_hdf(dataFileStr,key='Features')"
   ]
  },
  {
   "cell_type": "markdown",
   "metadata": {},
   "source": [
    "### Input Data Features (Covariates)"
   ]
  },
  {
   "cell_type": "markdown",
   "metadata": {},
   "source": [
    "The input data features to survival analysis tend to be counts of a number of events that have occured in a particular time window (ie. number of emergency room visits) or the characteristic of an individual at a particular point in time (ie. age, weight, etc.).  These input features are known as *covariates*.  The time window used to determine the covariantes is referred to as the observation window."
   ]
  },
  {
   "cell_type": "code",
   "execution_count": 4,
   "metadata": {},
   "outputs": [],
   "source": [
    "# Count events for an individual in an observation window from startDate to endDate.\n",
    "def calculate_covariates(tbl,startDate='NoDate',endDate='NoDate'):\n",
    "    if startDate != 'NoDate' and endDate != 'NoDate':\n",
    "        tbl = tbl.loc[ (tbl.Date >= startDate) & (tbl.Date <= endDate) ]\n",
    "        \n",
    "    if len(tbl.index) == 0:\n",
    "        return pd.Series({\n",
    "            'NumGoodTestResult': 0,\n",
    "            'NumStay': 0,\n",
    "            'NumBadTestResult': 0,\n",
    "            'NumVitalsCrash': 0,\n",
    "            'Tenure': 0\n",
    "        })        \n",
    "    else:\n",
    "        return pd.Series({\n",
    "            'NumGoodTestResult': (tbl.Event == 'GoodTestResult').sum(),\n",
    "            'NumStay': (tbl.Event == 'Stay').sum(),\n",
    "            'NumBadTestResult': (tbl.Event == 'BadTestResult').sum(),\n",
    "            'NumVitalsCrash': (tbl.Event == 'VitalsCrash').sum(),\n",
    "            'Tenure': (tbl.Date.max()-tbl.Date.min()).days\n",
    "        })"
   ]
  },
  {
   "cell_type": "code",
   "execution_count": 5,
   "metadata": {},
   "outputs": [
    {
     "data": {
      "application/vnd.jupyter.widget-view+json": {
       "model_id": "916018718ba242579b9ba6375ff6cbd5",
       "version_major": 2,
       "version_minor": 0
      },
      "text/plain": [
       "  0%|          | 0/915 [00:00<?, ?it/s]"
      ]
     },
     "metadata": {},
     "output_type": "display_data"
    }
   ],
   "source": [
    "# Observation inteval.\n",
    "obsStart = pd.to_datetime('2016-01-01')\n",
    "obsEnd = pd.to_datetime('2017-12-31')\n",
    "\n",
    "inFtr = dat.groupby(level=0).progress_apply(calculate_covariates,startDate=obsStart,endDate=obsEnd)"
   ]
  },
  {
   "cell_type": "markdown",
   "metadata": {},
   "source": [
    "### Time to Event"
   ]
  },
  {
   "cell_type": "markdown",
   "metadata": {},
   "source": [
    "Survival analysis will select an event (ie. death from heart failure, diagnosis of a disease) and determine whether it occurs for each individual during a *follow-up period*.  If the event occurs, the time to the event (TTE) is recorded.  If it does not occur, we say that the data record is *right censored* and we record the time of censoring (the end time of the follow-up period).\n",
    "\n",
    "For this notebook, we will use the first occurence of an AdverseOutcome as our event of interest."
   ]
  },
  {
   "cell_type": "code",
   "execution_count": 6,
   "metadata": {},
   "outputs": [],
   "source": [
    "def find_adverse_outcome(tbl,startDate,endDate):\n",
    "    advOutIdx = (tbl.Event == 'VitalsCrash') & (tbl.Date >= startDate) & (tbl.Date <= endDate)\n",
    "    if advOutIdx.sum() > 0:\n",
    "        return pd.Series({\n",
    "            'Flag': 'Crash',\n",
    "            'Time': (tbl.loc[advOutIdx].Date.min() - startDate).days\n",
    "        })\n",
    "    else:\n",
    "        return pd.Series({\n",
    "            'Flag': 'NoCrash',\n",
    "            'Time': max(0,(endDate - startDate).days)\n",
    "        })"
   ]
  },
  {
   "cell_type": "code",
   "execution_count": 7,
   "metadata": {},
   "outputs": [
    {
     "data": {
      "application/vnd.jupyter.widget-view+json": {
       "model_id": "50c252e6e9414a71a930497e6ea79ac0",
       "version_major": 2,
       "version_minor": 0
      },
      "text/plain": [
       "  0%|          | 0/915 [00:00<?, ?it/s]"
      ]
     },
     "metadata": {},
     "output_type": "display_data"
    }
   ],
   "source": [
    "# Follow up interval.\n",
    "followStart = pd.to_datetime('2018-01-01')\n",
    "followEnd = pd.to_datetime('2019-12-31')\n",
    "\n",
    "tte = dat.groupby(level=0).progress_apply(find_adverse_outcome,startDate=followStart,endDate=followEnd)"
   ]
  },
  {
   "cell_type": "markdown",
   "metadata": {},
   "source": [
    "### Survival Function"
   ]
  },
  {
   "cell_type": "markdown",
   "metadata": {},
   "source": [
    "Fitting an approximation to the survival or hazard functions calculated from real data is the foundation of surival analysis theory.  While we don't have to calculate it in order to use a Cox model, it's instructive to have a look at it.  Note that it does not go to zero since many individuals \"survive\" our follow up interval. "
   ]
  },
  {
   "cell_type": "code",
   "execution_count": 8,
   "metadata": {},
   "outputs": [
    {
     "data": {
      "text/plain": [
       "Text(0.5, 0, 'Days')"
      ]
     },
     "execution_count": 8,
     "metadata": {},
     "output_type": "execute_result"
    },
    {
     "data": {
      "image/png": "[encoded data removed]",
      "text/plain": [
       "<Figure size 432x288 with 1 Axes>"
      ]
     },
     "metadata": {
      "needs_background": "light"
     },
     "output_type": "display_data"
    }
   ],
   "source": [
    "time, survival_prob = kaplan_meier_estimator((tte.Flag == 'Adverse'), tte.Time)\n",
    "plt.step(time, survival_prob, where=\"post\")\n",
    "plt.ylabel(\"est. probability of survival $\\hat{S}(t)$\")\n",
    "plt.xlabel(\"Days\")"
   ]
  },
  {
   "cell_type": "markdown",
   "metadata": {},
   "source": [
    "### Cox Regression"
   ]
  },
  {
   "cell_type": "markdown",
   "metadata": {},
   "source": [
    "Like many linear methods, Cox regression works best if the data features are normalized to have zero mean and unit variance."
   ]
  },
  {
   "cell_type": "code",
   "execution_count": 9,
   "metadata": {},
   "outputs": [],
   "source": [
    "inFtrNrm = copy.deepcopy(inFtr)\n",
    "for colInd in inFtr.columns:\n",
    "    inFtrNrm[colInd] = (inFtr[colInd]-inFtr[colInd].mean())/np.sqrt(inFtr[colInd].var())"
   ]
  },
  {
   "cell_type": "code",
   "execution_count": 11,
   "metadata": {},
   "outputs": [],
   "source": [
    "# The scikit routine requires this strange numpy array format.\n",
    "datY = np.array([ (tte.loc[ind,'Flag'] == 'Crash', tte.loc[ind,'Time']) for ind in inFtr.index ],\n",
    "                dtype = [ ('Flag','?'), ('Time','f')])"
   ]
  },
  {
   "cell_type": "code",
   "execution_count": 12,
   "metadata": {},
   "outputs": [],
   "source": [
    "cox = CoxPHSurvivalAnalysis()"
   ]
  },
  {
   "cell_type": "code",
   "execution_count": 13,
   "metadata": {},
   "outputs": [
    {
     "data": {
      "text/plain": [
       "CoxPHSurvivalAnalysis()"
      ]
     },
     "execution_count": 13,
     "metadata": {},
     "output_type": "execute_result"
    }
   ],
   "source": [
    "cox.fit(inFtrNrm,datY)"
   ]
  },
  {
   "cell_type": "markdown",
   "metadata": {},
   "source": [
    "Like most linear methods, the coefficients produced by CoxPH indicates the influence a data features has over the event of interest.  In the following, we see that `NumGoodTestResult` is the most influential data feature and (as expected) is negatively correlated with the event of interest."
   ]
  },
  {
   "cell_type": "code",
   "execution_count": 14,
   "metadata": {},
   "outputs": [
    {
     "name": "stdout",
     "output_type": "stream",
     "text": [
      "NumReferral: -1.390\n",
      "NumStay: 0.209\n",
      "NumMajorEvent: 0.502\n",
      "NumAdverseOutcome: 0.289\n",
      "Tenure: -0.108\n"
     ]
    }
   ],
   "source": [
    "for i in range(len(cox.coef_)):\n",
    "    print('{}: {:.3f}'.format(inFtrNrm.columns[i],cox.coef_[i]))"
   ]
  },
  {
   "cell_type": "markdown",
   "metadata": {},
   "source": [
    "The scikit documentation states that the predict routine returns a \"risk score\".  The documentation is a bit vague but this score is equal to the $\\beta x$ term in the CoxPH hazard function equation.  If these values are positive, the chance of the event increases and, if they're negative, the chance decreases."
   ]
  },
  {
   "cell_type": "code",
   "execution_count": 15,
   "metadata": {},
   "outputs": [],
   "source": [
    "riskScores = cox.predict(inFtrNrm)"
   ]
  },
  {
   "cell_type": "code",
   "execution_count": 16,
   "metadata": {},
   "outputs": [
    {
     "data": {
      "text/plain": [
       "Text(0.5, 0, 'Risk Score')"
      ]
     },
     "execution_count": 16,
     "metadata": {},
     "output_type": "execute_result"
    },
    {
     "data": {
      "image/png": "[encoded data removed]",
      "text/plain": [
       "<Figure size 432x288 with 1 Axes>"
      ]
     },
     "metadata": {
      "needs_background": "light"
     },
     "output_type": "display_data"
    }
   ],
   "source": [
    "[h,bins] = np.histogram(riskScores,bins=100)\n",
    "plt.plot(bins[:-1],h)\n",
    "plt.xlabel('Risk Score')"
   ]
  },
  {
   "cell_type": "markdown",
   "metadata": {},
   "source": [
    "Once the Cox coefficients, $\\beta$, are determined, a risk score can be calculated for an individual and applied to a threshold.  If the score exceeds the threshold, then we assume that the event will occur.  Changing the threshold will change the performance of these decisions.  A very low threshold will assume all individuals are positive (100% false positive and 100% false negative rate) and a very high threshold will assume that all individuals are negative (0% false positive and 0% false negative rate).  \n",
    "\n",
    "Adjusting the threshold between those two extremes will result in different false positive and false negative rates.  This can be traced on a receiver operating characteristic (ROC) curve."
   ]
  },
  {
   "cell_type": "code",
   "execution_count": 17,
   "metadata": {},
   "outputs": [],
   "source": [
    "pfp, ptp, thresholds = metrics.roc_curve(datY['Flag'], riskScores)"
   ]
  },
  {
   "cell_type": "code",
   "execution_count": 18,
   "metadata": {},
   "outputs": [
    {
     "data": {
      "text/plain": [
       "Text(0, 0.5, 'P(true positive)')"
      ]
     },
     "execution_count": 18,
     "metadata": {},
     "output_type": "execute_result"
    },
    {
     "data": {
      "image/png": "[encoded data removed]",
      "text/plain": [
       "<Figure size 432x288 with 1 Axes>"
      ]
     },
     "metadata": {
      "needs_background": "light"
     },
     "output_type": "display_data"
    }
   ],
   "source": [
    "plt.plot(pfp,ptp)\n",
    "plt.xlabel('P(false positive)')\n",
    "plt.ylabel('P(true positive)')"
   ]
  },
  {
   "cell_type": "markdown",
   "metadata": {},
   "source": [
    "Ideally, our classifier would have a 0% false positive rate and 100% true positive rate so that the ROC curve reaches the upper left hand corner of the plot.  The area under this ideal curve would be 1.  A non-ideal curve does not reach the upper left hand corner and has an area $<1$.  As a result, area under the ROC curve is sometimes used as a performance metric.  The C-index is one way to estimate this area."
   ]
  },
  {
   "cell_type": "code",
   "execution_count": 19,
   "metadata": {},
   "outputs": [
    {
     "name": "stdout",
     "output_type": "stream",
     "text": [
      "C-Index:  0.8878374369623258\n"
     ]
    }
   ],
   "source": [
    "print('C-Index: ',concordance_index_censored(datY['Flag'], datY['Time'], riskScores)[0])"
   ]
  }
 ],
 "metadata": {
  "kernelspec": {
   "display_name": "Python 3 (ipykernel)",
   "language": "python",
   "name": "python3"
  },
  "language_info": {
   "codemirror_mode": {
    "name": "ipython",
    "version": 3
   },
   "file_extension": ".py",
   "mimetype": "text/x-python",
   "name": "python",
   "nbconvert_exporter": "python",
   "pygments_lexer": "ipython3",
   "version": "3.9.7"
  }
 },
 "nbformat": 4,
 "nbformat_minor": 4
}
