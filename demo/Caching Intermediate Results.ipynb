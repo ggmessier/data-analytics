{
 "cells": [
  {
   "cell_type": "markdown",
   "id": "e697f4c6-06b8-49d3-bc38-60331c158c3e",
   "metadata": {},
   "source": [
    "# Intermediate Result Caching\n",
    "Demonstrates how to use utilities for caching intermediate data processing results."
   ]
  },
  {
   "cell_type": "markdown",
   "id": "833c8fa5-71c4-4098-b4ee-55081a142e14",
   "metadata": {},
   "source": [
    "    Copyright (C) 2021 Geoffrey Guy Messier\n",
    "\n",
    "    This program is free software: you can redistribute it and/or modify\n",
    "    it under the terms of the GNU General Public License as published by\n",
    "    the Free Software Foundation, either version 3 of the License, or\n",
    "    (at your option) any later version.\n",
    "\n",
    "    This program is distributed in the hope that it will be useful,\n",
    "    but WITHOUT ANY WARRANTY; without even the implied warranty of\n",
    "    MERCHANTABILITY or FITNESS FOR A PARTICULAR PURPOSE.  See the\n",
    "    GNU General Public License for more details.\n",
    "\n",
    "    You should have received a copy of the GNU General Public License\n",
    "    along with this program.  If not, see <https://www.gnu.org/licenses/>."
   ]
  },
  {
   "cell_type": "code",
   "execution_count": 1,
   "id": "39f075db-06a1-485b-beee-12c2a5738644",
   "metadata": {},
   "outputs": [],
   "source": [
    "%load_ext autoreload\n",
    "%autoreload 1"
   ]
  },
  {
   "cell_type": "code",
   "execution_count": 8,
   "id": "79fabd3b-0424-457c-92fb-8d80738eec88",
   "metadata": {},
   "outputs": [],
   "source": [
    "import numpy as np\n",
    "import pandas as pd\n",
    "import datetime, copy, imp\n",
    "import time\n",
    "import os\n",
    "import re\n",
    "import matplotlib.pyplot as plt\n",
    "\n",
    "\n",
    "from tqdm.auto import tqdm, trange\n",
    "from tqdm.notebook import tqdm\n",
    "tqdm.pandas()\n",
    "\n",
    "import sys\n",
    "sys.path.insert(0, '../util/')\n",
    "\n",
    "from data_cache import CacheResult"
   ]
  },
  {
   "cell_type": "markdown",
   "id": "efd45088-975e-40df-926c-41a888d39b27",
   "metadata": {},
   "source": [
    "## Load Data Set"
   ]
  },
  {
   "cell_type": "code",
   "execution_count": 3,
   "id": "1dd2471a-628c-4c11-b7ef-404727fb0605",
   "metadata": {},
   "outputs": [],
   "source": [
    "dataFileStr = '../data/MLBHospitalData.hd5'\n",
    "dat = pd.read_hdf(dataFileStr,key='Data')"
   ]
  },
  {
   "cell_type": "code",
   "execution_count": null,
   "id": "0e4665b5-e90e-48e7-91ad-446919888793",
   "metadata": {},
   "outputs": [],
   "source": []
  },
  {
   "cell_type": "markdown",
   "id": "28ff36b4-4427-4e59-919d-194e65aedd31",
   "metadata": {},
   "source": [
    "## Perform Analysis on the Data\n",
    "This routine is meant to represent a stage of your data analysis that generates an intermediate result.  Even though it runs very quickly on this data set, imagine that it's a very slow routine that you don't want to run every time.  This makes it a perfect candidate for caching."
   ]
  },
  {
   "cell_type": "code",
   "execution_count": 5,
   "id": "5dc1160d-f3ea-4ed7-9e66-9aa08d5b4cd5",
   "metadata": {},
   "outputs": [],
   "source": [
    "# Count the data features for each individual.\n",
    "def timeline_summary(tbl,startDate='NoDate',endDate='NoDate'):\n",
    "    if startDate != 'NoDate' and endDate != 'NoDate':\n",
    "        tbl = tbl.loc[ (tbl.Date >= startDate) & (tbl.Date <= endDate) ]\n",
    "        \n",
    "    return pd.Series({\n",
    "        'NumGoodTestResult': (tbl.Event == 'GoodTestResult').sum(),\n",
    "        'NumStay': (tbl.Event == 'Stay').sum(),\n",
    "        'NumBadTestResult': (tbl.Event == 'BadTestResult').sum(),\n",
    "        'NumVitalsCrash': (tbl.Event == 'VitalsCrash').sum(),\n",
    "        'Tenure': (tbl.Date.max()-tbl.Date.min()).days\n",
    "    })"
   ]
  },
  {
   "cell_type": "code",
   "execution_count": 6,
   "id": "a72832b3-7509-4398-936b-cc2b1c3b3474",
   "metadata": {},
   "outputs": [
    {
     "data": {
      "application/vnd.jupyter.widget-view+json": {
       "model_id": "71b5b2982df242bd9186c3d15d32567e",
       "version_major": 2,
       "version_minor": 0
      },
      "text/plain": [
       "  0%|          | 0/915 [00:00<?, ?it/s]"
      ]
     },
     "metadata": {},
     "output_type": "display_data"
    }
   ],
   "source": [
    "ftr = dat.groupby(level=0).progress_apply(timeline_summary)"
   ]
  },
  {
   "cell_type": "code",
   "execution_count": null,
   "id": "159a598e-6d55-4b07-b67b-b18bec06c2c9",
   "metadata": {},
   "outputs": [],
   "source": []
  },
  {
   "cell_type": "markdown",
   "id": "dbaa8551-d623-4241-9124-5fc19305c541",
   "metadata": {},
   "source": [
    "## This time with caching...\n",
    "Thanks to Caleb John for providing this caching code.  It makes use of Python decorators.  Google it if you're unfamiliar with how they work."
   ]
  },
  {
   "cell_type": "code",
   "execution_count": 9,
   "id": "56559968-53b9-4990-858d-20c399039cfa",
   "metadata": {},
   "outputs": [
    {
     "name": "stdout",
     "output_type": "stream",
     "text": [
      "Help on function CacheResult in module data_cache:\n",
      "\n",
      "CacheResult(func, *args, path=None, filename=None, **kwargs)\n",
      "    Wraps around a function that generates a datastructure and caches that\n",
      "    datastructure to disk.  For subsequent calls, the datastructure is read\n",
      "    from the cache file rather than being regenerated. Delete the cached file \n",
      "    to regenerate the data structure.\n",
      "    \n",
      "    NOTE: You will need to delete cache files every time you make a code change\n",
      "    to the function that generates the datastructure.\n",
      "    \n",
      "    Separate cache files are generated for calls to the generator function with \n",
      "    different arguments.  The argument values are worked into the cache file name.\n",
      "    \n",
      "    It is good practice to incorporate a TQDM progress bar in your generator function.\n",
      "    That way, you get visual feedback regarding whether or not you're generating new\n",
      "    results or using cached results.\n",
      "    \n",
      "    Give an HDF file suffix (.h5, .hdf, .hd5) to save the cache as HDF, otherwise\n",
      "    pickle is used.\n",
      "    \n",
      "    If no path is passed, the datastructure is generated without caching.\n",
      "    if no filename is passed, <function_name>.hd5 will be used\n",
      "    \n",
      "    Decorator Example\n",
      "    =================\n",
      "    @CacheResult\n",
      "    def load_features(x):\n",
      "        time.sleep(5)\n",
      "        return pd.DataFrame.from_dict({\"a\": [1, 2, 3, x]})\n",
      "    df = load_features(x, path='/tmp/', filename='features.hd5')\n",
      "    \n",
      "    Direct Function Call Example\n",
      "    ============================\n",
      "    def load_outcomes(necessary_input=3):\n",
      "        time.sleep(3)\n",
      "        return pd.DataFrame.from_dict({\"a\": [1, 2, 3]})\n",
      "    df = CacheResult(load_outcomes, path='/tmp/', necessary_input=2)\n",
      "\n"
     ]
    }
   ],
   "source": [
    "help(CacheResult)"
   ]
  },
  {
   "cell_type": "code",
   "execution_count": 10,
   "id": "9b975166-1d7b-4200-84c0-e675cff2e0f6",
   "metadata": {},
   "outputs": [],
   "source": [
    "@CacheResult\n",
    "def cached_preprocessing_example(tbl):\n",
    "    return tbl.groupby(level=0).progress_apply(timeline_summary)"
   ]
  },
  {
   "cell_type": "code",
   "execution_count": 11,
   "id": "801de7ef-df41-4acc-aa67-9996dbad6546",
   "metadata": {},
   "outputs": [
    {
     "data": {
      "application/vnd.jupyter.widget-view+json": {
       "model_id": "0751ef811d064f44ab67f216241fb0e3",
       "version_major": 2,
       "version_minor": 0
      },
      "text/plain": [
       "  0%|          | 0/915 [00:00<?, ?it/s]"
      ]
     },
     "metadata": {},
     "output_type": "display_data"
    }
   ],
   "source": [
    "cachePathStr = '/Users/gmessier/data/plwh/cache/'\n",
    "ftr = cached_preprocessing_example(dat,path=cachePathStr)"
   ]
  },
  {
   "cell_type": "markdown",
   "id": "b111a2e9-cc0c-47c9-9ed8-e002c33c5d25",
   "metadata": {},
   "source": [
    "Note how you don't see the progress bar when you run it the second time since it reads the result from the cache file instead."
   ]
  },
  {
   "cell_type": "code",
   "execution_count": 12,
   "id": "cdf075d6-66fa-49d1-a005-4cc535705cd2",
   "metadata": {},
   "outputs": [],
   "source": [
    "ftr = cached_preprocessing_example(dat,path=cachePathStr)"
   ]
  },
  {
   "cell_type": "code",
   "execution_count": null,
   "id": "9310984b-1898-4e3a-a07f-5b03c9a70da4",
   "metadata": {},
   "outputs": [],
   "source": []
  }
 ],
 "metadata": {
  "kernelspec": {
   "display_name": "Python 3 (ipykernel)",
   "language": "python",
   "name": "python3"
  },
  "language_info": {
   "codemirror_mode": {
    "name": "ipython",
    "version": 3
   },
   "file_extension": ".py",
   "mimetype": "text/x-python",
   "name": "python",
   "nbconvert_exporter": "python",
   "pygments_lexer": "ipython3",
   "version": "3.9.7"
  }
 },
 "nbformat": 4,
 "nbformat_minor": 5
}
