{
 "cells": [
  {
   "cell_type": "markdown",
   "metadata": {},
   "source": [
    "# Rule Search\n",
    "A demonstration of the OPUS rule search library first using a simple 15 example toy dataset and then a larger demo using the MLB hospital dataset."
   ]
  },
  {
   "cell_type": "markdown",
   "metadata": {},
   "source": [
    "    Copyright (C) 2021 Geoffrey Guy Messier\n",
    "\n",
    "    This program is free software: you can redistribute it and/or modify\n",
    "    it under the terms of the GNU General Public License as published by\n",
    "    the Free Software Foundation, either version 3 of the License, or\n",
    "    (at your option) any later version.\n",
    "\n",
    "    This program is distributed in the hope that it will be useful,\n",
    "    but WITHOUT ANY WARRANTY; without even the implied warranty of\n",
    "    MERCHANTABILITY or FITNESS FOR A PARTICULAR PURPOSE.  See the\n",
    "    GNU General Public License for more details.\n",
    "\n",
    "    You should have received a copy of the GNU General Public License\n",
    "    along with this program.  If not, see <https://www.gnu.org/licenses/>."
   ]
  },
  {
   "cell_type": "code",
   "execution_count": 1,
   "metadata": {},
   "outputs": [],
   "source": [
    "%load_ext autoreload\n",
    "%autoreload 1"
   ]
  },
  {
   "cell_type": "code",
   "execution_count": 2,
   "metadata": {},
   "outputs": [],
   "source": [
    "import numpy as np\n",
    "import pandas as pd\n",
    "import datetime, copy, imp\n",
    "import pickle\n",
    "import time\n",
    "import os\n",
    "import re\n",
    "from sklearn.model_selection import StratifiedKFold\n",
    "from importlib import reload\n",
    "\n",
    "\n",
    "from tqdm.auto import tqdm, trange\n",
    "from tqdm.notebook import tqdm\n",
    "tqdm.pandas()\n",
    "\n",
    "import sys\n",
    "sys.path.insert(0, '../util/')\n",
    "\n",
    "import rules as rs"
   ]
  },
  {
   "cell_type": "markdown",
   "metadata": {},
   "source": [
    "## Toy Data Set\n",
    "- This data consists of two attributes (A0 and A1) and 15 examples that are either positive (x) or negative (o).  Example `8x` is a positive example that has an A0 value between 1 and 3 and an A1 value between 0 and 2."
   ]
  },
  {
   "cell_type": "markdown",
   "metadata": {},
   "source": [
    "```\n",
    "A1\n",
    "  |      |             0x|\n",
    "  |      |          1o 2o|\n",
    "  |      |          3o 4o| 5o \n",
    "2 -------------------------------\n",
    "  |      |         6x 7x | 11o 12o\n",
    "  |      |         8x 9x |  13x\n",
    "  -      |           10o |  14o\n",
    "  |      |               |\n",
    "  |      |               |\n",
    "  -------|-------|-------|------- A0\n",
    "         1               3\n",
    "\n",
    "```"
   ]
  },
  {
   "cell_type": "markdown",
   "metadata": {},
   "source": [
    "- The following coverage table dictionary is created by the `gen_coverage_table()` routine and has the following fields:\n",
    "    + `AttributeIndices`: The attribute index number for each feature.\n",
    "    + `FeatureOperations`: The operations used to create each feature.\n",
    "    + `ThresholdValues`: The threshold values used to create each feature.\n",
    "    + `FeatureStrings`: Strings that describe each feature test (used by output and debugging routines).\n",
    "    + `CoverageTable`: Dimensions: (#examples) x (#features).  A 1 indicates the feature is satisfied by the example data.  Check the above diagram to make sure you understand how these entries are created.\n",
    "    + `Labels`: Indicate whether each example is positive (1) or negative (0).  Used to evaluate rule performance.\n",
    "        "
   ]
  },
  {
   "cell_type": "code",
   "execution_count": 3,
   "metadata": {},
   "outputs": [],
   "source": [
    "toyData = {\n",
    "    'AttributeIndices': [ 0, 0, 0, 0, 1, 1 ],\n",
    "    'FeatureOperations': [ '>=', '<', '>=', '<', '>=', '<' ],\n",
    "    'ThresholdValues': [ 1, 1, 3, 3, 2, 2 ],\n",
    "    'FeatureStrings': [ 'A0 >= 1', 'A0 < 1', 'A0 >= 3', 'A0 < 3', 'A1 >= 2', 'A1 < 2' ],\n",
    "    'CoverageTable': [\n",
    "        [ 1, 0, 0, 1, 1, 0 ], # 0x\n",
    "        [ 1, 0, 0, 1, 1, 0 ], # 1o\n",
    "        [ 1, 0, 0, 1, 1, 0 ], # 2o\n",
    "        [ 1, 0, 0, 1, 1, 0 ], # 3o\n",
    "        [ 1, 0, 0, 1, 1, 0 ], # 4o\n",
    "        #\n",
    "        [ 1, 0, 1, 0, 1, 0 ], # 5o\n",
    "        #\n",
    "        [ 1, 0, 0, 1, 0, 1 ], # 6x\n",
    "        [ 1, 0, 0, 1, 0, 1 ], # 7x\n",
    "        [ 1, 0, 0, 1, 0, 1 ], # 8x\n",
    "        [ 1, 0, 0, 1, 0, 1 ], # 9x\n",
    "        [ 1, 0, 0, 1, 0, 1 ], # 10o\n",
    "        #\n",
    "        [ 1, 0, 1, 0, 0, 1 ], # 11o\n",
    "        [ 1, 0, 1, 0, 0, 1 ], # 12o\n",
    "        [ 1, 0, 1, 0, 0, 1 ], # 13o\n",
    "        [ 1, 0, 1, 0, 0, 1 ], # 14o        \n",
    "    ],\n",
    "    'Lables': [ 1, 0, 0, 0, 0, 0, 1, 1, 1, 1, 0, 0, 0, 1, 0 ]\n",
    "}"
   ]
  },
  {
   "cell_type": "code",
   "execution_count": null,
   "metadata": {},
   "outputs": [],
   "source": []
  },
  {
   "cell_type": "markdown",
   "metadata": {},
   "source": [
    "Data from the coverage table dictionary is copied into the `rs.Examples` class for use in the rule search routines."
   ]
  },
  {
   "cell_type": "code",
   "execution_count": 4,
   "metadata": {},
   "outputs": [
    {
     "name": "stdout",
     "output_type": "stream",
     "text": [
      "Help on class Examples in module rules:\n",
      "\n",
      "class Examples(builtins.object)\n",
      " |  Examples(data)\n",
      " |  \n",
      " |  Class for storing data examples used by the OPUS rule search class.\n",
      " |  \n",
      " |  Methods defined here:\n",
      " |  \n",
      " |  __init__(self, data)\n",
      " |      Initialize member variables using coverage table dictionary.\n",
      " |      -- Parameters --\n",
      " |       data: Coverage table dictionary object generated by gen_coverage_table().\n",
      " |  \n",
      " |  ----------------------------------------------------------------------\n",
      " |  Data descriptors defined here:\n",
      " |  \n",
      " |  __dict__\n",
      " |      dictionary for instance variables (if defined)\n",
      " |  \n",
      " |  __weakref__\n",
      " |      list of weak references to the object (if defined)\n",
      "\n"
     ]
    }
   ],
   "source": [
    "help(rs.Examples)"
   ]
  },
  {
   "cell_type": "code",
   "execution_count": 5,
   "metadata": {},
   "outputs": [],
   "source": [
    "exsToy = rs.Examples(toyData)"
   ]
  },
  {
   "cell_type": "code",
   "execution_count": null,
   "metadata": {},
   "outputs": [],
   "source": []
  },
  {
   "cell_type": "markdown",
   "metadata": {},
   "source": [
    "## Evaluating Rule Quality\n",
    "- The base class `RuleQuality` is used to consolidate common rule quality calculations and present general rule performance summary information.\n",
    "- The derived classes implement specific quality metric calculations and are used by OPUS to optimize the rule search."
   ]
  },
  {
   "cell_type": "markdown",
   "metadata": {},
   "source": [
    "An example of one of the derived classes."
   ]
  },
  {
   "cell_type": "code",
   "execution_count": 6,
   "metadata": {},
   "outputs": [
    {
     "name": "stdout",
     "output_type": "stream",
     "text": [
      "Help on class RuleQualCoverageDiff in module rules:\n",
      "\n",
      "class RuleQualCoverageDiff(RuleQuality)\n",
      " |  RuleQualCoverageDiff(ftrStr)\n",
      " |  \n",
      " |  Calculate true positive/false positive coverage difference metric for rule set.\n",
      " |  \n",
      " |  Method resolution order:\n",
      " |      RuleQualCoverageDiff\n",
      " |      RuleQuality\n",
      " |      builtins.object\n",
      " |  \n",
      " |  Methods defined here:\n",
      " |  \n",
      " |  __init__(self, ftrStr)\n",
      " |      Init member variables.\n",
      " |      -- Parameters --\n",
      " |       ftrStr: Coverage table feature string (from Examples).\n",
      " |  \n",
      " |  val(self, rules, covTbl, labels, noFPos=False)\n",
      " |      Calculate quality metric.\n",
      " |  \n",
      " |  ----------------------------------------------------------------------\n",
      " |  Methods inherited from RuleQuality:\n",
      " |  \n",
      " |  confusion_matrix(self, rules, covTbl, labels)\n",
      " |      Returns a 2x2 numpy confusion matrix for a rule set.\n",
      " |      -- Parameters --\n",
      " |       rules: 2D ruleset array containing feature index numbers.\n",
      " |       covTbl: numpy coverage table matrix.\n",
      " |       labels: numpy label vector.\n",
      " |  \n",
      " |  confusion_summary_str(self, rules, covTbl, labels, idnt='')\n",
      " |      Returns a string summarizing the confusion matrix performance of a ruleset.\n",
      " |      -- Parameters --\n",
      " |       rules: 2D ruleset array containing feature index numbers.\n",
      " |       covTbl: numpy coverage table matrix.\n",
      " |       labels: numpy label vector.\n",
      " |       idnt: String of spaces used to indent output.\n",
      " |  \n",
      " |  head(self, rules, covTbl, labels)\n",
      " |      Returns a boolean array indicating which examples in the coverage table\n",
      " |      satisfy a rule set.\n",
      " |      -- Parameters --\n",
      " |       rules: 2D ruleset array containing feature index numbers.\n",
      " |       covTbl: numpy coverage table matrix.\n",
      " |       labels: numpy label vector.\n",
      " |  \n",
      " |  print_summary(self, rules, covTbl, labels)\n",
      " |      Returns a string summarizing the overall performance of a ruleset.\n",
      " |      -- Parameters --\n",
      " |       rules: 2D ruleset array containing feature index numbers.\n",
      " |       covTbl: numpy coverage table matrix.\n",
      " |       labels: numpy label vector.\n",
      " |  \n",
      " |  ruleset_coverage(self, rules, covTbl, labels, noFPos)\n",
      " |      Returns the coverage of a ruleset broken into true and false positives.\n",
      " |      -- Parameters --\n",
      " |       rules: 2D ruleset array containing feature index numbers.\n",
      " |       covTbl: numpy coverage table matrix.\n",
      " |       labels: numpy label vector.\n",
      " |       noFPos: If true, set the returned false positive value to zero.  Used when\n",
      " |        OPUS needs to know the best rule performance possible by adding more \n",
      " |        conjunctive features to that rule.\n",
      " |  \n",
      " |  ruleset_str(self, rules)\n",
      " |      Generate a string containing a rule set in human readable (ish) format.\n",
      " |      -- Parameters --\n",
      " |       rules: 2D ruleset array containing feature index numbers.\n",
      " |  \n",
      " |  ----------------------------------------------------------------------\n",
      " |  Data descriptors inherited from RuleQuality:\n",
      " |  \n",
      " |  __dict__\n",
      " |      dictionary for instance variables (if defined)\n",
      " |  \n",
      " |  __weakref__\n",
      " |      list of weak references to the object (if defined)\n",
      "\n"
     ]
    }
   ],
   "source": [
    "help(rs.RuleQualCoverageDiff)"
   ]
  },
  {
   "cell_type": "code",
   "execution_count": null,
   "metadata": {},
   "outputs": [],
   "source": []
  },
  {
   "cell_type": "markdown",
   "metadata": {},
   "source": [
    "## OPUS Rule Search\n",
    "- An implementation of the OPUS rule search algorithm as described in Webb, \"OPUS: An Efficient Admissable Algorithm for Unordered Search\", Journal of Artificial Intelligence Research, 1995."
   ]
  },
  {
   "cell_type": "code",
   "execution_count": 7,
   "metadata": {},
   "outputs": [
    {
     "name": "stdout",
     "output_type": "stream",
     "text": [
      "Help on class OpusRuleSearch in module rules:\n",
      "\n",
      "class OpusRuleSearch(builtins.object)\n",
      " |  OpusRuleSearch(ruleQuality, maxRuleLen=None, debug=False)\n",
      " |  \n",
      " |  Implements the OPUS rule search algorithm.\n",
      " |  \n",
      " |  Methods defined here:\n",
      " |  \n",
      " |  __init__(self, ruleQuality, maxRuleLen=None, debug=False)\n",
      " |      Initializes member variables.\n",
      " |      \n",
      " |      -- Parameters --\n",
      " |       ruleQuality: Reference to the RuleQuality derived class object that calculates\n",
      " |        the rule metric used by OPUS to find the best rules.\n",
      " |       mxRuleLen: Maximum rule length.  Default (None) corresponds to the maximum \n",
      " |        possible.\n",
      " |       debug: Debug level. Values:  \n",
      " |          rules.OPUS_DEBUG_EXHAUSTIVE generates exhaustive debug information suitable \n",
      " |             for debugging very small example sets.\n",
      " |          rules.OPUS_DEBUG_RULE_DEPTH generates debug information upon finishing each\n",
      " |             level of the search tree.  Suitable for estimating the run time and rule\n",
      " |             length performance benefits for large example sets.\n",
      " |  \n",
      " |  find_rule(self, exs)\n",
      " |      Perform the rule search.\n",
      " |      -- Parameters --\n",
      " |       exs: Example class object.\n",
      " |  \n",
      " |  set_search_attributes(self, searchAttr)\n",
      " |      Set which attributes are included in the rule search.  Note that one attribute may\n",
      " |      correspond to many features.\n",
      " |      -- Parameters --\n",
      " |       searchAttr: Array of attribute index numbers (as defined in the Examples class).\n",
      " |  \n",
      " |  ----------------------------------------------------------------------\n",
      " |  Data descriptors defined here:\n",
      " |  \n",
      " |  __dict__\n",
      " |      dictionary for instance variables (if defined)\n",
      " |  \n",
      " |  __weakref__\n",
      " |      list of weak references to the object (if defined)\n",
      "\n"
     ]
    }
   ],
   "source": [
    "help(rs.OpusRuleSearch)"
   ]
  },
  {
   "cell_type": "code",
   "execution_count": null,
   "metadata": {},
   "outputs": [],
   "source": []
  },
  {
   "cell_type": "markdown",
   "metadata": {},
   "source": [
    "## Individual Rule Search\n",
    "- Find the single best rule based on coverage difference.\n",
    "- Look at the data diagram to confirm the best rule is found.\n",
    "- Experiment with the OPUS_DEBUG_EXHAUSTIVE setting to learn how OPUS works."
   ]
  },
  {
   "cell_type": "code",
   "execution_count": 8,
   "metadata": {},
   "outputs": [
    {
     "name": "stdout",
     "output_type": "stream",
     "text": [
      "Finished Depth: 1\n",
      " MaxPotQuality: 5.50 (evaluated), 4.67 (todo)\n",
      " Best Rule: [3, 5]:(['A0 < 3' 'A1 < 2']), Quality: 3\n",
      "Finished Depth: 2\n",
      " MaxPotQuality: 5.14 (evaluated), 4.00 (todo)\n",
      " Best Rule: [3, 5]:(['A0 < 3' 'A1 < 2']), Quality: 3\n",
      "Finished Depth: 3\n",
      " MaxPotQuality: 5.00 (evaluated), nan (todo)\n",
      " Best Rule: [3, 5]:(['A0 < 3' 'A1 < 2']), Quality: 3\n",
      "\n",
      "-- Best Rule --\n",
      "Rule: ['A0 < 3' 'A1 < 2']\n",
      "\n",
      " Precision: 0.8000\n",
      " Recall: 0.6667\n",
      " Confusion:\n",
      "  True Pos: 4/6\n",
      "  False Neg: 2/6\n",
      "  False Pos: 1/9\n",
      "  True Neg: 8/9\n",
      "\n"
     ]
    }
   ],
   "source": [
    "qual = rs.RuleQualCoverageDiff(exsToy.FtrStrs)\n",
    "rSrch = rs.OpusRuleSearch(ruleQuality=qual,debug=rs.OPUS_DEBUG_RULE_DEPTH)\n",
    "rBest = rSrch.find_rule(exsToy)\n",
    "\n",
    "print('\\n-- Best Rule --')\n",
    "qual.print_summary([rBest],exsToy.CovTbl,exsToy.Labels)"
   ]
  },
  {
   "cell_type": "code",
   "execution_count": null,
   "metadata": {},
   "outputs": [],
   "source": []
  },
  {
   "cell_type": "markdown",
   "metadata": {},
   "source": [
    "## Rule Set Search"
   ]
  },
  {
   "cell_type": "code",
   "execution_count": 9,
   "metadata": {},
   "outputs": [
    {
     "name": "stdout",
     "output_type": "stream",
     "text": [
      "Help on function rule_set_search in module rules:\n",
      "\n",
      "rule_set_search(ruleQual, ruleSearch, exs, maxSetSize=1e+300, coveredMultWeight=0, debug=False)\n",
      "    Uses a coverage approach to generate a rule set where OPUS is used to determine \n",
      "    the individual rules in the set.  Unless the maximum allowed set size is reached first,\n",
      "    the routine terminates when all examples have been covered.\n",
      "    \n",
      "    -- Parameters --\n",
      "     ruleQual: Reference to the RuleQuality derived class object used to calculate rule quality.\n",
      "     ruleSearch: Reference to the object used to find the best individual rules.\n",
      "     exs: Reference to an Examples class object containing the examples.\n",
      "     maxSetSize: Maximum number of rules allowed in the set (defaults to infinite).\n",
      "     coveredMultWeight: Weight used to multiply the label values of covered examples. \n",
      "       Defaults to 0 which completely removes an example the first time it's covered.\n",
      "     debug: If true, produce debug output.\n",
      "\n"
     ]
    }
   ],
   "source": [
    "help(rs.rule_set_search)"
   ]
  },
  {
   "cell_type": "code",
   "execution_count": 10,
   "metadata": {},
   "outputs": [
    {
     "name": "stdout",
     "output_type": "stream",
     "text": [
      "Searching for individual rule...\n",
      "Finished Depth: 1\n",
      " MaxPotQuality: 1.00 (evaluated), 1.00 (todo)\n",
      " Best Rule: [3, 5]:(['A0 < 3' 'A1 < 2']), Quality: 0.8\n",
      "Finished Depth: 2\n",
      " MaxPotQuality: 1.00 (evaluated), 1.00 (todo)\n",
      " Best Rule: [3, 5]:(['A0 < 3' 'A1 < 2']), Quality: 0.8\n",
      "Finished Depth: 3\n",
      " MaxPotQuality: 1.00 (evaluated), nan (todo)\n",
      " Best Rule: [3, 5]:(['A0 < 3' 'A1 < 2']), Quality: 0.8\n",
      "\n",
      "-- New Rule --\n",
      "Rule: ['A0 < 3' 'A1 < 2']\n",
      "\n",
      " Precision: 0.8000\n",
      " Recall: 0.6667\n",
      " Confusion:\n",
      "  True Pos: 4/6\n",
      "  False Neg: 2/6\n",
      "  False Pos: 1/9\n",
      "  True Neg: 8/9\n",
      "\n",
      "Total Label Weight: 6 (before), 2 (after)\n",
      "\n",
      "Searching for individual rule...\n",
      "Finished Depth: 1\n",
      " MaxPotQuality: 1.00 (evaluated), 1.00 (todo)\n",
      " Best Rule: [2, 5]:(['A0 >= 3' 'A1 < 2']), Quality: 0.25\n",
      "Finished Depth: 2\n",
      " MaxPotQuality: 1.00 (evaluated), 1.00 (todo)\n",
      " Best Rule: [2, 5]:(['A0 >= 3' 'A1 < 2']), Quality: 0.25\n",
      "Finished Depth: 3\n",
      " MaxPotQuality: 1.00 (evaluated), nan (todo)\n",
      " Best Rule: [2, 5]:(['A0 >= 3' 'A1 < 2']), Quality: 0.25\n",
      "\n",
      "-- New Rule --\n",
      "Rule: ['A0 >= 3' 'A1 < 2']\n",
      "\n",
      " Precision: 0.2500\n",
      " Recall: 0.1667\n",
      " Confusion:\n",
      "  True Pos: 1/6\n",
      "  False Neg: 5/6\n",
      "  False Pos: 3/9\n",
      "  True Neg: 6/9\n",
      "\n",
      "Total Label Weight: 2 (before), 1 (after)\n",
      "\n",
      "Searching for individual rule...\n",
      "Finished Depth: 1\n",
      " MaxPotQuality: 1.00 (evaluated), 1.00 (todo)\n",
      " Best Rule: [3, 4]:(['A0 < 3' 'A1 >= 2']), Quality: 0.2\n",
      "Finished Depth: 2\n",
      " MaxPotQuality: 1.00 (evaluated), 1.00 (todo)\n",
      " Best Rule: [3, 4]:(['A0 < 3' 'A1 >= 2']), Quality: 0.2\n",
      "Finished Depth: 3\n",
      " MaxPotQuality: 1.00 (evaluated), nan (todo)\n",
      " Best Rule: [3, 4]:(['A0 < 3' 'A1 >= 2']), Quality: 0.2\n",
      "\n",
      "-- New Rule --\n",
      "Rule: ['A0 < 3' 'A1 >= 2']\n",
      "\n",
      " Precision: 0.2000\n",
      " Recall: 0.1667\n",
      " Confusion:\n",
      "  True Pos: 1/6\n",
      "  False Neg: 5/6\n",
      "  False Pos: 4/9\n",
      "  True Neg: 5/9\n",
      "\n",
      "Total Label Weight: 1 (before), 0 (after)\n",
      "\n",
      "\n",
      "==== Rule Set ====\n",
      "Rule: ['A0 < 3' 'A1 < 2']|['A0 >= 3' 'A1 < 2']|['A0 < 3' 'A1 >= 2']\n",
      "\n",
      " Precision: 0.4286\n",
      " Recall: 1.0000\n",
      " Confusion:\n",
      "  True Pos: 6/6\n",
      "  False Neg: 0/6\n",
      "  False Pos: 8/9\n",
      "  True Neg: 1/9\n",
      "\n",
      "\n",
      "Final Rule Set: ['A0 < 3' 'A1 < 2']|['A0 >= 3' 'A1 < 2']|['A0 < 3' 'A1 >= 2']\n"
     ]
    }
   ],
   "source": [
    "qual = rs.RuleQualPrecision(exsToy.FtrStrs)\n",
    "rSrch = rs.OpusRuleSearch(ruleQuality=qual,debug=rs.OPUS_DEBUG_RULE_DEPTH)\n",
    "ruleSet = rs.rule_set_search(qual,rSrch,exsToy,debug=True)\n",
    "print(f'\\nFinal Rule Set: {qual.ruleset_str(ruleSet)}')"
   ]
  },
  {
   "cell_type": "code",
   "execution_count": null,
   "metadata": {},
   "outputs": [],
   "source": []
  },
  {
   "cell_type": "markdown",
   "metadata": {},
   "source": [
    "## MLB Hospital Data Set\n",
    "Perform a ruleset search for the more sophisticated MLB hospital data set."
   ]
  },
  {
   "cell_type": "code",
   "execution_count": 11,
   "metadata": {},
   "outputs": [],
   "source": [
    "covFileStr = '../data/MLB-CoverageTable.pkl'\n",
    "\n",
    "with open(covFileStr,'rb') as pklFile:\n",
    "    mlbData = pickle.load(pklFile)\n",
    "\n",
    "exsMlb = rs.Examples(mlbData)"
   ]
  },
  {
   "cell_type": "code",
   "execution_count": 12,
   "metadata": {},
   "outputs": [
    {
     "name": "stdout",
     "output_type": "stream",
     "text": [
      "Finished Depth: 1\n",
      " MaxPotQuality: 0.92 (evaluated), 0.88 (todo)\n",
      " Best Rule: [112, 55]:(['A2 >= 56.5' 'A0 < 544']), Quality: 0.7437722419928826\n",
      "Finished Depth: 2\n",
      " MaxPotQuality: 0.89 (evaluated), 0.87 (todo)\n",
      " Best Rule: [112, 55, 28]:(['A2 >= 56.5' 'A0 < 544' 'A0 >= 260']), Quality: 0.7712177121771219\n",
      "Finished Depth: 3\n",
      " MaxPotQuality: 0.88 (evaluated), nan (todo)\n",
      " Best Rule: [112, 55, 28]:(['A2 >= 56.5' 'A0 < 544' 'A0 >= 260']), Quality: 0.7712177121771219\n",
      "\n",
      "-- Best Rule --\n",
      "Rule: ['A2 >= 56.5' 'A0 < 544' 'A0 >= 260']\n",
      "\n",
      " Precision: 0.9048\n",
      " Recall: 0.3115\n",
      " Confusion:\n",
      "  True Pos: 19/61\n",
      "  False Neg: 42/61\n",
      "  False Pos: 2/854\n",
      "  True Neg: 852/854\n",
      "\n"
     ]
    }
   ],
   "source": [
    "qual = rs.RuleQualFScore(exsMlb.FtrStrs,betaSq=0.1)\n",
    "rSrch = rs.OpusRuleSearch(ruleQuality=qual, maxRuleLen=3, debug=rs.OPUS_DEBUG_RULE_DEPTH)\n",
    "rBest = rSrch.find_rule(exsMlb)\n",
    "\n",
    "print('\\n-- Best Rule --')\n",
    "qual.print_summary([rBest],exsMlb.CovTbl,exsMlb.Labels)"
   ]
  },
  {
   "cell_type": "code",
   "execution_count": null,
   "metadata": {},
   "outputs": [],
   "source": []
  },
  {
   "cell_type": "code",
   "execution_count": 13,
   "metadata": {},
   "outputs": [
    {
     "name": "stdout",
     "output_type": "stream",
     "text": [
      "Searching for individual rule...\n",
      "Finished Depth: 1\n",
      " MaxPotQuality: 0.92 (evaluated), 0.88 (todo)\n",
      " Best Rule: [112, 55]:(['A2 >= 56.5' 'A0 < 544']), Quality: 0.7437722419928826\n",
      "Finished Depth: 2\n",
      " MaxPotQuality: 0.89 (evaluated), 0.87 (todo)\n",
      " Best Rule: [112, 55, 28]:(['A2 >= 56.5' 'A0 < 544' 'A0 >= 260']), Quality: 0.7712177121771219\n",
      "Finished Depth: 3\n",
      " MaxPotQuality: 0.88 (evaluated), nan (todo)\n",
      " Best Rule: [112, 55, 28]:(['A2 >= 56.5' 'A0 < 544' 'A0 >= 260']), Quality: 0.7712177121771219\n",
      "\n",
      "-- New Rule --\n",
      "Rule: ['A2 >= 56.5' 'A0 < 544' 'A0 >= 260']\n",
      "\n",
      " Precision: 0.9048\n",
      " Recall: 0.3115\n",
      " Confusion:\n",
      "  True Pos: 19/61\n",
      "  False Neg: 42/61\n",
      "  False Pos: 2/854\n",
      "  True Neg: 852/854\n",
      "\n",
      "Total Label Weight: 61.0 (before), 42.0 (after)\n",
      "\n",
      "Searching for individual rule...\n",
      "Finished Depth: 1\n",
      " MaxPotQuality: 0.91 (evaluated), 0.85 (todo)\n",
      " Best Rule: [104, 109]:(['A2 >= 42.5' 'A2 < 52.5']), Quality: 0.5755813953488372\n",
      "Finished Depth: 2\n",
      " MaxPotQuality: 0.86 (evaluated), 0.82 (todo)\n",
      " Best Rule: [104, 109, 22]:(['A2 >= 42.5' 'A2 < 52.5' 'A0 >= 210']), Quality: 0.6111111111111112\n",
      "Finished Depth: 3\n",
      " MaxPotQuality: 0.83 (evaluated), nan (todo)\n",
      " Best Rule: [104, 109, 22]:(['A2 >= 42.5' 'A2 < 52.5' 'A0 >= 210']), Quality: 0.6111111111111112\n",
      "\n",
      "-- New Rule --\n",
      "Rule: ['A2 >= 42.5' 'A2 < 52.5' 'A0 >= 210']\n",
      "\n",
      " Precision: 0.7500\n",
      " Recall: 0.1475\n",
      " Confusion:\n",
      "  True Pos: 9/61\n",
      "  False Neg: 52/61\n",
      "  False Pos: 3/854\n",
      "  True Neg: 851/854\n",
      "\n",
      "Total Label Weight: 42.0 (before), 33.0 (after)\n",
      "\n",
      "\n",
      "==== Rule Set ====\n",
      "Rule: ['A2 >= 56.5' 'A0 < 544' 'A0 >= 260']|['A2 >= 42.5' 'A2 < 52.5' 'A0 >= 210']\n",
      "\n",
      " Precision: 0.8485\n",
      " Recall: 0.4590\n",
      " Confusion:\n",
      "  True Pos: 28/61\n",
      "  False Neg: 33/61\n",
      "  False Pos: 5/854\n",
      "  True Neg: 849/854\n",
      "\n",
      "\n",
      "Final Rule Set: ['A2 >= 56.5' 'A0 < 544' 'A0 >= 260']|['A2 >= 42.5' 'A2 < 52.5' 'A0 >= 210']\n"
     ]
    }
   ],
   "source": [
    "qual = rs.RuleQualFScore(exsMlb.FtrStrs,betaSq=0.1)\n",
    "rSrch = rs.OpusRuleSearch(ruleQuality=qual, maxRuleLen=3, debug=rs.OPUS_DEBUG_RULE_DEPTH)\n",
    "ruleSet = rs.rule_set_search(qual,rSrch,exsMlb,maxSetSize=2,debug=True)\n",
    "print(f'\\nFinal Rule Set: {qual.ruleset_str(ruleSet)}')"
   ]
  },
  {
   "cell_type": "code",
   "execution_count": null,
   "metadata": {},
   "outputs": [],
   "source": []
  },
  {
   "cell_type": "code",
   "execution_count": null,
   "metadata": {},
   "outputs": [],
   "source": []
  },
  {
   "cell_type": "code",
   "execution_count": null,
   "metadata": {},
   "outputs": [],
   "source": []
  },
  {
   "cell_type": "code",
   "execution_count": null,
   "metadata": {},
   "outputs": [],
   "source": []
  }
 ],
 "metadata": {
  "kernelspec": {
   "display_name": "Python 3 (ipykernel)",
   "language": "python",
   "name": "python3"
  },
  "language_info": {
   "codemirror_mode": {
    "name": "ipython",
    "version": 3
   },
   "file_extension": ".py",
   "mimetype": "text/x-python",
   "name": "python",
   "nbconvert_exporter": "python",
   "pygments_lexer": "ipython3",
   "version": "3.9.7"
  }
 },
 "nbformat": 4,
 "nbformat_minor": 4
}
