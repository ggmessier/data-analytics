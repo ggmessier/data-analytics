{
 "cells": [
  {
   "cell_type": "code",
   "execution_count": 1,
   "metadata": {},
   "outputs": [],
   "source": [
    "import numpy as np\n",
    "import pandas as pd\n",
    "import datetime\n",
    "import copy\n",
    "import time\n",
    "import os\n",
    "import re\n",
    "import matplotlib.pyplot as plt\n",
    "import matplotlib.ticker as ticker\n",
    "import operator\n",
    "\n",
    "from tqdm.auto import tqdm, trange\n",
    "from tqdm.notebook import tqdm\n",
    "from datetime import timedelta\n",
    "\n",
    "tqdm.pandas()"
   ]
  },
  {
   "cell_type": "code",
   "execution_count": 2,
   "metadata": {},
   "outputs": [],
   "source": [
    "# Edit to point to your MIMIC directory.\n",
    "dataDirStr = '/Users/gmessier/data/mimic-1.4/'"
   ]
  },
  {
   "cell_type": "code",
   "execution_count": 3,
   "metadata": {},
   "outputs": [
    {
     "data": {
      "text/html": [
       "<div>\n",
       "<style scoped>\n",
       "    .dataframe tbody tr th:only-of-type {\n",
       "        vertical-align: middle;\n",
       "    }\n",
       "\n",
       "    .dataframe tbody tr th {\n",
       "        vertical-align: top;\n",
       "    }\n",
       "\n",
       "    .dataframe thead th {\n",
       "        text-align: right;\n",
       "    }\n",
       "</style>\n",
       "<table border=\"1\" class=\"dataframe\">\n",
       "  <thead>\n",
       "    <tr style=\"text-align: right;\">\n",
       "      <th></th>\n",
       "      <th>row_id</th>\n",
       "      <th>subject_id</th>\n",
       "      <th>hadm_id</th>\n",
       "      <th>drg_type</th>\n",
       "      <th>drg_code</th>\n",
       "      <th>description</th>\n",
       "      <th>drg_severity</th>\n",
       "      <th>drg_mortality</th>\n",
       "    </tr>\n",
       "  </thead>\n",
       "  <tbody>\n",
       "    <tr>\n",
       "      <th>0</th>\n",
       "      <td>342</td>\n",
       "      <td>2491</td>\n",
       "      <td>144486</td>\n",
       "      <td>HCFA</td>\n",
       "      <td>28</td>\n",
       "      <td>TRAUMATIC STUPOR &amp; COMA, COMA &lt;1 HR AGE &gt;17 WI...</td>\n",
       "      <td>NaN</td>\n",
       "      <td>NaN</td>\n",
       "    </tr>\n",
       "    <tr>\n",
       "      <th>1</th>\n",
       "      <td>343</td>\n",
       "      <td>24958</td>\n",
       "      <td>162910</td>\n",
       "      <td>HCFA</td>\n",
       "      <td>110</td>\n",
       "      <td>MAJOR CARDIOVASCULAR PROCEDURES WITH COMPLICAT...</td>\n",
       "      <td>NaN</td>\n",
       "      <td>NaN</td>\n",
       "    </tr>\n",
       "    <tr>\n",
       "      <th>2</th>\n",
       "      <td>344</td>\n",
       "      <td>18325</td>\n",
       "      <td>153751</td>\n",
       "      <td>HCFA</td>\n",
       "      <td>390</td>\n",
       "      <td>NEONATE WITH OTHER SIGNIFICANT PROBLEMS</td>\n",
       "      <td>NaN</td>\n",
       "      <td>NaN</td>\n",
       "    </tr>\n",
       "    <tr>\n",
       "      <th>3</th>\n",
       "      <td>345</td>\n",
       "      <td>17887</td>\n",
       "      <td>182692</td>\n",
       "      <td>HCFA</td>\n",
       "      <td>14</td>\n",
       "      <td>SPECIFIC CEREBROVASCULAR DISORDERS EXCEPT TRAN...</td>\n",
       "      <td>NaN</td>\n",
       "      <td>NaN</td>\n",
       "    </tr>\n",
       "    <tr>\n",
       "      <th>4</th>\n",
       "      <td>346</td>\n",
       "      <td>11113</td>\n",
       "      <td>157980</td>\n",
       "      <td>HCFA</td>\n",
       "      <td>390</td>\n",
       "      <td>NEONATE WITH OTHER SIGNIFICANT PROBLEMS</td>\n",
       "      <td>NaN</td>\n",
       "      <td>NaN</td>\n",
       "    </tr>\n",
       "    <tr>\n",
       "      <th>...</th>\n",
       "      <td>...</td>\n",
       "      <td>...</td>\n",
       "      <td>...</td>\n",
       "      <td>...</td>\n",
       "      <td>...</td>\n",
       "      <td>...</td>\n",
       "      <td>...</td>\n",
       "      <td>...</td>\n",
       "    </tr>\n",
       "    <tr>\n",
       "      <th>125552</th>\n",
       "      <td>123452</td>\n",
       "      <td>71582</td>\n",
       "      <td>101422</td>\n",
       "      <td>MS</td>\n",
       "      <td>221</td>\n",
       "      <td>CARDIAC VALVE &amp; OTH MAJ CARDIOTHORACIC PROC W/...</td>\n",
       "      <td>NaN</td>\n",
       "      <td>NaN</td>\n",
       "    </tr>\n",
       "    <tr>\n",
       "      <th>125553</th>\n",
       "      <td>123453</td>\n",
       "      <td>46449</td>\n",
       "      <td>110075</td>\n",
       "      <td>APR</td>\n",
       "      <td>1653</td>\n",
       "      <td>Coronary Bypass w/ Cardiac Cath Or Percutaneou...</td>\n",
       "      <td>3.0</td>\n",
       "      <td>2.0</td>\n",
       "    </tr>\n",
       "    <tr>\n",
       "      <th>125554</th>\n",
       "      <td>123454</td>\n",
       "      <td>46449</td>\n",
       "      <td>110075</td>\n",
       "      <td>APR</td>\n",
       "      <td>1653</td>\n",
       "      <td>Coronary Bypass w/ Cardiac Cath Or Percutaneou...</td>\n",
       "      <td>3.0</td>\n",
       "      <td>2.0</td>\n",
       "    </tr>\n",
       "    <tr>\n",
       "      <th>125555</th>\n",
       "      <td>123455</td>\n",
       "      <td>46449</td>\n",
       "      <td>110075</td>\n",
       "      <td>MS</td>\n",
       "      <td>234</td>\n",
       "      <td>CORONARY BYPASS W CARDIAC CATH W/O MCC</td>\n",
       "      <td>NaN</td>\n",
       "      <td>NaN</td>\n",
       "    </tr>\n",
       "    <tr>\n",
       "      <th>125556</th>\n",
       "      <td>123456</td>\n",
       "      <td>87879</td>\n",
       "      <td>155607</td>\n",
       "      <td>APR</td>\n",
       "      <td>6813</td>\n",
       "      <td>Other O.R. Procedures For Lymphatic/Hematopiet...</td>\n",
       "      <td>3.0</td>\n",
       "      <td>2.0</td>\n",
       "    </tr>\n",
       "  </tbody>\n",
       "</table>\n",
       "<p>125557 rows × 8 columns</p>\n",
       "</div>"
      ],
      "text/plain": [
       "        row_id  subject_id  hadm_id drg_type  drg_code  \\\n",
       "0          342        2491   144486     HCFA        28   \n",
       "1          343       24958   162910     HCFA       110   \n",
       "2          344       18325   153751     HCFA       390   \n",
       "3          345       17887   182692     HCFA        14   \n",
       "4          346       11113   157980     HCFA       390   \n",
       "...        ...         ...      ...      ...       ...   \n",
       "125552  123452       71582   101422       MS       221   \n",
       "125553  123453       46449   110075     APR       1653   \n",
       "125554  123454       46449   110075     APR       1653   \n",
       "125555  123455       46449   110075       MS       234   \n",
       "125556  123456       87879   155607     APR       6813   \n",
       "\n",
       "                                              description  drg_severity  \\\n",
       "0       TRAUMATIC STUPOR & COMA, COMA <1 HR AGE >17 WI...           NaN   \n",
       "1       MAJOR CARDIOVASCULAR PROCEDURES WITH COMPLICAT...           NaN   \n",
       "2                 NEONATE WITH OTHER SIGNIFICANT PROBLEMS           NaN   \n",
       "3       SPECIFIC CEREBROVASCULAR DISORDERS EXCEPT TRAN...           NaN   \n",
       "4                 NEONATE WITH OTHER SIGNIFICANT PROBLEMS           NaN   \n",
       "...                                                   ...           ...   \n",
       "125552  CARDIAC VALVE & OTH MAJ CARDIOTHORACIC PROC W/...           NaN   \n",
       "125553  Coronary Bypass w/ Cardiac Cath Or Percutaneou...           3.0   \n",
       "125554  Coronary Bypass w/ Cardiac Cath Or Percutaneou...           3.0   \n",
       "125555             CORONARY BYPASS W CARDIAC CATH W/O MCC           NaN   \n",
       "125556  Other O.R. Procedures For Lymphatic/Hematopiet...           3.0   \n",
       "\n",
       "        drg_mortality  \n",
       "0                 NaN  \n",
       "1                 NaN  \n",
       "2                 NaN  \n",
       "3                 NaN  \n",
       "4                 NaN  \n",
       "...               ...  \n",
       "125552            NaN  \n",
       "125553            2.0  \n",
       "125554            2.0  \n",
       "125555            NaN  \n",
       "125556            2.0  \n",
       "\n",
       "[125557 rows x 8 columns]"
      ]
     },
     "execution_count": 3,
     "metadata": {},
     "output_type": "execute_result"
    }
   ],
   "source": [
    "drgcodes_df = pd.read_csv(dataDirStr + \"DRGCODES.csv\")\n",
    "drgcodes_df.columns = drgcodes_df.columns.str.lower()\n",
    "drgcodes_df"
   ]
  },
  {
   "cell_type": "markdown",
   "metadata": {},
   "source": [
    "`DRGCODES.parquet` contains diagnoses reglated groups (DRG) for patients. This table is directly linked to the patients (subject_id) and admissions (hadm_id) tables."
   ]
  },
  {
   "cell_type": "code",
   "execution_count": 4,
   "metadata": {},
   "outputs": [
    {
     "name": "stdout",
     "output_type": "stream",
     "text": [
      "There are 46511 patients who are linked to a DRG\n"
     ]
    }
   ],
   "source": [
    "print(f\"There are {drgcodes_df.subject_id.nunique()} patients who are linked to a DRG\")"
   ]
  },
  {
   "cell_type": "markdown",
   "metadata": {},
   "source": [
    "`drg_type` is categorical data. It contains the type of DRG code in the entry. There are three types of DRG codes. HCFA is \"Health Care Financing Administration\", MS is \"Medicare\" and APR is \"All Payers Registry\"."
   ]
  },
  {
   "cell_type": "code",
   "execution_count": 5,
   "metadata": {},
   "outputs": [
    {
     "data": {
      "text/html": [
       "<div>\n",
       "<style scoped>\n",
       "    .dataframe tbody tr th:only-of-type {\n",
       "        vertical-align: middle;\n",
       "    }\n",
       "\n",
       "    .dataframe tbody tr th {\n",
       "        vertical-align: top;\n",
       "    }\n",
       "\n",
       "    .dataframe thead th {\n",
       "        text-align: right;\n",
       "    }\n",
       "</style>\n",
       "<table border=\"1\" class=\"dataframe\">\n",
       "  <thead>\n",
       "    <tr style=\"text-align: right;\">\n",
       "      <th></th>\n",
       "      <th>counts</th>\n",
       "      <th>%</th>\n",
       "    </tr>\n",
       "  </thead>\n",
       "  <tbody>\n",
       "    <tr>\n",
       "      <th>APR</th>\n",
       "      <td>66634</td>\n",
       "      <td>53.07</td>\n",
       "    </tr>\n",
       "    <tr>\n",
       "      <th>HCFA</th>\n",
       "      <td>31644</td>\n",
       "      <td>25.20</td>\n",
       "    </tr>\n",
       "    <tr>\n",
       "      <th>MS</th>\n",
       "      <td>27279</td>\n",
       "      <td>21.73</td>\n",
       "    </tr>\n",
       "  </tbody>\n",
       "</table>\n",
       "</div>"
      ],
      "text/plain": [
       "      counts      %\n",
       "APR    66634  53.07\n",
       "HCFA   31644  25.20\n",
       "MS     27279  21.73"
      ]
     },
     "execution_count": 5,
     "metadata": {},
     "output_type": "execute_result"
    }
   ],
   "source": [
    "c = drgcodes_df.drg_type.value_counts()\n",
    "p = drgcodes_df.drg_type.value_counts(normalize=True).mul(100).round(2)\n",
    "pd.concat([c,p], axis=1, keys=['counts', '%'])"
   ]
  },
  {
   "cell_type": "markdown",
   "metadata": {},
   "source": [
    "`drg_code` contains a code which represented the diagnoses billed for by the hospital. There are a total of 1789 DRG codes."
   ]
  },
  {
   "cell_type": "code",
   "execution_count": 6,
   "metadata": {},
   "outputs": [
    {
     "data": {
      "text/html": [
       "<div>\n",
       "<style scoped>\n",
       "    .dataframe tbody tr th:only-of-type {\n",
       "        vertical-align: middle;\n",
       "    }\n",
       "\n",
       "    .dataframe tbody tr th {\n",
       "        vertical-align: top;\n",
       "    }\n",
       "\n",
       "    .dataframe thead th {\n",
       "        text-align: right;\n",
       "    }\n",
       "</style>\n",
       "<table border=\"1\" class=\"dataframe\">\n",
       "  <thead>\n",
       "    <tr style=\"text-align: right;\">\n",
       "      <th></th>\n",
       "      <th>counts</th>\n",
       "      <th>%</th>\n",
       "    </tr>\n",
       "  </thead>\n",
       "  <tbody>\n",
       "    <tr>\n",
       "      <th>7204</th>\n",
       "      <td>3042</td>\n",
       "      <td>2.42</td>\n",
       "    </tr>\n",
       "    <tr>\n",
       "      <th>391</th>\n",
       "      <td>2653</td>\n",
       "      <td>2.11</td>\n",
       "    </tr>\n",
       "    <tr>\n",
       "      <th>1662</th>\n",
       "      <td>1367</td>\n",
       "      <td>1.09</td>\n",
       "    </tr>\n",
       "    <tr>\n",
       "      <th>6402</th>\n",
       "      <td>1342</td>\n",
       "      <td>1.07</td>\n",
       "    </tr>\n",
       "    <tr>\n",
       "      <th>871</th>\n",
       "      <td>1226</td>\n",
       "      <td>0.98</td>\n",
       "    </tr>\n",
       "  </tbody>\n",
       "</table>\n",
       "</div>"
      ],
      "text/plain": [
       "      counts     %\n",
       "7204    3042  2.42\n",
       "391     2653  2.11\n",
       "1662    1367  1.09\n",
       "6402    1342  1.07\n",
       "871     1226  0.98"
      ]
     },
     "execution_count": 6,
     "metadata": {},
     "output_type": "execute_result"
    }
   ],
   "source": [
    "c = drgcodes_df.drg_code.value_counts()[:5]\n",
    "p = p = drgcodes_df.drg_code.value_counts(normalize=True).mul(100).round(2)[:5]\n",
    "pd.concat([c,p], axis=1, keys=['counts', '%'])"
   ]
  },
  {
   "cell_type": "markdown",
   "metadata": {},
   "source": [
    "`description` is a human understandable summary of the given `drg_code`. "
   ]
  },
  {
   "cell_type": "code",
   "execution_count": 7,
   "metadata": {},
   "outputs": [
    {
     "data": {
      "text/html": [
       "<div>\n",
       "<style scoped>\n",
       "    .dataframe tbody tr th:only-of-type {\n",
       "        vertical-align: middle;\n",
       "    }\n",
       "\n",
       "    .dataframe tbody tr th {\n",
       "        vertical-align: top;\n",
       "    }\n",
       "\n",
       "    .dataframe thead th {\n",
       "        text-align: right;\n",
       "    }\n",
       "</style>\n",
       "<table border=\"1\" class=\"dataframe\">\n",
       "  <thead>\n",
       "    <tr style=\"text-align: right;\">\n",
       "      <th></th>\n",
       "      <th>counts</th>\n",
       "      <th>%</th>\n",
       "    </tr>\n",
       "  </thead>\n",
       "  <tbody>\n",
       "    <tr>\n",
       "      <th>Septicemia &amp; Disseminated Infections</th>\n",
       "      <td>3854</td>\n",
       "      <td>3.07</td>\n",
       "    </tr>\n",
       "    <tr>\n",
       "      <th>NORMAL NEWBORN</th>\n",
       "      <td>2805</td>\n",
       "      <td>2.24</td>\n",
       "    </tr>\n",
       "    <tr>\n",
       "      <th>Cardiac Valve Procedures w/o Cardiac Catheterization</th>\n",
       "      <td>2486</td>\n",
       "      <td>1.98</td>\n",
       "    </tr>\n",
       "    <tr>\n",
       "      <th>Coronary Bypass w/o Cardiac Cath Or Percutaneous Cardiac Procedure</th>\n",
       "      <td>2378</td>\n",
       "      <td>1.89</td>\n",
       "    </tr>\n",
       "    <tr>\n",
       "      <th>Neonate, Bwt &gt; 2499g, Normal Newborn Or Neonate W Other Problem</th>\n",
       "      <td>2099</td>\n",
       "      <td>1.67</td>\n",
       "    </tr>\n",
       "  </tbody>\n",
       "</table>\n",
       "</div>"
      ],
      "text/plain": [
       "                                                    counts     %\n",
       "Septicemia & Disseminated Infections                  3854  3.07\n",
       "NORMAL NEWBORN                                        2805  2.24\n",
       "Cardiac Valve Procedures w/o Cardiac Catheteriz...    2486  1.98\n",
       "Coronary Bypass w/o Cardiac Cath Or Percutaneou...    2378  1.89\n",
       "Neonate, Bwt > 2499g, Normal Newborn Or Neonate...    2099  1.67"
      ]
     },
     "execution_count": 7,
     "metadata": {},
     "output_type": "execute_result"
    }
   ],
   "source": [
    "c = drgcodes_df.description.value_counts()[:5]\n",
    "p = drgcodes_df.description.value_counts(normalize=True).mul(100).round(2)[:5]\n",
    "pd.concat([c,p], axis=1, keys=['counts', '%'])"
   ]
  },
  {
   "cell_type": "markdown",
   "metadata": {},
   "source": [
    "`drg_severity` and `drg_mortality` provide additional granuality to the DRG codes when the `drg_type` is \"APR\". Severity and mortality allow for higher billing costs when a diagnosis is more/less severe."
   ]
  },
  {
   "cell_type": "code",
   "execution_count": null,
   "metadata": {},
   "outputs": [],
   "source": []
  }
 ],
 "metadata": {
  "kernelspec": {
   "display_name": "Python 3 (ipykernel)",
   "language": "python",
   "name": "python3"
  },
  "language_info": {
   "codemirror_mode": {
    "name": "ipython",
    "version": 3
   },
   "file_extension": ".py",
   "mimetype": "text/x-python",
   "name": "python",
   "nbconvert_exporter": "python",
   "pygments_lexer": "ipython3",
   "version": "3.9.7"
  },
  "vscode": {
   "interpreter": {
    "hash": "81686e47d536e3df6c61aad70b193c760b1d667c8c8e04f426182dba08a834b2"
   }
  }
 },
 "nbformat": 4,
 "nbformat_minor": 4
}
