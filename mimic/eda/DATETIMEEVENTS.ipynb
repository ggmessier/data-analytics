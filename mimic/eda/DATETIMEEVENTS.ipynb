{
 "cells": [
  {
   "cell_type": "code",
   "execution_count": 1,
   "metadata": {},
   "outputs": [],
   "source": [
    "import numpy as np\n",
    "import pandas as pd\n",
    "import datetime\n",
    "import copy\n",
    "import time\n",
    "import os\n",
    "import re\n",
    "import matplotlib.pyplot as plt\n",
    "import matplotlib.ticker as ticker\n",
    "import operator\n",
    "\n",
    "from tqdm.auto import tqdm, trange\n",
    "from tqdm.notebook import tqdm\n",
    "from datetime import timedelta\n",
    "\n",
    "tqdm.pandas()"
   ]
  },
  {
   "cell_type": "code",
   "execution_count": 2,
   "metadata": {},
   "outputs": [],
   "source": [
    "# Edit to point to your MIMIC directory.\n",
    "dataDirStr = '/Users/gmessier/data/mimic-1.4/'"
   ]
  },
  {
   "cell_type": "code",
   "execution_count": 3,
   "metadata": {},
   "outputs": [
    {
     "name": "stderr",
     "output_type": "stream",
     "text": [
      "/Users/gmessier/miniforge3/lib/python3.9/site-packages/IPython/core/interactiveshell.py:3444: DtypeWarning: Columns (13) have mixed types.Specify dtype option on import or set low_memory=False.\n",
      "  exec(code_obj, self.user_global_ns, self.user_ns)\n"
     ]
    },
    {
     "data": {
      "text/html": [
       "<div>\n",
       "<style scoped>\n",
       "    .dataframe tbody tr th:only-of-type {\n",
       "        vertical-align: middle;\n",
       "    }\n",
       "\n",
       "    .dataframe tbody tr th {\n",
       "        vertical-align: top;\n",
       "    }\n",
       "\n",
       "    .dataframe thead th {\n",
       "        text-align: right;\n",
       "    }\n",
       "</style>\n",
       "<table border=\"1\" class=\"dataframe\">\n",
       "  <thead>\n",
       "    <tr style=\"text-align: right;\">\n",
       "      <th></th>\n",
       "      <th>row_id</th>\n",
       "      <th>subject_id</th>\n",
       "      <th>hadm_id</th>\n",
       "      <th>icustay_id</th>\n",
       "      <th>itemid</th>\n",
       "      <th>charttime</th>\n",
       "      <th>storetime</th>\n",
       "      <th>cgid</th>\n",
       "      <th>value</th>\n",
       "      <th>valueuom</th>\n",
       "      <th>warning</th>\n",
       "      <th>error</th>\n",
       "      <th>resultstatus</th>\n",
       "      <th>stopped</th>\n",
       "    </tr>\n",
       "  </thead>\n",
       "  <tbody>\n",
       "    <tr>\n",
       "      <th>0</th>\n",
       "      <td>711</td>\n",
       "      <td>7657</td>\n",
       "      <td>121183.0</td>\n",
       "      <td>297945.0</td>\n",
       "      <td>3411</td>\n",
       "      <td>2172-03-14 11:00:00</td>\n",
       "      <td>2172-03-14 11:52:00</td>\n",
       "      <td>16446</td>\n",
       "      <td>NaN</td>\n",
       "      <td>Date</td>\n",
       "      <td>NaN</td>\n",
       "      <td>NaN</td>\n",
       "      <td>NaN</td>\n",
       "      <td>NotStopd</td>\n",
       "    </tr>\n",
       "    <tr>\n",
       "      <th>1</th>\n",
       "      <td>712</td>\n",
       "      <td>7657</td>\n",
       "      <td>121183.0</td>\n",
       "      <td>297945.0</td>\n",
       "      <td>3411</td>\n",
       "      <td>2172-03-14 13:00:00</td>\n",
       "      <td>2172-03-14 12:36:00</td>\n",
       "      <td>16446</td>\n",
       "      <td>NaN</td>\n",
       "      <td>Date</td>\n",
       "      <td>NaN</td>\n",
       "      <td>NaN</td>\n",
       "      <td>NaN</td>\n",
       "      <td>NotStopd</td>\n",
       "    </tr>\n",
       "    <tr>\n",
       "      <th>2</th>\n",
       "      <td>713</td>\n",
       "      <td>7657</td>\n",
       "      <td>121183.0</td>\n",
       "      <td>297945.0</td>\n",
       "      <td>3411</td>\n",
       "      <td>2172-03-14 15:00:00</td>\n",
       "      <td>2172-03-14 15:10:00</td>\n",
       "      <td>14957</td>\n",
       "      <td>NaN</td>\n",
       "      <td>Date</td>\n",
       "      <td>NaN</td>\n",
       "      <td>NaN</td>\n",
       "      <td>NaN</td>\n",
       "      <td>NotStopd</td>\n",
       "    </tr>\n",
       "    <tr>\n",
       "      <th>3</th>\n",
       "      <td>714</td>\n",
       "      <td>7657</td>\n",
       "      <td>121183.0</td>\n",
       "      <td>297945.0</td>\n",
       "      <td>3411</td>\n",
       "      <td>2172-03-14 17:00:00</td>\n",
       "      <td>2172-03-14 17:01:00</td>\n",
       "      <td>16446</td>\n",
       "      <td>NaN</td>\n",
       "      <td>Date</td>\n",
       "      <td>NaN</td>\n",
       "      <td>NaN</td>\n",
       "      <td>NaN</td>\n",
       "      <td>NotStopd</td>\n",
       "    </tr>\n",
       "    <tr>\n",
       "      <th>4</th>\n",
       "      <td>715</td>\n",
       "      <td>7657</td>\n",
       "      <td>121183.0</td>\n",
       "      <td>297945.0</td>\n",
       "      <td>3411</td>\n",
       "      <td>2172-03-14 19:00:00</td>\n",
       "      <td>2172-03-14 19:29:00</td>\n",
       "      <td>14815</td>\n",
       "      <td>NaN</td>\n",
       "      <td>Date</td>\n",
       "      <td>NaN</td>\n",
       "      <td>NaN</td>\n",
       "      <td>NaN</td>\n",
       "      <td>NotStopd</td>\n",
       "    </tr>\n",
       "    <tr>\n",
       "      <th>...</th>\n",
       "      <td>...</td>\n",
       "      <td>...</td>\n",
       "      <td>...</td>\n",
       "      <td>...</td>\n",
       "      <td>...</td>\n",
       "      <td>...</td>\n",
       "      <td>...</td>\n",
       "      <td>...</td>\n",
       "      <td>...</td>\n",
       "      <td>...</td>\n",
       "      <td>...</td>\n",
       "      <td>...</td>\n",
       "      <td>...</td>\n",
       "      <td>...</td>\n",
       "    </tr>\n",
       "    <tr>\n",
       "      <th>4485932</th>\n",
       "      <td>4456093</td>\n",
       "      <td>99366</td>\n",
       "      <td>136021.0</td>\n",
       "      <td>218447.0</td>\n",
       "      <td>224279</td>\n",
       "      <td>2197-03-24 16:32:00</td>\n",
       "      <td>2197-03-24 16:32:00</td>\n",
       "      <td>18234</td>\n",
       "      <td>2197-03-24 13:03:00</td>\n",
       "      <td>Date and Time</td>\n",
       "      <td>0.0</td>\n",
       "      <td>0.0</td>\n",
       "      <td>NaN</td>\n",
       "      <td>NaN</td>\n",
       "    </tr>\n",
       "    <tr>\n",
       "      <th>4485933</th>\n",
       "      <td>4456094</td>\n",
       "      <td>99366</td>\n",
       "      <td>136021.0</td>\n",
       "      <td>218447.0</td>\n",
       "      <td>224280</td>\n",
       "      <td>2197-03-24 16:32:00</td>\n",
       "      <td>2197-03-24 16:32:00</td>\n",
       "      <td>18234</td>\n",
       "      <td>2197-03-24 00:00:00</td>\n",
       "      <td>Date</td>\n",
       "      <td>0.0</td>\n",
       "      <td>0.0</td>\n",
       "      <td>NaN</td>\n",
       "      <td>NaN</td>\n",
       "    </tr>\n",
       "    <tr>\n",
       "      <th>4485934</th>\n",
       "      <td>4456095</td>\n",
       "      <td>99366</td>\n",
       "      <td>136021.0</td>\n",
       "      <td>218447.0</td>\n",
       "      <td>224282</td>\n",
       "      <td>2197-03-24 16:32:00</td>\n",
       "      <td>2197-03-24 16:32:00</td>\n",
       "      <td>18234</td>\n",
       "      <td>2197-03-24 00:00:00</td>\n",
       "      <td>Date</td>\n",
       "      <td>0.0</td>\n",
       "      <td>0.0</td>\n",
       "      <td>NaN</td>\n",
       "      <td>NaN</td>\n",
       "    </tr>\n",
       "    <tr>\n",
       "      <th>4485935</th>\n",
       "      <td>4456096</td>\n",
       "      <td>99366</td>\n",
       "      <td>136021.0</td>\n",
       "      <td>218447.0</td>\n",
       "      <td>224284</td>\n",
       "      <td>2197-03-24 16:32:00</td>\n",
       "      <td>2197-03-24 16:32:00</td>\n",
       "      <td>18234</td>\n",
       "      <td>2197-03-24 00:00:00</td>\n",
       "      <td>Date</td>\n",
       "      <td>0.0</td>\n",
       "      <td>0.0</td>\n",
       "      <td>NaN</td>\n",
       "      <td>NaN</td>\n",
       "    </tr>\n",
       "    <tr>\n",
       "      <th>4485936</th>\n",
       "      <td>4456097</td>\n",
       "      <td>99366</td>\n",
       "      <td>136021.0</td>\n",
       "      <td>218447.0</td>\n",
       "      <td>224287</td>\n",
       "      <td>2197-03-24 16:32:00</td>\n",
       "      <td>2197-03-24 16:32:00</td>\n",
       "      <td>18234</td>\n",
       "      <td>2197-03-24 15:04:00</td>\n",
       "      <td>Date and Time</td>\n",
       "      <td>0.0</td>\n",
       "      <td>0.0</td>\n",
       "      <td>NaN</td>\n",
       "      <td>NaN</td>\n",
       "    </tr>\n",
       "  </tbody>\n",
       "</table>\n",
       "<p>4485937 rows × 14 columns</p>\n",
       "</div>"
      ],
      "text/plain": [
       "          row_id  subject_id   hadm_id  icustay_id  itemid  \\\n",
       "0            711        7657  121183.0    297945.0    3411   \n",
       "1            712        7657  121183.0    297945.0    3411   \n",
       "2            713        7657  121183.0    297945.0    3411   \n",
       "3            714        7657  121183.0    297945.0    3411   \n",
       "4            715        7657  121183.0    297945.0    3411   \n",
       "...          ...         ...       ...         ...     ...   \n",
       "4485932  4456093       99366  136021.0    218447.0  224279   \n",
       "4485933  4456094       99366  136021.0    218447.0  224280   \n",
       "4485934  4456095       99366  136021.0    218447.0  224282   \n",
       "4485935  4456096       99366  136021.0    218447.0  224284   \n",
       "4485936  4456097       99366  136021.0    218447.0  224287   \n",
       "\n",
       "                   charttime            storetime   cgid                value  \\\n",
       "0        2172-03-14 11:00:00  2172-03-14 11:52:00  16446                  NaN   \n",
       "1        2172-03-14 13:00:00  2172-03-14 12:36:00  16446                  NaN   \n",
       "2        2172-03-14 15:00:00  2172-03-14 15:10:00  14957                  NaN   \n",
       "3        2172-03-14 17:00:00  2172-03-14 17:01:00  16446                  NaN   \n",
       "4        2172-03-14 19:00:00  2172-03-14 19:29:00  14815                  NaN   \n",
       "...                      ...                  ...    ...                  ...   \n",
       "4485932  2197-03-24 16:32:00  2197-03-24 16:32:00  18234  2197-03-24 13:03:00   \n",
       "4485933  2197-03-24 16:32:00  2197-03-24 16:32:00  18234  2197-03-24 00:00:00   \n",
       "4485934  2197-03-24 16:32:00  2197-03-24 16:32:00  18234  2197-03-24 00:00:00   \n",
       "4485935  2197-03-24 16:32:00  2197-03-24 16:32:00  18234  2197-03-24 00:00:00   \n",
       "4485936  2197-03-24 16:32:00  2197-03-24 16:32:00  18234  2197-03-24 15:04:00   \n",
       "\n",
       "              valueuom  warning  error  resultstatus   stopped  \n",
       "0                 Date      NaN    NaN           NaN  NotStopd  \n",
       "1                 Date      NaN    NaN           NaN  NotStopd  \n",
       "2                 Date      NaN    NaN           NaN  NotStopd  \n",
       "3                 Date      NaN    NaN           NaN  NotStopd  \n",
       "4                 Date      NaN    NaN           NaN  NotStopd  \n",
       "...                ...      ...    ...           ...       ...  \n",
       "4485932  Date and Time      0.0    0.0           NaN       NaN  \n",
       "4485933           Date      0.0    0.0           NaN       NaN  \n",
       "4485934           Date      0.0    0.0           NaN       NaN  \n",
       "4485935           Date      0.0    0.0           NaN       NaN  \n",
       "4485936  Date and Time      0.0    0.0           NaN       NaN  \n",
       "\n",
       "[4485937 rows x 14 columns]"
      ]
     },
     "execution_count": 3,
     "metadata": {},
     "output_type": "execute_result"
    }
   ],
   "source": [
    "datetimeevents_df = pd.read_csv(dataDirStr + \"DATETIMEEVENTS.csv\")\n",
    "datetimeevents_df.columns = datetimeevents_df.columns.str.lower()\n",
    "datetimeevents_df"
   ]
  },
  {
   "cell_type": "markdown",
   "metadata": {},
   "source": [
    "`DATETIMEEVENTS` contains all date measurements about a patient in the ICU. This is very similar to `CHARTEVENTS`."
   ]
  },
  {
   "cell_type": "code",
   "execution_count": 4,
   "metadata": {},
   "outputs": [
    {
     "name": "stdout",
     "output_type": "stream",
     "text": [
      "There are 29185 patients who have a date measurement in the ICU \n"
     ]
    }
   ],
   "source": [
    "print(f\"There are {datetimeevents_df.subject_id.nunique()} patients who have a date measurement in the ICU \")"
   ]
  },
  {
   "cell_type": "markdown",
   "metadata": {},
   "source": [
    "`itemid` is categorical data. It refers to the type of measurement taken. Each row is associated with one `itemid`, corresponds to an instantiation of the same measurement. \n",
    "\n",
    "Refer to `D_ITEMS` table for exact definitions of each `itemid`."
   ]
  },
  {
   "cell_type": "code",
   "execution_count": 5,
   "metadata": {},
   "outputs": [
    {
     "data": {
      "text/html": [
       "<div>\n",
       "<style scoped>\n",
       "    .dataframe tbody tr th:only-of-type {\n",
       "        vertical-align: middle;\n",
       "    }\n",
       "\n",
       "    .dataframe tbody tr th {\n",
       "        vertical-align: top;\n",
       "    }\n",
       "\n",
       "    .dataframe thead th {\n",
       "        text-align: right;\n",
       "    }\n",
       "</style>\n",
       "<table border=\"1\" class=\"dataframe\">\n",
       "  <thead>\n",
       "    <tr style=\"text-align: right;\">\n",
       "      <th></th>\n",
       "      <th>counts</th>\n",
       "      <th>%</th>\n",
       "    </tr>\n",
       "  </thead>\n",
       "  <tbody>\n",
       "    <tr>\n",
       "      <th>5684</th>\n",
       "      <td>260957</td>\n",
       "      <td>5.82</td>\n",
       "    </tr>\n",
       "    <tr>\n",
       "      <th>3411</th>\n",
       "      <td>204762</td>\n",
       "      <td>4.56</td>\n",
       "    </tr>\n",
       "    <tr>\n",
       "      <th>5685</th>\n",
       "      <td>200814</td>\n",
       "      <td>4.48</td>\n",
       "    </tr>\n",
       "    <tr>\n",
       "      <th>6704</th>\n",
       "      <td>190596</td>\n",
       "      <td>4.25</td>\n",
       "    </tr>\n",
       "    <tr>\n",
       "      <th>224288</th>\n",
       "      <td>182011</td>\n",
       "      <td>4.06</td>\n",
       "    </tr>\n",
       "  </tbody>\n",
       "</table>\n",
       "</div>"
      ],
      "text/plain": [
       "        counts     %\n",
       "5684    260957  5.82\n",
       "3411    204762  4.56\n",
       "5685    200814  4.48\n",
       "6704    190596  4.25\n",
       "224288  182011  4.06"
      ]
     },
     "execution_count": 5,
     "metadata": {},
     "output_type": "execute_result"
    }
   ],
   "source": [
    "c = datetimeevents_df.itemid.value_counts()[:5]\n",
    "p = datetimeevents_df.itemid.value_counts(normalize=True).mul(100).round(2)[:5]\n",
    "pd.concat([c,p], axis=1, keys=['counts', '%'])"
   ]
  },
  {
   "cell_type": "markdown",
   "metadata": {},
   "source": [
    "`charttime` records the time at which an observation was charted, and is usually the closest proxy to the time the data was actually measured. `storetime` records the time at which an observation was manually input or manually validated by a member of the clinical staff"
   ]
  },
  {
   "cell_type": "markdown",
   "metadata": {},
   "source": [
    "`cgid` is the identifier for the caregiver who validated the given measurement."
   ]
  },
  {
   "cell_type": "code",
   "execution_count": 6,
   "metadata": {},
   "outputs": [
    {
     "data": {
      "text/html": [
       "<div>\n",
       "<style scoped>\n",
       "    .dataframe tbody tr th:only-of-type {\n",
       "        vertical-align: middle;\n",
       "    }\n",
       "\n",
       "    .dataframe tbody tr th {\n",
       "        vertical-align: top;\n",
       "    }\n",
       "\n",
       "    .dataframe thead th {\n",
       "        text-align: right;\n",
       "    }\n",
       "</style>\n",
       "<table border=\"1\" class=\"dataframe\">\n",
       "  <thead>\n",
       "    <tr style=\"text-align: right;\">\n",
       "      <th></th>\n",
       "      <th>counts</th>\n",
       "      <th>%</th>\n",
       "    </tr>\n",
       "  </thead>\n",
       "  <tbody>\n",
       "    <tr>\n",
       "      <th>20889</th>\n",
       "      <td>50643</td>\n",
       "      <td>1.13</td>\n",
       "    </tr>\n",
       "    <tr>\n",
       "      <th>19611</th>\n",
       "      <td>40289</td>\n",
       "      <td>0.90</td>\n",
       "    </tr>\n",
       "    <tr>\n",
       "      <th>21570</th>\n",
       "      <td>32623</td>\n",
       "      <td>0.73</td>\n",
       "    </tr>\n",
       "    <tr>\n",
       "      <th>19963</th>\n",
       "      <td>27861</td>\n",
       "      <td>0.62</td>\n",
       "    </tr>\n",
       "    <tr>\n",
       "      <th>16284</th>\n",
       "      <td>27730</td>\n",
       "      <td>0.62</td>\n",
       "    </tr>\n",
       "  </tbody>\n",
       "</table>\n",
       "</div>"
      ],
      "text/plain": [
       "       counts     %\n",
       "20889   50643  1.13\n",
       "19611   40289  0.90\n",
       "21570   32623  0.73\n",
       "19963   27861  0.62\n",
       "16284   27730  0.62"
      ]
     },
     "execution_count": 6,
     "metadata": {},
     "output_type": "execute_result"
    }
   ],
   "source": [
    "c = datetimeevents_df.cgid.value_counts()[:5]\n",
    "p = datetimeevents_df.cgid.value_counts(normalize=True).mul(100).round(2)[:5]\n",
    "pd.concat([c,p], axis=1, keys=['counts', '%'])"
   ]
  },
  {
   "cell_type": "markdown",
   "metadata": {},
   "source": [
    "`value` and `valuenum` correspond to the value measured for `itemid`. If `value` is numeric, then `value` and `valuenum` are the exact same. If `value` is not numeric, then `valuenum` will be NULL. `valueuom` is the unit of measurement for `value`, if applicable. "
   ]
  },
  {
   "cell_type": "markdown",
   "metadata": {},
   "source": [
    "`warning` and `error` are binary valued columns, which specify if a warning or an error value occured for that measurement."
   ]
  },
  {
   "cell_type": "code",
   "execution_count": 7,
   "metadata": {},
   "outputs": [
    {
     "data": {
      "text/html": [
       "<div>\n",
       "<style scoped>\n",
       "    .dataframe tbody tr th:only-of-type {\n",
       "        vertical-align: middle;\n",
       "    }\n",
       "\n",
       "    .dataframe tbody tr th {\n",
       "        vertical-align: top;\n",
       "    }\n",
       "\n",
       "    .dataframe thead th {\n",
       "        text-align: right;\n",
       "    }\n",
       "</style>\n",
       "<table border=\"1\" class=\"dataframe\">\n",
       "  <thead>\n",
       "    <tr style=\"text-align: right;\">\n",
       "      <th></th>\n",
       "      <th>counts</th>\n",
       "      <th>%</th>\n",
       "    </tr>\n",
       "  </thead>\n",
       "  <tbody>\n",
       "    <tr>\n",
       "      <th>0.0</th>\n",
       "      <td>2686689</td>\n",
       "      <td>99.99</td>\n",
       "    </tr>\n",
       "    <tr>\n",
       "      <th>1.0</th>\n",
       "      <td>231</td>\n",
       "      <td>0.01</td>\n",
       "    </tr>\n",
       "  </tbody>\n",
       "</table>\n",
       "</div>"
      ],
      "text/plain": [
       "      counts      %\n",
       "0.0  2686689  99.99\n",
       "1.0      231   0.01"
      ]
     },
     "execution_count": 7,
     "metadata": {},
     "output_type": "execute_result"
    }
   ],
   "source": [
    "c = datetimeevents_df.warning.value_counts()[:5]\n",
    "p = datetimeevents_df.warning.value_counts(normalize=True).mul(100).round(2)[:5]\n",
    "pd.concat([c,p], axis=1, keys=['counts', '%'])"
   ]
  },
  {
   "cell_type": "code",
   "execution_count": 8,
   "metadata": {},
   "outputs": [
    {
     "data": {
      "text/html": [
       "<div>\n",
       "<style scoped>\n",
       "    .dataframe tbody tr th:only-of-type {\n",
       "        vertical-align: middle;\n",
       "    }\n",
       "\n",
       "    .dataframe tbody tr th {\n",
       "        vertical-align: top;\n",
       "    }\n",
       "\n",
       "    .dataframe thead th {\n",
       "        text-align: right;\n",
       "    }\n",
       "</style>\n",
       "<table border=\"1\" class=\"dataframe\">\n",
       "  <thead>\n",
       "    <tr style=\"text-align: right;\">\n",
       "      <th></th>\n",
       "      <th>counts</th>\n",
       "      <th>%</th>\n",
       "    </tr>\n",
       "  </thead>\n",
       "  <tbody>\n",
       "    <tr>\n",
       "      <th>0.0</th>\n",
       "      <td>2686325</td>\n",
       "      <td>99.98</td>\n",
       "    </tr>\n",
       "    <tr>\n",
       "      <th>1.0</th>\n",
       "      <td>595</td>\n",
       "      <td>0.02</td>\n",
       "    </tr>\n",
       "  </tbody>\n",
       "</table>\n",
       "</div>"
      ],
      "text/plain": [
       "      counts      %\n",
       "0.0  2686325  99.98\n",
       "1.0      595   0.02"
      ]
     },
     "execution_count": 8,
     "metadata": {},
     "output_type": "execute_result"
    }
   ],
   "source": [
    "c = datetimeevents_df.error.value_counts()[:5]\n",
    "p = datetimeevents_df.error.value_counts(normalize=True).mul(100).round(2)[:5]\n",
    "pd.concat([c,p], axis=1, keys=['counts', '%'])"
   ]
  },
  {
   "cell_type": "markdown",
   "metadata": {},
   "source": [
    "`resultstatus` and `stopped` specify the type of measurement (RESULTSTATUS is ‘Manual’ or ‘Automatic’) and whether the measurement was stopped."
   ]
  },
  {
   "cell_type": "code",
   "execution_count": 9,
   "metadata": {},
   "outputs": [
    {
     "data": {
      "text/plain": [
       "Series([], Name: resultstatus, dtype: int64)"
      ]
     },
     "execution_count": 9,
     "metadata": {},
     "output_type": "execute_result"
    }
   ],
   "source": [
    "datetimeevents_df.resultstatus.value_counts()[:5]"
   ]
  },
  {
   "cell_type": "code",
   "execution_count": 10,
   "metadata": {},
   "outputs": [
    {
     "data": {
      "text/html": [
       "<div>\n",
       "<style scoped>\n",
       "    .dataframe tbody tr th:only-of-type {\n",
       "        vertical-align: middle;\n",
       "    }\n",
       "\n",
       "    .dataframe tbody tr th {\n",
       "        vertical-align: top;\n",
       "    }\n",
       "\n",
       "    .dataframe thead th {\n",
       "        text-align: right;\n",
       "    }\n",
       "</style>\n",
       "<table border=\"1\" class=\"dataframe\">\n",
       "  <thead>\n",
       "    <tr style=\"text-align: right;\">\n",
       "      <th></th>\n",
       "      <th>counts</th>\n",
       "      <th>%</th>\n",
       "    </tr>\n",
       "  </thead>\n",
       "  <tbody>\n",
       "    <tr>\n",
       "      <th>NotStopd</th>\n",
       "      <td>1766394</td>\n",
       "      <td>98.19</td>\n",
       "    </tr>\n",
       "    <tr>\n",
       "      <th>D/C'd</th>\n",
       "      <td>32623</td>\n",
       "      <td>1.81</td>\n",
       "    </tr>\n",
       "  </tbody>\n",
       "</table>\n",
       "</div>"
      ],
      "text/plain": [
       "           counts      %\n",
       "NotStopd  1766394  98.19\n",
       "D/C'd       32623   1.81"
      ]
     },
     "execution_count": 10,
     "metadata": {},
     "output_type": "execute_result"
    }
   ],
   "source": [
    "c = datetimeevents_df.stopped.value_counts()[:5]\n",
    "p = datetimeevents_df.stopped.value_counts(normalize=True).mul(100).round(2)[:5]\n",
    "pd.concat([c,p], axis=1, keys=['counts', '%'])"
   ]
  },
  {
   "cell_type": "code",
   "execution_count": null,
   "metadata": {},
   "outputs": [],
   "source": []
  }
 ],
 "metadata": {
  "kernelspec": {
   "display_name": "Python 3 (ipykernel)",
   "language": "python",
   "name": "python3"
  },
  "language_info": {
   "codemirror_mode": {
    "name": "ipython",
    "version": 3
   },
   "file_extension": ".py",
   "mimetype": "text/x-python",
   "name": "python",
   "nbconvert_exporter": "python",
   "pygments_lexer": "ipython3",
   "version": "3.9.7"
  },
  "vscode": {
   "interpreter": {
    "hash": "81686e47d536e3df6c61aad70b193c760b1d667c8c8e04f426182dba08a834b2"
   }
  }
 },
 "nbformat": 4,
 "nbformat_minor": 4
}
