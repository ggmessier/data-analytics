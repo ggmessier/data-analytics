{
 "cells": [
  {
   "cell_type": "code",
   "execution_count": 1,
   "metadata": {},
   "outputs": [],
   "source": [
    "import numpy as np\n",
    "import pandas as pd\n",
    "import datetime\n",
    "import copy\n",
    "import time\n",
    "import os\n",
    "import re\n",
    "import matplotlib.pyplot as plt\n",
    "import matplotlib.ticker as ticker\n",
    "import operator\n",
    "\n",
    "from tqdm.auto import tqdm, trange\n",
    "from tqdm.notebook import tqdm\n",
    "from datetime import timedelta\n",
    "\n",
    "tqdm.pandas()"
   ]
  },
  {
   "cell_type": "code",
   "execution_count": 2,
   "metadata": {},
   "outputs": [],
   "source": [
    "# Edit to point to your MIMIC directory.\n",
    "dataDirStr = '/Users/gmessier/data/mimic-1.4/'"
   ]
  },
  {
   "cell_type": "code",
   "execution_count": 3,
   "metadata": {},
   "outputs": [
    {
     "data": {
      "text/html": [
       "<div>\n",
       "<style scoped>\n",
       "    .dataframe tbody tr th:only-of-type {\n",
       "        vertical-align: middle;\n",
       "    }\n",
       "\n",
       "    .dataframe tbody tr th {\n",
       "        vertical-align: top;\n",
       "    }\n",
       "\n",
       "    .dataframe thead th {\n",
       "        text-align: right;\n",
       "    }\n",
       "</style>\n",
       "<table border=\"1\" class=\"dataframe\">\n",
       "  <thead>\n",
       "    <tr style=\"text-align: right;\">\n",
       "      <th></th>\n",
       "      <th>row_id</th>\n",
       "      <th>itemid</th>\n",
       "      <th>label</th>\n",
       "      <th>fluid</th>\n",
       "      <th>category</th>\n",
       "      <th>loinc_code</th>\n",
       "    </tr>\n",
       "  </thead>\n",
       "  <tbody>\n",
       "    <tr>\n",
       "      <th>0</th>\n",
       "      <td>546</td>\n",
       "      <td>51346</td>\n",
       "      <td>Blasts</td>\n",
       "      <td>Cerebrospinal Fluid (CSF)</td>\n",
       "      <td>Hematology</td>\n",
       "      <td>26447-3</td>\n",
       "    </tr>\n",
       "    <tr>\n",
       "      <th>1</th>\n",
       "      <td>547</td>\n",
       "      <td>51347</td>\n",
       "      <td>Eosinophils</td>\n",
       "      <td>Cerebrospinal Fluid (CSF)</td>\n",
       "      <td>Hematology</td>\n",
       "      <td>26451-5</td>\n",
       "    </tr>\n",
       "    <tr>\n",
       "      <th>2</th>\n",
       "      <td>548</td>\n",
       "      <td>51348</td>\n",
       "      <td>Hematocrit, CSF</td>\n",
       "      <td>Cerebrospinal Fluid (CSF)</td>\n",
       "      <td>Hematology</td>\n",
       "      <td>30398-2</td>\n",
       "    </tr>\n",
       "    <tr>\n",
       "      <th>3</th>\n",
       "      <td>549</td>\n",
       "      <td>51349</td>\n",
       "      <td>Hypersegmented Neutrophils</td>\n",
       "      <td>Cerebrospinal Fluid (CSF)</td>\n",
       "      <td>Hematology</td>\n",
       "      <td>26506-6</td>\n",
       "    </tr>\n",
       "    <tr>\n",
       "      <th>4</th>\n",
       "      <td>550</td>\n",
       "      <td>51350</td>\n",
       "      <td>Immunophenotyping</td>\n",
       "      <td>Cerebrospinal Fluid (CSF)</td>\n",
       "      <td>Hematology</td>\n",
       "      <td>NaN</td>\n",
       "    </tr>\n",
       "    <tr>\n",
       "      <th>...</th>\n",
       "      <td>...</td>\n",
       "      <td>...</td>\n",
       "      <td>...</td>\n",
       "      <td>...</td>\n",
       "      <td>...</td>\n",
       "      <td>...</td>\n",
       "    </tr>\n",
       "    <tr>\n",
       "      <th>748</th>\n",
       "      <td>749</td>\n",
       "      <td>51551</td>\n",
       "      <td>VOIDED SPECIMEN</td>\n",
       "      <td>OTHER BODY FLUID</td>\n",
       "      <td>HEMATOLOGY</td>\n",
       "      <td>NaN</td>\n",
       "    </tr>\n",
       "    <tr>\n",
       "      <th>749</th>\n",
       "      <td>750</td>\n",
       "      <td>51552</td>\n",
       "      <td>VOIDED SPECIMEN</td>\n",
       "      <td>STOOL</td>\n",
       "      <td>CHEMISTRY</td>\n",
       "      <td>NaN</td>\n",
       "    </tr>\n",
       "    <tr>\n",
       "      <th>750</th>\n",
       "      <td>751</td>\n",
       "      <td>51553</td>\n",
       "      <td>VOIDED SPECIMEN</td>\n",
       "      <td>URINE</td>\n",
       "      <td>CHEMISTRY</td>\n",
       "      <td>NaN</td>\n",
       "    </tr>\n",
       "    <tr>\n",
       "      <th>751</th>\n",
       "      <td>752</td>\n",
       "      <td>51554</td>\n",
       "      <td>VOIDED SPECIMEN</td>\n",
       "      <td>JOINT FLUID</td>\n",
       "      <td>HEMATOLOGY</td>\n",
       "      <td>NaN</td>\n",
       "    </tr>\n",
       "    <tr>\n",
       "      <th>752</th>\n",
       "      <td>753</td>\n",
       "      <td>51555</td>\n",
       "      <td>SURFACTANT ALBUMIN RATIO</td>\n",
       "      <td>OTHER BODY FLUID</td>\n",
       "      <td>CHEMISTRY</td>\n",
       "      <td>NaN</td>\n",
       "    </tr>\n",
       "  </tbody>\n",
       "</table>\n",
       "<p>753 rows × 6 columns</p>\n",
       "</div>"
      ],
      "text/plain": [
       "     row_id  itemid                       label                      fluid  \\\n",
       "0       546   51346                      Blasts  Cerebrospinal Fluid (CSF)   \n",
       "1       547   51347                 Eosinophils  Cerebrospinal Fluid (CSF)   \n",
       "2       548   51348             Hematocrit, CSF  Cerebrospinal Fluid (CSF)   \n",
       "3       549   51349  Hypersegmented Neutrophils  Cerebrospinal Fluid (CSF)   \n",
       "4       550   51350           Immunophenotyping  Cerebrospinal Fluid (CSF)   \n",
       "..      ...     ...                         ...                        ...   \n",
       "748     749   51551             VOIDED SPECIMEN           OTHER BODY FLUID   \n",
       "749     750   51552             VOIDED SPECIMEN                      STOOL   \n",
       "750     751   51553             VOIDED SPECIMEN                      URINE   \n",
       "751     752   51554             VOIDED SPECIMEN                JOINT FLUID   \n",
       "752     753   51555    SURFACTANT ALBUMIN RATIO           OTHER BODY FLUID   \n",
       "\n",
       "       category loinc_code  \n",
       "0    Hematology    26447-3  \n",
       "1    Hematology    26451-5  \n",
       "2    Hematology    30398-2  \n",
       "3    Hematology    26506-6  \n",
       "4    Hematology        NaN  \n",
       "..          ...        ...  \n",
       "748  HEMATOLOGY        NaN  \n",
       "749   CHEMISTRY        NaN  \n",
       "750   CHEMISTRY        NaN  \n",
       "751  HEMATOLOGY        NaN  \n",
       "752   CHEMISTRY        NaN  \n",
       "\n",
       "[753 rows x 6 columns]"
      ]
     },
     "execution_count": 3,
     "metadata": {},
     "output_type": "execute_result"
    }
   ],
   "source": [
    "d_labitems_df = pd.read_csv(dataDirStr + \"D_LABITEMS.csv\")\n",
    "d_labitems_df.columns = d_labitems_df.columns.str.lower()\n",
    "d_labitems_df"
   ]
  },
  {
   "cell_type": "markdown",
   "metadata": {},
   "source": [
    "`D_LABITEMS` contains definitions for all `itemid` associated with lab measurements in the MIMIC database. All data in `LABEVENTS` link to the `D_LABITEMS` table.\n",
    "\n",
    "Most concepts in this table have been mapped to `LOINC` codes, an openly available ontology which provides a rich amount of information about the laboratory measurement including reference ranges, common units of measurement and other further detail regarding the measurement."
   ]
  },
  {
   "cell_type": "markdown",
   "metadata": {},
   "source": [
    "The `label` column describes the concept which is represented by the `itemid`."
   ]
  },
  {
   "cell_type": "code",
   "execution_count": 4,
   "metadata": {},
   "outputs": [
    {
     "data": {
      "text/plain": [
       "VOIDED SPECIMEN    12\n",
       "Eosinophils         7\n",
       "Bands               6\n",
       "Basophils           6\n",
       "Metamyelocytes      6\n",
       "Name: label, dtype: int64"
      ]
     },
     "execution_count": 4,
     "metadata": {},
     "output_type": "execute_result"
    }
   ],
   "source": [
    "d_labitems_df.label.value_counts()[:5]"
   ]
  },
  {
   "cell_type": "markdown",
   "metadata": {},
   "source": [
    "`fluid` describes the substance on which the measurement was made. For example, chemistry measurements are frequently performed on blood, which is listed in this column as ‘BLOOD’. Many of these measurements are also acquirable on other fluids, such as urine, and this column differentiates these distinct concepts.\n",
    "\n"
   ]
  },
  {
   "cell_type": "code",
   "execution_count": 5,
   "metadata": {},
   "outputs": [
    {
     "data": {
      "text/plain": [
       "Blood               359\n",
       "Urine               103\n",
       "Other Body Fluid     82\n",
       "Bone Marrow          40\n",
       "Ascites              37\n",
       "Name: fluid, dtype: int64"
      ]
     },
     "execution_count": 5,
     "metadata": {},
     "output_type": "execute_result"
    }
   ],
   "source": [
    "d_labitems_df.fluid.value_counts()[:5]"
   ]
  },
  {
   "cell_type": "markdown",
   "metadata": {},
   "source": [
    "`category` provides higher level information as to the type of measurement. For example, a category of ‘ABG’ indicates that the measurement is an arterial blood gas."
   ]
  },
  {
   "cell_type": "code",
   "execution_count": 6,
   "metadata": {},
   "outputs": [
    {
     "data": {
      "text/plain": [
       "Hematology    410\n",
       "Chemistry     274\n",
       "Blood Gas      34\n",
       "CHEMISTRY      19\n",
       "HEMATOLOGY     13\n",
       "Name: category, dtype: int64"
      ]
     },
     "execution_count": 6,
     "metadata": {},
     "output_type": "execute_result"
    }
   ],
   "source": [
    "d_labitems_df.category.value_counts()[:5]"
   ]
  },
  {
   "cell_type": "markdown",
   "metadata": {},
   "source": [
    "`LOINC_CODE` contains the `LOINC` code associated with the given `itemid`.  `LOINC` is an ontology which originally specified laboratory measurements but has since expanded to cover a wide range of clinically relevant concepts. `LOINC` openly provide a table which contains a large amount of detail about each `LOINC` code. This table is freely available online."
   ]
  },
  {
   "cell_type": "code",
   "execution_count": null,
   "metadata": {},
   "outputs": [],
   "source": []
  }
 ],
 "metadata": {
  "kernelspec": {
   "display_name": "Python 3 (ipykernel)",
   "language": "python",
   "name": "python3"
  },
  "language_info": {
   "codemirror_mode": {
    "name": "ipython",
    "version": 3
   },
   "file_extension": ".py",
   "mimetype": "text/x-python",
   "name": "python",
   "nbconvert_exporter": "python",
   "pygments_lexer": "ipython3",
   "version": "3.9.7"
  },
  "vscode": {
   "interpreter": {
    "hash": "81686e47d536e3df6c61aad70b193c760b1d667c8c8e04f426182dba08a834b2"
   }
  }
 },
 "nbformat": 4,
 "nbformat_minor": 4
}
