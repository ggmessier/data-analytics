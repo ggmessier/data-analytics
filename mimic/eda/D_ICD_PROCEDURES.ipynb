{
 "cells": [
  {
   "cell_type": "code",
   "execution_count": 1,
   "metadata": {},
   "outputs": [],
   "source": [
    "import numpy as np\n",
    "import pandas as pd\n",
    "import datetime\n",
    "import copy\n",
    "import time\n",
    "import os\n",
    "import re\n",
    "import matplotlib.pyplot as plt\n",
    "import matplotlib.ticker as ticker\n",
    "import operator\n",
    "\n",
    "from tqdm.auto import tqdm, trange\n",
    "from tqdm.notebook import tqdm\n",
    "from datetime import timedelta\n",
    "\n",
    "tqdm.pandas()"
   ]
  },
  {
   "cell_type": "code",
   "execution_count": 2,
   "metadata": {},
   "outputs": [],
   "source": [
    "# Edit to point to your MIMIC directory.\n",
    "dataDirStr = '/Users/gmessier/data/mimic-1.4/'"
   ]
  },
  {
   "cell_type": "code",
   "execution_count": 3,
   "metadata": {},
   "outputs": [
    {
     "data": {
      "text/html": [
       "<div>\n",
       "<style scoped>\n",
       "    .dataframe tbody tr th:only-of-type {\n",
       "        vertical-align: middle;\n",
       "    }\n",
       "\n",
       "    .dataframe tbody tr th {\n",
       "        vertical-align: top;\n",
       "    }\n",
       "\n",
       "    .dataframe thead th {\n",
       "        text-align: right;\n",
       "    }\n",
       "</style>\n",
       "<table border=\"1\" class=\"dataframe\">\n",
       "  <thead>\n",
       "    <tr style=\"text-align: right;\">\n",
       "      <th></th>\n",
       "      <th>row_id</th>\n",
       "      <th>icd9_code</th>\n",
       "      <th>short_title</th>\n",
       "      <th>long_title</th>\n",
       "    </tr>\n",
       "  </thead>\n",
       "  <tbody>\n",
       "    <tr>\n",
       "      <th>0</th>\n",
       "      <td>264</td>\n",
       "      <td>851</td>\n",
       "      <td>Canthotomy</td>\n",
       "      <td>Canthotomy</td>\n",
       "    </tr>\n",
       "    <tr>\n",
       "      <th>1</th>\n",
       "      <td>265</td>\n",
       "      <td>852</td>\n",
       "      <td>Blepharorrhaphy</td>\n",
       "      <td>Blepharorrhaphy</td>\n",
       "    </tr>\n",
       "    <tr>\n",
       "      <th>2</th>\n",
       "      <td>266</td>\n",
       "      <td>859</td>\n",
       "      <td>Adjust lid position NEC</td>\n",
       "      <td>Other adjustment of lid position</td>\n",
       "    </tr>\n",
       "    <tr>\n",
       "      <th>3</th>\n",
       "      <td>267</td>\n",
       "      <td>861</td>\n",
       "      <td>Lid reconst w skin graft</td>\n",
       "      <td>Reconstruction of eyelid with skin flap or graft</td>\n",
       "    </tr>\n",
       "    <tr>\n",
       "      <th>4</th>\n",
       "      <td>268</td>\n",
       "      <td>862</td>\n",
       "      <td>Lid reconst w muc graft</td>\n",
       "      <td>Reconstruction of eyelid with mucous membrane ...</td>\n",
       "    </tr>\n",
       "    <tr>\n",
       "      <th>...</th>\n",
       "      <td>...</td>\n",
       "      <td>...</td>\n",
       "      <td>...</td>\n",
       "      <td>...</td>\n",
       "    </tr>\n",
       "    <tr>\n",
       "      <th>3877</th>\n",
       "      <td>3344</td>\n",
       "      <td>9959</td>\n",
       "      <td>Vaccination/innocula NEC</td>\n",
       "      <td>Other vaccination and inoculation</td>\n",
       "    </tr>\n",
       "    <tr>\n",
       "      <th>3878</th>\n",
       "      <td>3345</td>\n",
       "      <td>9960</td>\n",
       "      <td>Cardiopulm resuscita NOS</td>\n",
       "      <td>Cardiopulmonary resuscitation, not otherwise s...</td>\n",
       "    </tr>\n",
       "    <tr>\n",
       "      <th>3879</th>\n",
       "      <td>3346</td>\n",
       "      <td>9961</td>\n",
       "      <td>Atrial cardioversion</td>\n",
       "      <td>Atrial cardioversion</td>\n",
       "    </tr>\n",
       "    <tr>\n",
       "      <th>3880</th>\n",
       "      <td>3347</td>\n",
       "      <td>9962</td>\n",
       "      <td>Heart countershock NEC</td>\n",
       "      <td>Other electric countershock of heart</td>\n",
       "    </tr>\n",
       "    <tr>\n",
       "      <th>3881</th>\n",
       "      <td>3348</td>\n",
       "      <td>9963</td>\n",
       "      <td>Closed chest card massag</td>\n",
       "      <td>Closed chest cardiac massage</td>\n",
       "    </tr>\n",
       "  </tbody>\n",
       "</table>\n",
       "<p>3882 rows × 4 columns</p>\n",
       "</div>"
      ],
      "text/plain": [
       "      row_id  icd9_code               short_title  \\\n",
       "0        264        851                Canthotomy   \n",
       "1        265        852           Blepharorrhaphy   \n",
       "2        266        859   Adjust lid position NEC   \n",
       "3        267        861  Lid reconst w skin graft   \n",
       "4        268        862   Lid reconst w muc graft   \n",
       "...      ...        ...                       ...   \n",
       "3877    3344       9959  Vaccination/innocula NEC   \n",
       "3878    3345       9960  Cardiopulm resuscita NOS   \n",
       "3879    3346       9961      Atrial cardioversion   \n",
       "3880    3347       9962    Heart countershock NEC   \n",
       "3881    3348       9963  Closed chest card massag   \n",
       "\n",
       "                                             long_title  \n",
       "0                                            Canthotomy  \n",
       "1                                       Blepharorrhaphy  \n",
       "2                      Other adjustment of lid position  \n",
       "3      Reconstruction of eyelid with skin flap or graft  \n",
       "4     Reconstruction of eyelid with mucous membrane ...  \n",
       "...                                                 ...  \n",
       "3877                  Other vaccination and inoculation  \n",
       "3878  Cardiopulmonary resuscitation, not otherwise s...  \n",
       "3879                               Atrial cardioversion  \n",
       "3880               Other electric countershock of heart  \n",
       "3881                       Closed chest cardiac massage  \n",
       "\n",
       "[3882 rows x 4 columns]"
      ]
     },
     "execution_count": 3,
     "metadata": {},
     "output_type": "execute_result"
    }
   ],
   "source": [
    "d_icd_procedures_df = pd.read_csv(dataDirStr + \"D_ICD_PROCEDURES.csv\")\n",
    "d_icd_procedures_df.columns = d_icd_procedures_df.columns.str.lower()\n",
    "d_icd_procedures_df"
   ]
  },
  {
   "cell_type": "markdown",
   "metadata": {},
   "source": [
    "`D_ICD_PROCEDURES` defines International Classification of Diseases Version 9 (ICD-9) codes for procedures. These codes are assigned at the end of the patient’s stay and are used by the hospital to bill for care provided. They can further be used to identify if certain procedures have been performed (e.g. surgery).\n",
    "\n"
   ]
  },
  {
   "cell_type": "markdown",
   "metadata": {},
   "source": [
    "`icd9_code` is the International Coding Definitions Version 9 (ICD-9) code. Each code corresponds to a single procedural concept."
   ]
  },
  {
   "cell_type": "markdown",
   "metadata": {},
   "source": [
    "The `short_title` and `long_title` fields provide a brief definition for the given diagnosis code in ICD9_CODE."
   ]
  },
  {
   "cell_type": "code",
   "execution_count": null,
   "metadata": {},
   "outputs": [],
   "source": []
  }
 ],
 "metadata": {
  "kernelspec": {
   "display_name": "Python 3 (ipykernel)",
   "language": "python",
   "name": "python3"
  },
  "language_info": {
   "codemirror_mode": {
    "name": "ipython",
    "version": 3
   },
   "file_extension": ".py",
   "mimetype": "text/x-python",
   "name": "python",
   "nbconvert_exporter": "python",
   "pygments_lexer": "ipython3",
   "version": "3.9.7"
  },
  "vscode": {
   "interpreter": {
    "hash": "81686e47d536e3df6c61aad70b193c760b1d667c8c8e04f426182dba08a834b2"
   }
  }
 },
 "nbformat": 4,
 "nbformat_minor": 4
}
