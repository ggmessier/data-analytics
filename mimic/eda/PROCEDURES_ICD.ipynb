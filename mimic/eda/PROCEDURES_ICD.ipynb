{
 "cells": [
  {
   "cell_type": "code",
   "execution_count": 1,
   "metadata": {},
   "outputs": [],
   "source": [
    "import numpy as np\n",
    "import pandas as pd\n",
    "import datetime\n",
    "import copy\n",
    "import time\n",
    "import os\n",
    "import re\n",
    "import matplotlib.pyplot as plt\n",
    "import matplotlib.ticker as ticker\n",
    "import operator\n",
    "\n",
    "from tqdm.auto import tqdm, trange\n",
    "from tqdm.notebook import tqdm\n",
    "from datetime import timedelta\n",
    "\n",
    "tqdm.pandas()"
   ]
  },
  {
   "cell_type": "code",
   "execution_count": 2,
   "metadata": {},
   "outputs": [],
   "source": [
    "# Edit to point to your MIMIC directory.\n",
    "dataDirStr = '/Users/gmessier/data/mimic-1.4/'"
   ]
  },
  {
   "cell_type": "code",
   "execution_count": 3,
   "metadata": {},
   "outputs": [
    {
     "data": {
      "text/html": [
       "<div>\n",
       "<style scoped>\n",
       "    .dataframe tbody tr th:only-of-type {\n",
       "        vertical-align: middle;\n",
       "    }\n",
       "\n",
       "    .dataframe tbody tr th {\n",
       "        vertical-align: top;\n",
       "    }\n",
       "\n",
       "    .dataframe thead th {\n",
       "        text-align: right;\n",
       "    }\n",
       "</style>\n",
       "<table border=\"1\" class=\"dataframe\">\n",
       "  <thead>\n",
       "    <tr style=\"text-align: right;\">\n",
       "      <th></th>\n",
       "      <th>row_id</th>\n",
       "      <th>subject_id</th>\n",
       "      <th>hadm_id</th>\n",
       "      <th>seq_num</th>\n",
       "      <th>icd9_code</th>\n",
       "    </tr>\n",
       "  </thead>\n",
       "  <tbody>\n",
       "    <tr>\n",
       "      <th>0</th>\n",
       "      <td>944</td>\n",
       "      <td>62641</td>\n",
       "      <td>154460</td>\n",
       "      <td>3</td>\n",
       "      <td>3404</td>\n",
       "    </tr>\n",
       "    <tr>\n",
       "      <th>1</th>\n",
       "      <td>945</td>\n",
       "      <td>2592</td>\n",
       "      <td>130856</td>\n",
       "      <td>1</td>\n",
       "      <td>9671</td>\n",
       "    </tr>\n",
       "    <tr>\n",
       "      <th>2</th>\n",
       "      <td>946</td>\n",
       "      <td>2592</td>\n",
       "      <td>130856</td>\n",
       "      <td>2</td>\n",
       "      <td>3893</td>\n",
       "    </tr>\n",
       "    <tr>\n",
       "      <th>3</th>\n",
       "      <td>947</td>\n",
       "      <td>55357</td>\n",
       "      <td>119355</td>\n",
       "      <td>1</td>\n",
       "      <td>9672</td>\n",
       "    </tr>\n",
       "    <tr>\n",
       "      <th>4</th>\n",
       "      <td>948</td>\n",
       "      <td>55357</td>\n",
       "      <td>119355</td>\n",
       "      <td>2</td>\n",
       "      <td>331</td>\n",
       "    </tr>\n",
       "    <tr>\n",
       "      <th>...</th>\n",
       "      <td>...</td>\n",
       "      <td>...</td>\n",
       "      <td>...</td>\n",
       "      <td>...</td>\n",
       "      <td>...</td>\n",
       "    </tr>\n",
       "    <tr>\n",
       "      <th>240090</th>\n",
       "      <td>228330</td>\n",
       "      <td>67415</td>\n",
       "      <td>150871</td>\n",
       "      <td>5</td>\n",
       "      <td>3736</td>\n",
       "    </tr>\n",
       "    <tr>\n",
       "      <th>240091</th>\n",
       "      <td>228331</td>\n",
       "      <td>67415</td>\n",
       "      <td>150871</td>\n",
       "      <td>6</td>\n",
       "      <td>3893</td>\n",
       "    </tr>\n",
       "    <tr>\n",
       "      <th>240092</th>\n",
       "      <td>228332</td>\n",
       "      <td>67415</td>\n",
       "      <td>150871</td>\n",
       "      <td>7</td>\n",
       "      <td>8872</td>\n",
       "    </tr>\n",
       "    <tr>\n",
       "      <th>240093</th>\n",
       "      <td>228333</td>\n",
       "      <td>67415</td>\n",
       "      <td>150871</td>\n",
       "      <td>8</td>\n",
       "      <td>3893</td>\n",
       "    </tr>\n",
       "    <tr>\n",
       "      <th>240094</th>\n",
       "      <td>228334</td>\n",
       "      <td>67415</td>\n",
       "      <td>150871</td>\n",
       "      <td>9</td>\n",
       "      <td>3722</td>\n",
       "    </tr>\n",
       "  </tbody>\n",
       "</table>\n",
       "<p>240095 rows × 5 columns</p>\n",
       "</div>"
      ],
      "text/plain": [
       "        row_id  subject_id  hadm_id  seq_num  icd9_code\n",
       "0          944       62641   154460        3       3404\n",
       "1          945        2592   130856        1       9671\n",
       "2          946        2592   130856        2       3893\n",
       "3          947       55357   119355        1       9672\n",
       "4          948       55357   119355        2        331\n",
       "...        ...         ...      ...      ...        ...\n",
       "240090  228330       67415   150871        5       3736\n",
       "240091  228331       67415   150871        6       3893\n",
       "240092  228332       67415   150871        7       8872\n",
       "240093  228333       67415   150871        8       3893\n",
       "240094  228334       67415   150871        9       3722\n",
       "\n",
       "[240095 rows x 5 columns]"
      ]
     },
     "execution_count": 3,
     "metadata": {},
     "output_type": "execute_result"
    }
   ],
   "source": [
    "procedures_icd_df = pd.read_csv(dataDirStr + \"PROCEDURES_ICD.csv\")\n",
    "procedures_icd_df.columns = procedures_icd_df.columns.str.lower()\n",
    "procedures_icd_df"
   ]
  },
  {
   "cell_type": "markdown",
   "metadata": {},
   "source": [
    "`procedureevents_mv_df` contains procedures for patients, defined by ICD codes. The ICD codes are generated for billing purposes at the end of the hospital stay. ICD codes are recorded for all patient hospitalizations.\n",
    "\n",
    "Refer to `D_ICD_PROCEDURES` table for exact definitions of each `icd9_code`."
   ]
  },
  {
   "cell_type": "code",
   "execution_count": 4,
   "metadata": {},
   "outputs": [
    {
     "name": "stdout",
     "output_type": "stream",
     "text": [
      "There has been a total of 240095 procedures recorded, with 42214 unique patients.\n"
     ]
    }
   ],
   "source": [
    "print(f\"There has been a total of 240095 procedures recorded, with {procedures_icd_df.subject_id.nunique()} unique patients.\")"
   ]
  },
  {
   "cell_type": "markdown",
   "metadata": {},
   "source": [
    "If a patient has had multiple procedures, `seq_num` will provide the order in which the procedures were performed."
   ]
  },
  {
   "cell_type": "markdown",
   "metadata": {},
   "source": [
    "`icd9_code` provides the ICD-9 code for the given procedure. This code can be joined to the `D_ICD_PROCEDURES` table."
   ]
  },
  {
   "cell_type": "code",
   "execution_count": 5,
   "metadata": {},
   "outputs": [
    {
     "data": {
      "text/html": [
       "<div>\n",
       "<style scoped>\n",
       "    .dataframe tbody tr th:only-of-type {\n",
       "        vertical-align: middle;\n",
       "    }\n",
       "\n",
       "    .dataframe tbody tr th {\n",
       "        vertical-align: top;\n",
       "    }\n",
       "\n",
       "    .dataframe thead th {\n",
       "        text-align: right;\n",
       "    }\n",
       "</style>\n",
       "<table border=\"1\" class=\"dataframe\">\n",
       "  <thead>\n",
       "    <tr style=\"text-align: right;\">\n",
       "      <th></th>\n",
       "      <th>counts</th>\n",
       "      <th>%</th>\n",
       "    </tr>\n",
       "  </thead>\n",
       "  <tbody>\n",
       "    <tr>\n",
       "      <th>3893</th>\n",
       "      <td>14731</td>\n",
       "      <td>6.14</td>\n",
       "    </tr>\n",
       "    <tr>\n",
       "      <th>9604</th>\n",
       "      <td>10333</td>\n",
       "      <td>4.30</td>\n",
       "    </tr>\n",
       "    <tr>\n",
       "      <th>966</th>\n",
       "      <td>9300</td>\n",
       "      <td>3.87</td>\n",
       "    </tr>\n",
       "    <tr>\n",
       "      <th>9671</th>\n",
       "      <td>9100</td>\n",
       "      <td>3.79</td>\n",
       "    </tr>\n",
       "    <tr>\n",
       "      <th>9904</th>\n",
       "      <td>7244</td>\n",
       "      <td>3.02</td>\n",
       "    </tr>\n",
       "  </tbody>\n",
       "</table>\n",
       "</div>"
      ],
      "text/plain": [
       "      counts     %\n",
       "3893   14731  6.14\n",
       "9604   10333  4.30\n",
       "966     9300  3.87\n",
       "9671    9100  3.79\n",
       "9904    7244  3.02"
      ]
     },
     "execution_count": 5,
     "metadata": {},
     "output_type": "execute_result"
    }
   ],
   "source": [
    "c = procedures_icd_df.icd9_code.value_counts()[:5]\n",
    "p =procedures_icd_df.icd9_code.value_counts(normalize=True).mul(100).round(2)[:5]\n",
    "pd.concat([c,p], axis=1, keys=['counts', '%'])"
   ]
  },
  {
   "cell_type": "code",
   "execution_count": null,
   "metadata": {},
   "outputs": [],
   "source": []
  },
  {
   "cell_type": "code",
   "execution_count": null,
   "metadata": {},
   "outputs": [],
   "source": []
  }
 ],
 "metadata": {
  "kernelspec": {
   "display_name": "Python 3 (ipykernel)",
   "language": "python",
   "name": "python3"
  },
  "language_info": {
   "codemirror_mode": {
    "name": "ipython",
    "version": 3
   },
   "file_extension": ".py",
   "mimetype": "text/x-python",
   "name": "python",
   "nbconvert_exporter": "python",
   "pygments_lexer": "ipython3",
   "version": "3.9.7"
  },
  "vscode": {
   "interpreter": {
    "hash": "81686e47d536e3df6c61aad70b193c760b1d667c8c8e04f426182dba08a834b2"
   }
  }
 },
 "nbformat": 4,
 "nbformat_minor": 4
}
