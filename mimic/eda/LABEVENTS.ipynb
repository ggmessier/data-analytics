{
 "cells": [
  {
   "cell_type": "code",
   "execution_count": 1,
   "metadata": {},
   "outputs": [],
   "source": [
    "import numpy as np\n",
    "import pandas as pd\n",
    "import datetime\n",
    "import copy\n",
    "import time\n",
    "import os\n",
    "import re\n",
    "import matplotlib.pyplot as plt\n",
    "import matplotlib.ticker as ticker\n",
    "import operator\n",
    "\n",
    "from tqdm.auto import tqdm, trange\n",
    "from tqdm.notebook import tqdm\n",
    "from datetime import timedelta\n",
    "\n",
    "tqdm.pandas()"
   ]
  },
  {
   "cell_type": "code",
   "execution_count": 3,
   "metadata": {},
   "outputs": [],
   "source": [
    "# Edit to point to your MIMIC directory.\n",
    "dataDirStr = '/Users/gmessier/data/mimic-1.4/'"
   ]
  },
  {
   "cell_type": "code",
   "execution_count": 5,
   "metadata": {},
   "outputs": [
    {
     "data": {
      "text/html": [
       "<div>\n",
       "<style scoped>\n",
       "    .dataframe tbody tr th:only-of-type {\n",
       "        vertical-align: middle;\n",
       "    }\n",
       "\n",
       "    .dataframe tbody tr th {\n",
       "        vertical-align: top;\n",
       "    }\n",
       "\n",
       "    .dataframe thead th {\n",
       "        text-align: right;\n",
       "    }\n",
       "</style>\n",
       "<table border=\"1\" class=\"dataframe\">\n",
       "  <thead>\n",
       "    <tr style=\"text-align: right;\">\n",
       "      <th></th>\n",
       "      <th>row_id</th>\n",
       "      <th>subject_id</th>\n",
       "      <th>hadm_id</th>\n",
       "      <th>itemid</th>\n",
       "      <th>charttime</th>\n",
       "      <th>value</th>\n",
       "      <th>valuenum</th>\n",
       "      <th>valueuom</th>\n",
       "      <th>flag</th>\n",
       "    </tr>\n",
       "  </thead>\n",
       "  <tbody>\n",
       "    <tr>\n",
       "      <th>0</th>\n",
       "      <td>281</td>\n",
       "      <td>3</td>\n",
       "      <td>NaN</td>\n",
       "      <td>50820</td>\n",
       "      <td>2101-10-12 16:07:00</td>\n",
       "      <td>7.39</td>\n",
       "      <td>7.39</td>\n",
       "      <td>units</td>\n",
       "      <td>NaN</td>\n",
       "    </tr>\n",
       "    <tr>\n",
       "      <th>1</th>\n",
       "      <td>282</td>\n",
       "      <td>3</td>\n",
       "      <td>NaN</td>\n",
       "      <td>50800</td>\n",
       "      <td>2101-10-12 18:17:00</td>\n",
       "      <td>ART</td>\n",
       "      <td>NaN</td>\n",
       "      <td>NaN</td>\n",
       "      <td>NaN</td>\n",
       "    </tr>\n",
       "    <tr>\n",
       "      <th>2</th>\n",
       "      <td>283</td>\n",
       "      <td>3</td>\n",
       "      <td>NaN</td>\n",
       "      <td>50802</td>\n",
       "      <td>2101-10-12 18:17:00</td>\n",
       "      <td>-1</td>\n",
       "      <td>-1.00</td>\n",
       "      <td>mEq/L</td>\n",
       "      <td>NaN</td>\n",
       "    </tr>\n",
       "    <tr>\n",
       "      <th>3</th>\n",
       "      <td>284</td>\n",
       "      <td>3</td>\n",
       "      <td>NaN</td>\n",
       "      <td>50804</td>\n",
       "      <td>2101-10-12 18:17:00</td>\n",
       "      <td>22</td>\n",
       "      <td>22.00</td>\n",
       "      <td>mEq/L</td>\n",
       "      <td>NaN</td>\n",
       "    </tr>\n",
       "    <tr>\n",
       "      <th>4</th>\n",
       "      <td>285</td>\n",
       "      <td>3</td>\n",
       "      <td>NaN</td>\n",
       "      <td>50808</td>\n",
       "      <td>2101-10-12 18:17:00</td>\n",
       "      <td>0.93</td>\n",
       "      <td>0.93</td>\n",
       "      <td>mmol/L</td>\n",
       "      <td>abnormal</td>\n",
       "    </tr>\n",
       "    <tr>\n",
       "      <th>...</th>\n",
       "      <td>...</td>\n",
       "      <td>...</td>\n",
       "      <td>...</td>\n",
       "      <td>...</td>\n",
       "      <td>...</td>\n",
       "      <td>...</td>\n",
       "      <td>...</td>\n",
       "      <td>...</td>\n",
       "      <td>...</td>\n",
       "    </tr>\n",
       "    <tr>\n",
       "      <th>27854050</th>\n",
       "      <td>27428435</td>\n",
       "      <td>96443</td>\n",
       "      <td>103219.0</td>\n",
       "      <td>50882</td>\n",
       "      <td>2109-12-30 01:40:00</td>\n",
       "      <td>26</td>\n",
       "      <td>26.00</td>\n",
       "      <td>mEq/L</td>\n",
       "      <td>NaN</td>\n",
       "    </tr>\n",
       "    <tr>\n",
       "      <th>27854051</th>\n",
       "      <td>27428436</td>\n",
       "      <td>96443</td>\n",
       "      <td>103219.0</td>\n",
       "      <td>50885</td>\n",
       "      <td>2109-12-30 01:40:00</td>\n",
       "      <td>2.1</td>\n",
       "      <td>2.10</td>\n",
       "      <td>mg/dL</td>\n",
       "      <td>abnormal</td>\n",
       "    </tr>\n",
       "    <tr>\n",
       "      <th>27854052</th>\n",
       "      <td>27428437</td>\n",
       "      <td>96443</td>\n",
       "      <td>103219.0</td>\n",
       "      <td>50902</td>\n",
       "      <td>2109-12-30 01:40:00</td>\n",
       "      <td>97</td>\n",
       "      <td>97.00</td>\n",
       "      <td>mEq/L</td>\n",
       "      <td>NaN</td>\n",
       "    </tr>\n",
       "    <tr>\n",
       "      <th>27854053</th>\n",
       "      <td>27428438</td>\n",
       "      <td>96443</td>\n",
       "      <td>103219.0</td>\n",
       "      <td>50911</td>\n",
       "      <td>2109-12-30 01:40:00</td>\n",
       "      <td>2</td>\n",
       "      <td>2.00</td>\n",
       "      <td>ng/mL</td>\n",
       "      <td>NaN</td>\n",
       "    </tr>\n",
       "    <tr>\n",
       "      <th>27854054</th>\n",
       "      <td>27428439</td>\n",
       "      <td>96443</td>\n",
       "      <td>103219.0</td>\n",
       "      <td>50912</td>\n",
       "      <td>2109-12-30 01:40:00</td>\n",
       "      <td>1.6</td>\n",
       "      <td>1.60</td>\n",
       "      <td>mg/dL</td>\n",
       "      <td>abnormal</td>\n",
       "    </tr>\n",
       "  </tbody>\n",
       "</table>\n",
       "<p>27854055 rows × 9 columns</p>\n",
       "</div>"
      ],
      "text/plain": [
       "            row_id  subject_id   hadm_id  itemid            charttime value  \\\n",
       "0              281           3       NaN   50820  2101-10-12 16:07:00  7.39   \n",
       "1              282           3       NaN   50800  2101-10-12 18:17:00   ART   \n",
       "2              283           3       NaN   50802  2101-10-12 18:17:00    -1   \n",
       "3              284           3       NaN   50804  2101-10-12 18:17:00    22   \n",
       "4              285           3       NaN   50808  2101-10-12 18:17:00  0.93   \n",
       "...            ...         ...       ...     ...                  ...   ...   \n",
       "27854050  27428435       96443  103219.0   50882  2109-12-30 01:40:00    26   \n",
       "27854051  27428436       96443  103219.0   50885  2109-12-30 01:40:00   2.1   \n",
       "27854052  27428437       96443  103219.0   50902  2109-12-30 01:40:00    97   \n",
       "27854053  27428438       96443  103219.0   50911  2109-12-30 01:40:00     2   \n",
       "27854054  27428439       96443  103219.0   50912  2109-12-30 01:40:00   1.6   \n",
       "\n",
       "          valuenum valueuom      flag  \n",
       "0             7.39    units       NaN  \n",
       "1              NaN      NaN       NaN  \n",
       "2            -1.00    mEq/L       NaN  \n",
       "3            22.00    mEq/L       NaN  \n",
       "4             0.93   mmol/L  abnormal  \n",
       "...            ...      ...       ...  \n",
       "27854050     26.00    mEq/L       NaN  \n",
       "27854051      2.10    mg/dL  abnormal  \n",
       "27854052     97.00    mEq/L       NaN  \n",
       "27854053      2.00    ng/mL       NaN  \n",
       "27854054      1.60    mg/dL  abnormal  \n",
       "\n",
       "[27854055 rows x 9 columns]"
      ]
     },
     "execution_count": 5,
     "metadata": {},
     "output_type": "execute_result"
    }
   ],
   "source": [
    "labevents_df = pd.read_csv(dataDirStr + \"LABEVENTS.csv\")\n",
    "labevents_df.columns = labevents_df.columns.str.lower()\n",
    "labevents_df"
   ]
  },
  {
   "cell_type": "markdown",
   "metadata": {},
   "source": [
    "`LABEVENTS` contains all laboratory measurements for a given patient, including out patient data. The time associated with each entry is at the time of fluid acquisition."
   ]
  },
  {
   "cell_type": "code",
   "execution_count": 6,
   "metadata": {},
   "outputs": [
    {
     "name": "stdout",
     "output_type": "stream",
     "text": [
      "There are 46252 patients who have taken a lab measurement\n"
     ]
    }
   ],
   "source": [
    "print(f\"There are {labevents_df.subject_id.nunique()} patients who have taken a lab measurement\")"
   ]
  },
  {
   "cell_type": "markdown",
   "metadata": {},
   "source": [
    "`itemid` is the identifier for a single measurment type in the database. Refer to `D_LABITEMS` table for exact definitions of each `itemid`."
   ]
  },
  {
   "cell_type": "code",
   "execution_count": 7,
   "metadata": {},
   "outputs": [
    {
     "name": "stdout",
     "output_type": "stream",
     "text": [
      "There are 726 different types of measurements\n"
     ]
    }
   ],
   "source": [
    "print(f\"There are {labevents_df.itemid.nunique()} different types of measurements\")"
   ]
  },
  {
   "cell_type": "code",
   "execution_count": 8,
   "metadata": {},
   "outputs": [
    {
     "data": {
      "text/html": [
       "<div>\n",
       "<style scoped>\n",
       "    .dataframe tbody tr th:only-of-type {\n",
       "        vertical-align: middle;\n",
       "    }\n",
       "\n",
       "    .dataframe tbody tr th {\n",
       "        vertical-align: top;\n",
       "    }\n",
       "\n",
       "    .dataframe thead th {\n",
       "        text-align: right;\n",
       "    }\n",
       "</style>\n",
       "<table border=\"1\" class=\"dataframe\">\n",
       "  <thead>\n",
       "    <tr style=\"text-align: right;\">\n",
       "      <th></th>\n",
       "      <th>counts</th>\n",
       "      <th>%</th>\n",
       "    </tr>\n",
       "  </thead>\n",
       "  <tbody>\n",
       "    <tr>\n",
       "      <th>51221</th>\n",
       "      <td>881764</td>\n",
       "      <td>3.17</td>\n",
       "    </tr>\n",
       "    <tr>\n",
       "      <th>50971</th>\n",
       "      <td>845737</td>\n",
       "      <td>3.04</td>\n",
       "    </tr>\n",
       "    <tr>\n",
       "      <th>50983</th>\n",
       "      <td>808401</td>\n",
       "      <td>2.90</td>\n",
       "    </tr>\n",
       "    <tr>\n",
       "      <th>50912</th>\n",
       "      <td>797389</td>\n",
       "      <td>2.86</td>\n",
       "    </tr>\n",
       "    <tr>\n",
       "      <th>50902</th>\n",
       "      <td>795480</td>\n",
       "      <td>2.86</td>\n",
       "    </tr>\n",
       "  </tbody>\n",
       "</table>\n",
       "</div>"
      ],
      "text/plain": [
       "       counts     %\n",
       "51221  881764  3.17\n",
       "50971  845737  3.04\n",
       "50983  808401  2.90\n",
       "50912  797389  2.86\n",
       "50902  795480  2.86"
      ]
     },
     "execution_count": 8,
     "metadata": {},
     "output_type": "execute_result"
    }
   ],
   "source": [
    "c = labevents_df.itemid.value_counts()[:5]\n",
    "p = labevents_df.itemid.value_counts(normalize=True).mul(100).round(2)[:5]\n",
    "pd.concat([c,p], axis=1, keys=['counts', '%'])"
   ]
  },
  {
   "cell_type": "markdown",
   "metadata": {},
   "source": [
    "`value` and `valuenum` contain the value measured for the given `itemid`. If `value` is numeric, then `valuenum` is the same value. If `value` is not numeric, then `valuenum` will be null."
   ]
  },
  {
   "cell_type": "markdown",
   "metadata": {},
   "source": [
    "`flag` indicates whether the given `value` for the `itemid` is considered abnormal or not (using predefined thresholds)"
   ]
  },
  {
   "cell_type": "code",
   "execution_count": 9,
   "metadata": {},
   "outputs": [
    {
     "data": {
      "text/html": [
       "<div>\n",
       "<style scoped>\n",
       "    .dataframe tbody tr th:only-of-type {\n",
       "        vertical-align: middle;\n",
       "    }\n",
       "\n",
       "    .dataframe tbody tr th {\n",
       "        vertical-align: top;\n",
       "    }\n",
       "\n",
       "    .dataframe thead th {\n",
       "        text-align: right;\n",
       "    }\n",
       "</style>\n",
       "<table border=\"1\" class=\"dataframe\">\n",
       "  <thead>\n",
       "    <tr style=\"text-align: right;\">\n",
       "      <th></th>\n",
       "      <th>counts</th>\n",
       "      <th>%</th>\n",
       "    </tr>\n",
       "  </thead>\n",
       "  <tbody>\n",
       "    <tr>\n",
       "      <th>abnormal</th>\n",
       "      <td>9779594</td>\n",
       "      <td>99.34</td>\n",
       "    </tr>\n",
       "    <tr>\n",
       "      <th>delta</th>\n",
       "      <td>64572</td>\n",
       "      <td>0.66</td>\n",
       "    </tr>\n",
       "  </tbody>\n",
       "</table>\n",
       "</div>"
      ],
      "text/plain": [
       "           counts      %\n",
       "abnormal  9779594  99.34\n",
       "delta       64572   0.66"
      ]
     },
     "execution_count": 9,
     "metadata": {},
     "output_type": "execute_result"
    }
   ],
   "source": [
    "c = labevents_df.flag.value_counts()\n",
    "p = labevents_df.flag.value_counts(normalize=True).mul(100).round(2)\n",
    "pd.concat([c,p], axis=1, keys=['counts', '%'])"
   ]
  },
  {
   "cell_type": "code",
   "execution_count": null,
   "metadata": {},
   "outputs": [],
   "source": []
  }
 ],
 "metadata": {
  "kernelspec": {
   "display_name": "Python 3 (ipykernel)",
   "language": "python",
   "name": "python3"
  },
  "language_info": {
   "codemirror_mode": {
    "name": "ipython",
    "version": 3
   },
   "file_extension": ".py",
   "mimetype": "text/x-python",
   "name": "python",
   "nbconvert_exporter": "python",
   "pygments_lexer": "ipython3",
   "version": "3.9.7"
  },
  "vscode": {
   "interpreter": {
    "hash": "81686e47d536e3df6c61aad70b193c760b1d667c8c8e04f426182dba08a834b2"
   }
  }
 },
 "nbformat": 4,
 "nbformat_minor": 4
}
