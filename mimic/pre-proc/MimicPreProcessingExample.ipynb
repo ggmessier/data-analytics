{
 "cells": [
  {
   "cell_type": "markdown",
   "id": "25b97f09-9d0f-41df-aa66-73382fe81f6c",
   "metadata": {
    "tags": []
   },
   "source": [
    "# MIMIC Pre-Processing Example\n",
    "An example of how to prepare MIMIC data for use in a machine learning algorithm.  Takes the raw table data and creates a single table of static (don't change with time) and dynamic (do change with time) data features for the MIMIC patient population.  The outcome label used is mortality."
   ]
  },
  {
   "cell_type": "code",
   "execution_count": 63,
   "id": "70caf1c9-03d3-4517-b538-b8b05308af48",
   "metadata": {},
   "outputs": [],
   "source": [
    "import numpy as np\n",
    "import pandas as pd\n",
    "import dask.dataframe as dd\n",
    "from dask.diagnostics import ProgressBar\n",
    "import os\n",
    "import pickle \n",
    "from tqdm.auto import tqdm, trange\n",
    "from tqdm.notebook import tqdm\n",
    "tqdm.pandas()"
   ]
  },
  {
   "cell_type": "code",
   "execution_count": 2,
   "id": "6a004264-417c-4fcb-81eb-a9427792f782",
   "metadata": {},
   "outputs": [],
   "source": [
    "dataDirStr = '/Users/gmessier/data/mimic-1.4/'   # MIMIC CSV file location.\n",
    "cacheDirStr = '/Users/gmessier/data/mimic-1.4/cache/'  # Cache directory for intermediate files."
   ]
  },
  {
   "cell_type": "code",
   "execution_count": null,
   "id": "83cc2c01-0f02-4d3f-975e-dc5d03d17938",
   "metadata": {},
   "outputs": [],
   "source": []
  },
  {
   "cell_type": "code",
   "execution_count": null,
   "id": "63750c4d-aab7-422f-a3e0-086f4b69f969",
   "metadata": {},
   "outputs": [],
   "source": []
  },
  {
   "cell_type": "code",
   "execution_count": null,
   "id": "78d4c7f7-a086-46df-b366-a5410420bb0d",
   "metadata": {},
   "outputs": [],
   "source": []
  },
  {
   "cell_type": "markdown",
   "id": "9cc2085f-fdb7-4fc9-bb3a-b424233e2f44",
   "metadata": {},
   "source": [
    "## Timestamped Events\n",
    "---\n",
    "Start by gathering all of our events of interest that have a time stamp."
   ]
  },
  {
   "cell_type": "markdown",
   "id": "0a8d6333-a5ab-4dbf-b613-5251eaa51483",
   "metadata": {},
   "source": [
    "### Service Type"
   ]
  },
  {
   "cell_type": "code",
   "execution_count": 3,
   "id": "449a0064-9952-4d59-81bd-c36596c8a302",
   "metadata": {},
   "outputs": [],
   "source": [
    "srvTbl = pd.read_csv(dataDirStr + 'SERVICES.csv')\n",
    "srvTbl.columns = srvTbl.columns.str.lower()"
   ]
  },
  {
   "cell_type": "code",
   "execution_count": 4,
   "id": "3907a87e-cfbe-4818-862c-f72ebafa525a",
   "metadata": {},
   "outputs": [],
   "source": [
    "def convert_date_type(tbl,dateCols):\n",
    "    for dateCol in dateCols:\n",
    "        tbl[dateCol] = pd.to_datetime(tbl[dateCol])"
   ]
  },
  {
   "cell_type": "code",
   "execution_count": 5,
   "id": "f62e5b1f-e3f0-411b-98f5-8de0620fef54",
   "metadata": {},
   "outputs": [],
   "source": [
    "dateCols = [ 'transfertime' ]\n",
    "convert_date_type(srvTbl,dateCols)"
   ]
  },
  {
   "cell_type": "code",
   "execution_count": 6,
   "id": "2e0669c0-c4e2-4c25-a57e-569e5beb0d9f",
   "metadata": {},
   "outputs": [],
   "source": [
    "columnMap = {\n",
    "    'subject_id': 'SubjectId', \n",
    "    'transfertime': 'Date',\n",
    "    'curr_service': 'ServiceType'\n",
    "}"
   ]
  },
  {
   "cell_type": "code",
   "execution_count": 7,
   "id": "a88c49da-aa45-4dd9-9a7b-6aa549a652e5",
   "metadata": {},
   "outputs": [],
   "source": [
    "# Selects and renames columns from a MIMIC table.\n",
    "def select_mimic_columns(tbl,mapper):\n",
    "    d = {}\n",
    "    for k in mapper.keys():\n",
    "        d[mapper[k]] = tbl[k]\n",
    "    return pd.DataFrame(d)      "
   ]
  },
  {
   "cell_type": "code",
   "execution_count": 8,
   "id": "311f1d10-49df-427d-ac18-e7f3f61d71dd",
   "metadata": {},
   "outputs": [],
   "source": [
    "events = select_mimic_columns(srvTbl,columnMap)"
   ]
  },
  {
   "cell_type": "code",
   "execution_count": null,
   "id": "8171a27a-0ac7-4530-8045-94ce806c8ea7",
   "metadata": {},
   "outputs": [],
   "source": []
  },
  {
   "cell_type": "markdown",
   "id": "c5832848-bc44-4964-bbcf-a3e58e1a6c43",
   "metadata": {},
   "source": [
    "### Admission Type"
   ]
  },
  {
   "cell_type": "code",
   "execution_count": 9,
   "id": "b87e8609-9b8f-4630-9150-343d8f2cda5d",
   "metadata": {},
   "outputs": [],
   "source": [
    "admitTbl = pd.read_csv(dataDirStr + 'ADMISSIONS.csv')\n",
    "admitTbl.columns = admitTbl.columns.str.lower()"
   ]
  },
  {
   "cell_type": "code",
   "execution_count": 10,
   "id": "b89b4b2f-4228-49e3-a51d-a4d91f6dd138",
   "metadata": {},
   "outputs": [],
   "source": [
    "dateCols = [ 'admittime', 'dischtime', 'deathtime', 'edregtime', 'edouttime' ]\n",
    "convert_date_type(admitTbl,dateCols)"
   ]
  },
  {
   "cell_type": "code",
   "execution_count": 11,
   "id": "a0019673-9731-4936-88da-60c5cff8a677",
   "metadata": {},
   "outputs": [],
   "source": [
    "columnMap = {\n",
    "    'subject_id': 'SubjectId', \n",
    "    'admittime': 'Date',\n",
    "    'admission_type': 'AdmitType'\n",
    "}"
   ]
  },
  {
   "cell_type": "code",
   "execution_count": 12,
   "id": "451dfb2e-4833-4258-b849-36a05f86e659",
   "metadata": {},
   "outputs": [],
   "source": [
    "eventsNew = select_mimic_columns(admitTbl,columnMap)"
   ]
  },
  {
   "cell_type": "code",
   "execution_count": 13,
   "id": "8e790ddb-b6f4-4e69-83cd-a8ca5bae8cba",
   "metadata": {},
   "outputs": [],
   "source": [
    "events = pd.concat([ events, eventsNew ], ignore_index=True, sort=False)"
   ]
  },
  {
   "cell_type": "code",
   "execution_count": 14,
   "id": "3ca3561b-1aa8-4323-98c4-06e40fddb0c9",
   "metadata": {},
   "outputs": [
    {
     "data": {
      "text/html": [
       "<div>\n",
       "<style scoped>\n",
       "    .dataframe tbody tr th:only-of-type {\n",
       "        vertical-align: middle;\n",
       "    }\n",
       "\n",
       "    .dataframe tbody tr th {\n",
       "        vertical-align: top;\n",
       "    }\n",
       "\n",
       "    .dataframe thead th {\n",
       "        text-align: right;\n",
       "    }\n",
       "</style>\n",
       "<table border=\"1\" class=\"dataframe\">\n",
       "  <thead>\n",
       "    <tr style=\"text-align: right;\">\n",
       "      <th></th>\n",
       "      <th>SubjectId</th>\n",
       "      <th>Date</th>\n",
       "      <th>ServiceType</th>\n",
       "      <th>AdmitType</th>\n",
       "    </tr>\n",
       "  </thead>\n",
       "  <tbody>\n",
       "    <tr>\n",
       "      <th>0</th>\n",
       "      <td>471</td>\n",
       "      <td>2122-07-22 14:07:27</td>\n",
       "      <td>MED</td>\n",
       "      <td>NaN</td>\n",
       "    </tr>\n",
       "    <tr>\n",
       "      <th>1</th>\n",
       "      <td>471</td>\n",
       "      <td>2122-07-26 18:31:49</td>\n",
       "      <td>TSURG</td>\n",
       "      <td>NaN</td>\n",
       "    </tr>\n",
       "    <tr>\n",
       "      <th>2</th>\n",
       "      <td>472</td>\n",
       "      <td>2172-09-28 19:22:15</td>\n",
       "      <td>CMED</td>\n",
       "      <td>NaN</td>\n",
       "    </tr>\n",
       "    <tr>\n",
       "      <th>3</th>\n",
       "      <td>473</td>\n",
       "      <td>2201-01-09 20:16:45</td>\n",
       "      <td>NB</td>\n",
       "      <td>NaN</td>\n",
       "    </tr>\n",
       "    <tr>\n",
       "      <th>4</th>\n",
       "      <td>474</td>\n",
       "      <td>2181-03-23 08:24:41</td>\n",
       "      <td>NB</td>\n",
       "      <td>NaN</td>\n",
       "    </tr>\n",
       "    <tr>\n",
       "      <th>...</th>\n",
       "      <td>...</td>\n",
       "      <td>...</td>\n",
       "      <td>...</td>\n",
       "      <td>...</td>\n",
       "    </tr>\n",
       "    <tr>\n",
       "      <th>132314</th>\n",
       "      <td>98800</td>\n",
       "      <td>2131-03-30 21:13:00</td>\n",
       "      <td>NaN</td>\n",
       "      <td>EMERGENCY</td>\n",
       "    </tr>\n",
       "    <tr>\n",
       "      <th>132315</th>\n",
       "      <td>98802</td>\n",
       "      <td>2151-03-05 20:00:00</td>\n",
       "      <td>NaN</td>\n",
       "      <td>EMERGENCY</td>\n",
       "    </tr>\n",
       "    <tr>\n",
       "      <th>132316</th>\n",
       "      <td>98805</td>\n",
       "      <td>2200-09-12 07:15:00</td>\n",
       "      <td>NaN</td>\n",
       "      <td>ELECTIVE</td>\n",
       "    </tr>\n",
       "    <tr>\n",
       "      <th>132317</th>\n",
       "      <td>98813</td>\n",
       "      <td>2128-11-11 02:29:00</td>\n",
       "      <td>NaN</td>\n",
       "      <td>EMERGENCY</td>\n",
       "    </tr>\n",
       "    <tr>\n",
       "      <th>132318</th>\n",
       "      <td>98813</td>\n",
       "      <td>2131-10-25 03:09:00</td>\n",
       "      <td>NaN</td>\n",
       "      <td>EMERGENCY</td>\n",
       "    </tr>\n",
       "  </tbody>\n",
       "</table>\n",
       "<p>132319 rows × 4 columns</p>\n",
       "</div>"
      ],
      "text/plain": [
       "        SubjectId                Date ServiceType  AdmitType\n",
       "0             471 2122-07-22 14:07:27         MED        NaN\n",
       "1             471 2122-07-26 18:31:49       TSURG        NaN\n",
       "2             472 2172-09-28 19:22:15        CMED        NaN\n",
       "3             473 2201-01-09 20:16:45          NB        NaN\n",
       "4             474 2181-03-23 08:24:41          NB        NaN\n",
       "...           ...                 ...         ...        ...\n",
       "132314      98800 2131-03-30 21:13:00         NaN  EMERGENCY\n",
       "132315      98802 2151-03-05 20:00:00         NaN  EMERGENCY\n",
       "132316      98805 2200-09-12 07:15:00         NaN   ELECTIVE\n",
       "132317      98813 2128-11-11 02:29:00         NaN  EMERGENCY\n",
       "132318      98813 2131-10-25 03:09:00         NaN  EMERGENCY\n",
       "\n",
       "[132319 rows x 4 columns]"
      ]
     },
     "execution_count": 14,
     "metadata": {},
     "output_type": "execute_result"
    }
   ],
   "source": [
    "events"
   ]
  },
  {
   "cell_type": "code",
   "execution_count": null,
   "id": "a47f62bd-b460-4196-a516-c3ca21fce188",
   "metadata": {},
   "outputs": [],
   "source": []
  },
  {
   "cell_type": "markdown",
   "id": "f0f87302-b551-4cc8-9a23-fa00a6f14df8",
   "metadata": {},
   "source": [
    "### Chart Events"
   ]
  },
  {
   "cell_type": "markdown",
   "id": "774d2e86-e40c-45d5-87c8-5854f3e3a37b",
   "metadata": {},
   "source": [
    "`CHARTEVENTS` is a massive table so only extract the events we're interested in.  Use the dask library to implement parallelized filtering of the table as it's read in from its csv file."
   ]
  },
  {
   "cell_type": "code",
   "execution_count": 15,
   "id": "d9826e05-e30a-4694-83c9-8e32797479a2",
   "metadata": {},
   "outputs": [],
   "source": [
    "# The item ID numbers for the different chart events we're interested in.\n",
    "chartEvents = {\n",
    "    'GscVerbal': [ 723, 223900 ],\n",
    "    'GscMotor': [ 454, 223901 ],\n",
    "    'GscEyes': [ 184, 220739 ],\n",
    "    'SystolicBloodPressure': [ 51, 442, 455, 6701, 220050, 220179 ],\n",
    "    'HeartRate': [ 211, 220045 ],\n",
    "    'Temperature': [ 676, 678, 223762, 223761 ],\n",
    "    'BloodO2': [ 190, 3420, 3422, 223835 ]\n",
    "}\n",
    "    "
   ]
  },
  {
   "cell_type": "code",
   "execution_count": 16,
   "id": "79a1c277-a6ff-4607-b6e3-788e1b176eaa",
   "metadata": {},
   "outputs": [],
   "source": [
    "allEvents = [ ]\n",
    "for k in chartEvents.keys():\n",
    "    allEvents += chartEvents[k]"
   ]
  },
  {
   "cell_type": "code",
   "execution_count": 17,
   "id": "4a196b60-2c31-4960-9a36-7c2527db410d",
   "metadata": {},
   "outputs": [],
   "source": [
    "# Check to see if the table has already been generated and cached.\n",
    "if not os.path.isfile(cacheDirStr + 'FirstAdmissionChartTable.parquet'):\n",
    "    \n",
    "    # Parallelize reading the large CHARTEVENTS table using dask.\n",
    "    chartCols = [ 'SUBJECT_ID', 'HADM_ID', 'CHARTTIME', 'ITEMID', 'VALUE' ]    \n",
    "    chartTblFull = dd.read_csv(dataDirStr + 'CHARTEVENTS.csv', \n",
    "                               usecols = chartCols, \n",
    "                               blocksize = 100e6, \n",
    "                               dtype={'VALUE': 'object'})   \n",
    "    \n",
    "    # Only read entries for the item ID numbers we're interested in.\n",
    "    with ProgressBar():\n",
    "        chartTbl = chartTblFull.loc[chartTblFull.ITEMID.isin(allEvents)].compute()\n",
    "\n",
    "    chartTbl.columns = chartTbl.columns.str.lower()    \n",
    "    chartTbl['charttime'] = pd.to_datetime(chartTbl.charttime)\n",
    "    chartTbl['value'] = chartTbl.value.astype('str')\n",
    "\n",
    "    # parquet files work a lot better than HDF or CSV files for large tables.\n",
    "    chartTbl.to_parquet(cacheDirStr + 'FirstAdmissionChartTable.parquet')\n",
    "\n",
    "else:\n",
    "    # Load the cache file if present.\n",
    "    chartTbl = pd.read_parquet(cacheDirStr + 'FirstAdmissionChartTable.parquet')\n",
    "\n"
   ]
  },
  {
   "cell_type": "code",
   "execution_count": 18,
   "id": "8089c373-4727-42d1-8444-2f49407de8ea",
   "metadata": {},
   "outputs": [],
   "source": [
    "renameMap = {\n",
    "    'subject_id': 'SubjectId', \n",
    "    'charttime': 'Date'\n",
    "}"
   ]
  },
  {
   "cell_type": "code",
   "execution_count": 19,
   "id": "5fee22dc-b98e-422c-9247-c8c00c6cb7c0",
   "metadata": {},
   "outputs": [],
   "source": [
    "# Separates multiple events from the same MIMIC column into separate columns.\n",
    "# tbl - The MIMIC table.\n",
    "# renameMap - A map used to rename columns that we want to directly copy over.\n",
    "# eventMap - A map that names the different events we're interested in and provides their ID numbers.\n",
    "# eventIds - The MIMIC column that contains the eventIDs (ie. ID numbers for blood pressure readings, temperature, etc.). \n",
    "# value - The MIMIC column that contains the value for each event (ie. the value of temperature or blood pressure).\n",
    "def extract_multiple_events(tbl,renameMap,eventMap,eventIds,value,):\n",
    "    n = len(tbl.index)\n",
    "    d = {}\n",
    "    \n",
    "    # Directly copy over the columns in renameMap.\n",
    "    for k in renameMap.keys():\n",
    "        d[ renameMap[k] ] = tbl[k]\n",
    "    \n",
    "    # Create new columns named after the eventMap keys.  Give these columns\n",
    "    # an entry when their corresponding event IDs appear in the value column.\n",
    "    for k in eventMap.keys():\n",
    "        d[k] = pd.Series(np.nan,index=tbl.index)\n",
    "        eventIdx = tbl[eventIds].isin(eventMap[k])\n",
    "        d[k].loc[eventIdx] = tbl[value].loc[eventIdx]\n",
    "     \n",
    "    return pd.DataFrame(d)      "
   ]
  },
  {
   "cell_type": "code",
   "execution_count": 20,
   "id": "7ed1b6f4-9bc5-4906-9ba9-323898a7b511",
   "metadata": {},
   "outputs": [],
   "source": [
    "eventsNew = extract_multiple_events(chartTbl,renameMap=renameMap,eventMap=chartEvents,eventIds='itemid',value='value')"
   ]
  },
  {
   "cell_type": "code",
   "execution_count": 21,
   "id": "241c15ef-3dfc-4f19-aa5b-8a9aac824d89",
   "metadata": {},
   "outputs": [],
   "source": [
    "events = pd.concat([ events, eventsNew ], ignore_index=True, sort=False)"
   ]
  },
  {
   "cell_type": "code",
   "execution_count": 66,
   "id": "3b2a8064-3faa-4761-bfd5-05fd36c6943d",
   "metadata": {},
   "outputs": [
    {
     "data": {
      "text/html": [
       "<div>\n",
       "<style scoped>\n",
       "    .dataframe tbody tr th:only-of-type {\n",
       "        vertical-align: middle;\n",
       "    }\n",
       "\n",
       "    .dataframe tbody tr th {\n",
       "        vertical-align: top;\n",
       "    }\n",
       "\n",
       "    .dataframe thead th {\n",
       "        text-align: right;\n",
       "    }\n",
       "</style>\n",
       "<table border=\"1\" class=\"dataframe\">\n",
       "  <thead>\n",
       "    <tr style=\"text-align: right;\">\n",
       "      <th></th>\n",
       "      <th>subject_id</th>\n",
       "      <th>hadm_id</th>\n",
       "      <th>itemid</th>\n",
       "      <th>charttime</th>\n",
       "      <th>value</th>\n",
       "    </tr>\n",
       "  </thead>\n",
       "  <tbody>\n",
       "    <tr>\n",
       "      <th>1</th>\n",
       "      <td>36</td>\n",
       "      <td>165660</td>\n",
       "      <td>223835</td>\n",
       "      <td>2134-05-12 12:00:00</td>\n",
       "      <td>100</td>\n",
       "    </tr>\n",
       "    <tr>\n",
       "      <th>15</th>\n",
       "      <td>36</td>\n",
       "      <td>165660</td>\n",
       "      <td>220045</td>\n",
       "      <td>2134-05-12 13:00:00</td>\n",
       "      <td>86</td>\n",
       "    </tr>\n",
       "    <tr>\n",
       "      <th>16</th>\n",
       "      <td>36</td>\n",
       "      <td>165660</td>\n",
       "      <td>220179</td>\n",
       "      <td>2134-05-12 13:00:00</td>\n",
       "      <td>137</td>\n",
       "    </tr>\n",
       "    <tr>\n",
       "      <th>28</th>\n",
       "      <td>36</td>\n",
       "      <td>165660</td>\n",
       "      <td>220045</td>\n",
       "      <td>2134-05-12 14:00:00</td>\n",
       "      <td>85</td>\n",
       "    </tr>\n",
       "    <tr>\n",
       "      <th>29</th>\n",
       "      <td>36</td>\n",
       "      <td>165660</td>\n",
       "      <td>220179</td>\n",
       "      <td>2134-05-12 14:00:00</td>\n",
       "      <td>118</td>\n",
       "    </tr>\n",
       "    <tr>\n",
       "      <th>...</th>\n",
       "      <td>...</td>\n",
       "      <td>...</td>\n",
       "      <td>...</td>\n",
       "      <td>...</td>\n",
       "      <td>...</td>\n",
       "    </tr>\n",
       "    <tr>\n",
       "      <th>958772</th>\n",
       "      <td>99781</td>\n",
       "      <td>167791</td>\n",
       "      <td>223900</td>\n",
       "      <td>2133-07-28 04:37:00</td>\n",
       "      <td>Oriented</td>\n",
       "    </tr>\n",
       "    <tr>\n",
       "      <th>958773</th>\n",
       "      <td>99781</td>\n",
       "      <td>167791</td>\n",
       "      <td>223901</td>\n",
       "      <td>2133-07-28 04:37:00</td>\n",
       "      <td>Obeys Commands</td>\n",
       "    </tr>\n",
       "    <tr>\n",
       "      <th>958819</th>\n",
       "      <td>99781</td>\n",
       "      <td>167791</td>\n",
       "      <td>220739</td>\n",
       "      <td>2133-07-28 08:00:00</td>\n",
       "      <td>Spontaneously</td>\n",
       "    </tr>\n",
       "    <tr>\n",
       "      <th>958830</th>\n",
       "      <td>99781</td>\n",
       "      <td>167791</td>\n",
       "      <td>223900</td>\n",
       "      <td>2133-07-28 08:00:00</td>\n",
       "      <td>Oriented</td>\n",
       "    </tr>\n",
       "    <tr>\n",
       "      <th>958831</th>\n",
       "      <td>99781</td>\n",
       "      <td>167791</td>\n",
       "      <td>223901</td>\n",
       "      <td>2133-07-28 08:00:00</td>\n",
       "      <td>Obeys Commands</td>\n",
       "    </tr>\n",
       "  </tbody>\n",
       "</table>\n",
       "<p>22432261 rows × 5 columns</p>\n",
       "</div>"
      ],
      "text/plain": [
       "        subject_id  hadm_id  itemid           charttime           value\n",
       "1               36   165660  223835 2134-05-12 12:00:00             100\n",
       "15              36   165660  220045 2134-05-12 13:00:00              86\n",
       "16              36   165660  220179 2134-05-12 13:00:00             137\n",
       "28              36   165660  220045 2134-05-12 14:00:00              85\n",
       "29              36   165660  220179 2134-05-12 14:00:00             118\n",
       "...            ...      ...     ...                 ...             ...\n",
       "958772       99781   167791  223900 2133-07-28 04:37:00        Oriented\n",
       "958773       99781   167791  223901 2133-07-28 04:37:00  Obeys Commands\n",
       "958819       99781   167791  220739 2133-07-28 08:00:00   Spontaneously\n",
       "958830       99781   167791  223900 2133-07-28 08:00:00        Oriented\n",
       "958831       99781   167791  223901 2133-07-28 08:00:00  Obeys Commands\n",
       "\n",
       "[22432261 rows x 5 columns]"
      ]
     },
     "execution_count": 66,
     "metadata": {},
     "output_type": "execute_result"
    }
   ],
   "source": [
    "chartTbl"
   ]
  },
  {
   "cell_type": "markdown",
   "id": "d31e98da-cd0b-4f68-b125-21769e3a8e3e",
   "metadata": {},
   "source": [
    "### Output Events"
   ]
  },
  {
   "cell_type": "code",
   "execution_count": 22,
   "id": "1fb35443-6cb7-42d6-931c-97243c0ba1a4",
   "metadata": {},
   "outputs": [],
   "source": [
    "output = pd.read_csv(dataDirStr + 'OUTPUTEVENTS.csv')\n",
    "output.columns = output.columns.str.lower()"
   ]
  },
  {
   "cell_type": "code",
   "execution_count": 23,
   "id": "66a08706-0f8e-43ba-bd1d-cab9fee08856",
   "metadata": {},
   "outputs": [],
   "source": [
    "dateCols = [ 'charttime' ]\n",
    "convert_date_type(output,dateCols)"
   ]
  },
  {
   "cell_type": "code",
   "execution_count": 24,
   "id": "1844da32-7af5-4fda-87f6-b60b8edf8b7d",
   "metadata": {},
   "outputs": [],
   "source": [
    "outputEvents = {\n",
    "    'Urine': [ 40055, 43175, 40069, 40715, 40473, 40085, 40057, 40056, 40405, 40428, 40086, 40096, \n",
    "             40651, 226559, 226560, 226561, 226584, 226563, 226564, 226565, 226567, 226557, 226558, \n",
    "             227488]\n",
    "}"
   ]
  },
  {
   "cell_type": "code",
   "execution_count": 25,
   "id": "1d4a34c6-ed2c-4246-b679-304b79122d6d",
   "metadata": {},
   "outputs": [],
   "source": [
    "renameMap = {\n",
    "    'subject_id': 'SubjectId', \n",
    "    'charttime': 'Date'\n",
    "}"
   ]
  },
  {
   "cell_type": "code",
   "execution_count": 26,
   "id": "8cabc0b6-a84c-4faa-a2b1-5a060720f309",
   "metadata": {},
   "outputs": [],
   "source": [
    "output = output.loc[output.itemid.isin(outputEvents['Urine'])]"
   ]
  },
  {
   "cell_type": "code",
   "execution_count": 27,
   "id": "2a65cecf-cc47-436b-9c7b-f1cc342bb095",
   "metadata": {},
   "outputs": [],
   "source": [
    "eventsNew = extract_multiple_events(output,renameMap=renameMap,eventIds='itemid',value='value',eventMap=outputEvents)"
   ]
  },
  {
   "cell_type": "code",
   "execution_count": 28,
   "id": "93e8af2b-6c34-438d-b6d0-376bd2dc0850",
   "metadata": {},
   "outputs": [],
   "source": [
    "events = pd.concat([ events, eventsNew ], ignore_index=True, sort=False)"
   ]
  },
  {
   "cell_type": "code",
   "execution_count": null,
   "id": "b1a2ff50-5e8b-4cc3-a8da-0693c615efec",
   "metadata": {},
   "outputs": [],
   "source": []
  },
  {
   "cell_type": "markdown",
   "id": "1424eeb7-264d-46f9-9374-7e2af74788bb",
   "metadata": {},
   "source": [
    "### Adjust Data Column Types\n",
    "Cast numerical columns to float and convert categorical string columns to categorical floating point values."
   ]
  },
  {
   "cell_type": "code",
   "execution_count": 29,
   "id": "a14996fb-b861-4afe-8df6-7637d4abe216",
   "metadata": {},
   "outputs": [],
   "source": [
    "catColumns = [ 'ServiceType', 'AdmitType', 'GscVerbal', 'GscMotor', 'GscEyes' ]\n",
    "numColumns = [ 'SystolicBloodPressure', 'HeartRate', 'Temperature', 'BloodO2', 'Urine' ]"
   ]
  },
  {
   "cell_type": "code",
   "execution_count": 30,
   "id": "7d1c6d26-c207-4669-807d-4aefcb86ea65",
   "metadata": {},
   "outputs": [
    {
     "data": {
      "application/vnd.jupyter.widget-view+json": {
       "model_id": "de7a5fff6adf4fe1b5a78e0253384a92",
       "version_major": 2,
       "version_minor": 0
      },
      "text/plain": [
       "  0%|          | 0/5 [00:00<?, ?it/s]"
      ]
     },
     "metadata": {},
     "output_type": "display_data"
    }
   ],
   "source": [
    "catMap = {}\n",
    "for c in tqdm(catColumns):\n",
    "    vals = events[c].loc[~events[c].isna()].unique()\n",
    "    nums = list(range(len(vals)))\n",
    "    catNums = dict(zip(vals,nums))\n",
    "    \n",
    "    catMap[c] = catNums\n",
    "    \n",
    "    notNa = ~events[c].isna()\n",
    "    events.loc[notNa,c] = events[c].loc[notNa].map(catNums)\n",
    "    events[c] = events[c].astype(float)"
   ]
  },
  {
   "cell_type": "code",
   "execution_count": 31,
   "id": "a289a2cf-1582-4e6e-ac87-cc0ba952ea17",
   "metadata": {},
   "outputs": [
    {
     "data": {
      "application/vnd.jupyter.widget-view+json": {
       "model_id": "11a071f33cdc4b3da5ea35bfc17857e0",
       "version_major": 2,
       "version_minor": 0
      },
      "text/plain": [
       "  0%|          | 0/5 [00:00<?, ?it/s]"
      ]
     },
     "metadata": {},
     "output_type": "display_data"
    }
   ],
   "source": [
    "for c in tqdm(numColumns):\n",
    "    events.loc[events[c] == '<NA>',c] = np.nan\n",
    "    events[c] = events[c].astype(float)"
   ]
  },
  {
   "cell_type": "code",
   "execution_count": 62,
   "id": "de74cc99-92a1-4cb2-bfc6-791d5758c484",
   "metadata": {},
   "outputs": [],
   "source": [
    "# Save the categorical string to number mapping.\n",
    "fp = open(cacheDirStr + 'CategoricalVariableMapping.pkl', 'wb')\n",
    "pickle.dump(catMap, fp)\n",
    "fp.close()"
   ]
  },
  {
   "cell_type": "code",
   "execution_count": 61,
   "id": "3e6b82f8-8f81-43b4-a67f-6f7a3393cc0f",
   "metadata": {},
   "outputs": [],
   "source": []
  },
  {
   "cell_type": "markdown",
   "id": "658050e0-e6e1-4be3-8c32-3a8c309b299a",
   "metadata": {},
   "source": [
    "### Normalize Time\n",
    "Express time as the number of seconds relative to the first event in the data (usually an admission event)."
   ]
  },
  {
   "cell_type": "code",
   "execution_count": 33,
   "id": "e8a28725-4b98-4546-95a3-d209da47d205",
   "metadata": {},
   "outputs": [],
   "source": [
    "def calc_elapsed_time(tbl):\n",
    "    tbl = tbl.sort_values(by='Date')\n",
    "    dataCols = tbl.columns[2:]\n",
    "    \n",
    "#    timeSec = (tbl.Date - tbl.Date.min()).dt.seconds\n",
    "    timeSec = tbl.Date - tbl.Date.min()\n",
    "    timeSec.rename('Time',inplace=True)\n",
    "    \n",
    "    return pd.concat([ timeSec, tbl[dataCols] ],axis=1)"
   ]
  },
  {
   "cell_type": "code",
   "execution_count": 34,
   "id": "51d448cb-1616-4721-8a9c-c4ec9287afe4",
   "metadata": {},
   "outputs": [
    {
     "data": {
      "application/vnd.jupyter.widget-view+json": {
       "model_id": "0b6cfe62c9f34217bfc74cce32381b39",
       "version_major": 2,
       "version_minor": 0
      },
      "text/plain": [
       "  0%|          | 0/46520 [00:00<?, ?it/s]"
      ]
     },
     "metadata": {},
     "output_type": "display_data"
    }
   ],
   "source": [
    "events = events.groupby('SubjectId').progress_apply(calc_elapsed_time)"
   ]
  },
  {
   "cell_type": "code",
   "execution_count": null,
   "id": "ecd949a0-6e40-4f11-8aa1-1c8870188eb8",
   "metadata": {},
   "outputs": [],
   "source": []
  },
  {
   "cell_type": "code",
   "execution_count": null,
   "id": "261b25e0-b511-4c14-b48b-a466abc7d6d8",
   "metadata": {},
   "outputs": [],
   "source": []
  },
  {
   "cell_type": "markdown",
   "id": "f08c9940-c6e2-4055-bb29-f31ef96bd7d2",
   "metadata": {},
   "source": [
    "## Static Features\n",
    "---\n",
    "The following features are static for the duration of the data time span."
   ]
  },
  {
   "cell_type": "code",
   "execution_count": null,
   "id": "11d606d5-d85b-4894-be52-a816fa7767e3",
   "metadata": {},
   "outputs": [],
   "source": []
  },
  {
   "cell_type": "markdown",
   "id": "d9f63888-9ee8-4864-9c33-84a70f89a319",
   "metadata": {},
   "source": [
    "### Age\n",
    "Due to the random offsets applied to each patient's timeline, age is calculated relative to date of first admission."
   ]
  },
  {
   "cell_type": "code",
   "execution_count": 35,
   "id": "e0db0df1-f0d1-4f44-a65c-caf27b22e781",
   "metadata": {},
   "outputs": [],
   "source": [
    "patientTbl = pd.read_csv(dataDirStr + 'PATIENTS.csv')\n",
    "patientTbl.columns = patientTbl.columns.str.lower()"
   ]
  },
  {
   "cell_type": "code",
   "execution_count": 36,
   "id": "6377afbb-9206-42f6-9397-91d82e12f032",
   "metadata": {},
   "outputs": [],
   "source": [
    "dateCols = [ 'dob', 'dod', 'dod_hosp', 'dod_ssn' ]\n",
    "convert_date_type(patientTbl,dateCols)"
   ]
  },
  {
   "cell_type": "code",
   "execution_count": 37,
   "id": "4e8ddd84-c175-4fd2-bcd5-5c31f3645ca2",
   "metadata": {},
   "outputs": [],
   "source": [
    "def find_first_admission(tbl):\n",
    "    return tbl.sort_values(by='admittime').iloc[0][[ 'hadm_id', 'admittime' ]]"
   ]
  },
  {
   "cell_type": "code",
   "execution_count": 38,
   "id": "c3777c09-5534-4891-8dfd-1df1c554a2fc",
   "metadata": {},
   "outputs": [
    {
     "data": {
      "application/vnd.jupyter.widget-view+json": {
       "model_id": "f48896a3ed0944e6b918387671d27f58",
       "version_major": 2,
       "version_minor": 0
      },
      "text/plain": [
       "  0%|          | 0/46520 [00:00<?, ?it/s]"
      ]
     },
     "metadata": {},
     "output_type": "display_data"
    }
   ],
   "source": [
    "firstAdmit = admitTbl.groupby('subject_id').progress_apply(find_first_admission)"
   ]
  },
  {
   "cell_type": "code",
   "execution_count": 39,
   "id": "dc14725f-aa1c-4541-8d62-c7ca3e1723e9",
   "metadata": {},
   "outputs": [],
   "source": [
    "patientIds = patientTbl.subject_id\n",
    "patientAdmitTime = firstAdmit.loc[patientTbl.subject_id].admittime\n",
    "patientDob = pd.Series(patientTbl.dob.values,index=patientTbl.subject_id)\n",
    "age = pd.DataFrame({ 'Age': patientAdmitTime.dt.year - patientDob.dt.year})"
   ]
  },
  {
   "cell_type": "code",
   "execution_count": 40,
   "id": "ace3f4e8-f8d8-4b3e-9090-5040d1000aab",
   "metadata": {},
   "outputs": [],
   "source": [
    "staticFeatures = age"
   ]
  },
  {
   "cell_type": "code",
   "execution_count": null,
   "id": "1d7f66d5-a785-4060-ae81-7a1ece1328d0",
   "metadata": {},
   "outputs": [],
   "source": []
  },
  {
   "cell_type": "markdown",
   "id": "2b46bb52-33f8-4af3-b492-3f99ee2c3280",
   "metadata": {
    "tags": []
   },
   "source": [
    "### Disease Diagnoses"
   ]
  },
  {
   "cell_type": "code",
   "execution_count": 41,
   "id": "17d8ec38-739c-4b6e-9b62-e6ab922d59e2",
   "metadata": {},
   "outputs": [],
   "source": [
    "diagnoses = pd.read_csv(dataDirStr + 'DIAGNOSES_ICD.csv')\n",
    "diagnoses.columns = diagnoses.columns.str.lower()"
   ]
  },
  {
   "cell_type": "code",
   "execution_count": 42,
   "id": "172e1591-054b-4ec5-b78b-c0ca3a23ef4c",
   "metadata": {},
   "outputs": [],
   "source": [
    "# Limit to diagnoses on first admission.\n",
    "firstAdmitDiag = diagnoses.hadm_id.isin(firstAdmit.hadm_id)\n",
    "diagnoses = diagnoses.loc[firstAdmitDiag]"
   ]
  },
  {
   "cell_type": "code",
   "execution_count": null,
   "id": "6a6ce2bd-0a7c-4680-9f8d-54eeb58a2c77",
   "metadata": {},
   "outputs": [],
   "source": []
  },
  {
   "cell_type": "code",
   "execution_count": 43,
   "id": "fb8f3470-4f0c-46cf-8f3f-a32f37ccaf47",
   "metadata": {},
   "outputs": [],
   "source": [
    "icdDict = pd.read_csv(dataDirStr + 'D_ICD_DIAGNOSES.csv')\n",
    "icdDict.columns = icdDict.columns.str.lower()\n",
    "icdDict = icdDict.sort_values(by = 'icd9_code', ascending=True)"
   ]
  },
  {
   "cell_type": "code",
   "execution_count": 44,
   "id": "af05181f-fdca-4d22-bcf9-3a026d2096d9",
   "metadata": {},
   "outputs": [],
   "source": [
    "diseaseCodes = {\n",
    "    'Aids': [ '042' ]\n",
    "}  "
   ]
  },
  {
   "cell_type": "code",
   "execution_count": null,
   "id": "a60b763a-4cd0-4734-aa9c-9440331e1cdb",
   "metadata": {},
   "outputs": [],
   "source": []
  },
  {
   "cell_type": "markdown",
   "id": "4b62a032-f709-41d0-8e4b-27b7867e5eda",
   "metadata": {},
   "source": [
    "**Musa:** I use a different approach to select the ICD codes corresponding to malignancy.  These are based on the [ICD9 wikipedia page](https://en.wikipedia.org/wiki/List_of_ICD-9_codes) and should encompass both malignant cancers and malignant blood disorders."
   ]
  },
  {
   "cell_type": "code",
   "execution_count": 45,
   "id": "c5e5b17a-92e5-4d45-addb-e310c27f9b7b",
   "metadata": {},
   "outputs": [],
   "source": [
    "malignantPrefix = [ '14', '15', '16', '17', '18', '19', '20' ]"
   ]
  },
  {
   "cell_type": "code",
   "execution_count": 46,
   "id": "554b4654-30c6-4f03-8b57-03a7c8c3c70f",
   "metadata": {},
   "outputs": [],
   "source": [
    "cancerIcd = []\n",
    "for pfx in malignantPrefix:\n",
    "    idx = icdDict.icd9_code.str.contains(f'^{pfx}')\n",
    "    cancerIcd += list(icdDict.loc[idx].icd9_code)\n",
    "diseaseCodes['Cancer'] = cancerIcd    "
   ]
  },
  {
   "cell_type": "code",
   "execution_count": null,
   "id": "f53b42d2-d1c6-4df7-93f3-421ecd146ed8",
   "metadata": {},
   "outputs": [],
   "source": []
  },
  {
   "cell_type": "code",
   "execution_count": 47,
   "id": "0b16e9f9-3614-4ed5-bf20-2ae5a09d046b",
   "metadata": {},
   "outputs": [],
   "source": [
    "def check_diagnoses(tbl,diagCode,diseaseCodes):\n",
    "    diag = {}\n",
    "    for d in diseaseCodes.keys():\n",
    "        diag[d] = tbl[diagCode].isin(diseaseCodes[d]).sum() > 0\n",
    "    return pd.Series(diag)"
   ]
  },
  {
   "cell_type": "code",
   "execution_count": 48,
   "id": "2af128e9-6092-4d45-a4a4-84f7647b38fd",
   "metadata": {},
   "outputs": [
    {
     "data": {
      "application/vnd.jupyter.widget-view+json": {
       "model_id": "9abba9fcc6bd4e25b2cee5643a65ea82",
       "version_major": 2,
       "version_minor": 0
      },
      "text/plain": [
       "  0%|          | 0/46520 [00:00<?, ?it/s]"
      ]
     },
     "metadata": {},
     "output_type": "display_data"
    }
   ],
   "source": [
    "diagScan = diagnoses.groupby('subject_id').progress_apply(\n",
    "    check_diagnoses,diagCode='icd9_code',diseaseCodes=diseaseCodes\n",
    ")"
   ]
  },
  {
   "cell_type": "code",
   "execution_count": null,
   "id": "d3cece32-55b7-40ed-816e-a33982488530",
   "metadata": {},
   "outputs": [],
   "source": []
  },
  {
   "cell_type": "code",
   "execution_count": 49,
   "id": "d78e3177-a69e-4240-8f12-caa1005df9ae",
   "metadata": {},
   "outputs": [],
   "source": [
    "staticFeatures = pd.concat([ staticFeatures, diagScan ], axis=1)"
   ]
  },
  {
   "cell_type": "code",
   "execution_count": null,
   "id": "6611ccd5-fa43-4a2e-bdd2-70dd71f16850",
   "metadata": {},
   "outputs": [],
   "source": []
  },
  {
   "cell_type": "markdown",
   "id": "54f0c67a-b914-4ba4-880c-a2430d1c38fc",
   "metadata": {},
   "source": [
    "## Merge Static and Timestamped Features"
   ]
  },
  {
   "cell_type": "code",
   "execution_count": 50,
   "id": "a9c39f04-267e-4cf8-973d-79cea330b04c",
   "metadata": {},
   "outputs": [],
   "source": [
    "idx = events.index.get_level_values(0)"
   ]
  },
  {
   "cell_type": "code",
   "execution_count": 51,
   "id": "34a2738b-0a1d-4e5f-ad52-72ebbeb28d2b",
   "metadata": {},
   "outputs": [],
   "source": [
    "staticRepeatedTbl = staticFeatures.loc[idx]\n",
    "staticRepeatedTbl.index = events.index"
   ]
  },
  {
   "cell_type": "code",
   "execution_count": 52,
   "id": "3d350d81-5da5-46cd-b89b-b7dc64ce1310",
   "metadata": {},
   "outputs": [],
   "source": [
    "events = pd.concat([ events, staticRepeatedTbl ],axis=1)"
   ]
  },
  {
   "cell_type": "code",
   "execution_count": 53,
   "id": "c37cb2c1-5759-4efe-90b5-b979fc0135ae",
   "metadata": {},
   "outputs": [
    {
     "data": {
      "text/html": [
       "<div>\n",
       "<style scoped>\n",
       "    .dataframe tbody tr th:only-of-type {\n",
       "        vertical-align: middle;\n",
       "    }\n",
       "\n",
       "    .dataframe tbody tr th {\n",
       "        vertical-align: top;\n",
       "    }\n",
       "\n",
       "    .dataframe thead th {\n",
       "        text-align: right;\n",
       "    }\n",
       "</style>\n",
       "<table border=\"1\" class=\"dataframe\">\n",
       "  <thead>\n",
       "    <tr style=\"text-align: right;\">\n",
       "      <th></th>\n",
       "      <th></th>\n",
       "      <th>Time</th>\n",
       "      <th>ServiceType</th>\n",
       "      <th>AdmitType</th>\n",
       "      <th>GscVerbal</th>\n",
       "      <th>GscMotor</th>\n",
       "      <th>GscEyes</th>\n",
       "      <th>SystolicBloodPressure</th>\n",
       "      <th>HeartRate</th>\n",
       "      <th>Temperature</th>\n",
       "      <th>BloodO2</th>\n",
       "      <th>Urine</th>\n",
       "      <th>Age</th>\n",
       "      <th>Aids</th>\n",
       "      <th>Cancer</th>\n",
       "    </tr>\n",
       "    <tr>\n",
       "      <th>SubjectId</th>\n",
       "      <th></th>\n",
       "      <th></th>\n",
       "      <th></th>\n",
       "      <th></th>\n",
       "      <th></th>\n",
       "      <th></th>\n",
       "      <th></th>\n",
       "      <th></th>\n",
       "      <th></th>\n",
       "      <th></th>\n",
       "      <th></th>\n",
       "      <th></th>\n",
       "      <th></th>\n",
       "      <th></th>\n",
       "      <th></th>\n",
       "    </tr>\n",
       "  </thead>\n",
       "  <tbody>\n",
       "    <tr>\n",
       "      <th rowspan=\"5\" valign=\"top\">2</th>\n",
       "      <th>73554</th>\n",
       "      <td>0 days 00:00:00</td>\n",
       "      <td>NaN</td>\n",
       "      <td>2.0</td>\n",
       "      <td>NaN</td>\n",
       "      <td>NaN</td>\n",
       "      <td>NaN</td>\n",
       "      <td>NaN</td>\n",
       "      <td>NaN</td>\n",
       "      <td>NaN</td>\n",
       "      <td>NaN</td>\n",
       "      <td>NaN</td>\n",
       "      <td>0</td>\n",
       "      <td>False</td>\n",
       "      <td>False</td>\n",
       "    </tr>\n",
       "    <tr>\n",
       "      <th>368</th>\n",
       "      <td>0 days 00:19:42</td>\n",
       "      <td>3.0</td>\n",
       "      <td>NaN</td>\n",
       "      <td>NaN</td>\n",
       "      <td>NaN</td>\n",
       "      <td>NaN</td>\n",
       "      <td>NaN</td>\n",
       "      <td>NaN</td>\n",
       "      <td>NaN</td>\n",
       "      <td>NaN</td>\n",
       "      <td>NaN</td>\n",
       "      <td>0</td>\n",
       "      <td>False</td>\n",
       "      <td>False</td>\n",
       "    </tr>\n",
       "    <tr>\n",
       "      <th>6461661</th>\n",
       "      <td>0 days 01:16:00</td>\n",
       "      <td>NaN</td>\n",
       "      <td>NaN</td>\n",
       "      <td>NaN</td>\n",
       "      <td>NaN</td>\n",
       "      <td>NaN</td>\n",
       "      <td>NaN</td>\n",
       "      <td>148.0</td>\n",
       "      <td>NaN</td>\n",
       "      <td>NaN</td>\n",
       "      <td>NaN</td>\n",
       "      <td>0</td>\n",
       "      <td>False</td>\n",
       "      <td>False</td>\n",
       "    </tr>\n",
       "    <tr>\n",
       "      <th>6461662</th>\n",
       "      <td>0 days 01:26:00</td>\n",
       "      <td>NaN</td>\n",
       "      <td>NaN</td>\n",
       "      <td>NaN</td>\n",
       "      <td>NaN</td>\n",
       "      <td>NaN</td>\n",
       "      <td>NaN</td>\n",
       "      <td>131.0</td>\n",
       "      <td>NaN</td>\n",
       "      <td>NaN</td>\n",
       "      <td>NaN</td>\n",
       "      <td>0</td>\n",
       "      <td>False</td>\n",
       "      <td>False</td>\n",
       "    </tr>\n",
       "    <tr>\n",
       "      <th>6461663</th>\n",
       "      <td>0 days 01:56:00</td>\n",
       "      <td>NaN</td>\n",
       "      <td>NaN</td>\n",
       "      <td>NaN</td>\n",
       "      <td>NaN</td>\n",
       "      <td>NaN</td>\n",
       "      <td>NaN</td>\n",
       "      <td>144.0</td>\n",
       "      <td>NaN</td>\n",
       "      <td>NaN</td>\n",
       "      <td>NaN</td>\n",
       "      <td>0</td>\n",
       "      <td>False</td>\n",
       "      <td>False</td>\n",
       "    </tr>\n",
       "    <tr>\n",
       "      <th>...</th>\n",
       "      <th>...</th>\n",
       "      <td>...</td>\n",
       "      <td>...</td>\n",
       "      <td>...</td>\n",
       "      <td>...</td>\n",
       "      <td>...</td>\n",
       "      <td>...</td>\n",
       "      <td>...</td>\n",
       "      <td>...</td>\n",
       "      <td>...</td>\n",
       "      <td>...</td>\n",
       "      <td>...</td>\n",
       "      <td>...</td>\n",
       "      <td>...</td>\n",
       "      <td>...</td>\n",
       "    </tr>\n",
       "    <tr>\n",
       "      <th rowspan=\"5\" valign=\"top\">99999</th>\n",
       "      <th>22559585</th>\n",
       "      <td>2 days 10:41:52</td>\n",
       "      <td>NaN</td>\n",
       "      <td>NaN</td>\n",
       "      <td>8.0</td>\n",
       "      <td>NaN</td>\n",
       "      <td>NaN</td>\n",
       "      <td>NaN</td>\n",
       "      <td>NaN</td>\n",
       "      <td>NaN</td>\n",
       "      <td>NaN</td>\n",
       "      <td>NaN</td>\n",
       "      <td>63</td>\n",
       "      <td>False</td>\n",
       "      <td>False</td>\n",
       "    </tr>\n",
       "    <tr>\n",
       "      <th>22559586</th>\n",
       "      <td>2 days 10:41:52</td>\n",
       "      <td>NaN</td>\n",
       "      <td>NaN</td>\n",
       "      <td>NaN</td>\n",
       "      <td>8.0</td>\n",
       "      <td>NaN</td>\n",
       "      <td>NaN</td>\n",
       "      <td>NaN</td>\n",
       "      <td>NaN</td>\n",
       "      <td>NaN</td>\n",
       "      <td>NaN</td>\n",
       "      <td>63</td>\n",
       "      <td>False</td>\n",
       "      <td>False</td>\n",
       "    </tr>\n",
       "    <tr>\n",
       "      <th>6440611</th>\n",
       "      <td>2 days 11:10:52</td>\n",
       "      <td>NaN</td>\n",
       "      <td>NaN</td>\n",
       "      <td>NaN</td>\n",
       "      <td>NaN</td>\n",
       "      <td>NaN</td>\n",
       "      <td>NaN</td>\n",
       "      <td>86.0</td>\n",
       "      <td>NaN</td>\n",
       "      <td>NaN</td>\n",
       "      <td>NaN</td>\n",
       "      <td>63</td>\n",
       "      <td>False</td>\n",
       "      <td>False</td>\n",
       "    </tr>\n",
       "    <tr>\n",
       "      <th>6440612</th>\n",
       "      <td>2 days 11:10:52</td>\n",
       "      <td>NaN</td>\n",
       "      <td>NaN</td>\n",
       "      <td>NaN</td>\n",
       "      <td>NaN</td>\n",
       "      <td>NaN</td>\n",
       "      <td>120.0</td>\n",
       "      <td>NaN</td>\n",
       "      <td>NaN</td>\n",
       "      <td>NaN</td>\n",
       "      <td>NaN</td>\n",
       "      <td>63</td>\n",
       "      <td>False</td>\n",
       "      <td>False</td>\n",
       "    </tr>\n",
       "    <tr>\n",
       "      <th>25146197</th>\n",
       "      <td>2 days 11:10:52</td>\n",
       "      <td>NaN</td>\n",
       "      <td>NaN</td>\n",
       "      <td>NaN</td>\n",
       "      <td>NaN</td>\n",
       "      <td>NaN</td>\n",
       "      <td>NaN</td>\n",
       "      <td>NaN</td>\n",
       "      <td>NaN</td>\n",
       "      <td>NaN</td>\n",
       "      <td>80.0</td>\n",
       "      <td>63</td>\n",
       "      <td>False</td>\n",
       "      <td>False</td>\n",
       "    </tr>\n",
       "  </tbody>\n",
       "</table>\n",
       "<p>25952164 rows × 14 columns</p>\n",
       "</div>"
      ],
      "text/plain": [
       "                              Time  ServiceType  AdmitType  GscVerbal  \\\n",
       "SubjectId                                                               \n",
       "2         73554    0 days 00:00:00          NaN        2.0        NaN   \n",
       "          368      0 days 00:19:42          3.0        NaN        NaN   \n",
       "          6461661  0 days 01:16:00          NaN        NaN        NaN   \n",
       "          6461662  0 days 01:26:00          NaN        NaN        NaN   \n",
       "          6461663  0 days 01:56:00          NaN        NaN        NaN   \n",
       "...                            ...          ...        ...        ...   \n",
       "99999     22559585 2 days 10:41:52          NaN        NaN        8.0   \n",
       "          22559586 2 days 10:41:52          NaN        NaN        NaN   \n",
       "          6440611  2 days 11:10:52          NaN        NaN        NaN   \n",
       "          6440612  2 days 11:10:52          NaN        NaN        NaN   \n",
       "          25146197 2 days 11:10:52          NaN        NaN        NaN   \n",
       "\n",
       "                    GscMotor  GscEyes  SystolicBloodPressure  HeartRate  \\\n",
       "SubjectId                                                                 \n",
       "2         73554          NaN      NaN                    NaN        NaN   \n",
       "          368            NaN      NaN                    NaN        NaN   \n",
       "          6461661        NaN      NaN                    NaN      148.0   \n",
       "          6461662        NaN      NaN                    NaN      131.0   \n",
       "          6461663        NaN      NaN                    NaN      144.0   \n",
       "...                      ...      ...                    ...        ...   \n",
       "99999     22559585       NaN      NaN                    NaN        NaN   \n",
       "          22559586       8.0      NaN                    NaN        NaN   \n",
       "          6440611        NaN      NaN                    NaN       86.0   \n",
       "          6440612        NaN      NaN                  120.0        NaN   \n",
       "          25146197       NaN      NaN                    NaN        NaN   \n",
       "\n",
       "                    Temperature  BloodO2  Urine  Age   Aids  Cancer  \n",
       "SubjectId                                                            \n",
       "2         73554             NaN      NaN    NaN    0  False   False  \n",
       "          368               NaN      NaN    NaN    0  False   False  \n",
       "          6461661           NaN      NaN    NaN    0  False   False  \n",
       "          6461662           NaN      NaN    NaN    0  False   False  \n",
       "          6461663           NaN      NaN    NaN    0  False   False  \n",
       "...                         ...      ...    ...  ...    ...     ...  \n",
       "99999     22559585          NaN      NaN    NaN   63  False   False  \n",
       "          22559586          NaN      NaN    NaN   63  False   False  \n",
       "          6440611           NaN      NaN    NaN   63  False   False  \n",
       "          6440612           NaN      NaN    NaN   63  False   False  \n",
       "          25146197          NaN      NaN   80.0   63  False   False  \n",
       "\n",
       "[25952164 rows x 14 columns]"
      ]
     },
     "execution_count": 53,
     "metadata": {},
     "output_type": "execute_result"
    }
   ],
   "source": [
    "events"
   ]
  },
  {
   "cell_type": "code",
   "execution_count": null,
   "id": "573ba85c-140b-4f04-8866-c384b4bce324",
   "metadata": {},
   "outputs": [],
   "source": []
  },
  {
   "cell_type": "markdown",
   "id": "fa23397d-fee1-438b-b8a4-ff061a34bc6f",
   "metadata": {},
   "source": [
    "## Label Data"
   ]
  },
  {
   "cell_type": "code",
   "execution_count": 54,
   "id": "e6ab1ca7-4753-496d-8309-3aa9c79b3ca0",
   "metadata": {},
   "outputs": [],
   "source": [
    "deathTbl = pd.DataFrame({ 'Death': patientTbl.expire_flag.values != 0 },index=patientTbl.subject_id)"
   ]
  },
  {
   "cell_type": "code",
   "execution_count": 55,
   "id": "d42b828e-b441-4845-b364-0332e59db9a5",
   "metadata": {},
   "outputs": [],
   "source": [
    "idx = events.index.get_level_values(0)\n",
    "events['Death'] = deathTbl.loc[idx].Death.values"
   ]
  },
  {
   "cell_type": "code",
   "execution_count": 56,
   "id": "0e1c5370-ecef-47ab-b46a-e1da39f01fa7",
   "metadata": {},
   "outputs": [
    {
     "data": {
      "text/html": [
       "<div>\n",
       "<style scoped>\n",
       "    .dataframe tbody tr th:only-of-type {\n",
       "        vertical-align: middle;\n",
       "    }\n",
       "\n",
       "    .dataframe tbody tr th {\n",
       "        vertical-align: top;\n",
       "    }\n",
       "\n",
       "    .dataframe thead th {\n",
       "        text-align: right;\n",
       "    }\n",
       "</style>\n",
       "<table border=\"1\" class=\"dataframe\">\n",
       "  <thead>\n",
       "    <tr style=\"text-align: right;\">\n",
       "      <th></th>\n",
       "      <th></th>\n",
       "      <th>Time</th>\n",
       "      <th>ServiceType</th>\n",
       "      <th>AdmitType</th>\n",
       "      <th>GscVerbal</th>\n",
       "      <th>GscMotor</th>\n",
       "      <th>GscEyes</th>\n",
       "      <th>SystolicBloodPressure</th>\n",
       "      <th>HeartRate</th>\n",
       "      <th>Temperature</th>\n",
       "      <th>BloodO2</th>\n",
       "      <th>Urine</th>\n",
       "      <th>Age</th>\n",
       "      <th>Aids</th>\n",
       "      <th>Cancer</th>\n",
       "      <th>Death</th>\n",
       "    </tr>\n",
       "    <tr>\n",
       "      <th>SubjectId</th>\n",
       "      <th></th>\n",
       "      <th></th>\n",
       "      <th></th>\n",
       "      <th></th>\n",
       "      <th></th>\n",
       "      <th></th>\n",
       "      <th></th>\n",
       "      <th></th>\n",
       "      <th></th>\n",
       "      <th></th>\n",
       "      <th></th>\n",
       "      <th></th>\n",
       "      <th></th>\n",
       "      <th></th>\n",
       "      <th></th>\n",
       "      <th></th>\n",
       "    </tr>\n",
       "  </thead>\n",
       "  <tbody>\n",
       "    <tr>\n",
       "      <th rowspan=\"5\" valign=\"top\">2</th>\n",
       "      <th>73554</th>\n",
       "      <td>0 days 00:00:00</td>\n",
       "      <td>NaN</td>\n",
       "      <td>2.0</td>\n",
       "      <td>NaN</td>\n",
       "      <td>NaN</td>\n",
       "      <td>NaN</td>\n",
       "      <td>NaN</td>\n",
       "      <td>NaN</td>\n",
       "      <td>NaN</td>\n",
       "      <td>NaN</td>\n",
       "      <td>NaN</td>\n",
       "      <td>0</td>\n",
       "      <td>False</td>\n",
       "      <td>False</td>\n",
       "      <td>False</td>\n",
       "    </tr>\n",
       "    <tr>\n",
       "      <th>368</th>\n",
       "      <td>0 days 00:19:42</td>\n",
       "      <td>3.0</td>\n",
       "      <td>NaN</td>\n",
       "      <td>NaN</td>\n",
       "      <td>NaN</td>\n",
       "      <td>NaN</td>\n",
       "      <td>NaN</td>\n",
       "      <td>NaN</td>\n",
       "      <td>NaN</td>\n",
       "      <td>NaN</td>\n",
       "      <td>NaN</td>\n",
       "      <td>0</td>\n",
       "      <td>False</td>\n",
       "      <td>False</td>\n",
       "      <td>False</td>\n",
       "    </tr>\n",
       "    <tr>\n",
       "      <th>6461661</th>\n",
       "      <td>0 days 01:16:00</td>\n",
       "      <td>NaN</td>\n",
       "      <td>NaN</td>\n",
       "      <td>NaN</td>\n",
       "      <td>NaN</td>\n",
       "      <td>NaN</td>\n",
       "      <td>NaN</td>\n",
       "      <td>148.0</td>\n",
       "      <td>NaN</td>\n",
       "      <td>NaN</td>\n",
       "      <td>NaN</td>\n",
       "      <td>0</td>\n",
       "      <td>False</td>\n",
       "      <td>False</td>\n",
       "      <td>False</td>\n",
       "    </tr>\n",
       "    <tr>\n",
       "      <th>6461662</th>\n",
       "      <td>0 days 01:26:00</td>\n",
       "      <td>NaN</td>\n",
       "      <td>NaN</td>\n",
       "      <td>NaN</td>\n",
       "      <td>NaN</td>\n",
       "      <td>NaN</td>\n",
       "      <td>NaN</td>\n",
       "      <td>131.0</td>\n",
       "      <td>NaN</td>\n",
       "      <td>NaN</td>\n",
       "      <td>NaN</td>\n",
       "      <td>0</td>\n",
       "      <td>False</td>\n",
       "      <td>False</td>\n",
       "      <td>False</td>\n",
       "    </tr>\n",
       "    <tr>\n",
       "      <th>6461663</th>\n",
       "      <td>0 days 01:56:00</td>\n",
       "      <td>NaN</td>\n",
       "      <td>NaN</td>\n",
       "      <td>NaN</td>\n",
       "      <td>NaN</td>\n",
       "      <td>NaN</td>\n",
       "      <td>NaN</td>\n",
       "      <td>144.0</td>\n",
       "      <td>NaN</td>\n",
       "      <td>NaN</td>\n",
       "      <td>NaN</td>\n",
       "      <td>0</td>\n",
       "      <td>False</td>\n",
       "      <td>False</td>\n",
       "      <td>False</td>\n",
       "    </tr>\n",
       "    <tr>\n",
       "      <th>...</th>\n",
       "      <th>...</th>\n",
       "      <td>...</td>\n",
       "      <td>...</td>\n",
       "      <td>...</td>\n",
       "      <td>...</td>\n",
       "      <td>...</td>\n",
       "      <td>...</td>\n",
       "      <td>...</td>\n",
       "      <td>...</td>\n",
       "      <td>...</td>\n",
       "      <td>...</td>\n",
       "      <td>...</td>\n",
       "      <td>...</td>\n",
       "      <td>...</td>\n",
       "      <td>...</td>\n",
       "      <td>...</td>\n",
       "    </tr>\n",
       "    <tr>\n",
       "      <th rowspan=\"5\" valign=\"top\">99999</th>\n",
       "      <th>22559585</th>\n",
       "      <td>2 days 10:41:52</td>\n",
       "      <td>NaN</td>\n",
       "      <td>NaN</td>\n",
       "      <td>8.0</td>\n",
       "      <td>NaN</td>\n",
       "      <td>NaN</td>\n",
       "      <td>NaN</td>\n",
       "      <td>NaN</td>\n",
       "      <td>NaN</td>\n",
       "      <td>NaN</td>\n",
       "      <td>NaN</td>\n",
       "      <td>63</td>\n",
       "      <td>False</td>\n",
       "      <td>False</td>\n",
       "      <td>False</td>\n",
       "    </tr>\n",
       "    <tr>\n",
       "      <th>22559586</th>\n",
       "      <td>2 days 10:41:52</td>\n",
       "      <td>NaN</td>\n",
       "      <td>NaN</td>\n",
       "      <td>NaN</td>\n",
       "      <td>8.0</td>\n",
       "      <td>NaN</td>\n",
       "      <td>NaN</td>\n",
       "      <td>NaN</td>\n",
       "      <td>NaN</td>\n",
       "      <td>NaN</td>\n",
       "      <td>NaN</td>\n",
       "      <td>63</td>\n",
       "      <td>False</td>\n",
       "      <td>False</td>\n",
       "      <td>False</td>\n",
       "    </tr>\n",
       "    <tr>\n",
       "      <th>6440611</th>\n",
       "      <td>2 days 11:10:52</td>\n",
       "      <td>NaN</td>\n",
       "      <td>NaN</td>\n",
       "      <td>NaN</td>\n",
       "      <td>NaN</td>\n",
       "      <td>NaN</td>\n",
       "      <td>NaN</td>\n",
       "      <td>86.0</td>\n",
       "      <td>NaN</td>\n",
       "      <td>NaN</td>\n",
       "      <td>NaN</td>\n",
       "      <td>63</td>\n",
       "      <td>False</td>\n",
       "      <td>False</td>\n",
       "      <td>False</td>\n",
       "    </tr>\n",
       "    <tr>\n",
       "      <th>6440612</th>\n",
       "      <td>2 days 11:10:52</td>\n",
       "      <td>NaN</td>\n",
       "      <td>NaN</td>\n",
       "      <td>NaN</td>\n",
       "      <td>NaN</td>\n",
       "      <td>NaN</td>\n",
       "      <td>120.0</td>\n",
       "      <td>NaN</td>\n",
       "      <td>NaN</td>\n",
       "      <td>NaN</td>\n",
       "      <td>NaN</td>\n",
       "      <td>63</td>\n",
       "      <td>False</td>\n",
       "      <td>False</td>\n",
       "      <td>False</td>\n",
       "    </tr>\n",
       "    <tr>\n",
       "      <th>25146197</th>\n",
       "      <td>2 days 11:10:52</td>\n",
       "      <td>NaN</td>\n",
       "      <td>NaN</td>\n",
       "      <td>NaN</td>\n",
       "      <td>NaN</td>\n",
       "      <td>NaN</td>\n",
       "      <td>NaN</td>\n",
       "      <td>NaN</td>\n",
       "      <td>NaN</td>\n",
       "      <td>NaN</td>\n",
       "      <td>80.0</td>\n",
       "      <td>63</td>\n",
       "      <td>False</td>\n",
       "      <td>False</td>\n",
       "      <td>False</td>\n",
       "    </tr>\n",
       "  </tbody>\n",
       "</table>\n",
       "<p>25952164 rows × 15 columns</p>\n",
       "</div>"
      ],
      "text/plain": [
       "                              Time  ServiceType  AdmitType  GscVerbal  \\\n",
       "SubjectId                                                               \n",
       "2         73554    0 days 00:00:00          NaN        2.0        NaN   \n",
       "          368      0 days 00:19:42          3.0        NaN        NaN   \n",
       "          6461661  0 days 01:16:00          NaN        NaN        NaN   \n",
       "          6461662  0 days 01:26:00          NaN        NaN        NaN   \n",
       "          6461663  0 days 01:56:00          NaN        NaN        NaN   \n",
       "...                            ...          ...        ...        ...   \n",
       "99999     22559585 2 days 10:41:52          NaN        NaN        8.0   \n",
       "          22559586 2 days 10:41:52          NaN        NaN        NaN   \n",
       "          6440611  2 days 11:10:52          NaN        NaN        NaN   \n",
       "          6440612  2 days 11:10:52          NaN        NaN        NaN   \n",
       "          25146197 2 days 11:10:52          NaN        NaN        NaN   \n",
       "\n",
       "                    GscMotor  GscEyes  SystolicBloodPressure  HeartRate  \\\n",
       "SubjectId                                                                 \n",
       "2         73554          NaN      NaN                    NaN        NaN   \n",
       "          368            NaN      NaN                    NaN        NaN   \n",
       "          6461661        NaN      NaN                    NaN      148.0   \n",
       "          6461662        NaN      NaN                    NaN      131.0   \n",
       "          6461663        NaN      NaN                    NaN      144.0   \n",
       "...                      ...      ...                    ...        ...   \n",
       "99999     22559585       NaN      NaN                    NaN        NaN   \n",
       "          22559586       8.0      NaN                    NaN        NaN   \n",
       "          6440611        NaN      NaN                    NaN       86.0   \n",
       "          6440612        NaN      NaN                  120.0        NaN   \n",
       "          25146197       NaN      NaN                    NaN        NaN   \n",
       "\n",
       "                    Temperature  BloodO2  Urine  Age   Aids  Cancer  Death  \n",
       "SubjectId                                                                   \n",
       "2         73554             NaN      NaN    NaN    0  False   False  False  \n",
       "          368               NaN      NaN    NaN    0  False   False  False  \n",
       "          6461661           NaN      NaN    NaN    0  False   False  False  \n",
       "          6461662           NaN      NaN    NaN    0  False   False  False  \n",
       "          6461663           NaN      NaN    NaN    0  False   False  False  \n",
       "...                         ...      ...    ...  ...    ...     ...    ...  \n",
       "99999     22559585          NaN      NaN    NaN   63  False   False  False  \n",
       "          22559586          NaN      NaN    NaN   63  False   False  False  \n",
       "          6440611           NaN      NaN    NaN   63  False   False  False  \n",
       "          6440612           NaN      NaN    NaN   63  False   False  False  \n",
       "          25146197          NaN      NaN   80.0   63  False   False  False  \n",
       "\n",
       "[25952164 rows x 15 columns]"
      ]
     },
     "execution_count": 56,
     "metadata": {},
     "output_type": "execute_result"
    }
   ],
   "source": [
    "events"
   ]
  },
  {
   "cell_type": "code",
   "execution_count": null,
   "id": "1d402b53-aff9-465a-97b5-a8037f27b093",
   "metadata": {},
   "outputs": [],
   "source": []
  },
  {
   "cell_type": "code",
   "execution_count": 57,
   "id": "bed9b3ed-f8b7-4a64-b5fd-e21ebfb99670",
   "metadata": {},
   "outputs": [],
   "source": [
    "events.to_parquet(cacheDirStr + 'ElapsedTimeEvents.parquet')"
   ]
  },
  {
   "cell_type": "code",
   "execution_count": null,
   "id": "4516bb3d-312f-460a-8494-f10669f2151c",
   "metadata": {},
   "outputs": [],
   "source": []
  },
  {
   "cell_type": "code",
   "execution_count": null,
   "id": "406a6fd7-add6-4d94-a5e7-55b13a05ea59",
   "metadata": {},
   "outputs": [],
   "source": []
  }
 ],
 "metadata": {
  "kernelspec": {
   "display_name": "Python 3 (ipykernel)",
   "language": "python",
   "name": "python3"
  },
  "language_info": {
   "codemirror_mode": {
    "name": "ipython",
    "version": 3
   },
   "file_extension": ".py",
   "mimetype": "text/x-python",
   "name": "python",
   "nbconvert_exporter": "python",
   "pygments_lexer": "ipython3",
   "version": "3.9.7"
  }
 },
 "nbformat": 4,
 "nbformat_minor": 5
}
