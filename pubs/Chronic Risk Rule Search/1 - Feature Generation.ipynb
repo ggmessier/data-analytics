{
 "cells": [
  {
   "cell_type": "markdown",
   "metadata": {},
   "source": [
    "# Correlation EDA and Feature Generation\n",
    "- Examine feature reduction possibilities using correlation analysis.\n",
    "- Use data attributes to generate feature coverage tables.\n",
    "- Note that the language used in this notebook (ie. attributes, features, examples, etc.) is from \"Foundations of Rule Learning\" (Springer) by Furnkranz, Gamberger and Lavrac."
   ]
  },
  {
   "cell_type": "markdown",
   "metadata": {},
   "source": [
    "    Copyright (C) 2022 Geoffrey Guy Messier\n",
    "\n",
    "    This program is free software: you can redistribute it and/or modify\n",
    "    it under the terms of the GNU General Public License as published by\n",
    "    the Free Software Foundation, either version 3 of the License, or\n",
    "    (at your option) any later version.\n",
    "\n",
    "    This program is distributed in the hope that it will be useful,\n",
    "    but WITHOUT ANY WARRANTY; without even the implied warranty of\n",
    "    MERCHANTABILITY or FITNESS FOR A PARTICULAR PURPOSE.  See the\n",
    "    GNU General Public License for more details.\n",
    "\n",
    "    You should have received a copy of the GNU General Public License\n",
    "    along with this program.  If not, see <https://www.gnu.org/licenses/>."
   ]
  },
  {
   "cell_type": "code",
   "execution_count": 1,
   "metadata": {},
   "outputs": [],
   "source": [
    "%load_ext autoreload\n",
    "%autoreload 1"
   ]
  },
  {
   "cell_type": "code",
   "execution_count": 2,
   "metadata": {},
   "outputs": [],
   "source": [
    "import numpy as np\n",
    "import pandas as pd\n",
    "import datetime, copy, imp\n",
    "import time\n",
    "import matplotlib.pyplot as plt\n",
    "import pickle\n",
    "\n",
    "\n",
    "from tqdm.auto import tqdm, trange\n",
    "from tqdm.notebook import tqdm\n",
    "tqdm.pandas()\n",
    "\n",
    "import sys\n",
    "sys.path.insert(0, '../util/')\n",
    "\n",
    "%aimport di_data\n",
    "%aimport data_cache\n",
    "\n",
    "from di_data import *\n",
    "from data_cache import CacheResult\n",
    "from rules import gen_coverage_table"
   ]
  },
  {
   "cell_type": "markdown",
   "metadata": {},
   "source": [
    "## Load Data"
   ]
  },
  {
   "cell_type": "code",
   "execution_count": 3,
   "metadata": {},
   "outputs": [],
   "source": [
    "#dataDirStr = '/hd2/data/di/plwh/'\n",
    "#cacheDirStr = '/hd2/data/di/plwh/cache/'\n",
    "\n",
    "dataDirStr = '/Users/gmessier/data/plwh/'\n",
    "cacheDirStr = '/Users/gmessier/data/plwh/cache/'"
   ]
  },
  {
   "cell_type": "code",
   "execution_count": 4,
   "metadata": {},
   "outputs": [],
   "source": [
    "winSizes = [ 30, 60, 90, 120 ]\n",
    "tbl = {}\n",
    "for win in winSizes:\n",
    "    tbl[win] = pd.read_hdf(cacheDirStr + 'DiRules-EvaluationData.hd5', key='Win{}'.format(win))"
   ]
  },
  {
   "cell_type": "code",
   "execution_count": null,
   "metadata": {},
   "outputs": [],
   "source": []
  },
  {
   "cell_type": "markdown",
   "metadata": {},
   "source": [
    "## Create Examples\n",
    "- An example consists of a row of the attribute matrix plus a value from the label vector.\n",
    "- Since only active clients are considered, the number of examples for each window size will not include the same client cohort."
   ]
  },
  {
   "cell_type": "code",
   "execution_count": 5,
   "metadata": {},
   "outputs": [],
   "source": [
    "# Columns that will be used for example attributes.\n",
    "attrCols = [ \n",
    "    'EntrySleep', 'EntryConsl', 'EntryLog', 'EntryBar', 'Addiction', 'Bar',\n",
    "    'PhysicalHealth', 'MentalHealth', 'Violence', 'PoliceJustice',\n",
    "    'Conflict', 'EMS', 'Supports', 'Overdose' ]\n",
    "\n",
    "# Column used for example label.\n",
    "labelCol = [ 'Label' ]"
   ]
  },
  {
   "cell_type": "code",
   "execution_count": 6,
   "metadata": {},
   "outputs": [
    {
     "name": "stdout",
     "output_type": "stream",
     "text": [
      "WinSize: 30, Selected 12175/32346 (37.64%) clients.\n",
      "WinSize: 60, Selected 8671/32346 (26.81%) clients.\n",
      "WinSize: 90, Selected 7440/32346 (23.00%) clients.\n",
      "WinSize: 120, Selected 6650/32346 (20.56%) clients.\n"
     ]
    }
   ],
   "source": [
    "# In the following, only data from clients who are defined as active are included as examples.\n",
    "attr = {}  # The attribute matrices.\n",
    "lbl = {}   # The label vectors.\n",
    "clientIds = {}  #  Vector of client IDs included as examples.\n",
    "evalTimes = {}  #  Time elapsed before each client is evaluated.\n",
    "\n",
    "for win in winSizes:\n",
    "    # Example attributes.\n",
    "    attr[win] = tbl[win].loc[tbl[win].Active == 1, attrCols].to_numpy(dtype=float)\n",
    "    attr[win][np.isnan(attr[win])] = 0\n",
    "    \n",
    "    # Example labels.\n",
    "    lbl[win] = tbl[win].loc[tbl[win].Active == 1, labelCol].to_numpy(dtype=float)\n",
    "    \n",
    "    # Example client ID's.\n",
    "    clientIds[win] = tbl[win].loc[tbl[win].Active == 1].index.to_numpy(dtype=int)\n",
    "    \n",
    "    # Example elapsed time to evaluation (days).\n",
    "    evalTimes[win] = tbl[win].loc[tbl[win].Active == 1].EvalTime.to_numpy(dtype=int)\n",
    "    \n",
    "    nSel = len(clientIds[win])\n",
    "    nTot = len(tbl[win].index)\n",
    "    print('WinSize: {}, Selected {}/{} ({:.2f}%) clients.'.format(win,nSel,nTot,100*nSel/nTot))\n",
    "    "
   ]
  },
  {
   "cell_type": "code",
   "execution_count": 7,
   "metadata": {},
   "outputs": [
    {
     "name": "stdout",
     "output_type": "stream",
     "text": [
      "--- Attribute Index Number Key ---\n",
      "\n",
      "0: EntrySleep\n",
      "1: EntryConsl\n",
      "2: EntryLog\n",
      "3: EntryBar\n",
      "4: Addiction\n",
      "5: Bar\n",
      "6: PhysicalHealth\n",
      "7: MentalHealth\n",
      "8: Violence\n",
      "9: PoliceJustice\n",
      "10: Conflict\n",
      "11: EMS\n",
      "12: Supports\n",
      "13: Overdose\n"
     ]
    }
   ],
   "source": [
    "print('--- Attribute Index Number Key ---\\n')\n",
    "for idx in range(len(attrCols)):\n",
    "    print('{}: {}'.format(idx,attrCols[idx]))"
   ]
  },
  {
   "cell_type": "code",
   "execution_count": null,
   "metadata": {},
   "outputs": [],
   "source": []
  },
  {
   "cell_type": "markdown",
   "metadata": {},
   "source": [
    "## Attribute Cross Correlation"
   ]
  },
  {
   "cell_type": "code",
   "execution_count": 8,
   "metadata": {},
   "outputs": [],
   "source": [
    "attXCor = {} # Attribute cross-correlation for each window size.\n",
    "for win in winSizes:\n",
    "    attXCor[win] = np.corrcoef(attr[win],rowvar=False)"
   ]
  },
  {
   "cell_type": "code",
   "execution_count": 9,
   "metadata": {},
   "outputs": [],
   "source": [
    "def crosscorr_table_print(cc,cols,colWdth):\n",
    "    strFmt = '{0:>%d}' % colWdth\n",
    "    numFmt = '{:%d.2f}' % colWdth\n",
    "    \n",
    "    print(strFmt.format(''),end='')\n",
    "    for col in cols:\n",
    "        print(strFmt.format(col[0:colWdth-1]),end='')\n",
    "    print('')\n",
    "\n",
    "    for i in range(cc.shape[0]):\n",
    "        print(strFmt.format(cols[i][0:colWdth-1]),end='')\n",
    "        for j in range(cc.shape[1]):\n",
    "            print(numFmt.format(cc[i,j]),end='')\n",
    "        print('')"
   ]
  },
  {
   "cell_type": "code",
   "execution_count": 10,
   "metadata": {},
   "outputs": [],
   "source": [
    "def crosscorr_table_heatmap(cc,cols):\n",
    "    f = plt.figure(figsize=(15, 10))\n",
    "    plt.matshow(cc, fignum=f.number)\n",
    "    plt.xticks(range(len(cols)), cols, fontsize=10, rotation=45)\n",
    "    plt.yticks(range(len(cols)), cols, fontsize=10)\n",
    "    cb = plt.colorbar()\n",
    "    cb.ax.tick_params(labelsize=14)\n",
    "    plt.title('Correlation Matrix', fontsize=16);"
   ]
  },
  {
   "cell_type": "code",
   "execution_count": 11,
   "metadata": {},
   "outputs": [
    {
     "data": {
      "image/png": "[encoded data removed]",
      "text/plain": [
       "<Figure size 1080x720 with 2 Axes>"
      ]
     },
     "metadata": {
      "needs_background": "light"
     },
     "output_type": "display_data"
    }
   ],
   "source": [
    "crosscorr_table_heatmap(attXCor[30],attrCols)"
   ]
  },
  {
   "cell_type": "code",
   "execution_count": 12,
   "metadata": {},
   "outputs": [
    {
     "data": {
      "image/png": "[encoded data removed]",
      "text/plain": [
       "<Figure size 1080x720 with 2 Axes>"
      ]
     },
     "metadata": {
      "needs_background": "light"
     },
     "output_type": "display_data"
    }
   ],
   "source": [
    "crosscorr_table_heatmap(attXCor[120],attrCols)"
   ]
  },
  {
   "cell_type": "code",
   "execution_count": null,
   "metadata": {},
   "outputs": [],
   "source": []
  },
  {
   "cell_type": "markdown",
   "metadata": {},
   "source": [
    "## Attribute to Label Correlation"
   ]
  },
  {
   "cell_type": "code",
   "execution_count": 13,
   "metadata": {},
   "outputs": [],
   "source": [
    "lblAttrCor = {}\n",
    "\n",
    "for win in winSizes:\n",
    "    lblAttrCor[win] = np.zeros(len(attrCols))\n",
    "    lblMn = np.mean(lbl[win])\n",
    "    lblVr = np.var(lbl[win])\n",
    "\n",
    "    for idx in range(len(attrCols)):\n",
    "        attrV = attr[win][:,idx][:,None]\n",
    "        lblAttrCor[win][idx] = (np.mean(attrV*lbl[win]) - lblMn*np.mean(attrV))/np.sqrt(lblVr*np.var(attrV))"
   ]
  },
  {
   "cell_type": "code",
   "execution_count": 14,
   "metadata": {},
   "outputs": [],
   "source": [
    "def print_label_correlations(cor,cols):\n",
    "    for idx in range(len(cols)):\n",
    "        print('{}. {}: {:.2f}'.format(idx,cols[idx],cor[idx]))"
   ]
  },
  {
   "cell_type": "code",
   "execution_count": 15,
   "metadata": {},
   "outputs": [
    {
     "name": "stdout",
     "output_type": "stream",
     "text": [
      "==== Attribute to Label Correlation ====\n",
      "\n",
      "\n",
      "--- Win Size: 30 ---\n",
      "0. EntrySleep: 0.39\n",
      "1. EntryConsl: 0.05\n",
      "2. EntryLog: 0.02\n",
      "3. EntryBar: -0.04\n",
      "4. Addiction: 0.00\n",
      "5. Bar: -0.04\n",
      "6. PhysicalHealth: 0.04\n",
      "7. MentalHealth: -0.00\n",
      "8. Violence: -0.03\n",
      "9. PoliceJustice: -0.03\n",
      "10. Conflict: -0.01\n",
      "11. EMS: -0.02\n",
      "12. Supports: 0.04\n",
      "13. Overdose: -0.02\n",
      "\n",
      "--- Win Size: 60 ---\n",
      "0. EntrySleep: 0.45\n",
      "1. EntryConsl: 0.06\n",
      "2. EntryLog: 0.02\n",
      "3. EntryBar: -0.06\n",
      "4. Addiction: -0.01\n",
      "5. Bar: -0.06\n",
      "6. PhysicalHealth: 0.05\n",
      "7. MentalHealth: -0.01\n",
      "8. Violence: -0.05\n",
      "9. PoliceJustice: -0.04\n",
      "10. Conflict: -0.02\n",
      "11. EMS: -0.02\n",
      "12. Supports: 0.03\n",
      "13. Overdose: -0.03\n",
      "\n",
      "--- Win Size: 90 ---\n",
      "0. EntrySleep: 0.51\n",
      "1. EntryConsl: 0.09\n",
      "2. EntryLog: 0.04\n",
      "3. EntryBar: -0.07\n",
      "4. Addiction: -0.00\n",
      "5. Bar: -0.07\n",
      "6. PhysicalHealth: 0.07\n",
      "7. MentalHealth: 0.00\n",
      "8. Violence: -0.05\n",
      "9. PoliceJustice: -0.03\n",
      "10. Conflict: -0.01\n",
      "11. EMS: -0.02\n",
      "12. Supports: 0.06\n",
      "13. Overdose: -0.04\n",
      "\n",
      "--- Win Size: 120 ---\n",
      "0. EntrySleep: 0.57\n",
      "1. EntryConsl: 0.12\n",
      "2. EntryLog: 0.05\n",
      "3. EntryBar: -0.07\n",
      "4. Addiction: 0.01\n",
      "5. Bar: -0.06\n",
      "6. PhysicalHealth: 0.08\n",
      "7. MentalHealth: 0.01\n",
      "8. Violence: -0.03\n",
      "9. PoliceJustice: -0.03\n",
      "10. Conflict: 0.01\n",
      "11. EMS: -0.03\n",
      "12. Supports: 0.09\n",
      "13. Overdose: -0.04\n"
     ]
    }
   ],
   "source": [
    "print('==== Attribute to Label Correlation ====\\n')\n",
    "\n",
    "for win in winSizes:\n",
    "    print('\\n--- Win Size: {} ---'.format(win))\n",
    "    print_label_correlations(lblAttrCor[win],attrCols)"
   ]
  },
  {
   "cell_type": "code",
   "execution_count": null,
   "metadata": {},
   "outputs": [],
   "source": []
  },
  {
   "cell_type": "markdown",
   "metadata": {},
   "source": [
    "## Feature Pruning"
   ]
  },
  {
   "cell_type": "markdown",
   "metadata": {},
   "source": [
    "This routine ranks features in the order they should be retained.  Features more likely to be discarded are candidates that are strongly correlated with another feature and not that correlated with the outcome.  The best features should be highly correlated with the outcome and not correlated with other features.  In practice, it appears that the disadvantage of high correlation with other features trumps the advantage of high correlation with the outcome.\n",
    "\n",
    "Specifically, this routine does the following:\n",
    "1. Sort pairs according to decreasing cross correlation with their partners.  Once a feature is included in a pair during an iteration, it's no longer available for other pairs.\n",
    "1. For each pair, remove the feature that's least correlated with the outcome.\n",
    "1. Repeat these two steps until there are no more features.\n",
    "1. Select features in the reverse order of elimination."
   ]
  },
  {
   "cell_type": "code",
   "execution_count": 16,
   "metadata": {},
   "outputs": [],
   "source": [
    "def correlation_feature_prune(xcor,lcor,keep=[]):\n",
    "    '''\n",
    "    xcor - Attribute cross correlation matrix.\n",
    "    lcor - Attribute to label cross correlation vector.\n",
    "    keep - Integer indices of attributes that must be kept.  Excluded from the ranking.\n",
    "    '''\n",
    "\n",
    "    # Removes a feature from the cross correlation table by zeroing it's correlation values.\n",
    "    def BlankFeature(cor,i):\n",
    "        cor[i,:] = 0\n",
    "        cor[:,i] = 0\n",
    "    \n",
    "\n",
    "    nFtr = xcor.shape[0]\n",
    "    nFtrRem = xcor.shape[0] - len(keep)  # Number of features remaining.\n",
    "    elim = []                          # Ordered set of eliminated features.\n",
    "\n",
    "    while nFtrRem > 0: \n",
    "        nPairs = int(nFtrRem/2)\n",
    "        pairs = []\n",
    "        \n",
    "        # Create a temporary copy of the cross correlation matrix.\n",
    "        xcorTmp = np.abs(np.triu(xcor,k=1))\n",
    "\n",
    "        # Remove any features that must be kept from the comparison by zeroing them in the\n",
    "        # cross corrleation matrix.\n",
    "        for iKeep in keep:\n",
    "            BlankFeature(xcorTmp,iKeep)\n",
    "\n",
    "        # Zero out any features that have been eliminated in previous iterations.\n",
    "        for iElim in elim:\n",
    "            BlankFeature(xcorTmp,iElim)\n",
    "            \n",
    "        # Special case of only one feature left (ie. no more pairs).\n",
    "        if nFtrRem == 1:\n",
    "            lastFtr = [ ftr for ftr in range(nFtr) if not any(np.isin(elim,ftr))][0]            \n",
    "            elim.append(lastFtr)\n",
    "            nFtrRem -= 1\n",
    "\n",
    "        # We have at least one pair of features that needs to be evaluated.\n",
    "        else:\n",
    "\n",
    "            for iPair in range(nPairs):\n",
    "                \n",
    "                # Finds the two features with the highest cross correlation value.\n",
    "                pair = np.unravel_index(np.argmax(xcorTmp, axis=None), xcorTmp.shape)\n",
    "                \n",
    "                # Blank both features so neither pair member will be evaluated this iteration.\n",
    "                # Note: The feature that remains will still be evaluated next iteration since\n",
    "                #       we're working with a temporary copy of the cross correlation matrix.\n",
    "                BlankFeature(xcorTmp,pair[0])\n",
    "                BlankFeature(xcorTmp,pair[1])\n",
    "                \n",
    "                # Eliminate the pair member with the lowest correlation with the output feature.\n",
    "                drop = np.argmin([ np.abs(lcor[pair[0]]), np.abs(lcor[pair[1]]) ])\n",
    "                elim.append(pair[drop])\n",
    "\n",
    "                nFtrRem -= 1\n",
    "\n",
    "    return reversed(elim)"
   ]
  },
  {
   "cell_type": "code",
   "execution_count": 17,
   "metadata": {},
   "outputs": [
    {
     "name": "stdout",
     "output_type": "stream",
     "text": [
      "\n",
      "-- Feature Retention Order (Win Size: 30) --\n",
      " 0: EntrySleep      (label corr: 0.391)\n",
      " 8: Violence        (label corr: -0.029)\n",
      "13: Overdose        (label corr: -0.024)\n",
      " 1: EntryConsl      (label corr: 0.053)\n",
      " 3: EntryBar        (label corr: -0.037)\n",
      " 4: Addiction       (label corr: 0.003)\n",
      " 6: PhysicalHealth  (label corr: 0.042)\n",
      " 9: PoliceJustice   (label corr: -0.033)\n",
      "11: EMS             (label corr: -0.015)\n",
      " 7: MentalHealth    (label corr: -0.001)\n",
      "10: Conflict        (label corr: -0.010)\n",
      " 5: Bar             (label corr: -0.037)\n",
      " 2: EntryLog        (label corr: 0.016)\n",
      "12: Supports        (label corr: 0.037)\n",
      "\n",
      "-- Feature Retention Order (Win Size: 60) --\n",
      " 0: EntrySleep      (label corr: 0.451)\n",
      " 3: EntryBar        (label corr: -0.059)\n",
      " 1: EntryConsl      (label corr: 0.060)\n",
      " 8: Violence        (label corr: -0.047)\n",
      "13: Overdose        (label corr: -0.032)\n",
      " 4: Addiction       (label corr: -0.013)\n",
      " 6: PhysicalHealth  (label corr: 0.051)\n",
      " 9: PoliceJustice   (label corr: -0.044)\n",
      "11: EMS             (label corr: -0.023)\n",
      " 7: MentalHealth    (label corr: -0.010)\n",
      "10: Conflict        (label corr: -0.022)\n",
      " 5: Bar             (label corr: -0.057)\n",
      " 2: EntryLog        (label corr: 0.022)\n",
      "12: Supports        (label corr: 0.035)\n",
      "\n",
      "-- Feature Retention Order (Win Size: 90) --\n",
      " 0: EntrySleep      (label corr: 0.508)\n",
      " 3: EntryBar        (label corr: -0.073)\n",
      " 1: EntryConsl      (label corr: 0.088)\n",
      " 8: Violence        (label corr: -0.051)\n",
      "13: Overdose        (label corr: -0.038)\n",
      " 7: MentalHealth    (label corr: 0.004)\n",
      " 6: PhysicalHealth  (label corr: 0.067)\n",
      " 9: PoliceJustice   (label corr: -0.034)\n",
      "11: EMS             (label corr: -0.024)\n",
      " 4: Addiction       (label corr: -0.002)\n",
      "10: Conflict        (label corr: -0.009)\n",
      " 5: Bar             (label corr: -0.065)\n",
      " 2: EntryLog        (label corr: 0.036)\n",
      "12: Supports        (label corr: 0.061)\n",
      "\n",
      "-- Feature Retention Order (Win Size: 120) --\n",
      " 0: EntrySleep      (label corr: 0.573)\n",
      " 3: EntryBar        (label corr: -0.069)\n",
      " 1: EntryConsl      (label corr: 0.118)\n",
      " 8: Violence        (label corr: -0.035)\n",
      "13: Overdose        (label corr: -0.045)\n",
      " 7: MentalHealth    (label corr: 0.013)\n",
      " 6: PhysicalHealth  (label corr: 0.083)\n",
      " 9: PoliceJustice   (label corr: -0.031)\n",
      "11: EMS             (label corr: -0.029)\n",
      " 4: Addiction       (label corr: 0.012)\n",
      "10: Conflict        (label corr: 0.011)\n",
      " 5: Bar             (label corr: -0.064)\n",
      " 2: EntryLog        (label corr: 0.054)\n",
      "12: Supports        (label corr: 0.090)\n"
     ]
    }
   ],
   "source": [
    "# Do a correlation prune on all features.\n",
    "for win in winSizes:\n",
    "\n",
    "    features = correlation_feature_prune(attXCor[win],lblAttrCor[win])\n",
    "\n",
    "    print('\\n-- Feature Retention Order (Win Size: {}) --'.format(win))\n",
    "    for feature in features:\n",
    "        print('{:2d}: {: <15} (label corr: {:.3f})'.format(feature,attrCols[feature],lblAttrCor[win][feature]))   "
   ]
  },
  {
   "cell_type": "markdown",
   "metadata": {},
   "source": [
    "## Coverage Table"
   ]
  },
  {
   "cell_type": "code",
   "execution_count": 19,
   "metadata": {},
   "outputs": [
    {
     "name": "stdout",
     "output_type": "stream",
     "text": [
      "--- Window Size: 30 ---\n",
      " Number of Examples: 12175\n",
      "  Attribute 0 Features: 123 (124 unique values)\n",
      "  Attribute 1 Features: 55 (62 unique values)\n",
      "  Attribute 2 Features: 53 (63 unique values)\n",
      "  Attribute 3 Features: 12 (15 unique values)\n",
      "  Attribute 4 Features: 22 (28 unique values)\n",
      "  Attribute 5 Features: 16 (19 unique values)\n",
      "  Attribute 6 Features: 49 (62 unique values)\n",
      "  Attribute 7 Features: 26 (29 unique values)\n",
      "  Attribute 8 Features: 20 (21 unique values)\n",
      "  Attribute 9 Features: 20 (23 unique values)\n",
      "  Attribute 10 Features: 29 (34 unique values)\n",
      "  Attribute 11 Features: 8 (10 unique values)\n",
      "  Attribute 12 Features: 52 (59 unique values)\n",
      "  Attribute 13 Features: 6 (9 unique values)\n",
      "Number of Features: 491\n",
      "\n",
      "--- Window Size: 60 ---\n",
      " Number of Examples: 8671\n",
      "  Attribute 0 Features: 183 (184 unique values)\n",
      "  Attribute 1 Features: 69 (78 unique values)\n",
      "  Attribute 2 Features: 67 (81 unique values)\n",
      "  Attribute 3 Features: 16 (21 unique values)\n",
      "  Attribute 4 Features: 30 (34 unique values)\n",
      "  Attribute 5 Features: 22 (26 unique values)\n",
      "  Attribute 6 Features: 73 (87 unique values)\n",
      "  Attribute 7 Features: 29 (32 unique values)\n",
      "  Attribute 8 Features: 20 (25 unique values)\n",
      "  Attribute 9 Features: 22 (27 unique values)\n",
      "  Attribute 10 Features: 41 (45 unique values)\n",
      "  Attribute 11 Features: 10 (11 unique values)\n",
      "  Attribute 12 Features: 67 (76 unique values)\n",
      "  Attribute 13 Features: 6 (9 unique values)\n",
      "Number of Features: 655\n",
      "\n",
      "--- Window Size: 90 ---\n",
      " Number of Examples: 7440\n",
      "  Attribute 0 Features: 239 (242 unique values)\n",
      "  Attribute 1 Features: 89 (96 unique values)\n",
      "  Attribute 2 Features: 73 (95 unique values)\n",
      "  Attribute 3 Features: 19 (25 unique values)\n",
      "  Attribute 4 Features: 28 (37 unique values)\n",
      "  Attribute 5 Features: 21 (29 unique values)\n",
      "  Attribute 6 Features: 85 (101 unique values)\n",
      "  Attribute 7 Features: 32 (36 unique values)\n",
      "  Attribute 8 Features: 21 (27 unique values)\n",
      "  Attribute 9 Features: 26 (33 unique values)\n",
      "  Attribute 10 Features: 43 (55 unique values)\n",
      "  Attribute 11 Features: 10 (11 unique values)\n",
      "  Attribute 12 Features: 87 (98 unique values)\n",
      "  Attribute 13 Features: 6 (10 unique values)\n",
      "Number of Features: 779\n",
      "\n",
      "--- Window Size: 120 ---\n",
      " Number of Examples: 6650\n",
      "  Attribute 0 Features: 289 (297 unique values)\n",
      "  Attribute 1 Features: 101 (110 unique values)\n",
      "  Attribute 2 Features: 81 (108 unique values)\n",
      "  Attribute 3 Features: 23 (28 unique values)\n",
      "  Attribute 4 Features: 38 (46 unique values)\n",
      "  Attribute 5 Features: 23 (30 unique values)\n",
      "  Attribute 6 Features: 89 (107 unique values)\n",
      "  Attribute 7 Features: 36 (39 unique values)\n",
      "  Attribute 8 Features: 27 (32 unique values)\n",
      "  Attribute 9 Features: 30 (36 unique values)\n",
      "  Attribute 10 Features: 47 (59 unique values)\n",
      "  Attribute 11 Features: 10 (12 unique values)\n",
      "  Attribute 12 Features: 101 (115 unique values)\n",
      "  Attribute 13 Features: 8 (11 unique values)\n",
      "Number of Features: 903\n",
      "\n"
     ]
    }
   ],
   "source": [
    "for win in winSizes:\n",
    "    \n",
    "    print('--- Window Size: {} ---'.format(win))\n",
    "    (ftrStr,attrInds,vs,ops,covTbl,lbls) = gen_coverage_table(attr[win],lbl[win])\n",
    "    print('Number of Features: {}\\n'.format(len(ftrStr)))\n",
    "    \n",
    "#    covFileStr = '/hd2/data/di/plwh/cache/DiRules-CoverageTable-WinSz{}.pkl'.format(win)\n",
    "    covFileStr = '/Users/gmessier/data/plwh/cache/DiRules-CoverageTable-WinSz{}.pkl'.format(win)\n",
    "    pklFile = open(covFileStr,'wb',buffering=0)\n",
    "    pickle.dump({ \n",
    "        'FeatureStrings': ftrStr, \n",
    "        'AttributeIndices': attrInds, \n",
    "        'ThresholdValues': vs, \n",
    "        'FeatureOperations': ops, \n",
    "        'CoverageTable': covTbl, \n",
    "        'Labels': lbls, \n",
    "        'ClientIds': clientIds[win], \n",
    "        'IdTimes': evalTimes[win] }, pklFile)\n",
    "    pklFile.close()"
   ]
  },
  {
   "cell_type": "code",
   "execution_count": null,
   "metadata": {},
   "outputs": [],
   "source": []
  },
  {
   "cell_type": "code",
   "execution_count": null,
   "metadata": {},
   "outputs": [],
   "source": []
  }
 ],
 "metadata": {
  "kernelspec": {
   "display_name": "Python 3 (ipykernel)",
   "language": "python",
   "name": "python3"
  },
  "language_info": {
   "codemirror_mode": {
    "name": "ipython",
    "version": 3
   },
   "file_extension": ".py",
   "mimetype": "text/x-python",
   "name": "python",
   "nbconvert_exporter": "python",
   "pygments_lexer": "ipython3",
   "version": "3.9.7"
  }
 },
 "nbformat": 4,
 "nbformat_minor": 4
}
