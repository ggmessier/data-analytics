{
 "cells": [
  {
   "cell_type": "markdown",
   "metadata": {
    "tags": []
   },
   "source": [
    "# DI Chronic Rule Search Pre-Processing Routines\n",
    "\n",
    "This code pre-processes DI client data for use when identifying potentially chronic shelter users during monthly housing case worker meetings."
   ]
  },
  {
   "cell_type": "markdown",
   "metadata": {},
   "source": [
    "    Copyright (C) 2021 Geoffrey Guy Messier\n",
    "\n",
    "    This program is free software: you can redistribute it and/or modify\n",
    "    it under the terms of the GNU General Public License as published by\n",
    "    the Free Software Foundation, either version 3 of the License, or\n",
    "    (at your option) any later version.\n",
    "\n",
    "    This program is distributed in the hope that it will be useful,\n",
    "    but WITHOUT ANY WARRANTY; without even the implied warranty of\n",
    "    MERCHANTABILITY or FITNESS FOR A PARTICULAR PURPOSE.  See the\n",
    "    GNU General Public License for more details.\n",
    "\n",
    "    You should have received a copy of the GNU General Public License\n",
    "    along with this program.  If not, see <https://www.gnu.org/licenses/>."
   ]
  },
  {
   "cell_type": "code",
   "execution_count": 1,
   "metadata": {},
   "outputs": [],
   "source": [
    "%load_ext autoreload\n",
    "%autoreload 1"
   ]
  },
  {
   "cell_type": "code",
   "execution_count": 2,
   "metadata": {},
   "outputs": [],
   "source": [
    "import numpy as np\n",
    "import pandas as pd\n",
    "import datetime, copy, imp\n",
    "import time\n",
    "import os\n",
    "import re\n",
    "\n",
    "from tqdm.auto import tqdm, trange\n",
    "from tqdm.notebook import tqdm\n",
    "tqdm.pandas()\n",
    "\n",
    "from pandas.tseries.offsets import DateOffset\n",
    "\n",
    "import sys\n",
    "sys.path.insert(0, '../util/')\n",
    "\n",
    "%aimport di_data\n",
    "%aimport data_cache\n",
    "\n",
    "from di_data import *\n",
    "from data_cache import CacheResult"
   ]
  },
  {
   "cell_type": "markdown",
   "metadata": {},
   "source": [
    "### Data Load and Merge\n",
    "- Load the raw DI data.\n",
    "- Merge keyword categories that are obviously connected."
   ]
  },
  {
   "cell_type": "code",
   "execution_count": 6,
   "metadata": {},
   "outputs": [],
   "source": [
    "#dataDirStr = '/hd2/data/di/plwh/'\n",
    "#cacheDirStr = '/hd2/data/di/plwh/cache/'\n",
    "\n",
    "dataDirStr = '~/data/plwh/'\n",
    "cacheDirStr = '~/plwh/cache/'"
   ]
  },
  {
   "cell_type": "code",
   "execution_count": 7,
   "metadata": {},
   "outputs": [],
   "source": [
    "# Pre-merge some keyword categories with obvious similarities.\n",
    "ftrMerges = {\n",
    "    'Addiction': [ 'Addiction' ],\n",
    "    'Bar': [ 'Bar' ],\n",
    "    'PhysicalHealth': [ 'PhysicalHealth', 'Medication', 'Health', 'Death' ],\n",
    "    'MentalHealth': [ 'MentalHealth' ],\n",
    "    'Violence': [ 'Brawl', 'Gun', 'Weapon', 'Spray', 'PhysicalViolence', 'SexualViolence', 'Knife' ],\n",
    "    'PoliceJustice': [ 'Justice', 'CPS', 'PoliceLogFlag' ],\n",
    "    'Conflict': [ 'Conflict' ], \n",
    "    'EMS': [ 'EMS', 'EmsLogFlag' ],\n",
    "    'Supports': [ 'Supports', 'Housing', 'Financial', 'Employment', 'Education', \n",
    "                 'FriendsFamily', 'Property', 'EmployeeIsCounsellor' ],\n",
    "    'Overdose': [ 'Overdose' ]\n",
    "}\n",
    "\n",
    "ftrKeep = [ 'ClientId', 'Date', 'Age' ]"
   ]
  },
  {
   "cell_type": "code",
   "execution_count": 8,
   "metadata": {},
   "outputs": [],
   "source": [
    "tblAll = pd.read_hdf(dataDirStr + 'UniversityExportAnonymized.hd5')"
   ]
  },
  {
   "cell_type": "code",
   "execution_count": 9,
   "metadata": {},
   "outputs": [
    {
     "data": {
      "text/plain": [
       "Index(['ClientId', 'Date', 'EmployeeId', 'EmployeeIsCounsellor', 'EmsLogFlag',\n",
       "       'PoliceLogFlag', 'BarDuration', 'Location', 'EntryType', 'ClientState',\n",
       "       'Age', 'Addiction', 'Bar', 'Biometrics', 'Brawl', 'CPS', 'Conflict',\n",
       "       'Death', 'EMS', 'Education', 'Employment', 'Financial', 'FriendsFamily',\n",
       "       'Gun', 'Health', 'Housing', 'ID', 'Indigenous', 'Justice', 'Knife',\n",
       "       'Medication', 'MentalHealth', 'NegativeWord', 'Overdose',\n",
       "       'PhysicalHealth', 'PhysicalViolence', 'PositiveWord', 'Property',\n",
       "       'Seniors', 'SexualViolence', 'Spray', 'Supports', 'Weapon'],\n",
       "      dtype='object')"
      ]
     },
     "execution_count": 9,
     "metadata": {},
     "output_type": "execute_result"
    }
   ],
   "source": [
    "tblAll.columns"
   ]
  },
  {
   "cell_type": "code",
   "execution_count": 5,
   "metadata": {},
   "outputs": [],
   "source": [
    "@CacheResult\n",
    "def load_raw_data():\n",
    "    tblAll = pd.read_hdf(dataDirStr + 'UniversityExportAnonymized.hd5')\n",
    "    tblAll = tblAll[tblAll.Date >= pd.to_datetime('2008-07-01')]\n",
    "\n",
    "    print('Total Entries: {}'.format(len(tblAll.index)))\n",
    "    print('Dates: ',min(tblAll.Date),' to ',max(tblAll.Date))\n",
    "    \n",
    "    tbl = copy.deepcopy(tblAll[ftrKeep])\n",
    "\n",
    "    # 1 hot encode entry type\n",
    "    tbl['EntrySleep'] = (tblAll.EntryType == 'Sleep').astype(int)\n",
    "    tbl['EntryConsl'] = ((tblAll.EntryType == 'CounsellorsNotes') \n",
    "                         | (tblAll.EntryType == 'ProgressDetails')).astype(int)\n",
    "    tbl['EntryLog'] = (tblAll.EntryType == 'Log').astype(int)\n",
    "    tbl['EntryBar'] = (tblAll.EntryType == 'Bar').astype(int)\n",
    "\n",
    "    # Merge pre-identified features.\n",
    "    for ftr in ftrMerges.keys():    \n",
    "        tbl[ftr] = tblAll[ftrMerges[ftr]].sum(axis=1).clip(upper=1).astype(int)\n",
    "    \n",
    "    return tbl"
   ]
  },
  {
   "cell_type": "code",
   "execution_count": 6,
   "metadata": {},
   "outputs": [],
   "source": [
    "tbl = load_raw_data(path=cacheDirStr,filename='DiRules-LoadRawData.hd5')"
   ]
  },
  {
   "cell_type": "code",
   "execution_count": 7,
   "metadata": {},
   "outputs": [
    {
     "data": {
      "text/html": [
       "<div>\n",
       "<style scoped>\n",
       "    .dataframe tbody tr th:only-of-type {\n",
       "        vertical-align: middle;\n",
       "    }\n",
       "\n",
       "    .dataframe tbody tr th {\n",
       "        vertical-align: top;\n",
       "    }\n",
       "\n",
       "    .dataframe thead th {\n",
       "        text-align: right;\n",
       "    }\n",
       "</style>\n",
       "<table border=\"1\" class=\"dataframe\">\n",
       "  <thead>\n",
       "    <tr style=\"text-align: right;\">\n",
       "      <th></th>\n",
       "      <th>ClientId</th>\n",
       "      <th>Date</th>\n",
       "      <th>Age</th>\n",
       "      <th>EntrySleep</th>\n",
       "      <th>EntryConsl</th>\n",
       "      <th>EntryLog</th>\n",
       "      <th>EntryBar</th>\n",
       "      <th>Addiction</th>\n",
       "      <th>Bar</th>\n",
       "      <th>PhysicalHealth</th>\n",
       "      <th>MentalHealth</th>\n",
       "      <th>Violence</th>\n",
       "      <th>PoliceJustice</th>\n",
       "      <th>Conflict</th>\n",
       "      <th>EMS</th>\n",
       "      <th>Supports</th>\n",
       "      <th>Overdose</th>\n",
       "    </tr>\n",
       "  </thead>\n",
       "  <tbody>\n",
       "    <tr>\n",
       "      <th>4497</th>\n",
       "      <td>35951</td>\n",
       "      <td>2008-11-09 00:00:00.000</td>\n",
       "      <td>39.0</td>\n",
       "      <td>0</td>\n",
       "      <td>0</td>\n",
       "      <td>0</td>\n",
       "      <td>1</td>\n",
       "      <td>0</td>\n",
       "      <td>0</td>\n",
       "      <td>0</td>\n",
       "      <td>0</td>\n",
       "      <td>0</td>\n",
       "      <td>0</td>\n",
       "      <td>1</td>\n",
       "      <td>0</td>\n",
       "      <td>0</td>\n",
       "      <td>0</td>\n",
       "    </tr>\n",
       "    <tr>\n",
       "      <th>4801</th>\n",
       "      <td>34334</td>\n",
       "      <td>2008-11-09 00:00:00.000</td>\n",
       "      <td>42.0</td>\n",
       "      <td>0</td>\n",
       "      <td>0</td>\n",
       "      <td>0</td>\n",
       "      <td>1</td>\n",
       "      <td>0</td>\n",
       "      <td>0</td>\n",
       "      <td>0</td>\n",
       "      <td>0</td>\n",
       "      <td>0</td>\n",
       "      <td>0</td>\n",
       "      <td>0</td>\n",
       "      <td>0</td>\n",
       "      <td>0</td>\n",
       "      <td>0</td>\n",
       "    </tr>\n",
       "    <tr>\n",
       "      <th>6121</th>\n",
       "      <td>26787</td>\n",
       "      <td>2008-11-09 00:00:00.000</td>\n",
       "      <td>64.0</td>\n",
       "      <td>0</td>\n",
       "      <td>0</td>\n",
       "      <td>0</td>\n",
       "      <td>1</td>\n",
       "      <td>0</td>\n",
       "      <td>0</td>\n",
       "      <td>0</td>\n",
       "      <td>0</td>\n",
       "      <td>0</td>\n",
       "      <td>0</td>\n",
       "      <td>1</td>\n",
       "      <td>0</td>\n",
       "      <td>0</td>\n",
       "      <td>0</td>\n",
       "    </tr>\n",
       "    <tr>\n",
       "      <th>14019</th>\n",
       "      <td>12902</td>\n",
       "      <td>2009-10-06 07:28:54.640</td>\n",
       "      <td>39.0</td>\n",
       "      <td>0</td>\n",
       "      <td>0</td>\n",
       "      <td>0</td>\n",
       "      <td>1</td>\n",
       "      <td>0</td>\n",
       "      <td>1</td>\n",
       "      <td>0</td>\n",
       "      <td>0</td>\n",
       "      <td>0</td>\n",
       "      <td>0</td>\n",
       "      <td>1</td>\n",
       "      <td>0</td>\n",
       "      <td>1</td>\n",
       "      <td>0</td>\n",
       "    </tr>\n",
       "    <tr>\n",
       "      <th>16463</th>\n",
       "      <td>31200</td>\n",
       "      <td>2012-11-20 00:00:00.000</td>\n",
       "      <td>51.0</td>\n",
       "      <td>0</td>\n",
       "      <td>0</td>\n",
       "      <td>0</td>\n",
       "      <td>1</td>\n",
       "      <td>0</td>\n",
       "      <td>0</td>\n",
       "      <td>0</td>\n",
       "      <td>0</td>\n",
       "      <td>0</td>\n",
       "      <td>0</td>\n",
       "      <td>0</td>\n",
       "      <td>0</td>\n",
       "      <td>0</td>\n",
       "      <td>0</td>\n",
       "    </tr>\n",
       "    <tr>\n",
       "      <th>...</th>\n",
       "      <td>...</td>\n",
       "      <td>...</td>\n",
       "      <td>...</td>\n",
       "      <td>...</td>\n",
       "      <td>...</td>\n",
       "      <td>...</td>\n",
       "      <td>...</td>\n",
       "      <td>...</td>\n",
       "      <td>...</td>\n",
       "      <td>...</td>\n",
       "      <td>...</td>\n",
       "      <td>...</td>\n",
       "      <td>...</td>\n",
       "      <td>...</td>\n",
       "      <td>...</td>\n",
       "      <td>...</td>\n",
       "      <td>...</td>\n",
       "    </tr>\n",
       "    <tr>\n",
       "      <th>5576428</th>\n",
       "      <td>2528038</td>\n",
       "      <td>2019-11-17 00:00:00.000</td>\n",
       "      <td>73.0</td>\n",
       "      <td>1</td>\n",
       "      <td>0</td>\n",
       "      <td>0</td>\n",
       "      <td>0</td>\n",
       "      <td>0</td>\n",
       "      <td>0</td>\n",
       "      <td>0</td>\n",
       "      <td>0</td>\n",
       "      <td>0</td>\n",
       "      <td>0</td>\n",
       "      <td>0</td>\n",
       "      <td>0</td>\n",
       "      <td>0</td>\n",
       "      <td>0</td>\n",
       "    </tr>\n",
       "    <tr>\n",
       "      <th>5576429</th>\n",
       "      <td>2532949</td>\n",
       "      <td>2019-11-17 00:00:00.000</td>\n",
       "      <td>53.0</td>\n",
       "      <td>1</td>\n",
       "      <td>0</td>\n",
       "      <td>0</td>\n",
       "      <td>0</td>\n",
       "      <td>0</td>\n",
       "      <td>0</td>\n",
       "      <td>0</td>\n",
       "      <td>0</td>\n",
       "      <td>0</td>\n",
       "      <td>0</td>\n",
       "      <td>0</td>\n",
       "      <td>0</td>\n",
       "      <td>0</td>\n",
       "      <td>0</td>\n",
       "    </tr>\n",
       "    <tr>\n",
       "      <th>5576430</th>\n",
       "      <td>2495818</td>\n",
       "      <td>2019-11-17 00:00:00.000</td>\n",
       "      <td>54.0</td>\n",
       "      <td>1</td>\n",
       "      <td>0</td>\n",
       "      <td>0</td>\n",
       "      <td>0</td>\n",
       "      <td>0</td>\n",
       "      <td>0</td>\n",
       "      <td>0</td>\n",
       "      <td>0</td>\n",
       "      <td>0</td>\n",
       "      <td>0</td>\n",
       "      <td>0</td>\n",
       "      <td>0</td>\n",
       "      <td>0</td>\n",
       "      <td>0</td>\n",
       "    </tr>\n",
       "    <tr>\n",
       "      <th>5576431</th>\n",
       "      <td>27906</td>\n",
       "      <td>2019-11-17 00:00:00.000</td>\n",
       "      <td>58.0</td>\n",
       "      <td>1</td>\n",
       "      <td>0</td>\n",
       "      <td>0</td>\n",
       "      <td>0</td>\n",
       "      <td>0</td>\n",
       "      <td>0</td>\n",
       "      <td>0</td>\n",
       "      <td>0</td>\n",
       "      <td>0</td>\n",
       "      <td>0</td>\n",
       "      <td>0</td>\n",
       "      <td>0</td>\n",
       "      <td>0</td>\n",
       "      <td>0</td>\n",
       "    </tr>\n",
       "    <tr>\n",
       "      <th>5576432</th>\n",
       "      <td>18559</td>\n",
       "      <td>2019-11-17 00:00:00.000</td>\n",
       "      <td>78.0</td>\n",
       "      <td>1</td>\n",
       "      <td>0</td>\n",
       "      <td>0</td>\n",
       "      <td>0</td>\n",
       "      <td>0</td>\n",
       "      <td>0</td>\n",
       "      <td>0</td>\n",
       "      <td>0</td>\n",
       "      <td>0</td>\n",
       "      <td>0</td>\n",
       "      <td>0</td>\n",
       "      <td>0</td>\n",
       "      <td>0</td>\n",
       "      <td>0</td>\n",
       "    </tr>\n",
       "  </tbody>\n",
       "</table>\n",
       "<p>5060302 rows × 17 columns</p>\n",
       "</div>"
      ],
      "text/plain": [
       "         ClientId                    Date   Age  EntrySleep  EntryConsl  \\\n",
       "4497        35951 2008-11-09 00:00:00.000  39.0           0           0   \n",
       "4801        34334 2008-11-09 00:00:00.000  42.0           0           0   \n",
       "6121        26787 2008-11-09 00:00:00.000  64.0           0           0   \n",
       "14019       12902 2009-10-06 07:28:54.640  39.0           0           0   \n",
       "16463       31200 2012-11-20 00:00:00.000  51.0           0           0   \n",
       "...           ...                     ...   ...         ...         ...   \n",
       "5576428   2528038 2019-11-17 00:00:00.000  73.0           1           0   \n",
       "5576429   2532949 2019-11-17 00:00:00.000  53.0           1           0   \n",
       "5576430   2495818 2019-11-17 00:00:00.000  54.0           1           0   \n",
       "5576431     27906 2019-11-17 00:00:00.000  58.0           1           0   \n",
       "5576432     18559 2019-11-17 00:00:00.000  78.0           1           0   \n",
       "\n",
       "         EntryLog  EntryBar  Addiction  Bar  PhysicalHealth  MentalHealth  \\\n",
       "4497            0         1          0    0               0             0   \n",
       "4801            0         1          0    0               0             0   \n",
       "6121            0         1          0    0               0             0   \n",
       "14019           0         1          0    1               0             0   \n",
       "16463           0         1          0    0               0             0   \n",
       "...           ...       ...        ...  ...             ...           ...   \n",
       "5576428         0         0          0    0               0             0   \n",
       "5576429         0         0          0    0               0             0   \n",
       "5576430         0         0          0    0               0             0   \n",
       "5576431         0         0          0    0               0             0   \n",
       "5576432         0         0          0    0               0             0   \n",
       "\n",
       "         Violence  PoliceJustice  Conflict  EMS  Supports  Overdose  \n",
       "4497            0              0         1    0         0         0  \n",
       "4801            0              0         0    0         0         0  \n",
       "6121            0              0         1    0         0         0  \n",
       "14019           0              0         1    0         1         0  \n",
       "16463           0              0         0    0         0         0  \n",
       "...           ...            ...       ...  ...       ...       ...  \n",
       "5576428         0              0         0    0         0         0  \n",
       "5576429         0              0         0    0         0         0  \n",
       "5576430         0              0         0    0         0         0  \n",
       "5576431         0              0         0    0         0         0  \n",
       "5576432         0              0         0    0         0         0  \n",
       "\n",
       "[5060302 rows x 17 columns]"
      ]
     },
     "execution_count": 7,
     "metadata": {},
     "output_type": "execute_result"
    }
   ],
   "source": [
    "tbl"
   ]
  },
  {
   "cell_type": "code",
   "execution_count": null,
   "metadata": {},
   "outputs": [],
   "source": []
  },
  {
   "cell_type": "code",
   "execution_count": null,
   "metadata": {},
   "outputs": [],
   "source": []
  },
  {
   "cell_type": "markdown",
   "metadata": {},
   "source": [
    "### Label Data\n",
    "- Use the Canadian federal definition of chronic."
   ]
  },
  {
   "cell_type": "code",
   "execution_count": 8,
   "metadata": {},
   "outputs": [],
   "source": [
    "@CacheResult\n",
    "def generate_stay_timelines():\n",
    "    return tbl.loc[tbl.EntrySleep==1].groupby('ClientId').progress_apply(calculate_stay_sequence)"
   ]
  },
  {
   "cell_type": "code",
   "execution_count": 9,
   "metadata": {},
   "outputs": [],
   "source": [
    "tlSty = generate_stay_timelines(path=cacheDirStr,filename='DiRules-GenerateStayTimelines.hd5')"
   ]
  },
  {
   "cell_type": "code",
   "execution_count": 10,
   "metadata": {},
   "outputs": [
    {
     "data": {
      "text/html": [
       "<div>\n",
       "<style scoped>\n",
       "    .dataframe tbody tr th:only-of-type {\n",
       "        vertical-align: middle;\n",
       "    }\n",
       "\n",
       "    .dataframe tbody tr th {\n",
       "        vertical-align: top;\n",
       "    }\n",
       "\n",
       "    .dataframe thead th {\n",
       "        text-align: right;\n",
       "    }\n",
       "</style>\n",
       "<table border=\"1\" class=\"dataframe\">\n",
       "  <thead>\n",
       "    <tr style=\"text-align: right;\">\n",
       "      <th></th>\n",
       "      <th></th>\n",
       "      <th>Date</th>\n",
       "      <th>Ind</th>\n",
       "    </tr>\n",
       "    <tr>\n",
       "      <th>ClientId</th>\n",
       "      <th></th>\n",
       "      <th></th>\n",
       "      <th></th>\n",
       "    </tr>\n",
       "  </thead>\n",
       "  <tbody>\n",
       "    <tr>\n",
       "      <th rowspan=\"5\" valign=\"top\">9544</th>\n",
       "      <th>1248572</th>\n",
       "      <td>2008-07-01</td>\n",
       "      <td>1</td>\n",
       "    </tr>\n",
       "    <tr>\n",
       "      <th>1249020</th>\n",
       "      <td>2008-07-02</td>\n",
       "      <td>2</td>\n",
       "    </tr>\n",
       "    <tr>\n",
       "      <th>1249571</th>\n",
       "      <td>2008-07-03</td>\n",
       "      <td>3</td>\n",
       "    </tr>\n",
       "    <tr>\n",
       "      <th>1250067</th>\n",
       "      <td>2008-07-04</td>\n",
       "      <td>4</td>\n",
       "    </tr>\n",
       "    <tr>\n",
       "      <th>1250644</th>\n",
       "      <td>2008-07-05</td>\n",
       "      <td>5</td>\n",
       "    </tr>\n",
       "    <tr>\n",
       "      <th>...</th>\n",
       "      <th>...</th>\n",
       "      <td>...</td>\n",
       "      <td>...</td>\n",
       "    </tr>\n",
       "    <tr>\n",
       "      <th>2534333</th>\n",
       "      <th>4298131</th>\n",
       "      <td>2019-11-30</td>\n",
       "      <td>1</td>\n",
       "    </tr>\n",
       "    <tr>\n",
       "      <th>2534334</th>\n",
       "      <th>4297950</th>\n",
       "      <td>2019-11-29</td>\n",
       "      <td>1</td>\n",
       "    </tr>\n",
       "    <tr>\n",
       "      <th>2534335</th>\n",
       "      <th>4297784</th>\n",
       "      <td>2019-11-30</td>\n",
       "      <td>1</td>\n",
       "    </tr>\n",
       "    <tr>\n",
       "      <th>2534339</th>\n",
       "      <th>4300886</th>\n",
       "      <td>2019-11-30</td>\n",
       "      <td>1</td>\n",
       "    </tr>\n",
       "    <tr>\n",
       "      <th>2534340</th>\n",
       "      <th>4300960</th>\n",
       "      <td>2019-11-30</td>\n",
       "      <td>1</td>\n",
       "    </tr>\n",
       "  </tbody>\n",
       "</table>\n",
       "<p>3580906 rows × 2 columns</p>\n",
       "</div>"
      ],
      "text/plain": [
       "                       Date  Ind\n",
       "ClientId                        \n",
       "9544     1248572 2008-07-01    1\n",
       "         1249020 2008-07-02    2\n",
       "         1249571 2008-07-03    3\n",
       "         1250067 2008-07-04    4\n",
       "         1250644 2008-07-05    5\n",
       "...                     ...  ...\n",
       "2534333  4298131 2019-11-30    1\n",
       "2534334  4297950 2019-11-29    1\n",
       "2534335  4297784 2019-11-30    1\n",
       "2534339  4300886 2019-11-30    1\n",
       "2534340  4300960 2019-11-30    1\n",
       "\n",
       "[3580906 rows x 2 columns]"
      ]
     },
     "execution_count": 10,
     "metadata": {},
     "output_type": "execute_result"
    }
   ],
   "source": [
    "tlSty"
   ]
  },
  {
   "cell_type": "code",
   "execution_count": 11,
   "metadata": {},
   "outputs": [],
   "source": [
    "# Applies a time windowed threshold test to a count of stays.\n",
    "def cdn_fed_chronic(tbl):\n",
    "    \n",
    "    # First Test: 180 days in past 1 year\n",
    "    winSz = 365\n",
    "    thresh = 180\n",
    "    \n",
    "    win = tbl.rolling('%dd' % winSz,on='Date').count().Ind\n",
    "    registrationDate = tbl.Date.min()\n",
    "    idDate1 = tbl[win >= thresh].Date.min()  # Will be equal to NaN if the threshold isn't met.\n",
    "    \n",
    "    # Second Test: 546 days in past 3 years\n",
    "    winSz = 365*3\n",
    "    thresh = 546\n",
    "    \n",
    "    win = tbl.rolling('%dd' % winSz,on='Date').count().Ind\n",
    "    registrationDate = tbl.Date.min()\n",
    "    idDate2 = tbl[win >= thresh].Date.min()  # Will be equal to NaN if the threshold isn't met.\n",
    "    \n",
    "    \n",
    "    idDate = min([ idDate1, idDate2 ])\n",
    "        \n",
    "    if idDate == idDate:   # Satisfied if idDate is not NaN.\n",
    "        return pd.Series({\n",
    "            'Flag': 'chr',  # Flag indicating test was satisfied.\n",
    "            'Date': idDate,   # Date client was identified.\n",
    "            'Time': (idDate - registrationDate).days + 1 # Number of days it took to identify client.\n",
    "        })\n",
    "    else:\n",
    "        return pd.Series({   # Returned if the test is not satisfied.\n",
    "            'Flag': 'tmp',\n",
    "            'Date': tbl.Date.max(),\n",
    "            'Time': (tbl.Date.max()-tbl.Date.min()).days + 1\n",
    "        })\n",
    "    "
   ]
  },
  {
   "cell_type": "code",
   "execution_count": 12,
   "metadata": {},
   "outputs": [],
   "source": [
    "@CacheResult\n",
    "def label_cdn_fed_chronic():\n",
    "    return tlSty.groupby('ClientId').progress_apply(cdn_fed_chronic)"
   ]
  },
  {
   "cell_type": "code",
   "execution_count": 13,
   "metadata": {},
   "outputs": [],
   "source": [
    "tteChr = label_cdn_fed_chronic(path=cacheDirStr,filename='DiRules-CdnFedChronicTte.hd5')"
   ]
  },
  {
   "cell_type": "code",
   "execution_count": 14,
   "metadata": {},
   "outputs": [
    {
     "name": "stdout",
     "output_type": "stream",
     "text": [
      "Chronic clients: 3191/32346 (9.9%)\n"
     ]
    }
   ],
   "source": [
    "nChron = sum(tteChr.Flag == 'chr')\n",
    "nClients = len(tteChr.Flag)\n",
    "print('Chronic clients: {}/{} ({:.1f}%)'.format(nChron,nClients,100.0*nChron/nClients))"
   ]
  },
  {
   "cell_type": "code",
   "execution_count": 15,
   "metadata": {},
   "outputs": [],
   "source": [
    "# Only consider clients that have a label.\n",
    "tbl = tbl.loc[tbl.ClientId.isin(tteChr.index)]"
   ]
  },
  {
   "cell_type": "code",
   "execution_count": null,
   "metadata": {},
   "outputs": [],
   "source": []
  },
  {
   "cell_type": "markdown",
   "metadata": {},
   "source": [
    "## Generate Shelter Access Statistics"
   ]
  },
  {
   "cell_type": "code",
   "execution_count": 16,
   "metadata": {},
   "outputs": [],
   "source": [
    "@CacheResult\n",
    "def calculate_access_statistics():\n",
    "    return tbl.groupby('ClientId').progress_apply(shelter_client_access_statistics)"
   ]
  },
  {
   "cell_type": "code",
   "execution_count": 17,
   "metadata": {},
   "outputs": [],
   "source": [
    "accs = calculate_access_statistics(path=cacheDirStr,filename='DiRules-AccessStatistics.hd5')"
   ]
  },
  {
   "cell_type": "code",
   "execution_count": 18,
   "metadata": {},
   "outputs": [
    {
     "data": {
      "text/html": [
       "<div>\n",
       "<style scoped>\n",
       "    .dataframe tbody tr th:only-of-type {\n",
       "        vertical-align: middle;\n",
       "    }\n",
       "\n",
       "    .dataframe tbody tr th {\n",
       "        vertical-align: top;\n",
       "    }\n",
       "\n",
       "    .dataframe thead th {\n",
       "        text-align: right;\n",
       "    }\n",
       "</style>\n",
       "<table border=\"1\" class=\"dataframe\">\n",
       "  <thead>\n",
       "    <tr style=\"text-align: right;\">\n",
       "      <th></th>\n",
       "      <th>Tenure</th>\n",
       "      <th>UsagePct</th>\n",
       "      <th>AvgGapLen</th>\n",
       "      <th>TotalStays</th>\n",
       "      <th>TotalEpisodes</th>\n",
       "    </tr>\n",
       "    <tr>\n",
       "      <th>ClientId</th>\n",
       "      <th></th>\n",
       "      <th></th>\n",
       "      <th></th>\n",
       "      <th></th>\n",
       "      <th></th>\n",
       "    </tr>\n",
       "  </thead>\n",
       "  <tbody>\n",
       "    <tr>\n",
       "      <th>9544</th>\n",
       "      <td>1544.0</td>\n",
       "      <td>95.531088</td>\n",
       "      <td>1.028494</td>\n",
       "      <td>1475.0</td>\n",
       "      <td>1.0</td>\n",
       "    </tr>\n",
       "    <tr>\n",
       "      <th>9548</th>\n",
       "      <td>2688.0</td>\n",
       "      <td>4.910714</td>\n",
       "      <td>20.404580</td>\n",
       "      <td>132.0</td>\n",
       "      <td>6.0</td>\n",
       "    </tr>\n",
       "    <tr>\n",
       "      <th>9558</th>\n",
       "      <td>3959.0</td>\n",
       "      <td>104.420308</td>\n",
       "      <td>0.876361</td>\n",
       "      <td>4134.0</td>\n",
       "      <td>2.0</td>\n",
       "    </tr>\n",
       "    <tr>\n",
       "      <th>9561</th>\n",
       "      <td>3123.0</td>\n",
       "      <td>0.576369</td>\n",
       "      <td>183.588235</td>\n",
       "      <td>18.0</td>\n",
       "      <td>13.0</td>\n",
       "    </tr>\n",
       "    <tr>\n",
       "      <th>9566</th>\n",
       "      <td>1.0</td>\n",
       "      <td>100.000000</td>\n",
       "      <td>NaN</td>\n",
       "      <td>1.0</td>\n",
       "      <td>1.0</td>\n",
       "    </tr>\n",
       "    <tr>\n",
       "      <th>...</th>\n",
       "      <td>...</td>\n",
       "      <td>...</td>\n",
       "      <td>...</td>\n",
       "      <td>...</td>\n",
       "      <td>...</td>\n",
       "    </tr>\n",
       "    <tr>\n",
       "      <th>2534333</th>\n",
       "      <td>1.0</td>\n",
       "      <td>100.000000</td>\n",
       "      <td>NaN</td>\n",
       "      <td>1.0</td>\n",
       "      <td>1.0</td>\n",
       "    </tr>\n",
       "    <tr>\n",
       "      <th>2534334</th>\n",
       "      <td>1.0</td>\n",
       "      <td>100.000000</td>\n",
       "      <td>NaN</td>\n",
       "      <td>1.0</td>\n",
       "      <td>1.0</td>\n",
       "    </tr>\n",
       "    <tr>\n",
       "      <th>2534335</th>\n",
       "      <td>1.0</td>\n",
       "      <td>200.000000</td>\n",
       "      <td>0.000000</td>\n",
       "      <td>2.0</td>\n",
       "      <td>1.0</td>\n",
       "    </tr>\n",
       "    <tr>\n",
       "      <th>2534339</th>\n",
       "      <td>1.0</td>\n",
       "      <td>100.000000</td>\n",
       "      <td>NaN</td>\n",
       "      <td>1.0</td>\n",
       "      <td>1.0</td>\n",
       "    </tr>\n",
       "    <tr>\n",
       "      <th>2534340</th>\n",
       "      <td>1.0</td>\n",
       "      <td>100.000000</td>\n",
       "      <td>NaN</td>\n",
       "      <td>1.0</td>\n",
       "      <td>1.0</td>\n",
       "    </tr>\n",
       "  </tbody>\n",
       "</table>\n",
       "<p>32346 rows × 5 columns</p>\n",
       "</div>"
      ],
      "text/plain": [
       "          Tenure    UsagePct   AvgGapLen  TotalStays  TotalEpisodes\n",
       "ClientId                                                           \n",
       "9544      1544.0   95.531088    1.028494      1475.0            1.0\n",
       "9548      2688.0    4.910714   20.404580       132.0            6.0\n",
       "9558      3959.0  104.420308    0.876361      4134.0            2.0\n",
       "9561      3123.0    0.576369  183.588235        18.0           13.0\n",
       "9566         1.0  100.000000         NaN         1.0            1.0\n",
       "...          ...         ...         ...         ...            ...\n",
       "2534333      1.0  100.000000         NaN         1.0            1.0\n",
       "2534334      1.0  100.000000         NaN         1.0            1.0\n",
       "2534335      1.0  200.000000    0.000000         2.0            1.0\n",
       "2534339      1.0  100.000000         NaN         1.0            1.0\n",
       "2534340      1.0  100.000000         NaN         1.0            1.0\n",
       "\n",
       "[32346 rows x 5 columns]"
      ]
     },
     "execution_count": 18,
     "metadata": {},
     "output_type": "execute_result"
    }
   ],
   "source": [
    "accs"
   ]
  },
  {
   "cell_type": "code",
   "execution_count": 19,
   "metadata": {},
   "outputs": [],
   "source": [
    "def summarize_shelter_access(acs):\n",
    "    \n",
    "    longFields = { 'TotalStays': 'Total Stays', 'TotalEpisodes': 'Total Episodes', 'Tenure': 'Tenure (days)', \n",
    "                  'UsagePct': 'Usage Percentage', 'AvgGapLen': 'Average Gap Length (days)' }\n",
    "\n",
    "    fields = [ 'TotalStays', 'TotalEpisodes', 'Tenure', 'UsagePct', 'AvgGapLen' ]\n",
    "    for field in fields:\n",
    "        print('%s:' % (field))\n",
    "        nEntry = sum(~np.isnan(acs[field]))                \n",
    "        print(' Avg: {:.1f}, Med: {:.1f}, 10thPct: {:.1f}, 90thPct: {:.1f}' \n",
    "              .format(acs[field].mean(),acs[field].median(),\n",
    "                    acs[field].sort_values().iloc[int(nEntry*0.1)],\n",
    "                    acs[field].sort_values().iloc[int(nEntry*0.9)]))\n",
    "        \n",
    "        \n",
    "    print()\n",
    "    for field in fields:\n",
    "        nEntry = sum(~np.isnan(acs[field]))                \n",
    "        print('{} & {:.1f} & {:.1f} & {:.1f} & {:.1f}\\\\\\\\' \n",
    "              .format(longFields[field],acs[field].mean(),acs[field].median(),\n",
    "                    acs[field].sort_values().iloc[int(nEntry*0.1)],\n",
    "                    acs[field].sort_values().iloc[int(nEntry*0.9)]))"
   ]
  },
  {
   "cell_type": "code",
   "execution_count": 20,
   "metadata": {},
   "outputs": [],
   "source": [
    "chrClientIds = list( tteChr.loc[tteChr.Flag == 'chr'].index )\n",
    "nonChrClientIds = list( tteChr.loc[~(tteChr.Flag == 'chr')].index )"
   ]
  },
  {
   "cell_type": "code",
   "execution_count": 21,
   "metadata": {},
   "outputs": [
    {
     "name": "stdout",
     "output_type": "stream",
     "text": [
      "TotalStays:\n",
      " Avg: 963.6, Med: 671.0, 10thPct: 277.0, 90thPct: 2140.0\n",
      "TotalEpisodes:\n",
      " Avg: 6.9, Med: 5.0, 10thPct: 1.0, 90thPct: 15.0\n",
      "Tenure:\n",
      " Avg: 2254.4, Med: 2237.0, 10thPct: 612.0, 90thPct: 3960.0\n",
      "UsagePct:\n",
      " Avg: 48.1, Med: 40.9, 10thPct: 15.3, 90thPct: 93.4\n",
      "AvgGapLen:\n",
      " Avg: 3.2, Med: 2.4, 10thPct: 1.0, 90thPct: 6.5\n",
      "\n",
      "Total Stays & 963.6 & 671.0 & 277.0 & 2140.0\\\\\n",
      "Total Episodes & 6.9 & 5.0 & 1.0 & 15.0\\\\\n",
      "Tenure (days) & 2254.4 & 2237.0 & 612.0 & 3960.0\\\\\n",
      "Usage Percentage & 48.1 & 40.9 & 15.3 & 93.4\\\\\n",
      "Average Gap Length (days) & 3.2 & 2.4 & 1.0 & 6.5\\\\\n"
     ]
    }
   ],
   "source": [
    "summarize_shelter_access(accs.loc[chrClientIds])"
   ]
  },
  {
   "cell_type": "code",
   "execution_count": 22,
   "metadata": {},
   "outputs": [
    {
     "name": "stdout",
     "output_type": "stream",
     "text": [
      "TotalStays:\n",
      " Avg: 34.6, Med: 5.0, 10thPct: 1.0, 90thPct: 108.0\n",
      "TotalEpisodes:\n",
      " Avg: 3.3, Med: 2.0, 10thPct: 1.0, 90thPct: 8.0\n",
      "Tenure:\n",
      " Avg: 766.1, Med: 162.0, 10thPct: 1.0, 90thPct: 2590.0\n",
      "UsagePct:\n",
      " Avg: 46.6, Med: 13.7, 10thPct: 0.4, 90thPct: 100.0\n",
      "AvgGapLen:\n",
      " Avg: 164.9, Med: 20.0, 10thPct: 1.0, 90thPct: 430.3\n",
      "\n",
      "Total Stays & 34.6 & 5.0 & 1.0 & 108.0\\\\\n",
      "Total Episodes & 3.3 & 2.0 & 1.0 & 8.0\\\\\n",
      "Tenure (days) & 766.1 & 162.0 & 1.0 & 2590.0\\\\\n",
      "Usage Percentage & 46.6 & 13.7 & 0.4 & 100.0\\\\\n",
      "Average Gap Length (days) & 164.9 & 20.0 & 1.0 & 430.3\\\\\n"
     ]
    }
   ],
   "source": [
    "summarize_shelter_access(accs.loc[nonChrClientIds])"
   ]
  },
  {
   "cell_type": "code",
   "execution_count": null,
   "metadata": {},
   "outputs": [],
   "source": []
  },
  {
   "cell_type": "markdown",
   "metadata": {},
   "source": [
    "## Generate Start of Stay Windowed Data"
   ]
  },
  {
   "cell_type": "code",
   "execution_count": 78,
   "metadata": {},
   "outputs": [],
   "source": [
    "winColumns = [ 'EntrySleep', 'EntryConsl', 'EntryLog', 'EntryBar',\n",
    "               'Addiction', 'Bar', 'PhysicalHealth', 'MentalHealth', 'Violence',\n",
    "               'PoliceJustice', 'Conflict', 'EMS', 'Supports',\n",
    "               'Overdose' ]\n",
    "fixedColumns = [ 'Age' ]\n",
    "absentThrsh = 30 # days absent to be no longer active\n",
    "\n",
    "\n",
    "def review_client_window(tbl,winSzDays,tte):\n",
    "\n",
    "    clientId = tbl.iloc[0].ClientId\n",
    "\n",
    "    startDate = tbl.Date.min()\n",
    "\n",
    "    # The client is evaluated on the first meeting date where they have been in shelter at\n",
    "    # least winSzDays.\n",
    "    evalDate = pd.to_datetime('{}{:02d}01'.format(startDate.year,startDate.month)) + pd.DateOffset(months=1)\n",
    "    while (evalDate-startDate).days < winSzDays:\n",
    "        evalDate += pd.DateOffset(months=1)\n",
    "                \n",
    "    # Resample so that muliple data entries in each category that occur on a particular day are counted only once.\n",
    "    smry = tbl.loc[tbl.Date <= evalDate].resample('D',on='Date').max()\n",
    "    \n",
    "    # Add up all the events that have occurred in our window.\n",
    "    smry = smry[ winColumns ].sum()\n",
    "    \n",
    "    # Number of days before the client is evaluated.\n",
    "    smry['EvalTime'] = (evalDate-startDate).days\n",
    "    \n",
    "    # Determine if the client is ever classified as chronic.\n",
    "    smry['Label'] = ( tte.loc[clientId].Flag == 'chr' )\n",
    "    \n",
    "    # Determine whether the client is active (has been seen <= absentThrsh days ago).\n",
    "    smry['Active'] = ( evalDate - tbl.loc[tbl.Date <= evalDate].Date.max() ).days <= absentThrsh \n",
    "    \n",
    "    # Add any static data that should not be summed up over the window (ie. age).\n",
    "    for fixedCol in fixedColumns:\n",
    "        smry[fixedCol] = tbl[fixedCol].iloc[0] \n",
    "    \n",
    "    return smry "
   ]
  },
  {
   "cell_type": "code",
   "execution_count": 84,
   "metadata": {},
   "outputs": [],
   "source": [
    "#review_client_window(tbl.loc[tbl.ClientId == 9544,:],30,tteChr)\n",
    "#review_client_window(tbl.loc[tbl.ClientId == 20132,:],120,tteChr)\n",
    "#SummarizeClient(tbl.loc[tbl.ClientId == 20132,:],30,tteChr)\n",
    "#SummarizeClient(tbl.loc[tbl.ClientId == 9548,:],60,tteChr)"
   ]
  },
  {
   "cell_type": "code",
   "execution_count": 29,
   "metadata": {},
   "outputs": [],
   "source": [
    "@CacheResult\n",
    "def review_clients_window(tbl,winSzDays,tte):\n",
    "    return tbl.groupby('ClientId').progress_apply(review_client_window,winSzDays=winSzDays,tte=tte)"
   ]
  },
  {
   "cell_type": "code",
   "execution_count": null,
   "metadata": {},
   "outputs": [],
   "source": []
  },
  {
   "cell_type": "code",
   "execution_count": 30,
   "metadata": {},
   "outputs": [
    {
     "data": {
      "application/vnd.jupyter.widget-view+json": {
       "model_id": "2adfbd4d4bde4d018030ac1726beca11",
       "version_major": 2,
       "version_minor": 0
      },
      "text/plain": [
       "  0%|          | 0/32346 [00:00<?, ?it/s]"
      ]
     },
     "metadata": {},
     "output_type": "display_data"
    },
    {
     "data": {
      "application/vnd.jupyter.widget-view+json": {
       "model_id": "33e0e9b7bbe9449d986dae3307a2860c",
       "version_major": 2,
       "version_minor": 0
      },
      "text/plain": [
       "  0%|          | 0/32346 [00:00<?, ?it/s]"
      ]
     },
     "metadata": {},
     "output_type": "display_data"
    },
    {
     "data": {
      "application/vnd.jupyter.widget-view+json": {
       "model_id": "de5ace6bb9be4e7b8b26de8378c20883",
       "version_major": 2,
       "version_minor": 0
      },
      "text/plain": [
       "  0%|          | 0/32346 [00:00<?, ?it/s]"
      ]
     },
     "metadata": {},
     "output_type": "display_data"
    },
    {
     "data": {
      "application/vnd.jupyter.widget-view+json": {
       "model_id": "71bac59a507141c1a360eec26387a77e",
       "version_major": 2,
       "version_minor": 0
      },
      "text/plain": [
       "  0%|          | 0/32346 [00:00<?, ?it/s]"
      ]
     },
     "metadata": {},
     "output_type": "display_data"
    }
   ],
   "source": [
    "smry30 = review_clients_window(tbl,30,tteChr,path=cacheDirStr,filename='DiRules-ClientSummaryWindow.hd5')\n",
    "smry60 = review_clients_window(tbl,60,tteChr,path=cacheDirStr,filename='DiRules-ClientSummaryWindow.hd5')\n",
    "smry90 = review_clients_window(tbl,90,tteChr,path=cacheDirStr,filename='DiRules-ClientSummaryWindow.hd5')\n",
    "smry120 = review_clients_window(tbl,120,tteChr,path=cacheDirStr,filename='DiRules-ClientSummaryWindow.hd5')"
   ]
  },
  {
   "cell_type": "code",
   "execution_count": null,
   "metadata": {},
   "outputs": [],
   "source": []
  },
  {
   "cell_type": "code",
   "execution_count": 31,
   "metadata": {},
   "outputs": [],
   "source": [
    "hdfName = 'DiRules-EvaluationData.hd5'\n",
    "smry30.to_hdf(cacheDirStr+'/'+hdfName, key = 'Win30')\n",
    "smry60.to_hdf(cacheDirStr+'/'+hdfName, key = 'Win60')\n",
    "smry90.to_hdf(cacheDirStr+'/'+hdfName, key = 'Win90')\n",
    "smry120.to_hdf(cacheDirStr+'/'+hdfName, key = 'Win120')"
   ]
  },
  {
   "cell_type": "code",
   "execution_count": null,
   "metadata": {},
   "outputs": [],
   "source": [
    "smry30"
   ]
  },
  {
   "cell_type": "code",
   "execution_count": null,
   "metadata": {},
   "outputs": [],
   "source": []
  }
 ],
 "metadata": {
  "kernelspec": {
   "display_name": "Python 3 (ipykernel)",
   "language": "python",
   "name": "python3"
  },
  "language_info": {
   "codemirror_mode": {
    "name": "ipython",
    "version": 3
   },
   "file_extension": ".py",
   "mimetype": "text/x-python",
   "name": "python",
   "nbconvert_exporter": "python",
   "pygments_lexer": "ipython3",
   "version": "3.9.7"
  }
 },
 "nbformat": 4,
 "nbformat_minor": 4
}
