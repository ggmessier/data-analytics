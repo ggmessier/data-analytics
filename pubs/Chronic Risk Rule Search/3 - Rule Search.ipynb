{
 "cells": [
  {
   "cell_type": "markdown",
   "metadata": {
    "tags": []
   },
   "source": [
    "# Rule Search\n",
    "Rule search algorithms for identifying emergency shelter clients with the potential to become chronic shelter users."
   ]
  },
  {
   "cell_type": "markdown",
   "metadata": {},
   "source": [
    "    Copyright (C) 2022 Geoffrey Guy Messier\n",
    "\n",
    "    This program is free software: you can redistribute it and/or modify\n",
    "    it under the terms of the GNU General Public License as published by\n",
    "    the Free Software Foundation, either version 3 of the License, or\n",
    "    (at your option) any later version.\n",
    "\n",
    "    This program is distributed in the hope that it will be useful,\n",
    "    but WITHOUT ANY WARRANTY; without even the implied warranty of\n",
    "    MERCHANTABILITY or FITNESS FOR A PARTICULAR PURPOSE.  See the\n",
    "    GNU General Public License for more details.\n",
    "\n",
    "    You should have received a copy of the GNU General Public License\n",
    "    along with this program.  If not, see <https://www.gnu.org/licenses/>."
   ]
  },
  {
   "cell_type": "code",
   "execution_count": 1,
   "metadata": {},
   "outputs": [],
   "source": [
    "%load_ext autoreload\n",
    "%autoreload 1"
   ]
  },
  {
   "cell_type": "code",
   "execution_count": 2,
   "metadata": {},
   "outputs": [],
   "source": [
    "import numpy as np\n",
    "import pandas as pd\n",
    "import datetime, copy, imp\n",
    "import pickle\n",
    "import time\n",
    "import os\n",
    "import re\n",
    "import matplotlib.pyplot as plt\n",
    "from sklearn.model_selection import StratifiedKFold\n",
    "from importlib import reload\n",
    "from dask.distributed import Client\n",
    "\n",
    "from tqdm.auto import tqdm, trange\n",
    "from tqdm.notebook import tqdm\n",
    "tqdm.pandas()\n",
    "\n",
    "import sys\n",
    "sys.path.insert(0, '../util/')\n",
    "\n",
    "from data_cache import CacheResult\n",
    "import rules as rs"
   ]
  },
  {
   "cell_type": "code",
   "execution_count": null,
   "metadata": {},
   "outputs": [],
   "source": []
  },
  {
   "cell_type": "markdown",
   "metadata": {},
   "source": [
    "## Load Coverage Tables"
   ]
  },
  {
   "cell_type": "code",
   "execution_count": 6,
   "metadata": {},
   "outputs": [],
   "source": [
    "winSizes = [ 30, 60, 90, 120 ]\n",
    "\n",
    "covTblInfo = {}\n",
    "covTbl = {}\n",
    "labels = {}\n",
    "clientIds = {}\n",
    "idTimes = {}\n",
    "\n",
    "for win in winSizes:\n",
    "\n",
    "#    covFileStr = f'/hd2/data/di/plwh/cache/DiRules-CoverageTable-WinSz{win}.pkl'\n",
    "    covFileStr = f'/Users/gmessier/data/plwh/cache/DiRules-CoverageTable-WinSz{win}.pkl'\n",
    "\n",
    "    with open(covFileStr,'rb') as pklFile:\n",
    "        dat = pickle.load(pklFile)\n",
    "\n",
    "    covTblInfo[win] = rs.CoverageTableInfo(dat)\n",
    "    covTbl[win] = dat['CoverageTable']\n",
    "    labels[win] = dat['Labels']\n",
    "    clientIds[win] = dat['ClientIds']\n",
    "    idTimes[win] = dat['IdTimes']\n"
   ]
  },
  {
   "cell_type": "code",
   "execution_count": 7,
   "metadata": {},
   "outputs": [],
   "source": [
    "# Time to chronic event classification information.\n",
    "# - Used to determine the time to identification for chronic clients who are not identified by a rule.\n",
    "#tte = pd.read_hdf('/hd2/data/di/plwh/cache/DiRules-CdnFedChronicTte___.hd5')\n",
    "tte = pd.read_hdf('/Users/gmessier/data/plwh/cache/DiRules-CdnFedChronicTte___.hd5')"
   ]
  },
  {
   "cell_type": "code",
   "execution_count": 8,
   "metadata": {},
   "outputs": [],
   "source": [
    "searchAttrCore = [ 0, 3, 1 ]\n",
    "searchAttrExt = [ 0, 3, 1, 8, 13, 4 ]"
   ]
  },
  {
   "cell_type": "code",
   "execution_count": null,
   "metadata": {},
   "outputs": [],
   "source": []
  },
  {
   "cell_type": "markdown",
   "metadata": {},
   "source": [
    "## Determine Parameter Settings\n",
    "- Create cross-validation derived class to include identification time as a performance parameter."
   ]
  },
  {
   "cell_type": "code",
   "execution_count": 9,
   "metadata": {},
   "outputs": [],
   "source": [
    "class DiRuleSetCrossValidation(rs.RuleSetCrossValidation):\n",
    "    def __init__(self,nSplit,ruleQual,ruleSearch,maxSetSize,debug=False,client=None):\n",
    "        \n",
    "        super().__init__(nSplit,ruleQual,ruleSearch,maxSetSize,debug,client)\n",
    "        \n",
    "        \n",
    "    def cross_validate(self,covTblInfo,covTbl,labels,clientIds,idTimes,tte):\n",
    "                \n",
    "        skf = StratifiedKFold(n_splits=self.nSplit, random_state=None, shuffle=True)\n",
    "\n",
    "        covTblFtr = self.client.scatter(covTbl,broadcast=True)\n",
    "        labelsFtr = self.client.scatter(labels,broadcast=True)\n",
    "\n",
    "        futures = []\n",
    "        for trainIdx, testIdx in skf.split(covTbl,labels):\n",
    "\n",
    "            futures += [ \n",
    "                self.client.submit(\n",
    "                    rs.rule_set_search,\n",
    "                    self.ruleQual, self.ruleSearch,\n",
    "                    covTblInfo,covTblFtr,labelsFtr,\n",
    "                    idx=trainIdx, maxSetSize=self.maxSetSize) \n",
    "            ]\n",
    "\n",
    "        ruleSets = self.client.gather(futures)   \n",
    "\n",
    "        cnfMtx = np.zeros((2,2),dtype=int)\n",
    "        self.ruleQual.size_head(len(testIdx))\n",
    "        testIdTimes = []\n",
    "\n",
    "        for ruleSet in ruleSets:\n",
    "\n",
    "            cnfMtx += self.ruleQual.confusion_matrix(ruleSet,covTbl[testIdx],labels[testIdx])\n",
    "\n",
    "            # ID times for individuals who satisfy the rule set.\n",
    "            self.ruleQual.calc_head(ruleSet,covTbl[testIdx],labels[testIdx])\n",
    "            head = np.array(self.ruleQual.get_head(),dtype=bool)\n",
    "            testIdTimes += list( idTimes[testIdx][head] )\n",
    "            \n",
    "            # ID times for individuals who have to wait for the chronic definition.\n",
    "            negId = tte.loc[ clientIds[testIdx][~head] ]\n",
    "            testIdTimes += list( negId.loc[ negId.Flag == 'chr'].Time )\n",
    "            \n",
    "        return (cnfMtx,np.median(testIdTimes),np.mean(testIdTimes))"
   ]
  },
  {
   "cell_type": "code",
   "execution_count": 10,
   "metadata": {},
   "outputs": [],
   "source": [
    "def Evaluate(client, resStr, covTblInfo, covTbl, labels, clientIds, idTimes, tte, wSize, qualCalc, mxRuleLen, searchAttr, mxSetSize, nFolds):\n",
    "    \n",
    "    resStr += f' WinSize: {wSize}, MxRuleLen: {mxRuleLen}, MxSetSz: {mxSetSize}, NFolds: {nFolds}\\n'\n",
    "    resStr += f' Searched Attr: {searchAttr}\\n'\n",
    "\n",
    "    rSrch = rs.OpusRuleSearch(qualCalc, mxRuleLen)  \n",
    "    rSrch.set_search_attributes(searchAttr)\n",
    "\n",
    "    rsEval = DiRuleSetCrossValidation(nFolds, qualCalc, rSrch, mxSetSize, client=client)    \n",
    "\n",
    "    (cnf,medIdTime,meanIdTime) = rsEval.cross_validate(covTblInfo,covTbl,labels,clientIds,idTimes,tte)\n",
    "\n",
    "\n",
    "    resStr += qual.confusion_summary_str(cnf)\n",
    "    resStr += f'Median ID Time: {medIdTime}, Mean ID Time: {meanIdTime}'\n",
    "    \n",
    "    return resStr\n",
    "    "
   ]
  },
  {
   "cell_type": "code",
   "execution_count": 11,
   "metadata": {},
   "outputs": [],
   "source": [
    "# Dumps results to a file.\n",
    "resultFileStr = '../out/Results.txt'\n",
    "def DumpResultStr(resStr,fileStr):\n",
    "    f = open(fileStr,'a')\n",
    "    f.write('----------------------------------------\\n')\n",
    "    f.write(resStr)\n",
    "    f.write('\\n')\n",
    "    f.close()    "
   ]
  },
  {
   "cell_type": "code",
   "execution_count": 12,
   "metadata": {},
   "outputs": [
    {
     "data": {
      "text/html": [
       "<div>\n",
       "    <div style=\"width: 24px; height: 24px; background-color: #e1e1e1; border: 3px solid #9D9D9D; border-radius: 5px; position: absolute;\"> </div>\n",
       "    <div style=\"margin-left: 48px;\">\n",
       "        <h3 style=\"margin-bottom: 0px;\">Client</h3>\n",
       "        <p style=\"color: #9D9D9D; margin-bottom: 0px;\">Client-ebc51e58-9e55-11ec-9493-1e806011b882</p>\n",
       "        <table style=\"width: 100%; text-align: left;\">\n",
       "\n",
       "        <tr>\n",
       "        \n",
       "            <td style=\"text-align: left;\"><strong>Connection method:</strong> Direct</td>\n",
       "            <td style=\"text-align: left;\"></td>\n",
       "        \n",
       "        </tr>\n",
       "\n",
       "        \n",
       "            <tr>\n",
       "                <td style=\"text-align: left;\">\n",
       "                    <strong>Dashboard: </strong> <a href=\"http://127.0.0.1:8787/status\" target=\"_blank\">http://127.0.0.1:8787/status</a>\n",
       "                </td>\n",
       "                <td style=\"text-align: left;\"></td>\n",
       "            </tr>\n",
       "        \n",
       "\n",
       "        </table>\n",
       "\n",
       "        \n",
       "            <details>\n",
       "            <summary style=\"margin-bottom: 20px;\"><h3 style=\"display: inline;\">Scheduler Info</h3></summary>\n",
       "            <div style=\"\">\n",
       "    <div>\n",
       "        <div style=\"width: 24px; height: 24px; background-color: #FFF7E5; border: 3px solid #FF6132; border-radius: 5px; position: absolute;\"> </div>\n",
       "        <div style=\"margin-left: 48px;\">\n",
       "            <h3 style=\"margin-bottom: 0px;\">Scheduler</h3>\n",
       "            <p style=\"color: #9D9D9D; margin-bottom: 0px;\">Scheduler-bf10feff-65cb-4b03-b56c-ea0a33beaacc</p>\n",
       "            <table style=\"width: 100%; text-align: left;\">\n",
       "                <tr>\n",
       "                    <td style=\"text-align: left;\">\n",
       "                        <strong>Comm:</strong> tcp://127.0.0.1:53547\n",
       "                    </td>\n",
       "                    <td style=\"text-align: left;\">\n",
       "                        <strong>Workers:</strong> 4\n",
       "                    </td>\n",
       "                </tr>\n",
       "                <tr>\n",
       "                    <td style=\"text-align: left;\">\n",
       "                        <strong>Dashboard:</strong> <a href=\"http://127.0.0.1:8787/status\" target=\"_blank\">http://127.0.0.1:8787/status</a>\n",
       "                    </td>\n",
       "                    <td style=\"text-align: left;\">\n",
       "                        <strong>Total threads:</strong> 8\n",
       "                    </td>\n",
       "                </tr>\n",
       "                <tr>\n",
       "                    <td style=\"text-align: left;\">\n",
       "                        <strong>Started:</strong> Just now\n",
       "                    </td>\n",
       "                    <td style=\"text-align: left;\">\n",
       "                        <strong>Total memory:</strong> 16.00 GiB\n",
       "                    </td>\n",
       "                </tr>\n",
       "            </table>\n",
       "        </div>\n",
       "    </div>\n",
       "\n",
       "    <details style=\"margin-left: 48px;\">\n",
       "        <summary style=\"margin-bottom: 20px;\">\n",
       "            <h3 style=\"display: inline;\">Workers</h3>\n",
       "        </summary>\n",
       "\n",
       "        \n",
       "        <div style=\"margin-bottom: 20px;\">\n",
       "            <div style=\"width: 24px; height: 24px; background-color: #DBF5FF; border: 3px solid #4CC9FF; border-radius: 5px; position: absolute;\"> </div>\n",
       "            <div style=\"margin-left: 48px;\">\n",
       "            <details>\n",
       "                <summary>\n",
       "                    <h4 style=\"margin-bottom: 0px; display: inline;\">Worker: 0</h4>\n",
       "                </summary>\n",
       "                <table style=\"width: 100%; text-align: left;\">\n",
       "                    <tr>\n",
       "                        <td style=\"text-align: left;\">\n",
       "                            <strong>Comm: </strong> tcp://127.0.0.1:53562\n",
       "                        </td>\n",
       "                        <td style=\"text-align: left;\">\n",
       "                            <strong>Total threads: </strong> 2\n",
       "                        </td>\n",
       "                    </tr>\n",
       "                    <tr>\n",
       "                        <td style=\"text-align: left;\">\n",
       "                            <strong>Dashboard: </strong> <a href=\"http://127.0.0.1:53569/status\" target=\"_blank\">http://127.0.0.1:53569/status</a>\n",
       "                        </td>\n",
       "                        <td style=\"text-align: left;\">\n",
       "                            <strong>Memory: </strong> 4.00 GiB\n",
       "                        </td>\n",
       "                    </tr>\n",
       "                    <tr>\n",
       "                        <td style=\"text-align: left;\">\n",
       "                            <strong>Nanny: </strong> tcp://127.0.0.1:53553\n",
       "                        </td>\n",
       "                        <td style=\"text-align: left;\"></td>\n",
       "                    </tr>\n",
       "                    <tr>\n",
       "                        <td colspan=\"2\" style=\"text-align: left;\">\n",
       "                            <strong>Local directory: </strong> /Users/gmessier/dask-worker-space/worker-kcrvkput\n",
       "                        </td>\n",
       "                    </tr>\n",
       "\n",
       "                    \n",
       "\n",
       "                    \n",
       "                    <tr>\n",
       "                        <td style=\"text-align: left;\">\n",
       "                            <strong>Tasks executing: </strong> 0\n",
       "                        </td>\n",
       "                        <td style=\"text-align: left;\">\n",
       "                            <strong>Tasks in memory: </strong> 0\n",
       "                        </td>\n",
       "                    </tr>\n",
       "                    <tr>\n",
       "                        <td style=\"text-align: left;\">\n",
       "                            <strong>Tasks ready: </strong> 0\n",
       "                        </td>\n",
       "                        <td style=\"text-align: left;\">\n",
       "                            <strong>Tasks in flight: </strong>0\n",
       "                        </td>\n",
       "                    </tr>\n",
       "                    <tr>\n",
       "                        <td style=\"text-align: left;\">\n",
       "                            <strong>CPU usage:</strong> 0.1%\n",
       "                        </td>\n",
       "                        <td style=\"text-align: left;\">\n",
       "                            <strong>Last seen: </strong> Just now\n",
       "                        </td>\n",
       "                    </tr>\n",
       "                    <tr>\n",
       "                        <td style=\"text-align: left;\">\n",
       "                            <strong>Memory usage: </strong> 109.12 MiB\n",
       "                        </td>\n",
       "                        <td style=\"text-align: left;\">\n",
       "                            <strong>Spilled bytes: </strong> 0 B\n",
       "                        </td>\n",
       "                    </tr>\n",
       "                    <tr>\n",
       "                        <td style=\"text-align: left;\">\n",
       "                            <strong>Read bytes: </strong> 14.00 kiB\n",
       "                        </td>\n",
       "                        <td style=\"text-align: left;\">\n",
       "                            <strong>Write bytes: </strong> 14.00 kiB\n",
       "                        </td>\n",
       "                    </tr>\n",
       "                    \n",
       "\n",
       "                </table>\n",
       "            </details>\n",
       "            </div>\n",
       "        </div>\n",
       "        \n",
       "        <div style=\"margin-bottom: 20px;\">\n",
       "            <div style=\"width: 24px; height: 24px; background-color: #DBF5FF; border: 3px solid #4CC9FF; border-radius: 5px; position: absolute;\"> </div>\n",
       "            <div style=\"margin-left: 48px;\">\n",
       "            <details>\n",
       "                <summary>\n",
       "                    <h4 style=\"margin-bottom: 0px; display: inline;\">Worker: 1</h4>\n",
       "                </summary>\n",
       "                <table style=\"width: 100%; text-align: left;\">\n",
       "                    <tr>\n",
       "                        <td style=\"text-align: left;\">\n",
       "                            <strong>Comm: </strong> tcp://127.0.0.1:53563\n",
       "                        </td>\n",
       "                        <td style=\"text-align: left;\">\n",
       "                            <strong>Total threads: </strong> 2\n",
       "                        </td>\n",
       "                    </tr>\n",
       "                    <tr>\n",
       "                        <td style=\"text-align: left;\">\n",
       "                            <strong>Dashboard: </strong> <a href=\"http://127.0.0.1:53568/status\" target=\"_blank\">http://127.0.0.1:53568/status</a>\n",
       "                        </td>\n",
       "                        <td style=\"text-align: left;\">\n",
       "                            <strong>Memory: </strong> 4.00 GiB\n",
       "                        </td>\n",
       "                    </tr>\n",
       "                    <tr>\n",
       "                        <td style=\"text-align: left;\">\n",
       "                            <strong>Nanny: </strong> tcp://127.0.0.1:53550\n",
       "                        </td>\n",
       "                        <td style=\"text-align: left;\"></td>\n",
       "                    </tr>\n",
       "                    <tr>\n",
       "                        <td colspan=\"2\" style=\"text-align: left;\">\n",
       "                            <strong>Local directory: </strong> /Users/gmessier/dask-worker-space/worker-bhygzh2r\n",
       "                        </td>\n",
       "                    </tr>\n",
       "\n",
       "                    \n",
       "\n",
       "                    \n",
       "                    <tr>\n",
       "                        <td style=\"text-align: left;\">\n",
       "                            <strong>Tasks executing: </strong> 0\n",
       "                        </td>\n",
       "                        <td style=\"text-align: left;\">\n",
       "                            <strong>Tasks in memory: </strong> 0\n",
       "                        </td>\n",
       "                    </tr>\n",
       "                    <tr>\n",
       "                        <td style=\"text-align: left;\">\n",
       "                            <strong>Tasks ready: </strong> 0\n",
       "                        </td>\n",
       "                        <td style=\"text-align: left;\">\n",
       "                            <strong>Tasks in flight: </strong>0\n",
       "                        </td>\n",
       "                    </tr>\n",
       "                    <tr>\n",
       "                        <td style=\"text-align: left;\">\n",
       "                            <strong>CPU usage:</strong> 0.1%\n",
       "                        </td>\n",
       "                        <td style=\"text-align: left;\">\n",
       "                            <strong>Last seen: </strong> Just now\n",
       "                        </td>\n",
       "                    </tr>\n",
       "                    <tr>\n",
       "                        <td style=\"text-align: left;\">\n",
       "                            <strong>Memory usage: </strong> 110.12 MiB\n",
       "                        </td>\n",
       "                        <td style=\"text-align: left;\">\n",
       "                            <strong>Spilled bytes: </strong> 0 B\n",
       "                        </td>\n",
       "                    </tr>\n",
       "                    <tr>\n",
       "                        <td style=\"text-align: left;\">\n",
       "                            <strong>Read bytes: </strong> 14.02 kiB\n",
       "                        </td>\n",
       "                        <td style=\"text-align: left;\">\n",
       "                            <strong>Write bytes: </strong> 14.02 kiB\n",
       "                        </td>\n",
       "                    </tr>\n",
       "                    \n",
       "\n",
       "                </table>\n",
       "            </details>\n",
       "            </div>\n",
       "        </div>\n",
       "        \n",
       "        <div style=\"margin-bottom: 20px;\">\n",
       "            <div style=\"width: 24px; height: 24px; background-color: #DBF5FF; border: 3px solid #4CC9FF; border-radius: 5px; position: absolute;\"> </div>\n",
       "            <div style=\"margin-left: 48px;\">\n",
       "            <details>\n",
       "                <summary>\n",
       "                    <h4 style=\"margin-bottom: 0px; display: inline;\">Worker: 2</h4>\n",
       "                </summary>\n",
       "                <table style=\"width: 100%; text-align: left;\">\n",
       "                    <tr>\n",
       "                        <td style=\"text-align: left;\">\n",
       "                            <strong>Comm: </strong> tcp://127.0.0.1:53564\n",
       "                        </td>\n",
       "                        <td style=\"text-align: left;\">\n",
       "                            <strong>Total threads: </strong> 2\n",
       "                        </td>\n",
       "                    </tr>\n",
       "                    <tr>\n",
       "                        <td style=\"text-align: left;\">\n",
       "                            <strong>Dashboard: </strong> <a href=\"http://127.0.0.1:53566/status\" target=\"_blank\">http://127.0.0.1:53566/status</a>\n",
       "                        </td>\n",
       "                        <td style=\"text-align: left;\">\n",
       "                            <strong>Memory: </strong> 4.00 GiB\n",
       "                        </td>\n",
       "                    </tr>\n",
       "                    <tr>\n",
       "                        <td style=\"text-align: left;\">\n",
       "                            <strong>Nanny: </strong> tcp://127.0.0.1:53551\n",
       "                        </td>\n",
       "                        <td style=\"text-align: left;\"></td>\n",
       "                    </tr>\n",
       "                    <tr>\n",
       "                        <td colspan=\"2\" style=\"text-align: left;\">\n",
       "                            <strong>Local directory: </strong> /Users/gmessier/dask-worker-space/worker-rqlx3tj6\n",
       "                        </td>\n",
       "                    </tr>\n",
       "\n",
       "                    \n",
       "\n",
       "                    \n",
       "                    <tr>\n",
       "                        <td style=\"text-align: left;\">\n",
       "                            <strong>Tasks executing: </strong> 0\n",
       "                        </td>\n",
       "                        <td style=\"text-align: left;\">\n",
       "                            <strong>Tasks in memory: </strong> 0\n",
       "                        </td>\n",
       "                    </tr>\n",
       "                    <tr>\n",
       "                        <td style=\"text-align: left;\">\n",
       "                            <strong>Tasks ready: </strong> 0\n",
       "                        </td>\n",
       "                        <td style=\"text-align: left;\">\n",
       "                            <strong>Tasks in flight: </strong>0\n",
       "                        </td>\n",
       "                    </tr>\n",
       "                    <tr>\n",
       "                        <td style=\"text-align: left;\">\n",
       "                            <strong>CPU usage:</strong> 0.1%\n",
       "                        </td>\n",
       "                        <td style=\"text-align: left;\">\n",
       "                            <strong>Last seen: </strong> Just now\n",
       "                        </td>\n",
       "                    </tr>\n",
       "                    <tr>\n",
       "                        <td style=\"text-align: left;\">\n",
       "                            <strong>Memory usage: </strong> 108.17 MiB\n",
       "                        </td>\n",
       "                        <td style=\"text-align: left;\">\n",
       "                            <strong>Spilled bytes: </strong> 0 B\n",
       "                        </td>\n",
       "                    </tr>\n",
       "                    <tr>\n",
       "                        <td style=\"text-align: left;\">\n",
       "                            <strong>Read bytes: </strong> 12.01 kiB\n",
       "                        </td>\n",
       "                        <td style=\"text-align: left;\">\n",
       "                            <strong>Write bytes: </strong> 12.01 kiB\n",
       "                        </td>\n",
       "                    </tr>\n",
       "                    \n",
       "\n",
       "                </table>\n",
       "            </details>\n",
       "            </div>\n",
       "        </div>\n",
       "        \n",
       "        <div style=\"margin-bottom: 20px;\">\n",
       "            <div style=\"width: 24px; height: 24px; background-color: #DBF5FF; border: 3px solid #4CC9FF; border-radius: 5px; position: absolute;\"> </div>\n",
       "            <div style=\"margin-left: 48px;\">\n",
       "            <details>\n",
       "                <summary>\n",
       "                    <h4 style=\"margin-bottom: 0px; display: inline;\">Worker: 3</h4>\n",
       "                </summary>\n",
       "                <table style=\"width: 100%; text-align: left;\">\n",
       "                    <tr>\n",
       "                        <td style=\"text-align: left;\">\n",
       "                            <strong>Comm: </strong> tcp://127.0.0.1:53565\n",
       "                        </td>\n",
       "                        <td style=\"text-align: left;\">\n",
       "                            <strong>Total threads: </strong> 2\n",
       "                        </td>\n",
       "                    </tr>\n",
       "                    <tr>\n",
       "                        <td style=\"text-align: left;\">\n",
       "                            <strong>Dashboard: </strong> <a href=\"http://127.0.0.1:53567/status\" target=\"_blank\">http://127.0.0.1:53567/status</a>\n",
       "                        </td>\n",
       "                        <td style=\"text-align: left;\">\n",
       "                            <strong>Memory: </strong> 4.00 GiB\n",
       "                        </td>\n",
       "                    </tr>\n",
       "                    <tr>\n",
       "                        <td style=\"text-align: left;\">\n",
       "                            <strong>Nanny: </strong> tcp://127.0.0.1:53552\n",
       "                        </td>\n",
       "                        <td style=\"text-align: left;\"></td>\n",
       "                    </tr>\n",
       "                    <tr>\n",
       "                        <td colspan=\"2\" style=\"text-align: left;\">\n",
       "                            <strong>Local directory: </strong> /Users/gmessier/dask-worker-space/worker-d_gkx_0y\n",
       "                        </td>\n",
       "                    </tr>\n",
       "\n",
       "                    \n",
       "\n",
       "                    \n",
       "                    <tr>\n",
       "                        <td style=\"text-align: left;\">\n",
       "                            <strong>Tasks executing: </strong> 0\n",
       "                        </td>\n",
       "                        <td style=\"text-align: left;\">\n",
       "                            <strong>Tasks in memory: </strong> 0\n",
       "                        </td>\n",
       "                    </tr>\n",
       "                    <tr>\n",
       "                        <td style=\"text-align: left;\">\n",
       "                            <strong>Tasks ready: </strong> 0\n",
       "                        </td>\n",
       "                        <td style=\"text-align: left;\">\n",
       "                            <strong>Tasks in flight: </strong>0\n",
       "                        </td>\n",
       "                    </tr>\n",
       "                    <tr>\n",
       "                        <td style=\"text-align: left;\">\n",
       "                            <strong>CPU usage:</strong> 0.1%\n",
       "                        </td>\n",
       "                        <td style=\"text-align: left;\">\n",
       "                            <strong>Last seen: </strong> Just now\n",
       "                        </td>\n",
       "                    </tr>\n",
       "                    <tr>\n",
       "                        <td style=\"text-align: left;\">\n",
       "                            <strong>Memory usage: </strong> 112.42 MiB\n",
       "                        </td>\n",
       "                        <td style=\"text-align: left;\">\n",
       "                            <strong>Spilled bytes: </strong> 0 B\n",
       "                        </td>\n",
       "                    </tr>\n",
       "                    <tr>\n",
       "                        <td style=\"text-align: left;\">\n",
       "                            <strong>Read bytes: </strong> 11.99 kiB\n",
       "                        </td>\n",
       "                        <td style=\"text-align: left;\">\n",
       "                            <strong>Write bytes: </strong> 11.99 kiB\n",
       "                        </td>\n",
       "                    </tr>\n",
       "                    \n",
       "\n",
       "                </table>\n",
       "            </details>\n",
       "            </div>\n",
       "        </div>\n",
       "        \n",
       "\n",
       "    </details>\n",
       "</div>\n",
       "            </details>\n",
       "        \n",
       "\n",
       "    </div>\n",
       "</div>"
      ],
      "text/plain": [
       "<Client: 'tcp://127.0.0.1:53547' processes=4 threads=8, memory=16.00 GiB>"
      ]
     },
     "execution_count": 12,
     "metadata": {},
     "output_type": "execute_result"
    }
   ],
   "source": [
    "from dask.distributed import Client\n",
    "\n",
    "client = Client(\"tcp://127.0.0.1:53547\")\n",
    "client"
   ]
  },
  {
   "cell_type": "code",
   "execution_count": 13,
   "metadata": {},
   "outputs": [],
   "source": [
    "_ = client.upload_file('../util/rules.py')\n"
   ]
  },
  {
   "cell_type": "code",
   "execution_count": 14,
   "metadata": {},
   "outputs": [
    {
     "name": "stdout",
     "output_type": "stream",
     "text": [
      "Precision: 0.4395\n",
      "Recall: 0.5214\n",
      "Confusion:\n",
      " True Pos: 1289/2472\n",
      " False Neg: 1183/2472\n",
      " False Pos: 1644/9696\n",
      " True Neg: 8052/9696\n",
      "\n",
      "Median ID Time: 54.0, Mean ID Time: 251.81073858114675\n"
     ]
    }
   ],
   "source": [
    "qual = rs.RuleQualFScore(covTblInfo[30].FtrStrs,betaSq=0.01)\n",
    "rSrch = rs.OpusRuleSearch(ruleQuality=qual, maxRuleLen=1)\n",
    "rsEval = DiRuleSetCrossValidation(8, qual, rSrch, maxSetSize=2, client=client)\n",
    "\n",
    "(cnf,medIdTime,meanIdTime) = rsEval.cross_validate(covTblInfo[30],covTbl[30],labels[30],clientIds[30],idTimes[30],tte)\n",
    "\n",
    "print(qual.confusion_summary_str(cnf))\n",
    "print(f'Median ID Time: {medIdTime}, Mean ID Time: {meanIdTime}')\n",
    "\n"
   ]
  },
  {
   "cell_type": "markdown",
   "metadata": {},
   "source": [
    "## Determine Best Metric"
   ]
  },
  {
   "cell_type": "code",
   "execution_count": 15,
   "metadata": {},
   "outputs": [
    {
     "name": "stdout",
     "output_type": "stream",
     "text": [
      "Default ID Time: 297.0 (median), 631.7966154810405 (mean)\n"
     ]
    }
   ],
   "source": [
    "# ID times using only the chronic definition (worst case benchmark values).?\n",
    "chrDefIdTime = tte.loc[tte.Flag=='chr'].Time\n",
    "mxMedIdTime = chrDefIdTime.median()\n",
    "mxMnIdTime = chrDefIdTime.mean()\n",
    "print(f'Default ID Time: {mxMedIdTime} (median), {mxMnIdTime} (mean)')"
   ]
  },
  {
   "cell_type": "markdown",
   "metadata": {},
   "source": [
    "Evaluate the following setting combinations (notes included based on results).\n",
    "\n",
    "- [ ] Determine beta with long rules and extended features.\n",
    "  + $\\beta^2$ = 0.25 gives 0.73 recall and 0.57 precision.  Cuts ID time in half with 90 day data.\n",
    "- [ ] Compare extended features to core.\n",
    "  + Going to fewer features degraded the selectivity of the rules.  Adjusted $\\beta^2$ to 0.1 to get similar performance.\n",
    "- [ ] Compare short and long rules.\n",
    "  + Reducing set size to 1 degraded sensitivity of the rules.  Chagned $\\beta^2$ to 1 to get 0.71 recall and 0.62 precision.\n",
    "- [ ] Determine best time scale.\n",
    "  + Going to 60 days with identical settings seemed to perform pretty much the same!\n",
    "  + Some degradation seen in sensitivity and selectivity going to 30 days so 60 seems like the setting to beat."
   ]
  },
  {
   "cell_type": "code",
   "execution_count": 13,
   "metadata": {},
   "outputs": [],
   "source": [
    "nFolds = 10"
   ]
  },
  {
   "cell_type": "markdown",
   "metadata": {},
   "source": [
    "#### Beta Value"
   ]
  },
  {
   "cell_type": "code",
   "execution_count": 20,
   "metadata": {},
   "outputs": [
    {
     "name": "stdout",
     "output_type": "stream",
     "text": [
      "FScore (betaSq = 0.25)\n",
      " WinSize: 90, MxRuleLen: 3, MxSetSz: 2, NFolds: 10\n",
      " Searched Attr: [0, 3, 1, 8, 13, 4]\n",
      "Precision: 0.6254\n",
      "Recall: 0.6793\n",
      "Confusion:\n",
      " True Pos: 1576/2320\n",
      " False Neg: 744/2320\n",
      " False Pos: 944/5120\n",
      " True Neg: 4176/5120\n",
      "Median ID Time: 106.0, Mean ID Time: 284.98713235294116\n",
      "FScore (betaSq = 0.50)\n",
      " WinSize: 90, MxRuleLen: 3, MxSetSz: 2, NFolds: 10\n",
      " Searched Attr: [0, 3, 1, 8, 13, 4]\n",
      "Precision: 0.5236\n",
      "Recall: 0.7978\n",
      "Confusion:\n",
      " True Pos: 1851/2320\n",
      " False Neg: 469/2320\n",
      " False Pos: 1684/5120\n",
      " True Neg: 3436/5120\n",
      "Median ID Time: 104.0, Mean ID Time: 205.21478521478522\n",
      "FScore (betaSq = 1.00)\n",
      " WinSize: 90, MxRuleLen: 3, MxSetSz: 2, NFolds: 10\n",
      " Searched Attr: [0, 3, 1, 8, 13, 4]\n",
      "Precision: 0.5273\n",
      "Recall: 0.8569\n",
      "Confusion:\n",
      " True Pos: 1988/2320\n",
      " False Neg: 332/2320\n",
      " False Pos: 1782/5120\n",
      " True Neg: 3338/5120\n",
      "Median ID Time: 104.0, Mean ID Time: 157.52169673330084\n",
      "CPU times: user 5.83 s, sys: 813 ms, total: 6.64 s\n",
      "Wall time: 2h 14min 50s\n"
     ]
    }
   ],
   "source": [
    "%%time\n",
    "wSize = 90\n",
    "mxRuleLen = 3\n",
    "mxSetSize = 2\n",
    "searchAttr = searchAttrExt\n",
    "resultFileStr = '../out/Beta.txt'\n",
    "betaSqs = [ 0.25, 0.5, 1.0 ]\n",
    "\n",
    "for betaSq in betaSqs:\n",
    "\n",
    "    qual = rs.RuleQualFScore(covTblInfo[wSize].FtrStrs,betaSq)\n",
    "    resStr = 'FScore (betaSq = {:.2f})\\n'.format(betaSq)\n",
    "    resStr = Evaluate(client,resStr, covTblInfo[wSize], covTbl[wSize], labels[wSize], \n",
    "                      clientIds[wSize], idTimes[wSize], tte, wSize, qual,\n",
    "                      mxRuleLen, searchAttr, mxSetSize, nFolds)\n",
    "\n",
    "    print(resStr)\n",
    "    DumpResultStr(resStr,resultFileStr)"
   ]
  },
  {
   "cell_type": "markdown",
   "metadata": {},
   "source": [
    "#### Rule Simplification"
   ]
  },
  {
   "cell_type": "code",
   "execution_count": 71,
   "metadata": {},
   "outputs": [],
   "source": [
    "wSize = 90\n",
    "searchAttr = searchAttrCore\n",
    "resultFileStr = '../out/Simplification.txt'\n",
    "betaSq = 0.25\n",
    "\n",
    "qual = rs.RuleQualFScore(covTblInfo[wSize].FtrStrs,betaSq)"
   ]
  },
  {
   "cell_type": "code",
   "execution_count": 72,
   "metadata": {},
   "outputs": [
    {
     "name": "stdout",
     "output_type": "stream",
     "text": [
      "FScore (betaSq = 0.25)\n",
      " WinSize: 90, MxRuleLen: 3, MxSetSz: 2, NFolds: 10\n",
      " Searched Attr: [0, 3, 1]\n",
      "Precision: 0.6260\n",
      "Recall: 0.6832\n",
      "Confusion:\n",
      " True Pos: 1585/2320\n",
      " False Neg: 735/2320\n",
      " False Pos: 947/5120\n",
      " True Neg: 4173/5120\n",
      "Median ID Time: 106.0, Mean ID Time: 239.5977961432507\n",
      "CPU times: user 1.03 s, sys: 147 ms, total: 1.18 s\n",
      "Wall time: 20min 58s\n"
     ]
    }
   ],
   "source": [
    "%%time\n",
    "mxRuleLen = 3\n",
    "mxSetSize = 2\n",
    "\n",
    "resStr = 'FScore (betaSq = {:.2f})\\n'.format(betaSq)\n",
    "resStr = Evaluate(client,resStr, covTblInfo[wSize], covTbl[wSize], labels[wSize], \n",
    "                  clientIds[wSize], idTimes[wSize], tte, wSize, qual,\n",
    "                  mxRuleLen, searchAttr, mxSetSize, nFolds)\n",
    "\n",
    "print(resStr)\n",
    "DumpResultStr(resStr,resultFileStr)"
   ]
  },
  {
   "cell_type": "code",
   "execution_count": 73,
   "metadata": {},
   "outputs": [
    {
     "name": "stdout",
     "output_type": "stream",
     "text": [
      "FScore (betaSq = 0.25)\n",
      " WinSize: 90, MxRuleLen: 3, MxSetSz: 1, NFolds: 10\n",
      " Searched Attr: [0, 3, 1]\n",
      "Precision: 0.7565\n",
      "Recall: 0.5034\n",
      "Confusion:\n",
      " True Pos: 1168/2320\n",
      " False Neg: 1152/2320\n",
      " False Pos: 376/5120\n",
      " True Neg: 4744/5120\n",
      "Median ID Time: 115.0, Mean ID Time: 337.12462908011867\n",
      "CPU times: user 543 ms, sys: 55.2 ms, total: 599 ms\n",
      "Wall time: 8min 31s\n"
     ]
    }
   ],
   "source": [
    "%%time\n",
    "mxRuleLen = 3\n",
    "mxSetSize = 1\n",
    "\n",
    "resStr = 'FScore (betaSq = {:.2f})\\n'.format(betaSq)\n",
    "resStr = Evaluate(client,resStr, covTblInfo[wSize], covTbl[wSize], labels[wSize], \n",
    "                  clientIds[wSize], idTimes[wSize], tte, wSize, qual,\n",
    "                  mxRuleLen, searchAttr, mxSetSize, nFolds)\n",
    "\n",
    "print(resStr)\n",
    "DumpResultStr(resStr,resultFileStr)"
   ]
  },
  {
   "cell_type": "code",
   "execution_count": 74,
   "metadata": {},
   "outputs": [
    {
     "name": "stdout",
     "output_type": "stream",
     "text": [
      "FScore (betaSq = 0.25)\n",
      " WinSize: 90, MxRuleLen: 2, MxSetSz: 1, NFolds: 10\n",
      " Searched Attr: [0, 3, 1]\n",
      "Precision: 0.7427\n",
      "Recall: 0.5336\n",
      "Confusion:\n",
      " True Pos: 1238/2320\n",
      " False Neg: 1082/2320\n",
      " False Pos: 429/5120\n",
      " True Neg: 4691/5120\n",
      "Median ID Time: 115.0, Mean ID Time: 319.4419789014187\n",
      "CPU times: user 152 ms, sys: 22.4 ms, total: 175 ms\n",
      "Wall time: 20.2 s\n"
     ]
    }
   ],
   "source": [
    "%%time\n",
    "mxRuleLen = 2\n",
    "mxSetSize = 1\n",
    "\n",
    "resStr = 'FScore (betaSq = {:.2f})\\n'.format(betaSq)\n",
    "resStr = Evaluate(client,resStr, covTblInfo[wSize], covTbl[wSize], labels[wSize], \n",
    "                  clientIds[wSize], idTimes[wSize], tte, wSize, qual,\n",
    "                  mxRuleLen, searchAttr, mxSetSize, nFolds)\n",
    "\n",
    "print(resStr)\n",
    "DumpResultStr(resStr,resultFileStr)"
   ]
  },
  {
   "cell_type": "markdown",
   "metadata": {},
   "source": [
    "#### Window Sizes"
   ]
  },
  {
   "cell_type": "code",
   "execution_count": 18,
   "metadata": {},
   "outputs": [],
   "source": [
    "mxRuleLen = 2\n",
    "mxSetSize = 1\n",
    "betaSq = 0.25\n",
    "#searchAttr = searchAttrCore\n",
    "searchAttr = [ 0 ]\n",
    "resultFileStr = '../out/WinSizeSleepOnly.txt'"
   ]
  },
  {
   "cell_type": "code",
   "execution_count": 19,
   "metadata": {},
   "outputs": [
    {
     "name": "stdout",
     "output_type": "stream",
     "text": [
      "FScore (betaSq = 0.25)\n",
      " WinSize: 30, MxRuleLen: 2, MxSetSz: 1, NFolds: 10\n",
      " Searched Attr: [0]\n",
      "Precision: 0.4780\n",
      "Recall: 0.5846\n",
      "Confusion:\n",
      " True Pos: 1444/2470\n",
      " False Neg: 1026/2470\n",
      " False Pos: 1577/9700\n",
      " True Neg: 8123/9700\n",
      "Median ID Time: 52.0, Mean ID Time: 179.5670867309118\n",
      "CPU times: user 188 ms, sys: 11.9 ms, total: 199 ms\n",
      "Wall time: 4.63 s\n"
     ]
    }
   ],
   "source": [
    "%%time\n",
    "wSize = 30\n",
    "\n",
    "qual = rs.RuleQualFScore(covTblInfo[wSize].FtrStrs,betaSq)\n",
    "resStr = 'FScore (betaSq = {:.2f})\\n'.format(betaSq)\n",
    "resStr = Evaluate(client,resStr, covTblInfo[wSize], covTbl[wSize], labels[wSize], \n",
    "                  clientIds[wSize], idTimes[wSize], tte, wSize, qual,\n",
    "                  mxRuleLen, searchAttr, mxSetSize, nFolds)\n",
    "\n",
    "print(resStr)\n",
    "DumpResultStr(resStr,resultFileStr)"
   ]
  },
  {
   "cell_type": "code",
   "execution_count": 20,
   "metadata": {},
   "outputs": [
    {
     "name": "stdout",
     "output_type": "stream",
     "text": [
      "FScore (betaSq = 0.25)\n",
      " WinSize: 60, MxRuleLen: 2, MxSetSz: 1, NFolds: 10\n",
      " Searched Attr: [0]\n",
      "Precision: 0.5591\n",
      "Recall: 0.5077\n",
      "Confusion:\n",
      " True Pos: 1188/2340\n",
      " False Neg: 1152/2340\n",
      " False Pos: 937/6330\n",
      " True Neg: 5393/6330\n",
      "Median ID Time: 83.0, Mean ID Time: 308.8800732377174\n",
      "CPU times: user 167 ms, sys: 8.22 ms, total: 175 ms\n",
      "Wall time: 5.28 s\n"
     ]
    }
   ],
   "source": [
    "%%time\n",
    "wSize = 60\n",
    "\n",
    "qual = rs.RuleQualFScore(covTblInfo[wSize].FtrStrs,betaSq)\n",
    "resStr = 'FScore (betaSq = {:.2f})\\n'.format(betaSq)\n",
    "resStr = Evaluate(client,resStr, covTblInfo[wSize], covTbl[wSize], labels[wSize], \n",
    "                  clientIds[wSize], idTimes[wSize], tte, wSize, qual,\n",
    "                  mxRuleLen, searchAttr, mxSetSize, nFolds)\n",
    "\n",
    "print(resStr)\n",
    "DumpResultStr(resStr,resultFileStr)"
   ]
  },
  {
   "cell_type": "code",
   "execution_count": 21,
   "metadata": {},
   "outputs": [
    {
     "name": "stdout",
     "output_type": "stream",
     "text": [
      "FScore (betaSq = 0.25)\n",
      " WinSize: 90, MxRuleLen: 2, MxSetSz: 1, NFolds: 10\n",
      " Searched Attr: [0]\n",
      "Precision: 0.7080\n",
      "Recall: 0.4974\n",
      "Confusion:\n",
      " True Pos: 1154/2320\n",
      " False Neg: 1166/2320\n",
      " False Pos: 476/5120\n",
      " True Neg: 4644/5120\n",
      "Median ID Time: 117.0, Mean ID Time: 357.2525035765379\n",
      "CPU times: user 166 ms, sys: 8.65 ms, total: 175 ms\n",
      "Wall time: 6.84 s\n"
     ]
    }
   ],
   "source": [
    "%%time\n",
    "wSize = 90\n",
    "\n",
    "qual = rs.RuleQualFScore(covTblInfo[wSize].FtrStrs,betaSq)\n",
    "resStr = 'FScore (betaSq = {:.2f})\\n'.format(betaSq)\n",
    "resStr = Evaluate(client,resStr, covTblInfo[wSize], covTbl[wSize], labels[wSize], \n",
    "                  clientIds[wSize], idTimes[wSize], tte, wSize, qual,\n",
    "                  mxRuleLen, searchAttr, mxSetSize, nFolds)\n",
    "\n",
    "print(resStr)\n",
    "DumpResultStr(resStr,resultFileStr)"
   ]
  },
  {
   "cell_type": "code",
   "execution_count": 22,
   "metadata": {},
   "outputs": [
    {
     "name": "stdout",
     "output_type": "stream",
     "text": [
      "FScore (betaSq = 0.25)\n",
      " WinSize: 120, MxRuleLen: 2, MxSetSz: 1, NFolds: 10\n",
      " Searched Attr: [0]\n",
      "Precision: 0.7961\n",
      "Recall: 0.5216\n",
      "Confusion:\n",
      " True Pos: 1210/2320\n",
      " False Neg: 1110/2320\n",
      " False Pos: 310/4330\n",
      " True Neg: 4020/4330\n",
      "Median ID Time: 145.0, Mean ID Time: 337.5809885931559\n",
      "CPU times: user 160 ms, sys: 12.2 ms, total: 173 ms\n",
      "Wall time: 7.71 s\n"
     ]
    }
   ],
   "source": [
    "%%time\n",
    "wSize = 120\n",
    "\n",
    "qual = rs.RuleQualFScore(covTblInfo[wSize].FtrStrs,betaSq)\n",
    "resStr = 'FScore (betaSq = {:.2f})\\n'.format(betaSq)\n",
    "resStr = Evaluate(client,resStr, covTblInfo[wSize], covTbl[wSize], labels[wSize], \n",
    "                  clientIds[wSize], idTimes[wSize], tte, wSize, qual,\n",
    "                  mxRuleLen, searchAttr, mxSetSize, nFolds)\n",
    "\n",
    "print(resStr)\n",
    "DumpResultStr(resStr,resultFileStr)"
   ]
  },
  {
   "cell_type": "markdown",
   "metadata": {},
   "source": [
    "#### Window Size Rules"
   ]
  },
  {
   "cell_type": "code",
   "execution_count": 14,
   "metadata": {},
   "outputs": [],
   "source": [
    "mxRuleLen = 2\n",
    "mxSetSize = 1\n",
    "betaSq = 0.25\n",
    "searchAttr = searchAttrCore"
   ]
  },
  {
   "cell_type": "code",
   "execution_count": 15,
   "metadata": {},
   "outputs": [
    {
     "name": "stdout",
     "output_type": "stream",
     "text": [
      "WinSz: 30, ['A0 >= 28' 'A3 < 0.5']\n"
     ]
    }
   ],
   "source": [
    "win = 30\n",
    "\n",
    "ruleQual = rs.RuleQualFScore(covTblInfo[win].FtrStrs,betaSq=betaSq)\n",
    "ruleSearch = rs.OpusRuleSearch(ruleQuality=ruleQual, maxRuleLen=mxRuleLen)\n",
    "ruleSearch.set_search_attributes(searchAttrCore)\n",
    "\n",
    "ruleSet = rs.rule_set_search(\n",
    "    ruleQual, ruleSearch,\n",
    "    covTblInfo[win],covTbl[win],labels[win],\n",
    "    idx=None, maxSetSize=mxSetSize\n",
    ") \n",
    "\n",
    "print('WinSz: {}, {}'.format(win,ruleQual.ruleset_str(ruleSet)))\n"
   ]
  },
  {
   "cell_type": "code",
   "execution_count": 16,
   "metadata": {},
   "outputs": [
    {
     "name": "stdout",
     "output_type": "stream",
     "text": [
      "WinSz: 60, ['A0 >= 54' 'A1 < 10.5']\n"
     ]
    }
   ],
   "source": [
    "win = 60\n",
    "\n",
    "ruleQual = rs.RuleQualFScore(covTblInfo[win].FtrStrs,betaSq=betaSq)\n",
    "ruleSearch = rs.OpusRuleSearch(ruleQuality=ruleQual, maxRuleLen=mxRuleLen)\n",
    "ruleSearch.set_search_attributes(searchAttrCore)\n",
    "\n",
    "ruleSet = rs.rule_set_search(\n",
    "    ruleQual, ruleSearch,\n",
    "    covTblInfo[win],covTbl[win],labels[win],\n",
    "    idx=None, maxSetSize=mxSetSize\n",
    ") \n",
    "\n",
    "print('WinSz: {}, {}'.format(win,ruleQual.ruleset_str(ruleSet)))\n"
   ]
  },
  {
   "cell_type": "code",
   "execution_count": 17,
   "metadata": {},
   "outputs": [
    {
     "name": "stdout",
     "output_type": "stream",
     "text": [
      "WinSz: 90, ['A0 >= 78' 'A3 < 3.5']\n"
     ]
    }
   ],
   "source": [
    "win = 90\n",
    "\n",
    "ruleQual = rs.RuleQualFScore(covTblInfo[win].FtrStrs,betaSq=betaSq)\n",
    "ruleSearch = rs.OpusRuleSearch(ruleQuality=ruleQual, maxRuleLen=mxRuleLen)\n",
    "ruleSearch.set_search_attributes(searchAttrCore)\n",
    "\n",
    "ruleSet = rs.rule_set_search(\n",
    "    ruleQual, ruleSearch,\n",
    "    covTblInfo[win],covTbl[win],labels[win],\n",
    "    idx=None, maxSetSize=mxSetSize\n",
    ") \n",
    "\n",
    "print('WinSz: {}, {}'.format(win,ruleQual.ruleset_str(ruleSet)))\n"
   ]
  },
  {
   "cell_type": "code",
   "execution_count": 18,
   "metadata": {},
   "outputs": [
    {
     "name": "stdout",
     "output_type": "stream",
     "text": [
      "WinSz: 120, ['A0 >= 99' 'A3 < 4.5']\n"
     ]
    }
   ],
   "source": [
    "win = 120\n",
    "\n",
    "ruleQual = rs.RuleQualFScore(covTblInfo[win].FtrStrs,betaSq=betaSq)\n",
    "ruleSearch = rs.OpusRuleSearch(ruleQuality=ruleQual, maxRuleLen=mxRuleLen)\n",
    "ruleSearch.set_search_attributes(searchAttrCore)\n",
    "\n",
    "ruleSet = rs.rule_set_search(\n",
    "    ruleQual, ruleSearch,\n",
    "    covTblInfo[win],covTbl[win],labels[win],\n",
    "    idx=None, maxSetSize=mxSetSize\n",
    ") \n",
    "\n",
    "print('WinSz: {}, {}'.format(win,ruleQual.ruleset_str(ruleSet)))\n"
   ]
  },
  {
   "cell_type": "code",
   "execution_count": null,
   "metadata": {},
   "outputs": [],
   "source": []
  },
  {
   "cell_type": "code",
   "execution_count": null,
   "metadata": {},
   "outputs": [],
   "source": []
  },
  {
   "cell_type": "code",
   "execution_count": null,
   "metadata": {},
   "outputs": [],
   "source": []
  }
 ],
 "metadata": {
  "kernelspec": {
   "display_name": "Python 3 (ipykernel)",
   "language": "python",
   "name": "python3"
  },
  "language_info": {
   "codemirror_mode": {
    "name": "ipython",
    "version": 3
   },
   "file_extension": ".py",
   "mimetype": "text/x-python",
   "name": "python",
   "nbconvert_exporter": "python",
   "pygments_lexer": "ipython3",
   "version": "3.9.7"
  }
 },
 "nbformat": 4,
 "nbformat_minor": 4
}
