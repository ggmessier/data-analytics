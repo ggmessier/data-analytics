{
 "cells": [
  {
   "cell_type": "code",
   "execution_count": null,
   "metadata": {},
   "outputs": [],
   "source": [
    "#  Homelessness Definitions.ipynb - Analyzes different tests for emergency shelter access.\n",
    "#     Copyright (C) 2020  Geoffrey G. Messier\n",
    "# \n",
    "#     This program is free software: you can redistribute it and/or modify\n",
    "#     it under the terms of the GNU General Public License as published by\n",
    "#     the Free Software Foundation, either version 3 of the License, or\n",
    "#     (at your option) any later version.\n",
    "# \n",
    "#     This program is distributed in the hope that it will be useful,\n",
    "#     but WITHOUT ANY WARRANTY; without even the implied warranty of\n",
    "#     MERCHANTABILITY or FITNESS FOR A PARTICULAR PURPOSE.  See the\n",
    "#     GNU General Public License for more details.\n",
    "# \n",
    "#     You should have received a copy of the GNU General Public License\n",
    "#     along with this program.  If not, see <http://www.gnu.org/licenses/>."
   ]
  },
  {
   "cell_type": "code",
   "execution_count": 1,
   "metadata": {},
   "outputs": [],
   "source": [
    "%matplotlib inline\n",
    "import numpy as np\n",
    "import pandas as pd\n",
    "import matplotlib.pyplot as plt\n",
    "import matplotlib.dates as mdates\n",
    "import scipy as sci\n",
    "import scipy.special as scisp\n",
    "import scipy.stats as scist\n",
    "import datetime, copy, imp, sys\n",
    "\n",
    "sys.path.append('../../lib')\n",
    "\n",
    "from tqdm import tqdm\n",
    "from mpl_toolkits.mplot3d import Axes3D\n",
    "import kmeans as km\n",
    "\n",
    "tqdm.pandas()\n",
    "plt.ion()"
   ]
  },
  {
   "cell_type": "markdown",
   "metadata": {},
   "source": [
    "### Pre-Process Data"
   ]
  },
  {
   "cell_type": "code",
   "execution_count": 2,
   "metadata": {},
   "outputs": [],
   "source": [
    "tblAll = pd.read_hdf('~/data/plwh/UniversityExportAnonymized.hd5')"
   ]
  },
  {
   "cell_type": "code",
   "execution_count": 3,
   "metadata": {},
   "outputs": [
    {
     "data": {
      "text/plain": [
       "Date        datetime64[ns]\n",
       "ClientId             int64\n",
       "dtype: object"
      ]
     },
     "execution_count": 3,
     "metadata": {},
     "output_type": "execute_result"
    }
   ],
   "source": [
    "tblAll = tblAll[tblAll.EntryType == 'Sleep'][ ['Date','ClientId'] ]\n",
    "tblAll.dtypes"
   ]
  },
  {
   "cell_type": "markdown",
   "metadata": {},
   "source": [
    "### Remove Censoring Bias\n",
    "- Discard all clients who register within a 2 year window of the start and end of the data."
   ]
  },
  {
   "cell_type": "code",
   "execution_count": 4,
   "metadata": {},
   "outputs": [
    {
     "name": "stderr",
     "output_type": "stream",
     "text": [
      "100%|██████████| 34577/34577 [00:13<00:00, 2580.95it/s]\n"
     ]
    }
   ],
   "source": [
    "# Registration date is the first date a client shows up in the data.\n",
    "def find_registration_date(tbl):\n",
    "    return min(tbl.Date)\n",
    "\n",
    "regDates = tblAll.groupby('ClientId').progress_apply(find_registration_date)"
   ]
  },
  {
   "cell_type": "code",
   "execution_count": 5,
   "metadata": {},
   "outputs": [
    {
     "name": "stdout",
     "output_type": "stream",
     "text": [
      "Original Clients: 34577, Valid Clients: 18346 (53.1%)\n"
     ]
    }
   ],
   "source": [
    "# These cutoff values remove left and right censoring bias, as disucssed in the paper.\n",
    "leftCutoff = pd.to_datetime('2009-07-01')\n",
    "rightCutoff = pd.to_datetime('2018-01-06')\n",
    "\n",
    "nClientsAll = len(regDates)\n",
    "validClientInd = (regDates >= leftCutoff) & (regDates <= rightCutoff)\n",
    "nClients = sum(validClientInd)\n",
    "\n",
    "print('Original Clients: %d, Valid Clients: %d (%.1f%%)' % (nClientsAll,nClients,100*nClients/nClientsAll))"
   ]
  },
  {
   "cell_type": "code",
   "execution_count": 6,
   "metadata": {},
   "outputs": [],
   "source": [
    "# Include only valid clients that meet the left/right censoring cutoff criteria.\n",
    "tbl = tblAll.loc[list(validClientInd[tblAll.ClientId])]"
   ]
  },
  {
   "cell_type": "markdown",
   "metadata": {},
   "source": [
    "### Identify Episodes and Stays"
   ]
  },
  {
   "cell_type": "code",
   "execution_count": 7,
   "metadata": {},
   "outputs": [
    {
     "name": "stderr",
     "output_type": "stream",
     "text": [
      "100%|██████████| 18346/18346 [00:34<00:00, 530.13it/s]\n"
     ]
    }
   ],
   "source": [
    "# Create a table where stays are sorted in chronological order for each client.\n",
    "def gen_stay_dates(tbl):\n",
    "    dates = tbl.Date.drop_duplicates().sort_values()\n",
    "    return pd.DataFrame({\n",
    "        'Date': dates,                 # Date of each stay.\n",
    "        'Ind': range(1,len(dates)+1)   # Index of each stay.\n",
    "    })\n",
    "        \n",
    "stays = tbl.groupby('ClientId').progress_apply(gen_stay_dates)    "
   ]
  },
  {
   "cell_type": "code",
   "execution_count": 8,
   "metadata": {},
   "outputs": [
    {
     "name": "stderr",
     "output_type": "stream",
     "text": [
      "100%|██████████| 18346/18346 [01:18<00:00, 233.78it/s]\n"
     ]
    }
   ],
   "source": [
    "# Create a table where episodes are sorted in chronological order for each client.\n",
    "episodeGap = 30  # The max gap in stays before a new episode is created.\n",
    "\n",
    "def gen_episode_dates(tbl):    \n",
    "    stayDates = tbl.Date.drop_duplicates().sort_values()\n",
    "    gapVals = stayDates.diff().astype('timedelta64[D]')\n",
    "    gapInd = (gapVals >= episodeGap).astype('int').cumsum().drop_duplicates(keep='first')\n",
    "    \n",
    "    return pd.DataFrame({\n",
    "        'Date': tbl.loc[gapInd.index].Date, # Date of first day of each episode.\n",
    "        'Ind': range(1,len(gapInd)+1)       # Episode index.\n",
    "    })\n",
    "    \n",
    "epis = tbl.groupby('ClientId').progress_apply(gen_episode_dates)"
   ]
  },
  {
   "cell_type": "code",
   "execution_count": null,
   "metadata": {},
   "outputs": [],
   "source": []
  },
  {
   "cell_type": "code",
   "execution_count": 9,
   "metadata": {},
   "outputs": [
    {
     "name": "stderr",
     "output_type": "stream",
     "text": [
      "100%|██████████| 18346/18346 [01:11<00:00, 256.04it/s]\n"
     ]
    }
   ],
   "source": [
    "# Determine the total number of stays and episodes for each client and store in seDat.\n",
    "clientInds = stays.index.get_level_values(0).drop_duplicates()\n",
    "seDat = pd.DataFrame({ \n",
    "    'nSty': [0]*nClients,   # Stores total stays.\n",
    "    'nEpi': [0]*nClients }, # Stores total episodes.\n",
    "    index=clientInds)\n",
    "for id in tqdm(clientInds):\n",
    "    seDat.loc[id,'nSty'] = stays.loc[id].Ind.max() # Number of stays is max stay index.\n",
    "    seDat.loc[id,'nEpi'] = epis.loc[id].Ind.max()  # Number of episodes is max episode index."
   ]
  },
  {
   "cell_type": "code",
   "execution_count": 10,
   "metadata": {},
   "outputs": [
    {
     "name": "stdout",
     "output_type": "stream",
     "text": [
      "New Clients per Month - Mean: 178.117, Median: 172\n"
     ]
    }
   ],
   "source": [
    "# Determine the number of new clients that register per month.\n",
    "regDates = list(tbl.groupby('ClientId').Date.min())  # List of first dates that each client appears.\n",
    "\n",
    "# Resample the dates to determine how many new registrants we have per month.\n",
    "monthlyReg = pd.DataFrame([1]*nClients,index=regDates).groupby(pd.Grouper(freq='M')).count()\n",
    "\n",
    "print('New Clients per Month - Mean: %g, Median: %g' % (monthlyReg.mean(),monthlyReg.median()))"
   ]
  },
  {
   "cell_type": "markdown",
   "metadata": {},
   "source": [
    "### Joint Distribution\n",
    "- This is a histogram that illustrates how many clients (shown by the vertical axis) have a particular number of shelter stays and episodes."
   ]
  },
  {
   "cell_type": "code",
   "execution_count": 11,
   "metadata": {},
   "outputs": [],
   "source": [
    "stayMax = 2000  # Max range of histogram.\n",
    "episodeMax = 20\n",
    "nS = np.arange(0,stayMax,200)  # Variables holding the bins for number of stays and episodes.\n",
    "nE = np.arange(0,episodeMax,2)\n",
    "H, xEdge, yEdge = np.histogram2d(seDat.nEpi,seDat.nSty,bins=(nE,nS))"
   ]
  },
  {
   "cell_type": "code",
   "execution_count": 12,
   "metadata": {},
   "outputs": [
    {
     "data": {
      "image/png": "[encoded data removed]",
      "text/plain": [
       "<Figure size 432x360 with 1 Axes>"
      ]
     },
     "metadata": {
      "needs_background": "light"
     },
     "output_type": "display_data"
    }
   ],
   "source": [
    "fig = plt.figure(figsize=(6,5))\n",
    "ax = fig.gca(projection='3d')\n",
    "x,y = np.meshgrid(xEdge[:-1],yEdge[:-1],indexing='ij')\n",
    "\n",
    "ax.plot_wireframe(x,y,H)\n",
    "ax.set_ylabel('Stays')\n",
    "ax.set_xlabel('Episodes')\n",
    "ax.set_zlabel('Client Count')\n",
    "ax.view_init(34,55)\n",
    "\n",
    "#plt.savefig('JointHist.eps')\n",
    "plt.show()"
   ]
  },
  {
   "cell_type": "markdown",
   "metadata": {},
   "source": [
    "### Perform Cluster Analysis"
   ]
  },
  {
   "cell_type": "code",
   "execution_count": 13,
   "metadata": {},
   "outputs": [
    {
     "data": {
      "text/html": [
       "<div>\n",
       "<style scoped>\n",
       "    .dataframe tbody tr th:only-of-type {\n",
       "        vertical-align: middle;\n",
       "    }\n",
       "\n",
       "    .dataframe tbody tr th {\n",
       "        vertical-align: top;\n",
       "    }\n",
       "\n",
       "    .dataframe thead th {\n",
       "        text-align: right;\n",
       "    }\n",
       "</style>\n",
       "<table border=\"1\" class=\"dataframe\">\n",
       "  <thead>\n",
       "    <tr style=\"text-align: right;\">\n",
       "      <th></th>\n",
       "      <th>i</th>\n",
       "      <th>j</th>\n",
       "      <th>pVal</th>\n",
       "    </tr>\n",
       "  </thead>\n",
       "  <tbody>\n",
       "    <tr>\n",
       "      <td>0</td>\n",
       "      <td>0</td>\n",
       "      <td>1</td>\n",
       "      <td>1.110223e-16</td>\n",
       "    </tr>\n",
       "    <tr>\n",
       "      <td>1</td>\n",
       "      <td>0</td>\n",
       "      <td>2</td>\n",
       "      <td>1.110223e-16</td>\n",
       "    </tr>\n",
       "    <tr>\n",
       "      <td>2</td>\n",
       "      <td>1</td>\n",
       "      <td>2</td>\n",
       "      <td>1.110223e-16</td>\n",
       "    </tr>\n",
       "  </tbody>\n",
       "</table>\n",
       "</div>"
      ],
      "text/plain": [
       "   i  j          pVal\n",
       "0  0  1  1.110223e-16\n",
       "1  0  2  1.110223e-16\n",
       "2  1  2  1.110223e-16"
      ]
     },
     "execution_count": 13,
     "metadata": {},
     "output_type": "execute_result"
    }
   ],
   "source": [
    "k = 3  # Established in previous work to yield the transitional, chronic and episodic clusters.\n",
    "\n",
    "cluster = km.KMeansCluster(k,seDat)\n",
    "(mus,clstrAsgn,pTable) = cluster.Solve(40,0.005)\n",
    "\n",
    "# The cluster indices representing chronic, episodic and transitional can change from run to\n",
    "# run due to how the cluster analysis is randomly initialized.  This code determines those indices.\n",
    "chrId = np.argmax(mus[:,0])  # Chronic clients have the highest number of stays.\n",
    "epiId = np.argmax(mus[:,1])  # Episodic clients have the highest number of episodes.\n",
    "tmpId = list( set([0,1,2]) - set([chrId,epiId]) )[0]  # Transitional clients are the group left over.\n",
    "styMuInd = 0\n",
    "epiMuInd = 1\n",
    "\n",
    "pTable"
   ]
  },
  {
   "cell_type": "code",
   "execution_count": 14,
   "metadata": {},
   "outputs": [
    {
     "name": "stdout",
     "output_type": "stream",
     "text": [
      "Trans (15623/18346, 85.2%) > AvgStays: 30.2765, AvgEpisodes: 1.81738, \n",
      "Epi   (2185/18346, 11.9%) > AvgStays: 166.947, AvgEpisodes: 9.19451, \n",
      "Chron (538/18346, 2.9%) > AvgStays: 1274.2, AvgEpisodes: 3.66357, \n",
      "Max stays for single episode transitional client:  665\n"
     ]
    }
   ],
   "source": [
    "# Calculate statistics on the three clusters to compare to previously published results.\n",
    "\n",
    "tmpN = sum(clstrAsgn == tmpId)  # Total number of clients in each group.\n",
    "chrN = sum(clstrAsgn == chrId)\n",
    "epiN = sum(clstrAsgn == epiId)\n",
    "\n",
    "print('Trans (%d/%d, %.1f%%) > AvgStays: %g, AvgEpisodes: %g, ' \n",
    "      % (tmpN,nClients,100*tmpN/nClients,mus[tmpId,styMuInd],mus[tmpId,epiMuInd]))\n",
    "print('Epi   (%d/%d, %.1f%%) > AvgStays: %g, AvgEpisodes: %g, ' \n",
    "      % (epiN,nClients,100*epiN/nClients,mus[epiId,styMuInd],mus[epiId,epiMuInd]))\n",
    "print('Chron (%d/%d, %.1f%%) > AvgStays: %g, AvgEpisodes: %g, ' \n",
    "      % (chrN,nClients,100*chrN/nClients,mus[chrId,styMuInd],mus[chrId,epiMuInd]))\n",
    "\n",
    "print('Max stays for single episode transitional client: ',\n",
    "      seDat[(clstrAsgn == tmpId) & (seDat.nEpi == 1)].nSty.max())"
   ]
  },
  {
   "cell_type": "code",
   "execution_count": 15,
   "metadata": {},
   "outputs": [
    {
     "data": {
      "image/png": "[encoded data removed]",
      "text/plain": [
       "<Figure size 432x288 with 1 Axes>"
      ]
     },
     "metadata": {
      "needs_background": "light"
     },
     "output_type": "display_data"
    }
   ],
   "source": [
    "%matplotlib inline\n",
    "fig = plt.figure()\n",
    "plt.plot(seDat[clstrAsgn==tmpId].nEpi,seDat[clstrAsgn==tmpId].nSty,color='#919191',marker='o',\n",
    "         ls='None',label='Transitional')\n",
    "plt.plot(seDat[clstrAsgn==chrId].nEpi,seDat[clstrAsgn==chrId].nSty,color='#474747',marker='o',\n",
    "         ls='None',label='Chronic')\n",
    "plt.plot(seDat[clstrAsgn==epiId].nEpi,seDat[clstrAsgn==epiId].nSty,color='#c7c7c7',marker='o',\n",
    "         ls='None',label='Episodic')\n",
    "plt.plot([ mus[tmpId,epiMuInd], mus[epiId,epiMuInd],mus[chrId,epiMuInd] ],\n",
    "         [ mus[tmpId,styMuInd], mus[epiId,styMuInd],mus[chrId,styMuInd] ],\n",
    "         'kD',markerfacecolor='white',markersize=12)\n",
    "plt.xlabel('Total Number of Episodes')\n",
    "plt.ylabel('Total Number of Stays')\n",
    "plt.legend()\n",
    "#plt.savefig('ClusterResults.eps')\n",
    "plt.show()"
   ]
  },
  {
   "cell_type": "markdown",
   "metadata": {},
   "source": [
    "### Support Routines\n",
    "- The same bits of code we're running over and over again."
   ]
  },
  {
   "cell_type": "code",
   "execution_count": 16,
   "metadata": {},
   "outputs": [],
   "source": [
    "# When combining two tests for classifying shelter stays (eg. an episode count test and a stay count test),\n",
    "# we use this function to choose between the two based on which one is satisfied earliest.\n",
    "def choose_earliest(one,two):\n",
    "    nRec = len(one.index)\n",
    "    \n",
    "    # Create a blank table where all clients are intially transient.  \n",
    "    tbl = pd.DataFrame({ 'Flag': ['tmp']*nRec, 'Date': [pd.NaT]*nRec, 'Time': [np.nan]*nRec },index=one.index)\n",
    "    \n",
    "    # All clients that are either just classified in 'one' or are classified first in 'one'.\n",
    "    isOne = (one.Flag!='tmp') & (two.Flag=='tmp') | ((one.Flag!='tmp') & (two.Flag!='tmp') & (one.Time<two.Time))\n",
    "    tbl[isOne] = one[isOne]\n",
    "    \n",
    "    # All clients are are either just classified in 'two' or are classified first in 'two'.\n",
    "    isTwo = (one.Flag=='tmp') & (two.Flag!='tmp') | ((one.Flag!='tmp') & (two.Flag!='tmp') & (one.Time>=two.Time))\n",
    "    tbl[isTwo] = two[isTwo]\n",
    "    \n",
    "    return tbl"
   ]
  },
  {
   "cell_type": "code",
   "execution_count": null,
   "metadata": {},
   "outputs": [],
   "source": []
  },
  {
   "cell_type": "code",
   "execution_count": 17,
   "metadata": {},
   "outputs": [],
   "source": [
    "# Checks for clients are are 'continually homeless' for a threshold number of days.\n",
    "# - We define this as having an episode of homelessness longer than the threshold.\n",
    "def continually_homeless(tbl,flagStr,reqDuration):\n",
    "\n",
    "    gapVals = tbl.Date.diff().astype('timedelta64[D]')  # Gaps are the difference between access dates.\n",
    "    \n",
    "    # Give each episode of shelter accesses a unique index number.\n",
    "    gapInd = (gapVals >= episodeGap).astype('int').cumsum() \n",
    "\n",
    "    for iGap in range(max(gapInd)+1):\n",
    "        startDate = tbl[gapInd==iGap].Date.min()\n",
    "        endDate = tbl[gapInd==iGap].Date.max()\n",
    "        curDuration = (endDate - startDate).days + 1\n",
    "\n",
    "        if curDuration > reqDuration:           \n",
    "            # Find first date the client's episode exceeded the threshold.\n",
    "            idDate = tbl[(tbl.Date - startDate).dt.days >= reqDuration].Date.min()\n",
    "            \n",
    "            epiStartDate = tbl[gapInd==iGap].Date.iloc[0]\n",
    "            overMaxStays = (tbl.Date - epiStartDate).dt.days >= reqDuration\n",
    "            \n",
    "            return pd.Series({\n",
    "                'Flag': flagStr,  # Flag indicating test was satisfied.\n",
    "                'Date': idDate,   # Date client satisfied the test.\n",
    "                'Time': (idDate - startDate).days  # How long it took to satisfy the test.\n",
    "            })            \n",
    "    \n",
    "    # Returned if client doesn't satisfy the test.\n",
    "    return pd.Series({\n",
    "        'Flag': 'tmp',\n",
    "        'Date': pd.NaT,\n",
    "        'Time': np.nan\n",
    "    })\n",
    "\n",
    "# Function test:\n",
    "#continually_homeless(stays.loc[21910],'cnt',365)  "
   ]
  },
  {
   "cell_type": "code",
   "execution_count": 18,
   "metadata": {},
   "outputs": [],
   "source": [
    "# Applies a non-windowed threshold test to a count of stays/episodes.\n",
    "def count_thresh(tbl,flagStr,thresh):\n",
    "\n",
    "    registrationDate = tbl.Date.min()\n",
    "    idDate = tbl[tbl.Ind >= thresh].Date.min()  # Will be equal to NaN if the threshold isn't met.\n",
    "\n",
    "    if idDate == idDate:   # Satisfied if idDate is not NaN.\n",
    "        return pd.Series({\n",
    "            'Flag': flagStr,  # Flag indicating test was satisfied.\n",
    "            'Date': idDate,   # Date client was identified.\n",
    "            'Time': (idDate - registrationDate).days  # Number of days it took to identify client.\n",
    "        })\n",
    "    else:\n",
    "        return pd.Series({   # Returned if the test is not satisfied.\n",
    "            'Flag': 'tmp',\n",
    "            'Date': pd.NaT,\n",
    "            'Time': np.nan\n",
    "        })\n",
    "\n",
    "# Function test:    \n",
    "#count_thresh(stays.loc[9621],'stay',3) \n",
    "#count_thresh(epis.loc[2498702],'epi',3) "
   ]
  },
  {
   "cell_type": "code",
   "execution_count": 19,
   "metadata": {},
   "outputs": [],
   "source": [
    "# Applies a time windowed threshold test to either a count of episodes or stays.\n",
    "def count_thresh_win(tbl,flagStr,thresh,winSz):\n",
    "    \n",
    "    # Apply a rolling time window of 'winSz' days on the count of episodes/stays.\n",
    "    win = tbl.rolling('%dd' % winSz,on='Date').count().Ind\n",
    "    \n",
    "    registrationDate = tbl.Date.min()\n",
    "    idDate = tbl[win >= thresh].Date.min()  # Will be equal to NaN if the threshold isn't met.\n",
    "    \n",
    "    if idDate == idDate:   # Satisfied if idDate is not NaN.\n",
    "        return pd.Series({\n",
    "            'Flag': flagStr,  # Flag indicating test was satisfied.\n",
    "            'Date': idDate,   # Date client was identified.\n",
    "            'Time': (idDate - registrationDate).days  # Number of days it took to identify client.\n",
    "        })\n",
    "    else:\n",
    "        return pd.Series({   # Returned if the test is not satisfied.\n",
    "            'Flag': 'tmp',\n",
    "            'Date': pd.NaT,\n",
    "            'Time': np.nan\n",
    "        })\n",
    "\n",
    "# Function test:\n",
    "#count_thresh_win(epis.loc[2498702],'epi',3,200) "
   ]
  },
  {
   "cell_type": "code",
   "execution_count": 20,
   "metadata": {},
   "outputs": [],
   "source": [
    "# Determines the number of shelter stays and days of shelter interaction saved if a client\n",
    "# identified as chronic or episodic is placed in a house the day they're identified.\n",
    "def intervention_impact(\n",
    "    testList,  # Client list after being processed by a shelter stay test.\n",
    "    stays      # Stay table produced by gen_stay_dates().\n",
    "    ):   \n",
    "    \n",
    "    staysSaved = 0\n",
    "    daysSaved = 0\n",
    "    \n",
    "    # Loop through all clients that are not transitional.\n",
    "    for clientId in testList[testList.Flag != 'tmp'].index:\n",
    "        \n",
    "        # Find the stays that occur after the client is identified\n",
    "        saved = stays.loc[clientId][stays.loc[clientId].Date >= testList.loc[clientId].Date] \n",
    "        \n",
    "        staysSaved += saved.Ind.count()-1\n",
    "        daysSaved += (saved.Date.iloc[-1]-testList.loc[clientId].Date).days\n",
    "    \n",
    "    nClientsIdentified = sum(testList.Flag != 'tmp')\n",
    "    return { 'Stays': staysSaved/nClientsIdentified, 'Days': daysSaved/nClientsIdentified }\n",
    "\n",
    "# Function test\n",
    "#intervention_impact(sty180L365,stays)"
   ]
  },
  {
   "cell_type": "code",
   "execution_count": 21,
   "metadata": {},
   "outputs": [
    {
     "name": "stderr",
     "output_type": "stream",
     "text": [
      "100%|██████████| 18346/18346 [00:30<00:00, 595.32it/s]\n"
     ]
    }
   ],
   "source": [
    "# Calculates shelter access summary statistics for each client.\n",
    "def summarize_client_access(tbl):\n",
    "    \n",
    "    tenure = (tbl.Date.max() - tbl.Date.min()).days + 1\n",
    "    gapVals = tbl.Date.diff().astype('timedelta64[D]')\n",
    "    nStays = tbl.Ind.max()\n",
    "    \n",
    "    return pd.Series({\n",
    "        'Tenure': tenure,  # Total span of days a client interacts with shelter.\n",
    "        'UsagePct': 100.0*nStays/tenure,  # Percentage of days during tenure client stayed in shelter.\n",
    "        'AvgGapLen': gapVals.mean(),  # Average length of gaps in shelter stays.\n",
    "        'TotalStays': nStays,  # Total number of shelter stays.\n",
    "        'TotalEpisodes': sum(gapVals >= episodeGap)+1  # Total number of episodes.\n",
    "    })\n",
    "\n",
    "# Function test:\n",
    "#summarize_client_access(stays.loc[9570])\n",
    "\n",
    "# Determine access stats for all clients.\n",
    "access = stays.groupby('ClientId').progress_apply(summarize_client_access)"
   ]
  },
  {
   "cell_type": "code",
   "execution_count": 22,
   "metadata": {},
   "outputs": [],
   "source": [
    "# Helper function that prints out access statistics for a cohort of clients.\n",
    "def print_stats(tblStr,tbl,fields):\n",
    "    print('--- %s ---' % (tblStr))\n",
    "    nEntry = len(tbl.index)\n",
    "    print( 'Clients in cohort: %d/%d (%.1f%%)' % (nEntry,nClients,100*nEntry/nClients))\n",
    "    print( 'Size of 10%% of cohort: %d/%d (%.1f%%)' % (nEntry*0.1,nClients,100*nEntry*0.1/nClients))\n",
    "    for field in fields:\n",
    "        print('%s:' % (field))\n",
    "        nEntry = sum(~np.isnan(tbl[field]))        \n",
    "        \n",
    "        print(' Avg: %.1f, Med: %.1f, 10thPct: %.1f, 90thPct: %.1f' \n",
    "              %(tbl[field].mean(),tbl[field].median(),\n",
    "                tbl[field].sort_values().iloc[int(nEntry*0.1)],\n",
    "                tbl[field].sort_values().iloc[int(nEntry*0.9)]))\n",
    "        \n",
    "        print('  %.1f & %.1f & %.1f' \n",
    "              %(tbl[field].mean(),tbl[field].median(),\n",
    "                tbl[field].sort_values().iloc[int(nEntry*0.9)]))\n",
    "        \n",
    "    print('')"
   ]
  },
  {
   "cell_type": "markdown",
   "metadata": {},
   "source": [
    "### Basic Definition Operations\n",
    "- Look at clients that exceed a lifetime count of stays and episodes (no windowing).\n",
    "- Choose whichever rule is satisfied first for the client.\n",
    "- The purpose of this section is to establish that counting episodes generally identifies episodic shelter clients while counting stays generally identifies chronic shelter clients."
   ]
  },
  {
   "cell_type": "code",
   "execution_count": 23,
   "metadata": {},
   "outputs": [],
   "source": [
    "sty180Linf = stays.groupby('ClientId').apply(count_thresh,flagStr='sty',thresh=180)"
   ]
  },
  {
   "cell_type": "code",
   "execution_count": 24,
   "metadata": {},
   "outputs": [],
   "source": [
    "epi4Linf = epis.groupby('ClientId').apply(count_thresh,flagStr='epi',thresh=4)"
   ]
  },
  {
   "cell_type": "code",
   "execution_count": 25,
   "metadata": {},
   "outputs": [],
   "source": [
    "defSmpl = choose_earliest(sty180Linf,epi4Linf)"
   ]
  },
  {
   "cell_type": "code",
   "execution_count": 60,
   "metadata": {},
   "outputs": [
    {
     "data": {
      "image/png": "[encoded data removed]",
      "text/plain": [
       "<Figure size 432x288 with 1 Axes>"
      ]
     },
     "metadata": {
      "needs_background": "light"
     },
     "output_type": "display_data"
    }
   ],
   "source": [
    "%matplotlib inline\n",
    "plt.plot(seDat[defSmpl.Flag=='sty'].nEpi,seDat[defSmpl.Flag=='sty'].nSty,\n",
    "         color='#c7c7c7',marker='o',ls='None',label='Stay Count Test')\n",
    "plt.plot(seDat[defSmpl.Flag=='epi'].nEpi,seDat[defSmpl.Flag=='epi'].nSty,\n",
    "         color='black',marker='+',ls='None',label='Episode Count Test')\n",
    "plt.xlabel('Total Number of Episodes')\n",
    "plt.ylabel('Total Number of Stays')\n",
    "plt.legend()\n",
    "#plt.savefig('BasicOps.eps')\n",
    "plt.show()"
   ]
  },
  {
   "cell_type": "markdown",
   "metadata": {},
   "source": [
    "### Lumping vs Separating Chronic & Episodic Clients\n",
    "- The purpose of this section is to create a plot that shows the Government of Alberta definition lumps episodic and chronic shelter clients into the same group."
   ]
  },
  {
   "cell_type": "markdown",
   "metadata": {},
   "source": [
    "#### Government of Alberta\n",
    "- Continually homeless for $K$ = 365 days or $N$ = 4 episodes of homelessness in $K$ = 365 days.\n",
    "- Continually homeless refers to the total length of a single episode rather than a sum of stays."
   ]
  },
  {
   "cell_type": "code",
   "execution_count": 27,
   "metadata": {},
   "outputs": [],
   "source": [
    "cntL365 = stays.groupby('ClientId').apply(continually_homeless,flagStr='cnt',reqDuration=365)"
   ]
  },
  {
   "cell_type": "code",
   "execution_count": 28,
   "metadata": {},
   "outputs": [],
   "source": [
    "epi4L365 = epis.groupby('ClientId').apply(count_thresh_win,flagStr='epi',thresh=4,winSz=365)"
   ]
  },
  {
   "cell_type": "code",
   "execution_count": 29,
   "metadata": {},
   "outputs": [],
   "source": [
    "defGoa = choose_earliest(cntL365,epi4L365)"
   ]
  },
  {
   "cell_type": "code",
   "execution_count": 62,
   "metadata": {},
   "outputs": [
    {
     "data": {
      "image/png": "[encoded data removed]",
      "text/plain": [
       "<Figure size 432x288 with 1 Axes>"
      ]
     },
     "metadata": {
      "needs_background": "light"
     },
     "output_type": "display_data"
    }
   ],
   "source": [
    "%matplotlib inline\n",
    "plt.plot(seDat[defGoa.Flag=='cnt'].nEpi,seDat[defGoa.Flag=='cnt'].nSty,\n",
    "         color='#c7c7c7',marker='o',ls='None',label='Continously Homeless Rule')\n",
    "plt.plot(seDat[defGoa.Flag=='epi'].nEpi,seDat[defGoa.Flag=='epi'].nSty,\n",
    "         color='black',marker='+',ls='None',label='Episode Count Rule')\n",
    "plt.xlabel('Total Number of Episodes')\n",
    "plt.ylabel('Total Number of Stays')\n",
    "plt.legend()\n",
    "#plt.savefig('GoaLump.eps')\n",
    "plt.show()"
   ]
  },
  {
   "cell_type": "markdown",
   "metadata": {},
   "source": [
    "### Evaluating Chronic Client Identification\n",
    "- This section evaluates a number of different tests for identifying chronic shelter users largely based on what is being used in different existing chronic homelessness definitions."
   ]
  },
  {
   "cell_type": "code",
   "execution_count": 31,
   "metadata": {},
   "outputs": [],
   "source": [
    "# Based on Government of Canada\n",
    "sty180L365 = stays.groupby('ClientId').apply(count_thresh_win,flagStr='sty',thresh=180,winSz=365)"
   ]
  },
  {
   "cell_type": "code",
   "execution_count": 32,
   "metadata": {},
   "outputs": [],
   "source": [
    "# Based on Calgary Drop-In Centre\n",
    "sty276L365 = stays.groupby('ClientId').apply(count_thresh_win,flagStr='sty',thresh=276,winSz=365)"
   ]
  },
  {
   "cell_type": "code",
   "execution_count": 33,
   "metadata": {},
   "outputs": [],
   "source": [
    "# Calgary Drop-In Centre without windowing as a simplification.\n",
    "sty276Linf = stays.groupby('ClientId').apply(count_thresh,flagStr='sty',thresh=276)"
   ]
  },
  {
   "cell_type": "code",
   "execution_count": 34,
   "metadata": {},
   "outputs": [
    {
     "name": "stdout",
     "output_type": "stream",
     "text": [
      "K=180,L=365: 1545/18346 (8.4%)\n",
      "K=276,L=365: 884/18346 (4.8%)\n",
      "K=276,L=inf: 1407/18346 (7.7%)\n",
      "365 Continuous: 1004/18346 (5.5%)\n"
     ]
    }
   ],
   "source": [
    "# Print the number of clients identified by each test.\n",
    "def print_coverage(tbl,labelStr):\n",
    "    print('%s: %d/%d (%.1f%%)' %\n",
    "          (labelStr,sum(tbl.Flag!='tmp'),len(tbl.index),100*sum(tbl.Flag!='tmp')/len(tbl.index)))\n",
    "      \n",
    "print_coverage(sty180L365,'K=180,L=365')\n",
    "print_coverage(sty276L365,'K=276,L=365')\n",
    "print_coverage(sty276Linf,'K=276,L=inf')\n",
    "print_coverage(cntL365,'365 Continuous')      "
   ]
  },
  {
   "cell_type": "code",
   "execution_count": 35,
   "metadata": {},
   "outputs": [
    {
     "name": "stdout",
     "output_type": "stream",
     "text": [
      "K=180,L=365 {'Stays': 499.04271844660195, 'Days': 1009.6576051779936}\n",
      "K=276,L=365 {'Stays': 624.0158371040724, 'Days': 1022.3755656108598}\n",
      "K=276,L=inf {'Stays': 487.64818763326224, 'Days': 971.5572139303482}\n",
      "365 Continuous {'Stays': 548.9442231075698, 'Days': 1018.7021912350598}\n"
     ]
    }
   ],
   "source": [
    "# Print the days and stays saved by each test.\n",
    "print('K=180,L=365',intervention_impact(sty180L365,stays))\n",
    "print('K=276,L=365',intervention_impact(sty276L365,stays))\n",
    "print('K=276,L=inf',intervention_impact(sty276Linf,stays))\n",
    "print('365 Continuous',intervention_impact(cntL365,stays))"
   ]
  },
  {
   "cell_type": "code",
   "execution_count": 36,
   "metadata": {},
   "outputs": [],
   "source": [
    "# Determine the number of clients identified per month by each test.\n",
    "# - This estimates how much of a new client load each test would place on a housing program.\n",
    "regSty180L365 = sty180L365[sty180L365.Flag != 'tmp'].groupby(pd.Grouper(key='Date',freq='M')).Flag.count()\n",
    "regSty276L365 = sty276L365[sty276L365.Flag != 'tmp'].groupby(pd.Grouper(key='Date',freq='M')).Flag.count()\n",
    "regSty276Linf = sty276Linf[sty276Linf.Flag != 'tmp'].groupby(pd.Grouper(key='Date',freq='M')).Flag.count()\n",
    "regCntL365 = cntL365[cntL365.Flag != 'tmp'].groupby(pd.Grouper(key='Date',freq='M')).Flag.count()"
   ]
  },
  {
   "cell_type": "code",
   "execution_count": 37,
   "metadata": {},
   "outputs": [
    {
     "name": "stdout",
     "output_type": "stream",
     "text": [
      "K=180,L=365 Load - Mean: 12.9832, Median: 13\n",
      "K=276,L=365 Load - Mean: 7.68696, Median: 7\n",
      "K=276,L=inf Load - Mean: 12.2348, Median: 12\n",
      "365 Continuous Load - Mean: 8.88496, Median: 9\n"
     ]
    }
   ],
   "source": [
    "print('K=180,L=365 Load - Mean: %g, Median: %g' % (regSty180L365.mean(),regSty180L365.median()))\n",
    "print('K=276,L=365 Load - Mean: %g, Median: %g' % (regSty276L365.mean(),regSty276L365.median()))\n",
    "print('K=276,L=inf Load - Mean: %g, Median: %g' % (regSty276Linf.mean(),regSty276Linf.median()))\n",
    "print('365 Continuous Load - Mean: %g, Median: %g' % (regCntL365.mean(),regCntL365.median()))"
   ]
  },
  {
   "cell_type": "code",
   "execution_count": null,
   "metadata": {},
   "outputs": [],
   "source": []
  },
  {
   "cell_type": "code",
   "execution_count": null,
   "metadata": {},
   "outputs": [],
   "source": []
  },
  {
   "cell_type": "markdown",
   "metadata": {},
   "source": [
    "### Evaluating Episodic Client Identification\n",
    "- Examine the clients identified by different tests for episodic shelter access.\n",
    "- The 4 episode shelter threshold is accepted in the literature and we explore 3 and 5 just to examine sensitivity to changing the threshold value."
   ]
  },
  {
   "cell_type": "code",
   "execution_count": 38,
   "metadata": {},
   "outputs": [],
   "source": [
    "epi4L365 = epis.groupby('ClientId').apply(count_thresh_win,flagStr='epi',thresh=4,winSz=365)"
   ]
  },
  {
   "cell_type": "code",
   "execution_count": 39,
   "metadata": {},
   "outputs": [],
   "source": [
    "epi3L365 = epis.groupby('ClientId').apply(count_thresh_win,flagStr='epi',thresh=3,winSz=365)"
   ]
  },
  {
   "cell_type": "code",
   "execution_count": 40,
   "metadata": {},
   "outputs": [],
   "source": [
    "epi5L365 = epis.groupby('ClientId').apply(count_thresh_win,flagStr='epi',thresh=5,winSz=365)"
   ]
  },
  {
   "cell_type": "code",
   "execution_count": 41,
   "metadata": {},
   "outputs": [],
   "source": [
    "epi4Linf = epis.groupby('ClientId').apply(count_thresh,flagStr='epi',thresh=4)"
   ]
  },
  {
   "cell_type": "code",
   "execution_count": 42,
   "metadata": {},
   "outputs": [],
   "source": [
    "# This Government of Canada test is the only one that uses stay counts to identify episodic clients.\n",
    "epiGoc = stays.groupby('ClientId').apply(count_thresh_win,flagStr='sty',thresh=546,winSz=1095)"
   ]
  },
  {
   "cell_type": "code",
   "execution_count": 66,
   "metadata": {},
   "outputs": [
    {
     "data": {
      "image/png": "[encoded data removed]",
      "text/plain": [
       "<Figure size 432x288 with 1 Axes>"
      ]
     },
     "metadata": {
      "needs_background": "light"
     },
     "output_type": "display_data"
    }
   ],
   "source": [
    "# The purpose of this plot is to demonstrate that the Government of Canada episodic client test mainly \n",
    "# still identifies clients with a chronic shelter access pattern.\n",
    "%matplotlib inline\n",
    "epiCnt = (epi4L365.Flag == 'epi')  \n",
    "plt.plot(seDat[epiGoc.Flag=='sty'].nEpi,seDat[epiGoc.Flag=='sty'].nSty,\n",
    "         color='#c7c7c7',marker='o',ls='None',label='Stay Count')\n",
    "plt.plot(seDat[epiCnt].nEpi,seDat[epiCnt].nSty,\n",
    "         color='black',marker='+',ls='None',label='Episode Count')\n",
    "plt.xlabel('Total Number of Episodes')\n",
    "plt.ylabel('Total Number of Stays')\n",
    "plt.legend()\n",
    "#plt.savefig('EpiStay.eps')\n",
    "plt.show()"
   ]
  },
  {
   "cell_type": "markdown",
   "metadata": {},
   "source": [
    "- Since the Government of Canada stay count test identifies mainly chronic clients, only the episode count tests are considered below.\n",
    "- The same coverage, days/stays saved and load calculations are performed for the episodic results that we used above for the chronic results."
   ]
  },
  {
   "cell_type": "code",
   "execution_count": 44,
   "metadata": {},
   "outputs": [
    {
     "name": "stdout",
     "output_type": "stream",
     "text": [
      "R=3,L=365: 3471/18346 (18.9%)\n",
      "R=4,L=365: 1580/18346 (8.6%)\n",
      "R=5,L=365: 617/18346 (3.4%)\n",
      "R=4,L=inf: 4109/18346 (22.4%)\n"
     ]
    }
   ],
   "source": [
    "print_coverage(epi3L365,'R=3,L=365')\n",
    "print_coverage(epi4L365,'R=4,L=365')\n",
    "print_coverage(epi5L365,'R=5,L=365')\n",
    "print_coverage(epi4Linf,'R=4,L=inf')"
   ]
  },
  {
   "cell_type": "code",
   "execution_count": 45,
   "metadata": {},
   "outputs": [
    {
     "name": "stdout",
     "output_type": "stream",
     "text": [
      "R=3,L=365 {'Stays': 99.10861423220973, 'Days': 874.3344857389801}\n",
      "R=4,L=365 {'Stays': 86.37468354430379, 'Days': 858.4050632911392}\n",
      "R=5,L=365 {'Stays': 91.82333873581848, 'Days': 908.066450567261}\n",
      "R=4,L=inf {'Stays': 89.52956923825748, 'Days': 745.83791676807}\n"
     ]
    }
   ],
   "source": [
    "print('R=3,L=365',intervention_impact(epi3L365,stays))\n",
    "print('R=4,L=365',intervention_impact(epi4L365,stays))\n",
    "print('R=5,L=365',intervention_impact(epi5L365,stays))\n",
    "print('R=4,L=inf',intervention_impact(epi4Linf,stays))"
   ]
  },
  {
   "cell_type": "code",
   "execution_count": 46,
   "metadata": {},
   "outputs": [],
   "source": [
    "regEpi3L365 = epi3L365[epi3L365.Flag != 'tmp'].groupby(pd.Grouper(key='Date',freq='M')).Flag.count()\n",
    "regEpi4L365 = epi4L365[epi4L365.Flag != 'tmp'].groupby(pd.Grouper(key='Date',freq='M')).Flag.count()\n",
    "regEpi5L365 = epi5L365[epi5L365.Flag != 'tmp'].groupby(pd.Grouper(key='Date',freq='M')).Flag.count()\n",
    "regEpi4Linf = epi4Linf[epi4Linf.Flag != 'tmp'].groupby(pd.Grouper(key='Date',freq='M')).Flag.count()"
   ]
  },
  {
   "cell_type": "code",
   "execution_count": 47,
   "metadata": {},
   "outputs": [
    {
     "name": "stdout",
     "output_type": "stream",
     "text": [
      "R=3,L=365 Load - Mean: 28.4508, Median: 30\n",
      "R=4,L=365 Load - Mean: 13.1667, Median: 12\n",
      "R=5,L=365 Load - Mean: 5.22881, Median: 5\n",
      "R=4,L=inf Load - Mean: 34.2417, Median: 36\n"
     ]
    }
   ],
   "source": [
    "print('R=3,L=365 Load - Mean: %g, Median: %g' % (regEpi3L365.mean(),regEpi3L365.median()))\n",
    "print('R=4,L=365 Load - Mean: %g, Median: %g' % (regEpi4L365.mean(),regEpi4L365.median()))\n",
    "print('R=5,L=365 Load - Mean: %g, Median: %g' % (regEpi5L365.mean(),regEpi5L365.median()))\n",
    "print('R=4,L=inf Load - Mean: %g, Median: %g' % (regEpi4Linf.mean(),regEpi4Linf.median()))"
   ]
  },
  {
   "cell_type": "markdown",
   "metadata": {},
   "source": [
    "### Compare Definitions"
   ]
  },
  {
   "cell_type": "code",
   "execution_count": 48,
   "metadata": {},
   "outputs": [],
   "source": [
    "# Note: When a definition uses multiple tests, we always choose the test that is satisfied earliest\n",
    "#       in a client's timeline.\n",
    "\n",
    "# Calgary Drop In Centre (DI) chronic homelessness definition:\n",
    "# - At least 276 days of shelter use in the past year.\n",
    "defDi = sty276L365\n",
    "\n",
    "# Government of Alberta chronic homelessness definition:\n",
    "# - Continually homeless for a year (assume that's a single episode that's >= 365 days) *or*\n",
    "# - At least 4 episodes of homelessness in the past year.\n",
    "defGoa = choose_earliest(cntL365,epi4L365)\n",
    "\n",
    "# Government of Canada chronic homelessness definition:\n",
    "# - At least 180 days of homelessness in the past year *or*\n",
    "# - At least 546 days of homelessness in the past 3 years.\n",
    "defGoc = choose_earliest(sty180L365,epiGoc)\n",
    "\n",
    "# Program delivery definition of chronic and episodic homelessness:\n",
    "# - Chronic: At least 276 stays in the past year.\n",
    "# - Episodic: At least 4 episodes of shelter use in the past year.\n",
    "defPrg = choose_earliest(sty276L365,epi4L365)"
   ]
  },
  {
   "cell_type": "markdown",
   "metadata": {},
   "source": [
    "#### Separate Shelter Access Stats"
   ]
  },
  {
   "cell_type": "code",
   "execution_count": 49,
   "metadata": {},
   "outputs": [],
   "source": [
    "# Isolate shelter access stats for clients that do and do not satisfy each of the defintions above.\n",
    "# Clients that do not satisfy a definition are transitional clients (identified by the 'tmp' flag).\n",
    "accessGoaTmp = access[defGoa.Flag == 'tmp']\n",
    "accessGoaFlg = access[defGoa.Flag != 'tmp']\n",
    "accessDiTmp = access[defDi.Flag == 'tmp']\n",
    "accessDiFlg = access[defDi.Flag != 'tmp']\n",
    "accessGocTmp = access[defGoc.Flag == 'tmp']\n",
    "accessGocFlg = access[defGoc.Flag != 'tmp']\n",
    "accessPrgTmp = access[defPrg.Flag == 'tmp']\n",
    "accessPrgFlgChr = access[defPrg.Flag == 'sty']\n",
    "accessPrgFlgEpi = access[defPrg.Flag == 'epi']"
   ]
  },
  {
   "cell_type": "markdown",
   "metadata": {},
   "source": [
    "#### Stats for Clients Identified by a Definition"
   ]
  },
  {
   "cell_type": "code",
   "execution_count": 50,
   "metadata": {},
   "outputs": [
    {
     "name": "stdout",
     "output_type": "stream",
     "text": [
      "--- Government of Canada Chronic Definition ---\n",
      "Clients in cohort: 1545/18346 (8.4%)\n",
      "Size of 10% of cohort: 154/18346 (0.8%)\n",
      "Tenure:\n",
      " Avg: 1566.6, Med: 1447.0, 10thPct: 404.0, 90thPct: 2940.0\n",
      "  1566.6 & 1447.0 & 2940.0\n",
      "UsagePct:\n",
      " Avg: 52.9, Med: 48.5, 10thPct: 17.6, 90thPct: 95.8\n",
      "  52.9 & 48.5 & 95.8\n",
      "AvgGapLen:\n",
      " Avg: 2.9, Med: 2.1, 10thPct: 1.0, 90thPct: 5.7\n",
      "  2.9 & 2.1 & 5.7\n",
      "TotalStays:\n",
      " Avg: 703.3, Med: 522.0, 10thPct: 235.0, 90thPct: 1430.0\n",
      "  703.3 & 522.0 & 1430.0\n",
      "TotalEpisodes:\n",
      " Avg: 4.4, Med: 3.0, 10thPct: 1.0, 90thPct: 9.0\n",
      "  4.4 & 3.0 & 9.0\n",
      "\n",
      "--- DI Chronic Definition ---\n",
      "Clients in cohort: 884/18346 (4.8%)\n",
      "Size of 10% of cohort: 88/18346 (0.5%)\n",
      "Tenure:\n",
      " Avg: 1689.3, Med: 1639.0, 10thPct: 562.0, 90thPct: 2975.0\n",
      "  1689.3 & 1639.0 & 2975.0\n",
      "UsagePct:\n",
      " Avg: 63.6, Med: 65.9, 10thPct: 26.1, 90thPct: 97.7\n",
      "  63.6 & 65.9 & 97.7\n",
      "AvgGapLen:\n",
      " Avg: 2.1, Med: 1.5, 10thPct: 1.0, 90thPct: 3.8\n",
      "  2.1 & 1.5 & 3.8\n",
      "TotalStays:\n",
      " Avg: 955.8, Med: 788.5, 10thPct: 377.0, 90thPct: 1794.0\n",
      "  955.8 & 788.5 & 1794.0\n",
      "TotalEpisodes:\n",
      " Avg: 3.7, Med: 3.0, 10thPct: 1.0, 90thPct: 8.0\n",
      "  3.7 & 3.0 & 8.0\n",
      "\n",
      "--- Government of Alberta Chronic Definition ---\n",
      "Clients in cohort: 2437/18346 (13.3%)\n",
      "Size of 10% of cohort: 243/18346 (1.3%)\n",
      "Tenure:\n",
      " Avg: 1676.1, Med: 1595.0, 10thPct: 550.0, 90thPct: 2975.0\n",
      "  1676.1 & 1595.0 & 2975.0\n",
      "UsagePct:\n",
      " Avg: 28.2, Med: 13.9, 10thPct: 1.7, 90thPct: 84.0\n",
      "  28.2 & 13.9 & 84.0\n",
      "AvgGapLen:\n",
      " Avg: 23.1, Med: 7.2, 10thPct: 1.2, 90thPct: 62.1\n",
      "  23.1 & 7.2 & 62.1\n",
      "TotalStays:\n",
      " Avg: 438.9, Med: 216.0, 10thPct: 19.0, 90thPct: 1133.0\n",
      "  438.9 & 216.0 & 1133.0\n",
      "TotalEpisodes:\n",
      " Avg: 7.4, Med: 7.0, 10thPct: 2.0, 90thPct: 14.0\n",
      "  7.4 & 7.0 & 14.0\n",
      "\n",
      "--- Program Delivery Chronic Definition ---\n",
      "Clients in cohort: 839/18346 (4.6%)\n",
      "Size of 10% of cohort: 83/18346 (0.5%)\n",
      "Tenure:\n",
      " Avg: 1651.0, Med: 1581.0, 10thPct: 541.0, 90thPct: 2929.0\n",
      "  1651.0 & 1581.0 & 2929.0\n",
      "UsagePct:\n",
      " Avg: 65.0, Med: 68.8, 10thPct: 27.5, 90thPct: 98.0\n",
      "  65.0 & 68.8 & 98.0\n",
      "AvgGapLen:\n",
      " Avg: 2.0, Med: 1.5, 10thPct: 1.0, 90thPct: 3.6\n",
      "  2.0 & 1.5 & 3.6\n",
      "TotalStays:\n",
      " Avg: 961.9, Med: 789.0, 10thPct: 375.0, 90thPct: 1845.0\n",
      "  961.9 & 789.0 & 1845.0\n",
      "TotalEpisodes:\n",
      " Avg: 3.3, Med: 3.0, 10thPct: 1.0, 90thPct: 7.0\n",
      "  3.3 & 3.0 & 7.0\n",
      "\n",
      "--- Program Delivery Episodic Definition ---\n",
      "Clients in cohort: 1544/18346 (8.4%)\n",
      "Size of 10% of cohort: 154/18346 (0.8%)\n",
      "Tenure:\n",
      " Avg: 1661.4, Med: 1564.0, 10thPct: 455.0, 90thPct: 2975.0\n",
      "  1661.4 & 1564.0 & 2975.0\n",
      "UsagePct:\n",
      " Avg: 9.4, Med: 5.6, 10thPct: 1.3, 90thPct: 23.2\n",
      "  9.4 & 5.6 & 23.2\n",
      "AvgGapLen:\n",
      " Avg: 35.2, Med: 18.4, 10thPct: 4.3, 90thPct: 87.7\n",
      "  35.2 & 18.4 & 87.7\n",
      "TotalStays:\n",
      " Avg: 150.0, Med: 76.0, 10thPct: 14.0, 90thPct: 382.0\n",
      "  150.0 & 76.0 & 382.0\n",
      "TotalEpisodes:\n",
      " Avg: 9.6, Med: 9.0, 10thPct: 5.0, 90thPct: 16.0\n",
      "  9.6 & 9.0 & 16.0\n",
      "\n"
     ]
    }
   ],
   "source": [
    "fields = [ 'Tenure', 'UsagePct', 'AvgGapLen', 'TotalStays', 'TotalEpisodes' ]\n",
    "print_stats('Government of Canada Chronic Definition',accessGocFlg,fields)\n",
    "print_stats('DI Chronic Definition',accessDiFlg,fields)\n",
    "print_stats('Government of Alberta Chronic Definition',accessGoaFlg,fields)\n",
    "print_stats('Program Delivery Chronic Definition',accessPrgFlgChr,fields)\n",
    "print_stats('Program Delivery Episodic Definition',accessPrgFlgEpi,fields)"
   ]
  },
  {
   "cell_type": "code",
   "execution_count": null,
   "metadata": {},
   "outputs": [],
   "source": []
  },
  {
   "cell_type": "markdown",
   "metadata": {},
   "source": [
    "#### Stats for Transitional Clients not Identified by Definitions"
   ]
  },
  {
   "cell_type": "code",
   "execution_count": 51,
   "metadata": {},
   "outputs": [
    {
     "name": "stdout",
     "output_type": "stream",
     "text": [
      "--- Government of Alberta Transitional Clients ---\n",
      "Clients in cohort: 15909/18346 (86.7%)\n",
      "Size of 10% of cohort: 1590/18346 (8.7%)\n",
      "Tenure:\n",
      " Avg: 495.4, Med: 46.0, 10thPct: 1.0, 90thPct: 1719.0\n",
      "  495.4 & 46.0 & 1719.0\n",
      "UsagePct:\n",
      " Avg: 51.5, Med: 47.5, 10thPct: 0.5, 90thPct: 100.0\n",
      "  51.5 & 47.5 & 100.0\n",
      "AvgGapLen:\n",
      " Avg: 160.9, Med: 13.2, 10thPct: 1.0, 90thPct: 477.0\n",
      "  160.9 & 13.2 & 477.0\n",
      "TotalStays:\n",
      " Avg: 28.5, Med: 3.0, 10thPct: 1.0, 90thPct: 82.0\n",
      "  28.5 & 3.0 & 82.0\n",
      "TotalEpisodes:\n",
      " Avg: 2.0, Med: 1.0, 10thPct: 1.0, 90thPct: 4.0\n",
      "  2.0 & 1.0 & 4.0\n",
      "\n",
      "--- DI Transitional Clients ---\n",
      "Clients in cohort: 17462/18346 (95.2%)\n",
      "Size of 10% of cohort: 1746/18346 (9.5%)\n",
      "Tenure:\n",
      " Avg: 599.8, Med: 96.0, 10thPct: 1.0, 90thPct: 1993.0\n",
      "  599.8 & 96.0 & 1993.0\n",
      "UsagePct:\n",
      " Avg: 47.7, Med: 28.7, 10thPct: 0.5, 90thPct: 100.0\n",
      "  47.7 & 28.7 & 100.0\n",
      "AvgGapLen:\n",
      " Avg: 145.4, Med: 14.6, 10thPct: 1.0, 90thPct: 405.0\n",
      "  145.4 & 14.6 & 405.0\n",
      "TotalStays:\n",
      " Avg: 38.8, Med: 4.0, 10thPct: 1.0, 90thPct: 114.0\n",
      "  38.8 & 4.0 & 114.0\n",
      "TotalEpisodes:\n",
      " Avg: 2.7, Med: 2.0, 10thPct: 1.0, 90thPct: 6.0\n",
      "  2.7 & 2.0 & 6.0\n",
      "\n",
      "--- Government of Canada Transitional Clients ---\n",
      "Clients in cohort: 16801/18346 (91.6%)\n",
      "Size of 10% of cohort: 1680/18346 (9.2%)\n",
      "Tenure:\n",
      " Avg: 568.2, Med: 73.0, 10thPct: 1.0, 90thPct: 1930.0\n",
      "  568.2 & 73.0 & 1930.0\n",
      "UsagePct:\n",
      " Avg: 48.0, Med: 28.6, 10thPct: 0.5, 90thPct: 100.0\n",
      "  48.0 & 28.6 & 100.0\n",
      "AvgGapLen:\n",
      " Avg: 153.3, Med: 17.5, 10thPct: 1.0, 90thPct: 435.0\n",
      "  153.3 & 17.5 & 435.0\n",
      "TotalStays:\n",
      " Avg: 26.0, Med: 4.0, 10thPct: 1.0, 90thPct: 82.0\n",
      "  26.0 & 4.0 & 82.0\n",
      "TotalEpisodes:\n",
      " Avg: 2.6, Med: 1.0, 10thPct: 1.0, 90thPct: 6.0\n",
      "  2.6 & 1.0 & 6.0\n",
      "\n",
      "--- Program Delivery Definition Transitional Clients ---\n",
      "Clients in cohort: 15963/18346 (87.0%)\n",
      "Size of 10% of cohort: 1596/18346 (8.7%)\n",
      "Tenure:\n",
      " Avg: 502.2, Med: 47.0, 10thPct: 1.0, 90thPct: 1737.0\n",
      "  502.2 & 47.0 & 1737.0\n",
      "UsagePct:\n",
      " Avg: 51.4, Med: 45.8, 10thPct: 0.5, 90thPct: 100.0\n",
      "  51.4 & 45.8 & 100.0\n",
      "AvgGapLen:\n",
      " Avg: 160.2, Med: 13.0, 10thPct: 1.0, 90thPct: 475.0\n",
      "  160.2 & 13.0 & 475.0\n",
      "TotalStays:\n",
      " Avg: 30.4, Med: 3.0, 10thPct: 1.0, 90thPct: 85.0\n",
      "  30.4 & 3.0 & 85.0\n",
      "TotalEpisodes:\n",
      " Avg: 2.1, Med: 1.0, 10thPct: 1.0, 90thPct: 4.0\n",
      "  2.1 & 1.0 & 4.0\n",
      "\n"
     ]
    }
   ],
   "source": [
    "fields = [ 'Tenure', 'UsagePct', 'AvgGapLen', 'TotalStays', 'TotalEpisodes' ]\n",
    "print_stats('Government of Alberta Transitional Clients',accessGoaTmp,fields)\n",
    "print_stats('DI Transitional Clients',accessDiTmp,fields)\n",
    "print_stats('Government of Canada Transitional Clients',accessGocTmp,fields)\n",
    "print_stats('Program Delivery Definition Transitional Clients',accessPrgTmp,fields)"
   ]
  },
  {
   "cell_type": "markdown",
   "metadata": {},
   "source": [
    "#### Transitional Client 90th Percentile Investigation\n",
    "- These are the group of clients in the program delivery transitional population that are in the top 90th percentile in terms of the length of their shelter tenure.\n",
    "- There are lots of these folks (more than the chronic population), they interact with shelter over a very long period and are likely flying under the radar of most support programs."
   ]
  },
  {
   "cell_type": "code",
   "execution_count": 52,
   "metadata": {},
   "outputs": [],
   "source": [
    "tenure90thValue = 1737 # Taken from the output provided above.\n",
    "access90th = accessPrgTmp[accessPrgTmp.Tenure > tenure90thValue]"
   ]
  },
  {
   "cell_type": "code",
   "execution_count": 53,
   "metadata": {},
   "outputs": [
    {
     "name": "stdout",
     "output_type": "stream",
     "text": [
      "--- Transitional Client 90th Percentile ---\n",
      "Clients in cohort: 1595/18346 (8.7%)\n",
      "Size of 10% of cohort: 159/18346 (0.9%)\n",
      "Tenure:\n",
      " Avg: 2441.1, Med: 2339.0, 10thPct: 1838.0, 90thPct: 3242.0\n",
      "  2441.1 & 2339.0 & 3242.0\n",
      "UsagePct:\n",
      " Avg: 3.4, Med: 0.8, 10thPct: 0.1, 90thPct: 9.9\n",
      "  3.4 & 0.8 & 9.9\n",
      "AvgGapLen:\n",
      " Avg: 487.6, Med: 138.4, 10thPct: 10.1, 90thPct: 1737.0\n",
      "  487.6 & 138.4 & 1737.0\n",
      "TotalStays:\n",
      " Avg: 81.4, Med: 18.0, 10thPct: 3.0, 90thPct: 243.0\n",
      "  81.4 & 18.0 & 243.0\n",
      "TotalEpisodes:\n",
      " Avg: 4.7, Med: 4.0, 10thPct: 2.0, 90thPct: 8.0\n",
      "  4.7 & 4.0 & 8.0\n",
      "\n"
     ]
    }
   ],
   "source": [
    "print_stats('Transitional Client 90th Percentile',access90th,fields)"
   ]
  },
  {
   "cell_type": "markdown",
   "metadata": {},
   "source": [
    "### Speed of Identification\n",
    "- This analysis investigates how quickly clients are identified by each definition.\n",
    "- We utilize plots that show the percentage the total client population identified by each definition plotted versus time.\n",
    "- The diamonds indicate when a definition reaches 50\\% of the total number of clients it will identify."
   ]
  },
  {
   "cell_type": "code",
   "execution_count": 54,
   "metadata": {},
   "outputs": [],
   "source": [
    "# Start by generating histograms of identification time for each definition.\n",
    "gocH,gocX = np.histogram(defGoc[defGoc.Flag!='tmp'].Time,bins=np.arange(100,4000,5))\n",
    "goaH,goaX = np.histogram(defGoa[defGoa.Flag!='tmp'].Time,bins=np.arange(100,4000,5))\n",
    "diH,diX = np.histogram(defDi[defDi.Flag!='tmp'].Time,bins=np.arange(100,4000,5))\n",
    "prgH,prgX = np.histogram(defPrg[defPrg.Flag!='tmp'].Time,bins=np.arange(100,4000,5))"
   ]
  },
  {
   "cell_type": "code",
   "execution_count": 55,
   "metadata": {},
   "outputs": [],
   "source": [
    "# Change those increasing percentage plots by using cumulative sum and normalization operations.\n",
    "gocCdf = gocH.cumsum()/nClients*100\n",
    "goaCdf = goaH.cumsum()/nClients*100\n",
    "diCdf = diH.cumsum()/nClients*100\n",
    "prgCdf = prgH.cumsum()/nClients*100"
   ]
  },
  {
   "cell_type": "code",
   "execution_count": 56,
   "metadata": {},
   "outputs": [],
   "source": [
    "# Determine the location of the median of each group.\n",
    "gocMedIdx = np.argwhere(gocX >= defGoc[defGoc.Flag!='tmp'].Time.median())[0][0]\n",
    "goaMedIdx = np.argwhere(goaX >= defGoa[defGoa.Flag!='tmp'].Time.median())[0][0]\n",
    "diMedIdx = np.argwhere(diX >= defDi[defDi.Flag!='tmp'].Time.median())[0][0]\n",
    "prgMedIdx = np.argwhere(prgX >= defPrg[defPrg.Flag!='tmp'].Time.median())[0][0]"
   ]
  },
  {
   "cell_type": "code",
   "execution_count": 68,
   "metadata": {},
   "outputs": [
    {
     "data": {
      "image/png": "[encoded data removed]",
      "text/plain": [
       "<Figure size 432x288 with 1 Axes>"
      ]
     },
     "metadata": {
      "needs_background": "light"
     },
     "output_type": "display_data"
    }
   ],
   "source": [
    "plt.plot(gocX[0:-1],gocCdf,'-',color='black',label='Canada')\n",
    "plt.plot(gocX[gocMedIdx],gocCdf[gocMedIdx],'d',color='black',markersize=8)\n",
    "\n",
    "plt.plot(diX[0:-1],diCdf,'-',color='#c7c7c7',label='DI')\n",
    "plt.plot(diX[diMedIdx],diCdf[diMedIdx],'d',color='#c7c7c7',markersize=8)\n",
    "\n",
    "plt.plot(goaX[0:-1],goaCdf,'--',color='black',label='Alberta')\n",
    "plt.plot(goaX[goaMedIdx],goaCdf[goaMedIdx],'d',color='black',markersize=8)\n",
    "\n",
    "plt.plot(prgX[0:-1],prgCdf,'--',color='#c7c7c7',label='PD-Chronic/PD-Episodic')\n",
    "plt.plot(prgX[prgMedIdx],prgCdf[prgMedIdx],'d',color='#c7c7c7',markersize=8)\n",
    "\n",
    "plt.legend()\n",
    "plt.xlim(0,1500)\n",
    "plt.xlabel('Days')\n",
    "plt.ylim(0,12.25)\n",
    "plt.ylabel('Percent Identified by Definition')\n",
    "#plt.savefig('SpeedCdf.eps')\n",
    "plt.show()"
   ]
  },
  {
   "cell_type": "code",
   "execution_count": 58,
   "metadata": {},
   "outputs": [
    {
     "name": "stdout",
     "output_type": "stream",
     "text": [
      "GoC Median: 285\n"
     ]
    }
   ],
   "source": [
    "print('GoC Median:',gocX[gocMedIdx])"
   ]
  },
  {
   "cell_type": "code",
   "execution_count": null,
   "metadata": {},
   "outputs": [],
   "source": []
  },
  {
   "cell_type": "code",
   "execution_count": null,
   "metadata": {},
   "outputs": [],
   "source": []
  }
 ],
 "metadata": {
  "kernelspec": {
   "display_name": "Python 3",
   "language": "python",
   "name": "python3"
  },
  "language_info": {
   "codemirror_mode": {
    "name": "ipython",
    "version": 3
   },
   "file_extension": ".py",
   "mimetype": "text/x-python",
   "name": "python",
   "nbconvert_exporter": "python",
   "pygments_lexer": "ipython3",
   "version": "3.7.4"
  }
 },
 "nbformat": 4,
 "nbformat_minor": 2
}
