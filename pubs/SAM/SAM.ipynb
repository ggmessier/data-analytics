{
 "cells": [
  {
   "cell_type": "markdown",
   "id": "8e5facf1-50b3-44ac-926f-6bd807c1416c",
   "metadata": {},
   "source": [
    "# A Simpler Method for Understanding Emergency Shelter Access Patterns"
   ]
  },
  {
   "cell_type": "markdown",
   "id": "8888e78b-1486-4807-b1aa-bfede7347b84",
   "metadata": {},
   "source": [
    "    Copyright (C) 2022 Geoffrey Guy Messier\n",
    "\n",
    "    This program is free software: you can redistribute it and/or modify\n",
    "    it under the terms of the GNU General Public License as published by\n",
    "    the Free Software Foundation, either version 3 of the License, or\n",
    "    (at your option) any later version.\n",
    "\n",
    "    This program is distributed in the hope that it will be useful,\n",
    "    but WITHOUT ANY WARRANTY; without even the implied warranty of\n",
    "    MERCHANTABILITY or FITNESS FOR A PARTICULAR PURPOSE.  See the\n",
    "    GNU General Public License for more details.\n",
    "\n",
    "    You should have received a copy of the GNU General Public License\n",
    "    along with this program.  If not, see <https://www.gnu.org/licenses/>."
   ]
  },
  {
   "cell_type": "code",
   "execution_count": 1,
   "id": "8f73be4d-ceb3-4b8b-a0ba-9ffbcedde62d",
   "metadata": {},
   "outputs": [],
   "source": [
    "%load_ext autoreload\n",
    "%autoreload 1"
   ]
  },
  {
   "cell_type": "code",
   "execution_count": 2,
   "id": "234aa70e-f0ca-48f8-adde-6ab444ec5542",
   "metadata": {},
   "outputs": [],
   "source": [
    "import numpy as np\n",
    "import pandas as pd\n",
    "import datetime, copy, imp\n",
    "import time\n",
    "import os\n",
    "import re\n",
    "import dask.dataframe as dd\n",
    "\n",
    "from tqdm.auto import tqdm, trange\n",
    "from tqdm.notebook import tqdm\n",
    "tqdm.pandas()\n",
    "\n",
    "from pandas.tseries.offsets import DateOffset\n",
    "from sklearn.cluster import KMeans\n",
    "from util import KMeansCluster as kmGeoff\n",
    "\n",
    "import matplotlib.pyplot as plt\n",
    "import matplotlib.dates as mdates\n",
    "import matplotlib as mpl\n",
    "\n",
    "import sys\n",
    "sys.path.insert(0, '../util/')\n",
    "\n",
    "%aimport di_data\n",
    "%aimport data_cache\n",
    "\n",
    "from di_data import *\n",
    "from data_cache import CacheResult"
   ]
  },
  {
   "cell_type": "code",
   "execution_count": 3,
   "id": "9477c660-77dd-44f3-a89d-ba830161ef44",
   "metadata": {},
   "outputs": [],
   "source": [
    "dataDirStr = '/Users/gmessier/data/plwh/gb/'\n",
    "cacheDirStr = '/Users/gmessier/data/plwh/gb/cache/'"
   ]
  },
  {
   "cell_type": "markdown",
   "id": "dcec06c4-f1dc-48d9-a03e-6298996386fc",
   "metadata": {},
   "source": [
    "## Create Sleep Tables\n",
    "The event table contains all the individual sleep events indexed by `ClientId` and `Date`."
   ]
  },
  {
   "cell_type": "code",
   "execution_count": 4,
   "id": "a7e15340-e10b-483b-8f72-19b2da439752",
   "metadata": {},
   "outputs": [],
   "source": [
    "@CacheResult\n",
    "def gen_event_table(field):\n",
    "\n",
    "    # Multiple events in a 24 hour period are counted only once.\n",
    "    def merge_events_24hr(tbl,field):\n",
    "        dates = tbl.Date.drop_duplicates()\n",
    "        nEntry = len(dates)\n",
    "        return pd.DataFrame({\n",
    "            'ClientId': [ tbl.iloc[0].ClientId ]*nEntry,\n",
    "            'Date': dates,\n",
    "            'EventType': [ field ]*nEntry\n",
    "        })\n",
    "    \n",
    "    rawTblCols = [ 'ClientId', 'Date', 'EventType' ]\n",
    "    \n",
    "    rawTbl = pd.read_hdf(dataDirStr + 'Event-Anonymized-UpTo-Q1-2022.hdf', key='Data')   \n",
    "    rawTbl = rawTbl[rawTblCols]\n",
    "    rawTbl = rawTbl.assign(Date = rawTbl.Date.dt.normalize())\n",
    "    \n",
    "    tbl = rawTbl.loc[ rawTbl.EventType == field ].groupby('ClientId').progress_apply(merge_events_24hr,field=field).reset_index(drop=True)\n",
    "    \n",
    "    return tbl    \n",
    "    "
   ]
  },
  {
   "cell_type": "code",
   "execution_count": 5,
   "id": "4c4c4e7e-f7da-4af5-aa09-89dad8f15272",
   "metadata": {},
   "outputs": [],
   "source": [
    "eTbl = gen_event_table('Sleep',path=cacheDirStr,filename='Metrics-EventTable.hdf')"
   ]
  },
  {
   "cell_type": "code",
   "execution_count": null,
   "id": "22b94175-9d27-46e4-b74a-64835a17348c",
   "metadata": {},
   "outputs": [],
   "source": []
  },
  {
   "cell_type": "markdown",
   "id": "4dc95096-0564-4d47-a03f-36ec211515b8",
   "metadata": {},
   "source": [
    "Access and episode sequences are lists that give the date and index number of individual shelter sleeps and episodes of shelter sleeps, respectively."
   ]
  },
  {
   "cell_type": "code",
   "execution_count": 6,
   "id": "953bf0e5-d72d-48da-b460-97f78f49805b",
   "metadata": {},
   "outputs": [],
   "source": [
    "def calculate_access_sequence(tbl,field):\n",
    "    \n",
    "    validRecs =  tbl.EventType == field\n",
    "    dates = tbl.loc[validRecs].Date.drop_duplicates().sort_values() \n",
    "    \n",
    "    return pd.DataFrame({\n",
    "        'Date': dates.values,                 # Date of each access.\n",
    "        'Ind': range(1,len(dates)+1)   # Index of each access.\n",
    "    },index = range(0,len(dates)))"
   ]
  },
  {
   "cell_type": "code",
   "execution_count": 7,
   "id": "6f665846-a725-4c6a-a63c-aa49bbd4dbc8",
   "metadata": {},
   "outputs": [],
   "source": [
    "episodeGap = 30  # Min number of days between episodes.\n",
    "\n",
    "def calculate_episode_sequence(tbl,field):    \n",
    "    \n",
    "    validRecs = tbl.EventType == field\n",
    "    accDates = tbl.loc[validRecs].Date.drop_duplicates().sort_values() \n",
    "    \n",
    "    gapVals = accDates.diff().astype('timedelta64[D]')\n",
    "    gapInd = (gapVals >= episodeGap).astype('int').cumsum().drop_duplicates(keep='first')\n",
    "    \n",
    "    return pd.DataFrame({\n",
    "        'Date': tbl.loc[gapInd.index].Date.values, # Date of first day of each episode.\n",
    "        'Ind': range(1,len(gapInd)+1)       # Episode index.\n",
    "    },index=range(0,len(gapInd)))\n"
   ]
  },
  {
   "cell_type": "code",
   "execution_count": 8,
   "id": "aadb3710-9bbf-4b23-b0ae-5f5e58140d55",
   "metadata": {},
   "outputs": [],
   "source": [
    "@CacheResult\n",
    "def gen_access_pattern_table(tbl,typeStr):\n",
    "    \n",
    "    acc = tbl.groupby('ClientId').progress_apply(calculate_access_sequence,field=typeStr)        \n",
    "    epi = tbl.groupby('ClientId').progress_apply(calculate_episode_sequence,field=typeStr) \n",
    "\n",
    "    lastAcc = acc.groupby(level=0).max()\n",
    "    firstAcc = acc.groupby(level=0).min()\n",
    "    lastEpi = epi.groupby(level=0).max()\n",
    "\n",
    "    return pd.DataFrame({\n",
    "        'NAcc': lastAcc.Ind,\n",
    "        'NEpi': lastEpi.Ind,\n",
    "        'StartDate': firstAcc.Date,\n",
    "        'EndDate': lastAcc.Date,\n",
    "    })"
   ]
  },
  {
   "cell_type": "code",
   "execution_count": 9,
   "id": "bf9f3788-65a1-4edd-93cd-4d5feaabe4d8",
   "metadata": {},
   "outputs": [],
   "source": [
    "sleepTbl = gen_access_pattern_table(eTbl, typeStr='Sleep', path=cacheDirStr, filename='Metrics-SleepTable.hdf')"
   ]
  },
  {
   "cell_type": "code",
   "execution_count": 10,
   "id": "55213ac5-3218-4b2e-b434-d7ee32559db0",
   "metadata": {},
   "outputs": [
    {
     "name": "stdout",
     "output_type": "stream",
     "text": [
      "Clients: 24512, Entries: 1904044\n"
     ]
    }
   ],
   "source": [
    "studyStartDate = pd.to_datetime('2009-07-01')\n",
    "studyEndDate = pd.to_datetime('2022-03-31')\n",
    "\n",
    "validClients = ((sleepTbl.StartDate >= studyStartDate) & (sleepTbl.EndDate <= studyEndDate))\n",
    "sleepTbl = sleepTbl.loc[validClients]\n",
    "\n",
    "nEntry = (eTbl.ClientId.isin(sleepTbl.index)).sum()\n",
    "\n",
    "print(f'Clients: {len(sleepTbl.index)}, Entries: {nEntry}')\n"
   ]
  },
  {
   "cell_type": "code",
   "execution_count": null,
   "id": "08684438-13d5-4ee3-9de0-67940dd6f3fe",
   "metadata": {},
   "outputs": [],
   "source": []
  },
  {
   "cell_type": "markdown",
   "id": "49230703-e7f2-4530-a58c-d0dcda2254f9",
   "metadata": {
    "tags": []
   },
   "source": [
    "## Define Eras\n",
    "- Define a cohort of clients with record start/end dates that fit within each era."
   ]
  },
  {
   "cell_type": "code",
   "execution_count": 11,
   "id": "60f8f120-565b-4137-9955-e5da5ff938ba",
   "metadata": {},
   "outputs": [],
   "source": [
    "eraDates = {\n",
    "    'HousingReady':  { 'start': pd.to_datetime('2009-07-01'), 'end': pd.to_datetime('2017-07-31') },\n",
    "    'All' : { 'start': studyStartDate, 'end': studyEndDate }\n",
    "}"
   ]
  },
  {
   "cell_type": "code",
   "execution_count": 12,
   "id": "7c481f53-c213-4c59-aee0-f7a4661070c0",
   "metadata": {},
   "outputs": [],
   "source": [
    "def create_cohorts(era, tbl):\n",
    "    nClient = len(tbl.index)\n",
    "    cohort = {}\n",
    "    for e in era.keys():\n",
    "        cohort[e] = tbl.loc[ (tbl.StartDate >= era[e]['start']) & (tbl.EndDate <= era[e]['end']) ].index\n",
    "        print(f'{e} Cohort Size: {len(cohort[e])}/{nClient} ({100*len(cohort[e])/nClient:.2f}%)')\n",
    "    return cohort"
   ]
  },
  {
   "cell_type": "code",
   "execution_count": 13,
   "id": "50aa7859-cdaa-45c8-aed0-0ba9fbb96c66",
   "metadata": {},
   "outputs": [
    {
     "name": "stdout",
     "output_type": "stream",
     "text": [
      "HousingReady Cohort Size: 13295/24512 (54.24%)\n",
      "All Cohort Size: 24512/24512 (100.00%)\n"
     ]
    }
   ],
   "source": [
    "cohort = create_cohorts(eraDates, sleepTbl)"
   ]
  },
  {
   "cell_type": "code",
   "execution_count": null,
   "id": "556fc3d8-f078-497f-95fa-8d37ea79074a",
   "metadata": {},
   "outputs": [],
   "source": []
  },
  {
   "cell_type": "markdown",
   "id": "bcb38e2f-6960-4994-bd15-29491ff94cb6",
   "metadata": {},
   "source": [
    "## Clustering"
   ]
  },
  {
   "cell_type": "code",
   "execution_count": 14,
   "id": "0673adc6-f2e4-460c-91a1-1458bd93aa82",
   "metadata": {},
   "outputs": [],
   "source": [
    "def generate_cluster_cohorts(cohort,tbl):\n",
    "\n",
    "    cohortClstr = { k : {} for k in cohort.keys() }\n",
    "\n",
    "    for k in cohort.keys():\n",
    "\n",
    "        idx = tbl.index.isin(cohort[k])\n",
    "\n",
    "        dat = tbl.loc[idx][ [ 'NAcc', 'NEpi' ] ].to_numpy()\n",
    "        nrm = (dat - dat.mean(axis=0))/np.sqrt(dat.var(axis=0))\n",
    "\n",
    "        kmeans = KMeans(n_clusters=3, random_state=0).fit(nrm)\n",
    "        labels = kmeans.labels_\n",
    "        srtInds = np.argsort(kmeans.cluster_centers_[:,0])\n",
    "\n",
    "        print(f'--- {k} ---')\n",
    "        nTot = sum(idx)\n",
    "\n",
    "        cStr = [ 'Trn', 'Epi', 'Chr' ]\n",
    "        for cInd in range(len(cStr)):\n",
    "            cohortClstr[k][cStr[cInd]] = tbl.loc[idx].loc[labels == srtInds[cInd]].index.to_numpy()\n",
    "            nCoh = sum(labels == srtInds[cInd])\n",
    "            print(f' {cStr[cInd]}: {nCoh}/{nTot} ({100*nCoh/nTot:.2f}%)')\n",
    "\n",
    "    \n",
    "    return cohortClstr\n",
    "\n"
   ]
  },
  {
   "cell_type": "code",
   "execution_count": 15,
   "id": "ca9ec6a3-236e-4bc5-bfda-77c28575a46b",
   "metadata": {},
   "outputs": [
    {
     "name": "stdout",
     "output_type": "stream",
     "text": [
      "--- HousingReady ---\n",
      " Trn: 11984/13295 (90.14%)\n",
      " Epi: 1092/13295 (8.21%)\n",
      " Chr: 219/13295 (1.65%)\n",
      "--- All ---\n",
      " Trn: 21211/24512 (86.53%)\n",
      " Epi: 2713/24512 (11.07%)\n",
      " Chr: 588/24512 (2.40%)\n"
     ]
    }
   ],
   "source": [
    "clstr = generate_cluster_cohorts(cohort,sleepTbl)"
   ]
  },
  {
   "cell_type": "code",
   "execution_count": null,
   "id": "2d47931e-4d75-4562-87e8-575950af9a42",
   "metadata": {},
   "outputs": [],
   "source": []
  },
  {
   "cell_type": "markdown",
   "id": "ab79fba8-6dc9-4132-9167-9e533924f388",
   "metadata": {},
   "source": [
    "## SAM"
   ]
  },
  {
   "cell_type": "code",
   "execution_count": 16,
   "id": "39be3860-150c-4a9a-945f-3b8275a4afde",
   "metadata": {},
   "outputs": [],
   "source": [
    "def calc_sam_metrics(tbl,obsWin,actvThrsh):\n",
    "    \n",
    "    duration = np.nan\n",
    "    inShelterFrc = np.nan\n",
    "    \n",
    "    daysInShelter = (tbl.Date - tbl.Date.min()).dt.days    \n",
    "    \n",
    "    obsDay = daysInShelter.loc[ (daysInShelter <= obsWin) & (daysInShelter > obsWin - actvThrsh) ].max()\n",
    "    \n",
    "    if(obsDay != obsDay):\n",
    "        valid = False\n",
    "        \n",
    "    else:\n",
    "        valid = True\n",
    "        duration = obsDay\n",
    "        nAccesses = tbl.loc[daysInShelter < obsDay].EventType.count() \n",
    "        inShelterFrc = nAccesses / duration\n",
    "        \n",
    "    return pd.Series({ 'StartDate': tbl.Date.min(), 'Valid': valid, 'Duration': duration, 'InShelterFrc': inShelterFrc })\n"
   ]
  },
  {
   "cell_type": "code",
   "execution_count": 17,
   "id": "0f4b87e1-8cb6-4aa7-a883-1a84068a87f6",
   "metadata": {},
   "outputs": [
    {
     "data": {
      "application/vnd.jupyter.widget-view+json": {
       "model_id": "495c9ea4f11646c58ba3bd1d66fc0577",
       "version_major": 2,
       "version_minor": 0
      },
      "text/plain": [
       "  0%|          | 0/13295 [00:00<?, ?it/s]"
      ]
     },
     "metadata": {},
     "output_type": "display_data"
    }
   ],
   "source": [
    "idx = eTbl.ClientId.isin(cohort['HousingReady']) & (eTbl.EventType == 'Sleep')\n",
    "samMets = eTbl.loc[idx].groupby('ClientId').progress_apply(calc_sam_metrics,obsWin=90,actvThrsh=30)"
   ]
  },
  {
   "cell_type": "code",
   "execution_count": null,
   "id": "4aa7904e-e272-45b6-9e53-e97fd0717785",
   "metadata": {},
   "outputs": [],
   "source": []
  },
  {
   "cell_type": "markdown",
   "id": "3b75ae94-26c5-419f-870b-f00d9e9af1e9",
   "metadata": {},
   "source": [
    "## Evaluate SAM"
   ]
  },
  {
   "cell_type": "code",
   "execution_count": null,
   "id": "2e6bef9e-765b-4785-bc24-9b8457649325",
   "metadata": {},
   "outputs": [],
   "source": []
  },
  {
   "cell_type": "markdown",
   "id": "db2ac139-cfa4-4e29-a02d-4fb4fbc347e2",
   "metadata": {},
   "source": [
    "### Accuracy"
   ]
  },
  {
   "cell_type": "code",
   "execution_count": 18,
   "id": "59e9bfaa-0d2f-4f95-bafd-3d25662bc144",
   "metadata": {},
   "outputs": [],
   "source": [
    "trueLbl = clstr['HousingReady']   # Assume the cluster labels are \"true\"."
   ]
  },
  {
   "cell_type": "code",
   "execution_count": 19,
   "id": "f91818f5-5ab4-4097-82bf-8d047a4407a9",
   "metadata": {},
   "outputs": [],
   "source": [
    "nClients = len(cohort['HousingReady'])"
   ]
  },
  {
   "cell_type": "code",
   "execution_count": 20,
   "id": "6cdd49fd-f7d5-4e05-9e03-ab1cbf80694c",
   "metadata": {},
   "outputs": [],
   "source": [
    "def assign_sam_labels(alpha, mets):\n",
    "    coh = {}\n",
    "\n",
    "    # Inactive clients are considered transitional.\n",
    "    coh['Trn'] = list( mets.loc[ ~mets.Valid ].index )\n",
    "\n",
    "    # Active clients above/below threshold are frequent/infrequent.\n",
    "    coh['Chr'] = list( mets.loc[ mets.Valid & (mets.InShelterFrc > alpha) ].index )\n",
    "    coh['Epi'] = list( mets.loc[ mets.Valid & (mets.InShelterFrc <= alpha) ].index )\n",
    "    \n",
    "    return coh"
   ]
  },
  {
   "cell_type": "code",
   "execution_count": 21,
   "id": "cf39b110-9e27-40d4-9161-789914ce0b98",
   "metadata": {},
   "outputs": [],
   "source": [
    "def calc_confusion_matrix(alpha,mets,trueLbl):\n",
    "\n",
    "    hatLbl = assign_sam_labels(alpha,mets)\n",
    "    \n",
    "    cMtx = np.zeros((3,3),dtype='int')\n",
    "    key = [ 'Trn', 'Epi', 'Chr' ]\n",
    "    for i in range(3):\n",
    "        for j in range(3):\n",
    "            cMtx[i,j] = np.isin(hatLbl[key[i]],trueLbl[key[j]]).sum()\n",
    "\n",
    "    return cMtx"
   ]
  },
  {
   "cell_type": "code",
   "execution_count": 22,
   "id": "e492d572-c288-4531-ae44-bf224c8a41a2",
   "metadata": {},
   "outputs": [],
   "source": [
    "def sweep_alpha(alphas, mets, trueLbl):\n",
    "\n",
    "    res = np.empty((0,2))\n",
    "    pbar = tqdm(total=len(alphas))\n",
    "    for alpha in alphas:\n",
    "            \n",
    "        cMtx = calc_confusion_matrix(alpha,mets,trueLbl)\n",
    "\n",
    "        acc = cMtx.diagonal().sum()/cMtx.sum().sum()\n",
    "\n",
    "        nuRes = [[ alpha, acc ]]\n",
    "\n",
    "        res = np.append(res,nuRes,axis=0)\n",
    "        pbar.update(1)\n",
    "\n",
    "    pbar.close()\n",
    "\n",
    "    return res\n"
   ]
  },
  {
   "cell_type": "code",
   "execution_count": 23,
   "id": "af0f053d-46db-47a2-9156-1db34b314080",
   "metadata": {},
   "outputs": [
    {
     "data": {
      "application/vnd.jupyter.widget-view+json": {
       "model_id": "7832f85e1ff348afbe25ab30a185f5d3",
       "version_major": 2,
       "version_minor": 0
      },
      "text/plain": [
       "  0%|          | 0/19 [00:00<?, ?it/s]"
      ]
     },
     "metadata": {},
     "output_type": "display_data"
    }
   ],
   "source": [
    "sweepRes = sweep_alpha(\n",
    "    alphas = np.arange(0.05,1,0.05), \n",
    "    mets = samMets, trueLbl = trueLbl)"
   ]
  },
  {
   "cell_type": "code",
   "execution_count": 24,
   "id": "bcbf66d1-27c1-4a74-967e-a105f0cdc3ae",
   "metadata": {},
   "outputs": [
    {
     "name": "stdout",
     "output_type": "stream",
     "text": [
      "Max Accuracy: 0.816 (alpha = 0.85)\n"
     ]
    }
   ],
   "source": [
    "# Select the value of alpha that gives maximum accuracy.\n",
    "mxAcc = np.argmax(sweepRes[:,1])\n",
    "print(f'Max Accuracy: {sweepRes[mxAcc,1]:.3f} (alpha = {sweepRes[mxAcc,0]:.2f})')"
   ]
  },
  {
   "cell_type": "code",
   "execution_count": null,
   "id": "57752531-63ef-4778-8d66-5ff9829e8327",
   "metadata": {},
   "outputs": [],
   "source": []
  },
  {
   "cell_type": "markdown",
   "id": "74dd215c-ad69-4ab1-909a-735b1ab2d9ea",
   "metadata": {},
   "source": [
    "### Shelter Access Characteristics"
   ]
  },
  {
   "cell_type": "code",
   "execution_count": 25,
   "id": "893cb23b-1b85-4efd-b4c7-5c6896679041",
   "metadata": {},
   "outputs": [],
   "source": [
    "samLbl = assign_sam_labels(alpha = 0.85, mets = samMets)"
   ]
  },
  {
   "cell_type": "code",
   "execution_count": 26,
   "id": "a39969c1-6a72-46c6-9681-d8ae7bd7f25a",
   "metadata": {},
   "outputs": [],
   "source": [
    "def gen_access_stats(coh,tbl):\n",
    "    cohTbl = tbl.loc[tbl.index.isin(coh)]\n",
    "    \n",
    "    stats = {}\n",
    "    n = len(coh)\n",
    "    stats['N'] = n\n",
    "    \n",
    "    stats['NAccMn'] = cohTbl.NAcc.mean()\n",
    "    stats['NAccMd'] = cohTbl.NAcc.median()\n",
    "    stats['NAcc10'] = cohTbl.NAcc.sort_values(ascending=False).iloc[int(n*0.1)]\n",
    "    \n",
    "    stats['NEpiMn'] = cohTbl.NEpi.mean()\n",
    "    stats['NEpiMd'] = cohTbl.NEpi.median()\n",
    "    stats['NEpi10'] = cohTbl.NEpi.sort_values(ascending=False).iloc[int(n*0.1)]\n",
    "    \n",
    "    return stats"
   ]
  },
  {
   "cell_type": "code",
   "execution_count": 27,
   "id": "dfbf101e-60ce-4fce-97ba-bac553cf1835",
   "metadata": {},
   "outputs": [],
   "source": [
    "def gen_header(lWdth,cWdth,sepStr=' ',endStr=''):\n",
    "    \n",
    "    hStr = f'{\" \":>{lWdth}}' + sepStr\n",
    "    hStr += f'{\" \":^{cWdth}}' + sepStr\n",
    "    hStr += f'{\"Stays\":^{cWdth}}' + sepStr\n",
    "    hStr += f'{\"Episodes\":^{cWdth}}' \n",
    "    hStr += endStr + '\\n'\n",
    "    \n",
    "    hStr += f'{\" \":>{lWdth}}' + sepStr\n",
    "    hStr += f'{\"N\":^{cWdth}}' + sepStr\n",
    "    hStr += f'{\"(mean/median/10th pctl)\":^{cWdth}}' + sepStr\n",
    "    hStr += f'{\"(mean/median/10th pctl)\":^{cWdth}}' \n",
    "    \n",
    "    return hStr + endStr"
   ]
  },
  {
   "cell_type": "code",
   "execution_count": 28,
   "id": "9ba3bd93-85a4-421f-9e97-e8bbc2ec6820",
   "metadata": {},
   "outputs": [],
   "source": [
    "def gen_stat_row(labelStr,stat,nClients,lWdth,cWdth,sepStr=' ',endStr=''):\n",
    "    \n",
    "    rStr = f'{labelStr:>{lWdth}}' + sepStr\n",
    "    nStr = f'{stat[\"N\"]}/{nClients} ({100*stat[\"N\"]/nClients:.2f}\\%)'\n",
    "    rStr += f'{nStr:^{cWdth}}' + sepStr\n",
    "    \n",
    "    nStr = f'{stat[\"NAccMn\"]:.2f} / {stat[\"NAccMd\"]:.0f} / {stat[\"NAcc10\"]:.0f}'    \n",
    "    rStr += f'{nStr:^{cWdth}}' + sepStr\n",
    "    \n",
    "    nStr = f'{stat[\"NEpiMn\"]:.2f} / {stat[\"NEpiMd\"]:.0f} / {stat[\"NEpi10\"]:.0f}'    \n",
    "    rStr += f'{nStr:^{cWdth}}'\n",
    "\n",
    "    return rStr + endStr\n",
    "    \n",
    "    "
   ]
  },
  {
   "cell_type": "code",
   "execution_count": 29,
   "id": "77a9169b-8f70-43a4-aa37-e56801002d9b",
   "metadata": {},
   "outputs": [
    {
     "name": "stdout",
     "output_type": "stream",
     "text": [
      "                         &                          &          Stays           &         Episodes        \\\\\n",
      "                         &            N             & (mean/median/10th pctl)  & (mean/median/10th pctl) \\\\\n",
      "  Transitional - cluster &  11984/13295 (90.14\\%)   &      20.62 / 2 / 53      &       1.52 / 1 / 3      \\\\\n",
      "      Transitional - SAM &  11007/13295 (82.79\\%)   &      16.29 / 2 / 28      &       1.78 / 1 / 3      \\\\\n",
      "      Episodic - cluster &   1092/13295 (8.21\\%)    &    115.34 / 65 / 311     &      7.01 / 6 / 10      \\\\\n",
      "          Episodic - SAM &   1668/13295 (12.55\\%)   &    102.40 / 49 / 255     &       3.36 / 3 / 7      \\\\\n",
      "       Chronic - cluster &    219/13295 (1.65\\%)    &   1018.11 / 843 / 1782   &       2.50 / 2 / 5      \\\\\n",
      "           Chronic - SAM &    620/13295 (4.66\\%)    &    396.75 / 218 / 947    &       2.02 / 1 / 4      \\\\\n"
     ]
    }
   ],
   "source": [
    "labels = { 'Trn': 'Transitional', 'Epi': 'Episodic', 'Chr': 'Chronic' }\n",
    "\n",
    "lWdth = 24\n",
    "cWdth = 24\n",
    "\n",
    "print(gen_header(lWdth,cWdth,sepStr=' & ',endStr='\\\\\\\\'))\n",
    "\n",
    "for k in labels.keys():\n",
    "    tStat = gen_access_stats(trueLbl[k],sleepTbl)\n",
    "    eStat = gen_access_stats(samLbl[k],sleepTbl)\n",
    "\n",
    "    rStr = gen_stat_row(labels[k]+' - cluster',tStat,nClients,lWdth,cWdth,sepStr=' & ',endStr='\\\\\\\\')\n",
    "    print(rStr)\n",
    "    \n",
    "    rStr = gen_stat_row(labels[k]+' - SAM',eStat,nClients,lWdth,cWdth,sepStr=' & ',endStr='\\\\\\\\')\n",
    "    print(rStr)\n",
    "        \n",
    "    \n",
    "\n"
   ]
  },
  {
   "cell_type": "code",
   "execution_count": null,
   "id": "4d0d6a5f-0670-486a-932a-e7a55fc68b5a",
   "metadata": {},
   "outputs": [],
   "source": []
  },
  {
   "cell_type": "markdown",
   "id": "ed1417d5-5e87-4d3b-8855-6f89f9f26b4c",
   "metadata": {},
   "source": [
    "## Access Pattern Timeline"
   ]
  },
  {
   "cell_type": "code",
   "execution_count": 30,
   "id": "0d423747-b1f9-4e59-8270-2ff0d9bdabde",
   "metadata": {},
   "outputs": [],
   "source": [
    "startDate = pd.to_datetime('2013-08-01')\n",
    "endDate = pd.to_datetime('2022-02-01')"
   ]
  },
  {
   "cell_type": "code",
   "execution_count": 31,
   "id": "04c41e62-8765-4548-a867-96fdf189229a",
   "metadata": {},
   "outputs": [],
   "source": [
    "idx = eTbl.ClientId.isin(cohort['All']) & (eTbl.EventType == 'Sleep')"
   ]
  },
  {
   "cell_type": "code",
   "execution_count": 32,
   "id": "ee65853d-35f5-4948-962e-3160187d013a",
   "metadata": {},
   "outputs": [
    {
     "data": {
      "application/vnd.jupyter.widget-view+json": {
       "model_id": "fd7aff810e954e10b85080b3e1c460c7",
       "version_major": 2,
       "version_minor": 0
      },
      "text/plain": [
       "  0%|          | 0/24512 [00:00<?, ?it/s]"
      ]
     },
     "metadata": {},
     "output_type": "display_data"
    }
   ],
   "source": [
    "samMets = eTbl.loc[idx].groupby('ClientId').progress_apply(calc_sam_metrics,obsWin=90,actvThrsh=30)"
   ]
  },
  {
   "cell_type": "code",
   "execution_count": 33,
   "id": "25c90dd1-d60f-4194-b396-069bf834e556",
   "metadata": {},
   "outputs": [],
   "source": [
    "def real_time_sam(tbl,alpha):\n",
    "    labelStr = 'Trn'\n",
    "    row = tbl.iloc[0]\n",
    "    if row.Valid:\n",
    "        if row.InShelterFrc > alpha:\n",
    "            labelStr = 'Chr'\n",
    "        else:\n",
    "            labelStr = 'Epi'\n",
    "            \n",
    "    return pd.Series({ 'Date': row.StartDate, 'Label': labelStr })"
   ]
  },
  {
   "cell_type": "code",
   "execution_count": 34,
   "id": "c6bc5e70-b4e8-4620-a1fa-8154e7aaca56",
   "metadata": {},
   "outputs": [
    {
     "data": {
      "application/vnd.jupyter.widget-view+json": {
       "model_id": "456abb2010804cf3ba3b54abcbacfdc7",
       "version_major": 2,
       "version_minor": 0
      },
      "text/plain": [
       "  0%|          | 0/24512 [00:00<?, ?it/s]"
      ]
     },
     "metadata": {},
     "output_type": "display_data"
    }
   ],
   "source": [
    "labels = samMets.groupby(level=0).progress_apply(real_time_sam,alpha=0.85)"
   ]
  },
  {
   "cell_type": "code",
   "execution_count": 35,
   "id": "254fd740-733e-490d-b51e-410c0053e67d",
   "metadata": {},
   "outputs": [],
   "source": [
    "dateIdx = (labels.Date >= startDate) & (labels.Date <= endDate)\n",
    "c = labels.loc[(labels.Label=='Chr') & dateIdx].resample('3M',on='Date').count().Label\n",
    "e = labels.loc[(labels.Label=='Epi') & dateIdx].resample('3M',on='Date').count().Label\n",
    "t = labels.loc[(labels.Label=='Trn') & dateIdx].resample('3M',on='Date').count().Label\n",
    "\n",
    "n = c+e+t"
   ]
  },
  {
   "cell_type": "code",
   "execution_count": 36,
   "id": "87ca039b-6b57-4c8e-96ae-04a002dbaff4",
   "metadata": {},
   "outputs": [],
   "source": [
    "cPct = c/n*100\n",
    "ePct = e/n*100\n",
    "tPct = t/n*100\n",
    "\n",
    "cPctChg = (cPct/cPct.iloc[0]-1)*100\n",
    "ePctChg = (ePct/ePct.iloc[0]-1)*100\n",
    "tPctChg = (tPct/tPct.iloc[0]-1)*100"
   ]
  },
  {
   "cell_type": "code",
   "execution_count": 42,
   "id": "625c28a3-bf4c-478d-a774-5b3beef62d39",
   "metadata": {},
   "outputs": [
    {
     "name": "stderr",
     "output_type": "stream",
     "text": [
      "The PostScript backend does not support transparency; partially transparent artists will be rendered opaque.\n",
      "The PostScript backend does not support transparency; partially transparent artists will be rendered opaque.\n"
     ]
    },
    {
     "data": {
      "image/png": "[encoded data removed]",
      "text/plain": [
       "<Figure size 576x432 with 1 Axes>"
      ]
     },
     "metadata": {
      "needs_background": "light"
     },
     "output_type": "display_data"
    }
   ],
   "source": [
    "plt.rcParams['font.size'] = 16\n",
    "fig,ax = plt.subplots(figsize=(8,6))\n",
    "\n",
    "dates = n.index\n",
    "plt.plot(dates,cPctChg,color='#474747',label='Chronic')\n",
    "plt.plot(dates,ePctChg,color='#919191',label='Episodic')\n",
    "plt.plot(dates,tPctChg,color='#c7c7c7',label='Transitional')\n",
    "plt.legend(fontsize=14)\n",
    "\n",
    "plt.ylabel('Percent Change',fontsize=16)\n",
    "plt.xlabel('Year',fontsize=16)\n",
    "plt.grid()\n",
    "\n",
    "_ = ax.set_xlim([ startDate, endDate ])\n",
    "plt.savefig('PercentChange.eps')"
   ]
  },
  {
   "cell_type": "code",
   "execution_count": null,
   "id": "832a8c4a-a88f-4797-a096-b87210ca68d0",
   "metadata": {},
   "outputs": [],
   "source": []
  },
  {
   "cell_type": "markdown",
   "id": "c2ee9518-10af-4ea4-8d4e-a65924dfb0f3",
   "metadata": {},
   "source": [
    "## Shelter Usage Timeline"
   ]
  },
  {
   "cell_type": "code",
   "execution_count": 38,
   "id": "9f2c04e6-1389-4fc3-89ad-e6f7c3938310",
   "metadata": {},
   "outputs": [],
   "source": [
    "cohT = labels.loc[labels.Label == 'Trn'].index\n",
    "cohE = labels.loc[labels.Label == 'Epi'].index\n",
    "cohC = labels.loc[labels.Label == 'Chr'].index"
   ]
  },
  {
   "cell_type": "code",
   "execution_count": 39,
   "id": "45c1fd7b-1bb3-45a3-9b39-6f51944eeddb",
   "metadata": {},
   "outputs": [],
   "source": [
    "sleepsT = eTbl.loc[eTbl.ClientId.isin(cohT) & (eTbl.Date >= startDate) & (eTbl.Date <= endDate)].resample('3M',on='Date').count().EventType\n",
    "sleepsE = eTbl.loc[eTbl.ClientId.isin(cohE) & (eTbl.Date >= startDate) & (eTbl.Date <= endDate)].resample('3M',on='Date').count().EventType\n",
    "sleepsC = eTbl.loc[eTbl.ClientId.isin(cohC) & (eTbl.Date >= startDate) & (eTbl.Date <= endDate)].resample('3M',on='Date').count().EventType\n",
    "sleepsN = sleepsT + sleepsE + sleepsC\n",
    "\n",
    "sleepsTPct = sleepsT/sleepsN*100\n",
    "sleepsEPct = sleepsE/sleepsN*100\n",
    "sleepsCPct = sleepsC/sleepsN*100"
   ]
  },
  {
   "cell_type": "code",
   "execution_count": 40,
   "id": "f08407ba-113d-45df-96e9-a85a68c014d1",
   "metadata": {},
   "outputs": [
    {
     "name": "stderr",
     "output_type": "stream",
     "text": [
      "The PostScript backend does not support transparency; partially transparent artists will be rendered opaque.\n",
      "The PostScript backend does not support transparency; partially transparent artists will be rendered opaque.\n"
     ]
    },
    {
     "data": {
      "image/png": "[encoded data removed]",
      "text/plain": [
       "<Figure size 576x432 with 1 Axes>"
      ]
     },
     "metadata": {
      "needs_background": "light"
     },
     "output_type": "display_data"
    }
   ],
   "source": [
    "fig,ax = plt.subplots(figsize=(8,6))\n",
    "plt.rcParams['font.size'] = 16\n",
    "width = 25\n",
    "\n",
    "dates = sleepsN.index\n",
    "\n",
    "plt.plot(dates,sleepsCPct,color='#474747',label='Chronic')\n",
    "plt.plot(dates,sleepsEPct,color='#919191',label='Episodic')\n",
    "plt.plot(dates,sleepsTPct,color='#c7c7c7',label='Transitional')\n",
    "\n",
    "plt.legend(fontsize=14)\n",
    "\n",
    "plt.ylabel('Percent Beds Occupancy',fontsize=16)\n",
    "plt.xlabel('Year',fontsize=16)\n",
    "plt.grid()\n",
    "\n",
    "_ = ax.set_xlim([ startDate, endDate ])\n",
    "plt.savefig('BedOccupancy.eps')"
   ]
  },
  {
   "cell_type": "code",
   "execution_count": null,
   "id": "0fa9fbeb-7252-47b4-83e5-a0a0953aa822",
   "metadata": {},
   "outputs": [],
   "source": []
  },
  {
   "cell_type": "code",
   "execution_count": null,
   "id": "638e93ca-c2e1-4b66-bf2b-72e94597163b",
   "metadata": {},
   "outputs": [],
   "source": []
  },
  {
   "cell_type": "code",
   "execution_count": null,
   "id": "4f0ea76c-efd2-4bd2-bde3-1fe41841a9d5",
   "metadata": {},
   "outputs": [],
   "source": []
  }
 ],
 "metadata": {
  "kernelspec": {
   "display_name": "Python 3 (ipykernel)",
   "language": "python",
   "name": "python3"
  },
  "language_info": {
   "codemirror_mode": {
    "name": "ipython",
    "version": 3
   },
   "file_extension": ".py",
   "mimetype": "text/x-python",
   "name": "python",
   "nbconvert_exporter": "python",
   "pygments_lexer": "ipython3",
   "version": "3.9.7"
  }
 },
 "nbformat": 4,
 "nbformat_minor": 5
}
