{
 "cells": [
  {
   "cell_type": "markdown",
   "metadata": {},
   "source": [
    "# Finding the Best Threshold\n",
    "This notebook determines the best threshold/time window combinations for identifying episodic and chronic shelter users."
   ]
  },
  {
   "cell_type": "markdown",
   "metadata": {},
   "source": [
    "    Copyright (C) 2021 Geoffrey Guy Messier\n",
    "\n",
    "    This program is free software: you can redistribute it and/or modify\n",
    "    it under the terms of the GNU General Public License as published by\n",
    "    the Free Software Foundation, either version 3 of the License, or\n",
    "    (at your option) any later version.\n",
    "\n",
    "    This program is distributed in the hope that it will be useful,\n",
    "    but WITHOUT ANY WARRANTY; without even the implied warranty of\n",
    "    MERCHANTABILITY or FITNESS FOR A PARTICULAR PURPOSE.  See the\n",
    "    GNU General Public License for more details.\n",
    "\n",
    "    You should have received a copy of the GNU General Public License\n",
    "    along with this program.  If not, see <https://www.gnu.org/licenses/>."
   ]
  },
  {
   "cell_type": "code",
   "execution_count": 2,
   "metadata": {},
   "outputs": [],
   "source": [
    "%load_ext autoreload\n",
    "%autoreload 1"
   ]
  },
  {
   "cell_type": "code",
   "execution_count": 3,
   "metadata": {},
   "outputs": [],
   "source": [
    "import numpy as np\n",
    "import pandas as pd\n",
    "import datetime, copy, imp\n",
    "import time\n",
    "import matplotlib.pyplot as plt\n",
    "import sys\n",
    "\n",
    "\n",
    "from tqdm.auto import tqdm, trange\n",
    "from tqdm.notebook import tqdm\n",
    "tqdm.pandas()\n",
    "\n",
    "%aimport di_data\n",
    "from di_data import *\n",
    "import KMeansCluster as km"
   ]
  },
  {
   "cell_type": "markdown",
   "metadata": {},
   "source": [
    "### Pre-Processing"
   ]
  },
  {
   "cell_type": "code",
   "execution_count": 4,
   "metadata": {},
   "outputs": [],
   "source": [
    "dirStr = '~/data/plwh/'"
   ]
  },
  {
   "cell_type": "code",
   "execution_count": 5,
   "metadata": {},
   "outputs": [],
   "source": [
    "def PreProcess():\n",
    "    \n",
    "    tblAll = pd.read_hdf(dirStr + 'UniversityExportAnonymized.hd5')\n",
    "    \n",
    "    tblAll = tblAll[tblAll.Date >= pd.to_datetime('2007-07-01')]\n",
    "    \n",
    "    print('Total Entries: {}'.format(len(tblAll.index)))\n",
    "    print('Dates: ',min(tblAll.Date),' to ',max(tblAll.Date))\n",
    "\n",
    "    tbl = copy.deepcopy(tblAll[tblAll.EntryType == 'Sleep'][ ['Date','ClientId'] ])\n",
    "        \n",
    "    # To address left censoring: Remove all clients with first sleep date within a year of the 2008 data import.\n",
    "    leftStart = tbl.Date.min()\n",
    "    leftEnd = pd.to_datetime('2009-07-01')\n",
    "    \n",
    "    # To address right censoring: Remove all clients with first sleep date within approximately 2 years of the end\n",
    "    # of the data.  Reasoning: We want to allow a 2 year window to give the clients a chance to become chronic.\n",
    "    rightStart = pd.to_datetime('2018-01-20')\n",
    "    rightEnd = tbl.Date.max()\n",
    "    \n",
    "    nClientsAll = len(tbl.ClientId.unique())\n",
    "    \n",
    "    tbl = RemoveByStartDate(tbl,leftStart,leftEnd)\n",
    "    nLeftRemoved = nClientsAll - len(tbl.ClientId.unique())\n",
    "\n",
    "    tbl = RemoveByStartDate(tbl,rightStart,rightEnd)\n",
    "    nRightRemoved = nClientsAll - nLeftRemoved - len(tbl.ClientId.unique())\n",
    "\n",
    "    \n",
    "    # Discard all data before September 1, 2008 due to import errors from previous database.\n",
    "    tbl = tbl.loc[tbl.Date >= pd.to_datetime('2008-09-01')]\n",
    "\n",
    "    nClients = len(tbl.ClientId.unique())\n",
    " \n",
    "    print('Total Clients: {:d}/{:d} ({:.1f}%) ({:d} removed left, {:d} removed right)'\n",
    "          .format(nClients,nClientsAll,100.0*nClients/nClientsAll,nLeftRemoved,nRightRemoved))\n",
    "\n",
    "    return tbl"
   ]
  },
  {
   "cell_type": "code",
   "execution_count": 6,
   "metadata": {},
   "outputs": [
    {
     "name": "stdout",
     "output_type": "stream",
     "text": [
      "Total Entries: 5431521\n",
      "Dates:  2007-07-01 00:00:00  to  2020-01-20 00:00:00\n",
      "Total Clients: 18398/34577 (53.2%) (12609 removed left, 3570 removed right)\n"
     ]
    }
   ],
   "source": [
    "tbl = PreProcess()"
   ]
  },
  {
   "cell_type": "code",
   "execution_count": null,
   "metadata": {},
   "outputs": [],
   "source": []
  },
  {
   "cell_type": "markdown",
   "metadata": {},
   "source": [
    "### Identify Episodes and Stays"
   ]
  },
  {
   "cell_type": "code",
   "execution_count": 7,
   "metadata": {},
   "outputs": [],
   "source": [
    "def GenStays():\n",
    "    return tbl.groupby('ClientId').progress_apply(CalculateStaySequence) "
   ]
  },
  {
   "cell_type": "code",
   "execution_count": 9,
   "metadata": {},
   "outputs": [
    {
     "data": {
      "application/vnd.jupyter.widget-view+json": {
       "model_id": "bc633d036a194e14a8e8a8acbb3644c5",
       "version_major": 2,
       "version_minor": 0
      },
      "text/plain": [
       "  0%|          | 0/18398 [00:00<?, ?it/s]"
      ]
     },
     "metadata": {},
     "output_type": "display_data"
    }
   ],
   "source": [
    "stays = GenStays()"
   ]
  },
  {
   "cell_type": "code",
   "execution_count": 10,
   "metadata": {},
   "outputs": [],
   "source": [
    "def GenEpis():\n",
    "    return tbl.groupby('ClientId').progress_apply(CalculateEpisodeSequence)"
   ]
  },
  {
   "cell_type": "code",
   "execution_count": 11,
   "metadata": {},
   "outputs": [
    {
     "data": {
      "application/vnd.jupyter.widget-view+json": {
       "model_id": "9c9c7f0149f84edb984e642b6cdd3520",
       "version_major": 2,
       "version_minor": 0
      },
      "text/plain": [
       "  0%|          | 0/18398 [00:00<?, ?it/s]"
      ]
     },
     "metadata": {},
     "output_type": "display_data"
    }
   ],
   "source": [
    "epis = GenEpis()"
   ]
  },
  {
   "cell_type": "code",
   "execution_count": 12,
   "metadata": {},
   "outputs": [],
   "source": [
    "# Determine the total number of stays and episodes for each client and store in seDat.\n",
    "def JointStaysAndEpis():\n",
    "    nClients = len(tbl.ClientId.unique())\n",
    "    clientInds = stays.index.get_level_values(0).drop_duplicates()\n",
    "    seDat = pd.DataFrame({ \n",
    "        'nSty': [0]*nClients,   # Stores total stays.\n",
    "        'nEpi': [0]*nClients }, # Stores total episodes.\n",
    "        index=clientInds)\n",
    "    for id in tqdm(clientInds):\n",
    "        seDat.loc[id,'nSty'] = stays.loc[id].Ind.max() # Number of stays is max stay index.\n",
    "        seDat.loc[id,'nEpi'] = epis.loc[id].Ind.max()  # Number of episodes is max episode index.\n",
    "        \n",
    "    return seDat"
   ]
  },
  {
   "cell_type": "code",
   "execution_count": 13,
   "metadata": {},
   "outputs": [
    {
     "data": {
      "application/vnd.jupyter.widget-view+json": {
       "model_id": "6673f5fddcf6428fb425387ef2d03a15",
       "version_major": 2,
       "version_minor": 0
      },
      "text/plain": [
       "  0%|          | 0/18398 [00:00<?, ?it/s]"
      ]
     },
     "metadata": {},
     "output_type": "display_data"
    }
   ],
   "source": [
    "seDat = JointStaysAndEpis()"
   ]
  },
  {
   "cell_type": "code",
   "execution_count": null,
   "metadata": {},
   "outputs": [],
   "source": []
  },
  {
   "cell_type": "code",
   "execution_count": 14,
   "metadata": {},
   "outputs": [
    {
     "name": "stdout",
     "output_type": "stream",
     "text": [
      "New Clients per Month - Mean: 178.621, Median: 172\n"
     ]
    }
   ],
   "source": [
    "# Determine the number of new clients that register per month.\n",
    "regDates = list(tbl.groupby('ClientId').Date.min())  # List of first dates that each client appears.\n",
    "\n",
    "# Resample the dates to determine how many new registrants we have per month.\n",
    "nClients = len(tbl.ClientId.unique())\n",
    "monthlyReg = pd.DataFrame([1]*nClients,index=regDates).groupby(pd.Grouper(freq='M')).count()\n",
    "\n",
    "print('New Clients per Month - Mean: %g, Median: %g' % (monthlyReg.mean(),monthlyReg.median()))"
   ]
  },
  {
   "cell_type": "markdown",
   "metadata": {},
   "source": [
    "### Perform Cluster Analysis"
   ]
  },
  {
   "cell_type": "code",
   "execution_count": 15,
   "metadata": {},
   "outputs": [
    {
     "data": {
      "text/html": [
       "<div>\n",
       "<style scoped>\n",
       "    .dataframe tbody tr th:only-of-type {\n",
       "        vertical-align: middle;\n",
       "    }\n",
       "\n",
       "    .dataframe tbody tr th {\n",
       "        vertical-align: top;\n",
       "    }\n",
       "\n",
       "    .dataframe thead th {\n",
       "        text-align: right;\n",
       "    }\n",
       "</style>\n",
       "<table border=\"1\" class=\"dataframe\">\n",
       "  <thead>\n",
       "    <tr style=\"text-align: right;\">\n",
       "      <th></th>\n",
       "      <th>i</th>\n",
       "      <th>j</th>\n",
       "      <th>pVal</th>\n",
       "    </tr>\n",
       "  </thead>\n",
       "  <tbody>\n",
       "    <tr>\n",
       "      <th>0</th>\n",
       "      <td>0</td>\n",
       "      <td>1</td>\n",
       "      <td>1.110223e-16</td>\n",
       "    </tr>\n",
       "    <tr>\n",
       "      <th>1</th>\n",
       "      <td>0</td>\n",
       "      <td>2</td>\n",
       "      <td>1.110223e-16</td>\n",
       "    </tr>\n",
       "    <tr>\n",
       "      <th>2</th>\n",
       "      <td>1</td>\n",
       "      <td>2</td>\n",
       "      <td>1.110223e-16</td>\n",
       "    </tr>\n",
       "  </tbody>\n",
       "</table>\n",
       "</div>"
      ],
      "text/plain": [
       "   i  j          pVal\n",
       "0  0  1  1.110223e-16\n",
       "1  0  2  1.110223e-16\n",
       "2  1  2  1.110223e-16"
      ]
     },
     "execution_count": 15,
     "metadata": {},
     "output_type": "execute_result"
    }
   ],
   "source": [
    "k = 3  # Established in previous work to yield the transitional, chronic and episodic clusters.\n",
    "\n",
    "cluster = km.KMeansCluster(k,seDat)\n",
    "(mus,clstrAsgn,pTable) = cluster.Solve(40,0.005)\n",
    "\n",
    "# The cluster indices representing chronic, episodic and transitional can change from run to\n",
    "# run due to how the cluster analysis is randomly initialized.  This code determines those indices.\n",
    "chrId = np.argmax(mus[:,0])  # Chronic clients have the highest number of stays.\n",
    "epiId = np.argmax(mus[:,1])  # Episodic clients have the highest number of episodes.\n",
    "tmpId = list( set([0,1,2]) - set([chrId,epiId]) )[0]  # Transitional clients are the group left over.\n",
    "styMuInd = 0\n",
    "epiMuInd = 1\n",
    "\n",
    "pTable"
   ]
  },
  {
   "cell_type": "code",
   "execution_count": 16,
   "metadata": {},
   "outputs": [
    {
     "name": "stdout",
     "output_type": "stream",
     "text": [
      "Trans (15675/18398, 85.2%) > AvgStays: 30.3157, AvgEpisodes: 1.81684, \n",
      "Epi   (2184/18398, 11.9%) > AvgStays: 166.994, AvgEpisodes: 9.19048, \n",
      "Chron (539/18398, 2.9%) > AvgStays: 1273.07, AvgEpisodes: 3.65863, \n",
      "Max stays for single episode transitional client:  662\n"
     ]
    }
   ],
   "source": [
    "# Calculate statistics on the three clusters to compare to previously published results.\n",
    "\n",
    "tmpN = sum(clstrAsgn == tmpId)  # Total number of clients in each group.\n",
    "chrN = sum(clstrAsgn == chrId)\n",
    "epiN = sum(clstrAsgn == epiId)\n",
    "\n",
    "print('Trans (%d/%d, %.1f%%) > AvgStays: %g, AvgEpisodes: %g, ' \n",
    "      % (tmpN,nClients,100*tmpN/nClients,mus[tmpId,styMuInd],mus[tmpId,epiMuInd]))\n",
    "print('Epi   (%d/%d, %.1f%%) > AvgStays: %g, AvgEpisodes: %g, ' \n",
    "      % (epiN,nClients,100*epiN/nClients,mus[epiId,styMuInd],mus[epiId,epiMuInd]))\n",
    "print('Chron (%d/%d, %.1f%%) > AvgStays: %g, AvgEpisodes: %g, ' \n",
    "      % (chrN,nClients,100*chrN/nClients,mus[chrId,styMuInd],mus[chrId,epiMuInd]))\n",
    "\n",
    "print('Max stays for single episode transitional client: ',\n",
    "      seDat[(clstrAsgn == tmpId) & (seDat.nEpi == 1)].nSty.max())"
   ]
  },
  {
   "cell_type": "markdown",
   "metadata": {},
   "source": [
    "#### Demographics"
   ]
  },
  {
   "cell_type": "code",
   "execution_count": 18,
   "metadata": {},
   "outputs": [],
   "source": [
    "def CalculateClientDemographics():\n",
    "    return tbl.groupby('ClientId').progress_apply(ShelterGroupDemographics)"
   ]
  },
  {
   "cell_type": "code",
   "execution_count": 19,
   "metadata": {},
   "outputs": [
    {
     "data": {
      "application/vnd.jupyter.widget-view+json": {
       "model_id": "87fe61c702f4498b98a04693e76da880",
       "version_major": 2,
       "version_minor": 0
      },
      "text/plain": [
       "  0%|          | 0/18398 [00:00<?, ?it/s]"
      ]
     },
     "metadata": {},
     "output_type": "display_data"
    }
   ],
   "source": [
    "demog = CalculateClientDemographics()"
   ]
  },
  {
   "cell_type": "code",
   "execution_count": null,
   "metadata": {},
   "outputs": [],
   "source": []
  },
  {
   "cell_type": "markdown",
   "metadata": {},
   "source": [
    "### Threshold/Window Optimization"
   ]
  },
  {
   "cell_type": "code",
   "execution_count": 20,
   "metadata": {},
   "outputs": [],
   "source": [
    "dayWinRange = [ 30, 90, 180, 365, 547 ]\n",
    "styThshFrac = np.array([ 0.5, 0.75, 0.9 ])\n",
    "epiThshRange = [ 2, 3, 4, 5 ]"
   ]
  },
  {
   "cell_type": "code",
   "execution_count": 21,
   "metadata": {},
   "outputs": [],
   "source": [
    "def OptimizeStayThreshold():\n",
    "    styOpt = { d: { t: pd.DataFrame() for t in (styThshFrac*d).astype(int)} for d in dayWinRange }\n",
    "    tBar = tqdm( total = len(styThshFrac)*len(dayWinRange) )\n",
    "    for win in dayWinRange:\n",
    "        for thsh in (win*styThshFrac).astype(int):\n",
    "            styOpt[win][thsh] = stays.groupby('ClientId').apply(TimeWinThresholdTest,posFlag='sty',negFlag='tmp',thresh=thsh,winSzDays=win)\n",
    "            tBar.update()\n",
    "        \n",
    "    tBar.close()\n",
    "    return styOpt    "
   ]
  },
  {
   "cell_type": "code",
   "execution_count": 22,
   "metadata": {},
   "outputs": [
    {
     "data": {
      "application/vnd.jupyter.widget-view+json": {
       "model_id": "024d19e6b20548aab5aaa5b0f06a7234",
       "version_major": 2,
       "version_minor": 0
      },
      "text/plain": [
       "  0%|          | 0/15 [00:00<?, ?it/s]"
      ]
     },
     "metadata": {},
     "output_type": "display_data"
    }
   ],
   "source": [
    "styOpt = OptimizeStayThreshold()"
   ]
  },
  {
   "cell_type": "code",
   "execution_count": 23,
   "metadata": {},
   "outputs": [],
   "source": [
    "def OptimizeEpiThreshold():\n",
    "    \n",
    "    epiOpt = { d: { t: pd.DataFrame() for t in epiThshRange} for d in dayWinRange }\n",
    "    tBar = tqdm( total = len(epiThshRange)*len(dayWinRange) )\n",
    "    for win in dayWinRange:\n",
    "        for thsh in epiThshRange:\n",
    "            epiOpt[win][thsh] = epis.groupby('ClientId').apply(TimeWinThresholdTest,posFlag='epi',negFlag='tmp',thresh=thsh,winSzDays=win)\n",
    "            tBar.update()\n",
    "        \n",
    "    tBar.close()\n",
    "    return epiOpt   "
   ]
  },
  {
   "cell_type": "code",
   "execution_count": 24,
   "metadata": {},
   "outputs": [
    {
     "data": {
      "application/vnd.jupyter.widget-view+json": {
       "model_id": "32cb9d80ce7141a291f868b62f2db913",
       "version_major": 2,
       "version_minor": 0
      },
      "text/plain": [
       "  0%|          | 0/20 [00:00<?, ?it/s]"
      ]
     },
     "metadata": {},
     "output_type": "display_data"
    }
   ],
   "source": [
    "epiOpt = OptimizeEpiThreshold()"
   ]
  },
  {
   "cell_type": "markdown",
   "metadata": {},
   "source": [
    "### Evaluate Impact of Interventions"
   ]
  },
  {
   "cell_type": "code",
   "execution_count": 25,
   "metadata": {},
   "outputs": [],
   "source": [
    "# Determines the number of shelter stays and days of shelter interaction saved if a client\n",
    "# identified as chronic or episodic is placed in a house the day they're identified.\n",
    "def CalcImpact(\n",
    "    testList,  # Client list after being processed by a shelter stay test.\n",
    "    stays      # Stay table.\n",
    "    ):   \n",
    "    \n",
    "    staysSaved = 0\n",
    "    tenureDaysSaved = 0\n",
    "    \n",
    "    # Loop through all clients that are not transitional.\n",
    "    for clientId in testList[testList.Flag != 'tmp'].index:\n",
    "        \n",
    "        # Find the stays that occur after the client is identified\n",
    "        saved = stays.loc[clientId][stays.loc[clientId].Date >= testList.loc[clientId].Date] \n",
    "        \n",
    "        staysSaved += saved.Ind.count()-1\n",
    "        tenureDaysSaved += (saved.Date.iloc[-1]-testList.loc[clientId].Date).days\n",
    "    \n",
    "    nClientsIdentified = sum(testList.Flag != 'tmp')\n",
    "    \n",
    "    return np.array([ \n",
    "        nClientsIdentified, staysSaved, tenureDaysSaved, \n",
    "        testList[testList.Flag!='tmp'].Time.sum(),\n",
    "        testList[testList.Flag!='tmp'].Time.median()\n",
    "    ])\n"
   ]
  },
  {
   "cell_type": "code",
   "execution_count": 26,
   "metadata": {},
   "outputs": [],
   "source": [
    "def EvalThresholdImpacts(opt):\n",
    "    \n",
    "    keys1dim = list(opt.keys())\n",
    "    nKeys = len(keys1dim) * len(opt[keys1dim[0]])\n",
    "    impact = np.zeros((nKeys,7))\n",
    "    \n",
    "    iRow = 0\n",
    "    tBar = tqdm(total=nKeys)\n",
    "    for win in opt.keys():\n",
    "        for thsh in opt[win].keys():\n",
    "            impact[iRow,:] = np.concatenate( (np.array([win,thsh]),CalcImpact(opt[win][thsh],stays)) )\n",
    "            iRow += 1\n",
    "            tBar.update()\n",
    "            \n",
    "    tBar.close()\n",
    "    return impact"
   ]
  },
  {
   "cell_type": "code",
   "execution_count": 27,
   "metadata": {},
   "outputs": [],
   "source": [
    "impInd = { 'Thsh': 0, 'Win': 1, 'N': 2, 'TotStySv': 3, 'TotTnSv': 4, 'IdTTot': 5, 'IdTMd': 6 }"
   ]
  },
  {
   "cell_type": "code",
   "execution_count": 28,
   "metadata": {},
   "outputs": [
    {
     "data": {
      "application/vnd.jupyter.widget-view+json": {
       "model_id": "68d656b1642a4170bf642630550eb3a3",
       "version_major": 2,
       "version_minor": 0
      },
      "text/plain": [
       "  0%|          | 0/20 [00:00<?, ?it/s]"
      ]
     },
     "metadata": {},
     "output_type": "display_data"
    }
   ],
   "source": [
    "impactEpi = EvalThresholdImpacts(opt=epiOpt)"
   ]
  },
  {
   "cell_type": "code",
   "execution_count": 29,
   "metadata": {},
   "outputs": [
    {
     "data": {
      "application/vnd.jupyter.widget-view+json": {
       "model_id": "c9b24a9f004d41769bcf4d457a3251e0",
       "version_major": 2,
       "version_minor": 0
      },
      "text/plain": [
       "  0%|          | 0/15 [00:00<?, ?it/s]"
      ]
     },
     "metadata": {},
     "output_type": "display_data"
    }
   ],
   "source": [
    "impactSty = EvalThresholdImpacts(opt=styOpt)"
   ]
  },
  {
   "cell_type": "code",
   "execution_count": 30,
   "metadata": {},
   "outputs": [],
   "source": [
    "def PrintImpact(tbl,typeFlg,nClients,nTop=10):\n",
    "    iThsh=1; iWin=0; iN=2; iTotStySv=3; iTotTnSv=4; iIdTTot=5; iIdTMd=6    \n",
    "\n",
    "    print('Win/Thsh     n       StySvPr TenRdPr AvgSpd MdSpd')\n",
    "    print('-------------------------------------------------')\n",
    "\n",
    "    for rw in tbl[0:nTop]:\n",
    "        print('%3d/%3d  %4d,%4.1f%%  %5.1f   %5.1f   %5.1f   %5.1f' \n",
    "              % (int(rw[iWin]), int(rw[iThsh]), int(rw[iN]), 100.0*rw[iN]/nClients,  \n",
    "                 rw[iTotStySv]/rw[iN], rw[iTotTnSv]/rw[iN], rw[iIdTTot]/rw[iN], rw[iIdTMd] ) )\n"
   ]
  },
  {
   "cell_type": "code",
   "execution_count": 31,
   "metadata": {},
   "outputs": [
    {
     "name": "stdout",
     "output_type": "stream",
     "text": [
      "\n",
      "Epi Test (Tenure Reduction Ranking)\n",
      "Win/Thsh     n       StySvPr TenRdPr AvgSpd MdSpd\n",
      "-------------------------------------------------\n",
      "180/  4   310, 1.7%   87.5   932.9   933.3   731.5\n",
      "365/  5   618, 3.4%   91.7   906.6   985.2   748.5\n",
      "365/  3  3476,18.9%   99.0   872.8   602.2   313.0\n",
      "547/  5  1246, 6.8%   85.3   868.1   925.4   666.5\n",
      "180/  3  1903,10.3%   85.3   864.7   712.0   460.0\n",
      "547/  4  2331,12.7%   90.9   858.1   769.9   485.0\n",
      "365/  4  1581, 8.6%   86.3   857.0   816.9   569.0\n",
      "547/  3  4201,22.8%  101.2   854.7   572.9   367.0\n",
      " 90/  2  4277,23.2%   93.6   829.7   477.7   181.0\n",
      " 90/  3   275, 1.5%   78.3   829.3   871.9   663.0\n"
     ]
    }
   ],
   "source": [
    "print('\\nEpi Test (Tenure Reduction Ranking)')\n",
    "order = ( -impactEpi[:,4] / impactEpi[:,2] ).argsort()\n",
    "PrintImpact(impactEpi[order,:],'Epi',nClients)\n"
   ]
  },
  {
   "cell_type": "code",
   "execution_count": 32,
   "metadata": {},
   "outputs": [
    {
     "name": "stdout",
     "output_type": "stream",
     "text": [
      "Sty Test (Stays Saved Ranking)\n",
      "Win/Thsh     n       StySvPr TenRdPr AvgSpd MdSpd\n",
      "-------------------------------------------------\n",
      "547/492   415, 2.3%  721.4   980.2   852.6   538.0\n",
      "365/328   594, 3.2%  687.9   996.8   716.4   376.5\n",
      "547/410   661, 3.6%  656.6   1000.3   787.7   496.0\n",
      "365/273   904, 4.9%  619.5   1017.8   658.8   350.5\n",
      "180/162  1075, 5.8%  588.4   1030.1   515.3   222.0\n",
      "547/273  1138, 6.2%  555.7   1011.6   673.0   421.5\n",
      "180/135  1583, 8.6%  504.4   1006.4   496.2   188.0\n",
      "365/182  1536, 8.3%  499.7   1006.3   558.4   287.0\n",
      " 90/ 81  1815, 9.9%  471.2   979.7   419.3   137.0\n",
      "180/ 90  2370,12.9%  416.6   997.4   414.7   142.0\n"
     ]
    }
   ],
   "source": [
    "print('Sty Test (Stays Saved Ranking)')\n",
    "order = ( -impactSty[:,3] / impactSty[:,2] ).argsort()\n",
    "PrintImpact(impactSty[order,:],'Chr',nClients)"
   ]
  },
  {
   "cell_type": "code",
   "execution_count": 33,
   "metadata": {},
   "outputs": [],
   "source": [
    "rpdChrThsh = 81\n",
    "rpdChrWin = 90\n",
    "rpdEpiThsh = 2\n",
    "rpdEpiWin = 90"
   ]
  },
  {
   "cell_type": "markdown",
   "metadata": {},
   "source": [
    "### Compare Definitions"
   ]
  },
  {
   "cell_type": "code",
   "execution_count": 34,
   "metadata": {},
   "outputs": [],
   "source": [
    "def CalcRapidChronicDefinition():\n",
    "    return stays.groupby('ClientId').progress_apply(TimeWinThresholdTest,posFlag='chr',negFlag='tmp',thresh=rpdChrThsh,winSzDays=rpdChrWin)"
   ]
  },
  {
   "cell_type": "code",
   "execution_count": 36,
   "metadata": {},
   "outputs": [
    {
     "data": {
      "application/vnd.jupyter.widget-view+json": {
       "model_id": "4ae8aa9e6dc1413d9c95195eb2d2aae3",
       "version_major": 2,
       "version_minor": 0
      },
      "text/plain": [
       "  0%|          | 0/18398 [00:00<?, ?it/s]"
      ]
     },
     "metadata": {},
     "output_type": "display_data"
    }
   ],
   "source": [
    "defRpdChr = CalcRapidChronicDefinition()"
   ]
  },
  {
   "cell_type": "code",
   "execution_count": 37,
   "metadata": {},
   "outputs": [],
   "source": [
    "def CalcRapidEpisodicDefinition():\n",
    "    return epis.groupby('ClientId').progress_apply(TimeWinThresholdTest,posFlag='epi',negFlag='tmp',thresh=rpdEpiThsh,winSzDays=rpdEpiWin)"
   ]
  },
  {
   "cell_type": "code",
   "execution_count": 38,
   "metadata": {},
   "outputs": [
    {
     "data": {
      "application/vnd.jupyter.widget-view+json": {
       "model_id": "14cdea43dda34636ad983c732d90f055",
       "version_major": 2,
       "version_minor": 0
      },
      "text/plain": [
       "  0%|          | 0/18398 [00:00<?, ?it/s]"
      ]
     },
     "metadata": {},
     "output_type": "display_data"
    }
   ],
   "source": [
    "defRpdEpi = CalcRapidEpisodicDefinition()"
   ]
  },
  {
   "cell_type": "code",
   "execution_count": 39,
   "metadata": {},
   "outputs": [],
   "source": [
    "defRpd = ChooseEarliestTest(defRpdChr,defRpdEpi)"
   ]
  },
  {
   "cell_type": "code",
   "execution_count": 40,
   "metadata": {},
   "outputs": [],
   "source": [
    "# Checks for clients are are 'continually homeless' for a threshold number of days.\n",
    "# - We define this as having an episode of homelessness longer than the threshold.\n",
    "def continually_homeless(tbl,flagStr,reqDuration):\n",
    "\n",
    "    gapVals = tbl.Date.diff().astype('timedelta64[D]')  # Gaps are the difference between demog dates.\n",
    "    \n",
    "    # Give each episode of shelter demoges a unique index number.\n",
    "    gapInd = (gapVals >= episodeGap).astype('int').cumsum() \n",
    "\n",
    "    for iGap in range(max(gapInd)+1):\n",
    "        startDate = tbl[gapInd==iGap].Date.min()\n",
    "        endDate = tbl[gapInd==iGap].Date.max()\n",
    "        curDuration = (endDate - startDate).days + 1\n",
    "\n",
    "        if curDuration > reqDuration:           \n",
    "            # Find first date the client's episode exceeded the threshold.\n",
    "            idDate = tbl[(tbl.Date - startDate).dt.days >= reqDuration].Date.min()\n",
    "            \n",
    "            epiStartDate = tbl[gapInd==iGap].Date.iloc[0]\n",
    "            overMaxStays = (tbl.Date - epiStartDate).dt.days >= reqDuration\n",
    "            \n",
    "            return pd.Series({\n",
    "                'Flag': flagStr,  # Flag indicating test was satisfied.\n",
    "                'Date': idDate,   # Date client satisfied the test.\n",
    "                'Time': (idDate - startDate).days  # How long it took to satisfy the test.\n",
    "            })            \n",
    "    \n",
    "    # Returned if client doesn't satisfy the test.\n",
    "    return pd.Series({\n",
    "        'Flag': 'tmp',\n",
    "        'Date': pd.NaT,\n",
    "        'Time': np.nan\n",
    "    })\n",
    "\n",
    "# Function test:\n",
    "#continually_homeless(stays.loc[21910],'cnt',365)  "
   ]
  },
  {
   "cell_type": "code",
   "execution_count": 41,
   "metadata": {},
   "outputs": [],
   "source": [
    "# Helper function that prints out demog statistics for a cohort of clients.\n",
    "def print_stats(tblStr,tbl,fields):\n",
    "    print('--- %s ---' % (tblStr))\n",
    "    nEntry = len(tbl.index)\n",
    "    print( 'Clients in cohort: %d/%d (%.1f%%)' % (nEntry,nClients,100*nEntry/nClients))\n",
    "    print( 'Size of 10%% of cohort: %d/%d (%.1f%%)' % (nEntry*0.1,nClients,100*nEntry*0.1/nClients))\n",
    "    for field in fields:\n",
    "        print('%s:' % (field))\n",
    "        nEntry = sum(~np.isnan(tbl[field]))        \n",
    "        \n",
    "        print(' Avg: %.1f, Med: %.1f, 10thPct: %.1f, 90thPct: %.1f' \n",
    "              %(tbl[field].mean(),tbl[field].median(),\n",
    "                tbl[field].sort_values().iloc[int(nEntry*0.1)],\n",
    "                tbl[field].sort_values().iloc[int(nEntry*0.9)]))\n"
   ]
  },
  {
   "cell_type": "code",
   "execution_count": 42,
   "metadata": {},
   "outputs": [],
   "source": [
    "def CalcAlbertaDefinition():\n",
    "    cnt = stays.groupby('ClientId').progress_apply(continually_homeless,flagStr='cnt',reqDuration=365)\n",
    "    epi = epis.groupby('ClientId').progress_apply(TimeWinThresholdTest,posFlag='epi',negFlag='tmp',thresh=4,winSzDays=365)\n",
    "    return ChooseEarliestTest(cnt,epi)"
   ]
  },
  {
   "cell_type": "code",
   "execution_count": 43,
   "metadata": {},
   "outputs": [
    {
     "data": {
      "application/vnd.jupyter.widget-view+json": {
       "model_id": "95768f617bfd433f97a8cf86bdd1a2b5",
       "version_major": 2,
       "version_minor": 0
      },
      "text/plain": [
       "  0%|          | 0/18398 [00:00<?, ?it/s]"
      ]
     },
     "metadata": {},
     "output_type": "display_data"
    },
    {
     "data": {
      "application/vnd.jupyter.widget-view+json": {
       "model_id": "11f2955aad094b8ea951c4801a2f60dd",
       "version_major": 2,
       "version_minor": 0
      },
      "text/plain": [
       "  0%|          | 0/18398 [00:00<?, ?it/s]"
      ]
     },
     "metadata": {},
     "output_type": "display_data"
    }
   ],
   "source": [
    "defGoa = CalcAlbertaDefinition()"
   ]
  },
  {
   "cell_type": "code",
   "execution_count": 44,
   "metadata": {},
   "outputs": [],
   "source": [
    "def CalcCanadaDefinition():\n",
    "    sty = stays.groupby('ClientId').progress_apply(TimeWinThresholdTest,posFlag='sty',negFlag='tmp',thresh=180,winSzDays=365)\n",
    "    epi = stays.groupby('ClientId').progress_apply(TimeWinThresholdTest,posFlag='sty',negFlag='tmp',thresh=546,winSzDays=1095)\n",
    "    return ChooseEarliestTest(sty,epi)"
   ]
  },
  {
   "cell_type": "code",
   "execution_count": 45,
   "metadata": {},
   "outputs": [
    {
     "data": {
      "application/vnd.jupyter.widget-view+json": {
       "model_id": "b3da1c42b4324300bc841a3d65c1df54",
       "version_major": 2,
       "version_minor": 0
      },
      "text/plain": [
       "  0%|          | 0/18398 [00:00<?, ?it/s]"
      ]
     },
     "metadata": {},
     "output_type": "display_data"
    },
    {
     "data": {
      "application/vnd.jupyter.widget-view+json": {
       "model_id": "bfbb335dc6f14b658ede662709801b37",
       "version_major": 2,
       "version_minor": 0
      },
      "text/plain": [
       "  0%|          | 0/18398 [00:00<?, ?it/s]"
      ]
     },
     "metadata": {},
     "output_type": "display_data"
    }
   ],
   "source": [
    "defGoc = CalcCanadaDefinition()"
   ]
  },
  {
   "cell_type": "markdown",
   "metadata": {},
   "source": [
    "#### Group Demography"
   ]
  },
  {
   "cell_type": "code",
   "execution_count": 46,
   "metadata": {},
   "outputs": [],
   "source": [
    "demogGoaTmp = demog[defGoa.Flag == 'tmp']\n",
    "demogGoaFlg = demog[defGoa.Flag != 'tmp']\n",
    "demogGocTmp = demog[defGoc.Flag == 'tmp']\n",
    "demogGocFlg = demog[defGoc.Flag != 'tmp']\n",
    "\n",
    "demogRapidTmp = demog[defRpd.Flag == 'tmp']\n",
    "demogRapidFlgChr = demog[defRpdChr.Flag == 'chr']\n",
    "demogRapidFlgEpi = demog[defRpdEpi.Flag == 'epi']"
   ]
  },
  {
   "cell_type": "markdown",
   "metadata": {},
   "source": [
    "#### Stats for Clients Identified by a Definition"
   ]
  },
  {
   "cell_type": "code",
   "execution_count": 47,
   "metadata": {},
   "outputs": [
    {
     "name": "stdout",
     "output_type": "stream",
     "text": [
      "--- Government of Canada Chronic Definition ---\n",
      "Clients in cohort: 1549/18398 (8.4%)\n",
      "Size of 10% of cohort: 154/18398 (0.8%)\n",
      "TotalStays:\n",
      " Avg: 702.7, Med: 522.0, 10thPct: 235.0, 90thPct: 1430.0\n",
      "TotalEpisodes:\n",
      " Avg: 4.4, Med: 3.0, 10thPct: 1.0, 90thPct: 9.0\n",
      "Tenure:\n",
      " Avg: 1564.1, Med: 1439.0, 10thPct: 404.0, 90thPct: 2940.0\n",
      "UsagePct:\n",
      " Avg: 53.0, Med: 48.6, 10thPct: 17.6, 90thPct: 95.8\n",
      "--- Government of Alberta Chronic Definition ---\n",
      "Clients in cohort: 2443/18398 (13.3%)\n",
      "Size of 10% of cohort: 244/18398 (1.3%)\n",
      "TotalStays:\n",
      " Avg: 438.6, Med: 216.0, 10thPct: 19.0, 90thPct: 1128.0\n",
      "TotalEpisodes:\n",
      " Avg: 7.4, Med: 7.0, 10thPct: 2.0, 90thPct: 14.0\n",
      "Tenure:\n",
      " Avg: 1672.2, Med: 1592.0, 10thPct: 549.0, 90thPct: 2974.0\n",
      "UsagePct:\n",
      " Avg: 28.3, Med: 14.1, 10thPct: 1.7, 90thPct: 84.1\n",
      "--- RAPID Chronic Definition ---\n",
      "Clients in cohort: 1815/18398 (9.9%)\n",
      "Size of 10% of cohort: 181/18398 (1.0%)\n",
      "TotalStays:\n",
      " Avg: 601.0, Med: 411.0, 10thPct: 131.0, 90thPct: 1329.0\n",
      "TotalEpisodes:\n",
      " Avg: 4.0, Med: 3.0, 10thPct: 1.0, 90thPct: 9.0\n",
      "Tenure:\n",
      " Avg: 1399.9, Med: 1241.0, 10thPct: 226.0, 90thPct: 2837.0\n",
      "UsagePct:\n",
      " Avg: 53.1, Med: 49.1, 10thPct: 13.7, 90thPct: 96.2\n",
      "--- RAPID Episodic Definition ---\n",
      "Clients in cohort: 4277/18398 (23.2%)\n",
      "Size of 10% of cohort: 427/18398 (2.3%)\n",
      "TotalStays:\n",
      " Avg: 136.9, Med: 39.0, 10thPct: 4.0, 90thPct: 376.0\n",
      "TotalEpisodes:\n",
      " Avg: 6.3, Med: 5.0, 10thPct: 2.0, 90thPct: 12.0\n",
      "Tenure:\n",
      " Avg: 1308.4, Med: 1149.0, 10thPct: 90.0, 90thPct: 2763.0\n",
      "UsagePct:\n",
      " Avg: 11.2, Med: 5.2, 10thPct: 0.7, 90thPct: 30.4\n"
     ]
    }
   ],
   "source": [
    "fields = [ 'Tenure', 'UsagePct', 'AvgGapLen', 'TotalStays', 'TotalEpisodes' ]\n",
    "fields = [ 'TotalStays', 'TotalEpisodes', 'Tenure', 'UsagePct' ]\n",
    "\n",
    "print_stats('Government of Canada Chronic Definition',demogGocFlg,fields)\n",
    "print_stats('Government of Alberta Chronic Definition',demogGoaFlg,fields)\n",
    "print_stats('RAPID Chronic Definition',demogRapidFlgChr,fields)\n",
    "print_stats('RAPID Episodic Definition',demogRapidFlgEpi,fields)"
   ]
  },
  {
   "cell_type": "markdown",
   "metadata": {},
   "source": [
    "#### Impact Comparison"
   ]
  },
  {
   "cell_type": "code",
   "execution_count": 48,
   "metadata": {},
   "outputs": [],
   "source": [
    "def CalcDefinitionImpact(definition):\n",
    "    return CalcImpact(definition,stays)"
   ]
  },
  {
   "cell_type": "code",
   "execution_count": 49,
   "metadata": {},
   "outputs": [],
   "source": [
    "impactGoa = CalcDefinitionImpact(definition=defGoa)"
   ]
  },
  {
   "cell_type": "code",
   "execution_count": 50,
   "metadata": {},
   "outputs": [],
   "source": [
    "impactGoc = CalcDefinitionImpact(definition=defGoc)"
   ]
  },
  {
   "cell_type": "code",
   "execution_count": 51,
   "metadata": {},
   "outputs": [],
   "source": [
    "impactRpd = CalcDefinitionImpact(definition=defRpd)"
   ]
  },
  {
   "cell_type": "code",
   "execution_count": 52,
   "metadata": {},
   "outputs": [],
   "source": [
    "def print_impact_table(imp,titleStr):\n",
    "    nClients = 18346\n",
    "    print(\"%s & %d (%.1f\\%%) & %.1f & %.1f & %.1f & %.1f \\\\\\\\ \" \n",
    "          % (titleStr, imp[0], 100.0*imp[0]/nClients, imp[1]/imp[0], imp[2]/imp[0], imp[3]/imp[0], imp[4]))"
   ]
  },
  {
   "cell_type": "code",
   "execution_count": 53,
   "metadata": {},
   "outputs": [
    {
     "name": "stdout",
     "output_type": "stream",
     "text": [
      "Government of Alberta & 2443 (13.3\\%) & 264.8 & 914.2 & 609.8 & 365.0 \\\\ \n",
      "Government of Canada & 1549 (8.4\\%) & 498.4 & 1007.9 & 555.2 & 285.0 \\\\ \n",
      "RAPID & 5507 (30.0\\%) & 194.8 & 874.4 & 402.2 & 98.0 \\\\ \n"
     ]
    }
   ],
   "source": [
    "print_impact_table(impactGoa,'Government of Alberta')\n",
    "print_impact_table(impactGoc,'Government of Canada')\n",
    "print_impact_table(impactRpd,'RAPID')"
   ]
  },
  {
   "cell_type": "markdown",
   "metadata": {},
   "source": [
    "#### Program Load"
   ]
  },
  {
   "cell_type": "code",
   "execution_count": 54,
   "metadata": {},
   "outputs": [],
   "source": [
    "idRpd = defRpd[defRpd.Flag != 'tmp'].groupby(pd.Grouper(key='Date',freq='M')).Flag.count()"
   ]
  },
  {
   "cell_type": "code",
   "execution_count": 55,
   "metadata": {},
   "outputs": [
    {
     "name": "stdout",
     "output_type": "stream",
     "text": [
      "Mean ID: 44.4113, Median ID: 46\n"
     ]
    }
   ],
   "source": [
    "print('Mean ID: %g, Median ID: %g' % ( idRpd.mean(), idRpd.median() ))"
   ]
  },
  {
   "cell_type": "code",
   "execution_count": null,
   "metadata": {},
   "outputs": [],
   "source": []
  },
  {
   "cell_type": "markdown",
   "metadata": {},
   "source": [
    "#### Stats for Transitional Clients not Identified by Definitions"
   ]
  },
  {
   "cell_type": "code",
   "execution_count": 56,
   "metadata": {},
   "outputs": [
    {
     "name": "stdout",
     "output_type": "stream",
     "text": [
      "--- RAPID Transitional Clients ---\n",
      "Clients in cohort: 12891/18398 (70.1%)\n",
      "Size of 10% of cohort: 1289/18398 (7.0%)\n",
      "TotalStays:\n",
      " Avg: 14.9, Med: 2.0, 10thPct: 1.0, 90thPct: 40.0\n",
      "TotalEpisodes:\n",
      " Avg: 1.6, Med: 1.0, 10thPct: 1.0, 90thPct: 3.0\n",
      "Tenure:\n",
      " Avg: 382.7, Med: 7.0, 10thPct: 1.0, 90thPct: 1450.0\n",
      "UsagePct:\n",
      " Avg: 59.6, Med: 93.5, 10thPct: 0.4, 90thPct: 100.0\n"
     ]
    }
   ],
   "source": [
    "fields = [ 'Tenure', 'UsagePct', 'AvgGapLen', 'TotalStays', 'TotalEpisodes' ]\n",
    "fields = [ 'TotalStays', 'TotalEpisodes', 'Tenure', 'UsagePct' ]\n",
    "print_stats('RAPID Transitional Clients',demogRapidTmp,fields)"
   ]
  },
  {
   "cell_type": "markdown",
   "metadata": {},
   "source": [
    "#### Transitional Client 90th Percentile Investigation\n",
    "- These are the group of clients in the program delivery transitional population that are in the top 90th percentile in terms of the length of their shelter tenure.\n",
    "- There are lots of these folks (more than the chronic population), they interact with shelter over a very long period and are likely flying under the radar of most support programs."
   ]
  },
  {
   "cell_type": "code",
   "execution_count": 57,
   "metadata": {},
   "outputs": [],
   "source": [
    "tenure90thValue = 1289 # Taken from the output provided above.\n",
    "demog90th = demogRapidTmp[demogRapidTmp.Tenure > tenure90thValue]"
   ]
  },
  {
   "cell_type": "code",
   "execution_count": 58,
   "metadata": {},
   "outputs": [
    {
     "name": "stdout",
     "output_type": "stream",
     "text": [
      "--- Transitional Client 90th Percentile ---\n",
      "Clients in cohort: 1518/18398 (8.3%)\n",
      "Size of 10% of cohort: 151/18398 (0.8%)\n",
      "TotalStays:\n",
      " Avg: 35.8, Med: 7.5, 10thPct: 2.0, 90thPct: 85.0\n",
      "TotalEpisodes:\n",
      " Avg: 3.3, Med: 3.0, 10thPct: 2.0, 90thPct: 5.0\n",
      "Tenure:\n",
      " Avg: 2073.6, Med: 1935.5, 10thPct: 1399.0, 90thPct: 2999.0\n",
      "UsagePct:\n",
      " Avg: 1.8, Med: 0.4, 10thPct: 0.1, 90thPct: 4.4\n",
      "AvgGapLen:\n",
      " Avg: 635.8, Med: 302.4, 10thPct: 23.0, 90thPct: 1747.0\n"
     ]
    }
   ],
   "source": [
    "fields = [ 'TotalStays', 'TotalEpisodes', 'Tenure', 'UsagePct', 'AvgGapLen' ]\n",
    "print_stats('Transitional Client 90th Percentile',demog90th,fields)"
   ]
  },
  {
   "cell_type": "code",
   "execution_count": null,
   "metadata": {},
   "outputs": [],
   "source": []
  }
 ],
 "metadata": {
  "kernelspec": {
   "display_name": "Python 3 (ipykernel)",
   "language": "python",
   "name": "python3"
  },
  "language_info": {
   "codemirror_mode": {
    "name": "ipython",
    "version": 3
   },
   "file_extension": ".py",
   "mimetype": "text/x-python",
   "name": "python",
   "nbconvert_exporter": "python",
   "pygments_lexer": "ipython3",
   "version": "3.9.7"
  }
 },
 "nbformat": 4,
 "nbformat_minor": 4
}
